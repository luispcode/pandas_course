{
 "cells": [
  {
   "cell_type": "code",
   "execution_count": 1,
   "id": "7eda4367-2847-451e-85a4-0f6c06ea88db",
   "metadata": {},
   "outputs": [],
   "source": [
    "import pandas as pd\n",
    "import numpy as np"
   ]
  },
  {
   "cell_type": "code",
   "execution_count": 35,
   "id": "428a55ec-6d6a-44f9-9a71-fed313003949",
   "metadata": {},
   "outputs": [
    {
     "data": {
      "text/plain": [
       "DatetimeIndex(['1970-12-31', '1971-12-31', '1972-12-31', '1973-12-31',\n",
       "               '1974-12-31', '1975-12-31', '1976-12-31', '1977-12-31',\n",
       "               '1978-12-31', '1979-12-31', '1980-12-31', '1981-12-31',\n",
       "               '1982-12-31', '1983-12-31', '1984-12-31', '1985-12-31',\n",
       "               '1986-12-31', '1987-12-31', '1988-12-31', '1989-12-31',\n",
       "               '1990-12-31', '1991-12-31', '1992-12-31', '1993-12-31',\n",
       "               '1994-12-31', '1995-12-31', '1996-12-31', '1997-12-31',\n",
       "               '1998-12-31', '1999-12-31', '2000-12-31', '2001-12-31',\n",
       "               '2002-12-31', '2003-12-31', '2004-12-31', '2005-12-31',\n",
       "               '2006-12-31', '2007-12-31', '2008-12-31', '2009-12-31',\n",
       "               '2010-12-31', '2011-12-31', '2012-12-31', '2013-12-31',\n",
       "               '2014-12-31'],\n",
       "              dtype='datetime64[ns]', freq='A-DEC')"
      ]
     },
     "execution_count": 35,
     "metadata": {},
     "output_type": "execute_result"
    }
   ],
   "source": [
    "fechas2 = pd.date_range(start='1970', end='2015', freq='Y') # crear rango de fechas.\n",
    "fechas2 =fechas2.map(lambda x: str(x.year)) #.year es un atributo del formato datetime Index.\n",
    "fechas2"
   ]
  },
  {
   "cell_type": "code",
   "execution_count": 7,
   "id": "da6f3bd8-d1f5-4d28-a3ba-03e77e439223",
   "metadata": {},
   "outputs": [
    {
     "data": {
      "text/plain": [
       "pandas.core.indexes.base.Index"
      ]
     },
     "execution_count": 7,
     "metadata": {},
     "output_type": "execute_result"
    }
   ],
   "source": [
    "type(fechas2)"
   ]
  },
  {
   "cell_type": "code",
   "execution_count": 3,
   "id": "6b0eb536-836b-4d5c-ae8a-67dd72f8458e",
   "metadata": {},
   "outputs": [],
   "source": [
    "fechas = []"
   ]
  },
  {
   "cell_type": "code",
   "execution_count": 4,
   "id": "236d527a-b267-4b40-a76d-2f0efad5c900",
   "metadata": {},
   "outputs": [],
   "source": [
    "for i in fechas2:\n",
    "    valor = str(i)\n",
    "    fechas.append(valor)"
   ]
  },
  {
   "cell_type": "code",
   "execution_count": 36,
   "id": "d35d256a-d97c-4ed9-929a-357e62fbacf3",
   "metadata": {},
   "outputs": [
    {
     "data": {
      "text/plain": [
       "Index(['1970-12-31 00:00:00', '1971-12-31 00:00:00', '1972-12-31 00:00:00',\n",
       "       '1973-12-31 00:00:00', '1974-12-31 00:00:00', '1975-12-31 00:00:00',\n",
       "       '1976-12-31 00:00:00', '1977-12-31 00:00:00', '1978-12-31 00:00:00',\n",
       "       '1979-12-31 00:00:00', '1980-12-31 00:00:00', '1981-12-31 00:00:00',\n",
       "       '1982-12-31 00:00:00', '1983-12-31 00:00:00', '1984-12-31 00:00:00',\n",
       "       '1985-12-31 00:00:00', '1986-12-31 00:00:00', '1987-12-31 00:00:00',\n",
       "       '1988-12-31 00:00:00', '1989-12-31 00:00:00', '1990-12-31 00:00:00',\n",
       "       '1991-12-31 00:00:00', '1992-12-31 00:00:00', '1993-12-31 00:00:00',\n",
       "       '1994-12-31 00:00:00', '1995-12-31 00:00:00', '1996-12-31 00:00:00',\n",
       "       '1997-12-31 00:00:00', '1998-12-31 00:00:00', '1999-12-31 00:00:00',\n",
       "       '2000-12-31 00:00:00', '2001-12-31 00:00:00', '2002-12-31 00:00:00',\n",
       "       '2003-12-31 00:00:00', '2004-12-31 00:00:00', '2005-12-31 00:00:00',\n",
       "       '2006-12-31 00:00:00', '2007-12-31 00:00:00', '2008-12-31 00:00:00',\n",
       "       '2009-12-31 00:00:00', '2010-12-31 00:00:00', '2011-12-31 00:00:00',\n",
       "       '2012-12-31 00:00:00', '2013-12-31 00:00:00', '2014-12-31 00:00:00'],\n",
       "      dtype='object')"
      ]
     },
     "execution_count": 36,
     "metadata": {},
     "output_type": "execute_result"
    }
   ],
   "source": [
    "fechas2.map(lambda x: (str(x)))"
   ]
  },
  {
   "cell_type": "code",
   "execution_count": 25,
   "id": "f2703ef0-1de5-4f24-9687-3756fb0361d9",
   "metadata": {
    "collapsed": true,
    "jupyter": {
     "outputs_hidden": true
    },
    "tags": []
   },
   "outputs": [
    {
     "data": {
      "text/plain": [
       "['1970',\n",
       " '1971',\n",
       " '1972',\n",
       " '1973',\n",
       " '1974',\n",
       " '1975',\n",
       " '1976',\n",
       " '1977',\n",
       " '1978',\n",
       " '1979',\n",
       " '1980',\n",
       " '1981',\n",
       " '1982',\n",
       " '1983',\n",
       " '1984',\n",
       " '1985',\n",
       " '1986',\n",
       " '1987',\n",
       " '1988',\n",
       " '1989',\n",
       " '1990',\n",
       " '1991',\n",
       " '1992',\n",
       " '1993',\n",
       " '1994',\n",
       " '1995',\n",
       " '1996',\n",
       " '1997',\n",
       " '1998',\n",
       " '1999',\n",
       " '2000',\n",
       " '2001',\n",
       " '2002',\n",
       " '2003',\n",
       " '2004',\n",
       " '2005',\n",
       " '2006',\n",
       " '2007',\n",
       " '2008',\n",
       " '2009',\n",
       " '2010',\n",
       " '2011',\n",
       " '2012',\n",
       " '2013',\n",
       " '2014',\n",
       " '1970',\n",
       " '1971',\n",
       " '1972',\n",
       " '1973',\n",
       " '1974',\n",
       " '1975',\n",
       " '1976',\n",
       " '1977',\n",
       " '1978',\n",
       " '1979',\n",
       " '1980',\n",
       " '1981',\n",
       " '1982',\n",
       " '1983',\n",
       " '1984',\n",
       " '1985',\n",
       " '1986',\n",
       " '1987',\n",
       " '1988',\n",
       " '1989',\n",
       " '1990',\n",
       " '1991',\n",
       " '1992',\n",
       " '1993',\n",
       " '1994',\n",
       " '1995',\n",
       " '1996',\n",
       " '1997',\n",
       " '1998',\n",
       " '1999',\n",
       " '2000',\n",
       " '2001',\n",
       " '2002',\n",
       " '2003',\n",
       " '2004',\n",
       " '2005',\n",
       " '2006',\n",
       " '2007',\n",
       " '2008',\n",
       " '2009',\n",
       " '2010',\n",
       " '2011',\n",
       " '2012',\n",
       " '2013',\n",
       " '2014']"
      ]
     },
     "execution_count": 25,
     "metadata": {},
     "output_type": "execute_result"
    }
   ],
   "source": [
    "fechas3"
   ]
  },
  {
   "cell_type": "code",
   "execution_count": 13,
   "id": "8ca7ad9d-1803-4742-8f98-5b395f92d9f7",
   "metadata": {},
   "outputs": [
    {
     "data": {
      "text/plain": [
       "Index(['1970', '1971', '1972', '1973', '1974', '1975', '1976', '1977', '1978',\n",
       "       '1979', '1980', '1981', '1982', '1983', '1984', '1985', '1986', '1987',\n",
       "       '1988', '1989', '1990', '1991', '1992', '1993', '1994', '1995', '1996',\n",
       "       '1997', '1998', '1999', '2000', '2001', '2002', '2003', '2004', '2005',\n",
       "       '2006', '2007', '2008', '2009', '2010', '2011', '2012', '2013', '2014'],\n",
       "      dtype='object')"
      ]
     },
     "execution_count": 13,
     "metadata": {},
     "output_type": "execute_result"
    }
   ],
   "source": [
    "pd.Index(fechas)"
   ]
  },
  {
   "cell_type": "markdown",
   "id": "dc3bbd67-3d9a-4472-b181-a900f9c4d239",
   "metadata": {},
   "source": [
    "Recorrer columnas para cambiar fechas"
   ]
  },
  {
   "cell_type": "code",
   "execution_count": null,
   "id": "65f01608-029d-42c9-bf64-0fd42be1244c",
   "metadata": {},
   "outputs": [],
   "source": [
    "years = []\n",
    "for year in df_t_med['date']:\n",
    "    values = year[:4]\n",
    "    years.append(values)"
   ]
  },
  {
   "cell_type": "code",
   "execution_count": null,
   "id": "724daf4a-dbc4-4511-b688-5d8f4ba0c0bd",
   "metadata": {},
   "outputs": [],
   "source": [
    "df_t_med['date'] = years\n",
    "df_t_med['date'].astype(float)"
   ]
  },
  {
   "cell_type": "code",
   "execution_count": null,
   "id": "e65653d1-6b26-4193-9128-250a9f01614d",
   "metadata": {},
   "outputs": [],
   "source": [
    "df_t_med2['date'] = df_t_med2['date'].map(lambda x: x[:4])\n",
    "df_t_med2['date']"
   ]
  },
  {
   "cell_type": "code",
   "execution_count": null,
   "id": "43b1ec98-ed06-4510-9929-fe1ee8c23f85",
   "metadata": {},
   "outputs": [],
   "source": [
    "df_t_med['date'].astype(str).map(lambda year: year[:4])"
   ]
  },
  {
   "cell_type": "code",
   "execution_count": null,
   "id": "192e8e8f-12a5-400f-ba1f-fd8969013cfd",
   "metadata": {},
   "outputs": [],
   "source": [
    "fechas2 = pd.date_range(start='1970', end='2015', freq='Y')\n",
    "fechas2 =fechas2.map(lambda x: str(x.year))\n",
    "fechas2"
   ]
  },
  {
   "cell_type": "code",
   "execution_count": null,
   "id": "216541d3-e503-4c1d-80f1-62b4f0a2c383",
   "metadata": {},
   "outputs": [],
   "source": [
    "range(1971,2015)\n",
    "map(str, range(1971,2015))\n",
    "list(map(str, range(1971,2015)"
   ]
  },
  {
   "cell_type": "markdown",
   "id": "c57291c8-713c-4bd8-b61c-741ca2a64cd2",
   "metadata": {},
   "source": [
    "DatetimeIndex puede convertir de str o datetime o datetimeindex a year"
   ]
  },
  {
   "cell_type": "code",
   "execution_count": null,
   "id": "3b881100-4254-4d1e-a073-d9a87d18de19",
   "metadata": {},
   "outputs": [],
   "source": [
    "pd.DatetimeIndex(df_t_med['date']).year # una columna en datetime se puede convertir a años, meses, dias o horas"
   ]
  },
  {
   "cell_type": "code",
   "execution_count": null,
   "id": "1930b36c-5b64-4cb5-b1cf-2dbf80cf1415",
   "metadata": {},
   "outputs": [],
   "source": [
    "pd.Index(df_t_med['date']).day "
   ]
  }
 ],
 "metadata": {
  "kernelspec": {
   "display_name": "Python 3 (ipykernel)",
   "language": "python",
   "name": "python3"
  },
  "language_info": {
   "codemirror_mode": {
    "name": "ipython",
    "version": 3
   },
   "file_extension": ".py",
   "mimetype": "text/x-python",
   "name": "python",
   "nbconvert_exporter": "python",
   "pygments_lexer": "ipython3",
   "version": "3.9.7"
  }
 },
 "nbformat": 4,
 "nbformat_minor": 5
}
