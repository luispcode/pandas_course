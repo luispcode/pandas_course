{
 "cells": [
  {
   "cell_type": "code",
   "execution_count": 55,
   "id": "b447822b-137b-4712-ae40-9c0e19120867",
   "metadata": {},
   "outputs": [],
   "source": [
    "import numpy as np\n",
    "import pandas as pd\n",
    "import math"
   ]
  },
  {
   "cell_type": "code",
   "execution_count": 2,
   "id": "69da5ec3-00ff-47ed-ac4d-071b3da98cc1",
   "metadata": {},
   "outputs": [
    {
     "data": {
      "text/plain": [
       "'C:\\\\Users\\\\luisp\\\\Desktop\\\\Cursos\\\\python\\\\Jupiter_Notebooks\\\\Curso pandas'"
      ]
     },
     "execution_count": 2,
     "metadata": {},
     "output_type": "execute_result"
    }
   ],
   "source": [
    "pwd"
   ]
  },
  {
   "cell_type": "code",
   "execution_count": 3,
   "id": "a509e9ab-7915-4ac3-8401-ff0c35b3d4fd",
   "metadata": {},
   "outputs": [
    {
     "name": "stdout",
     "output_type": "stream",
     "text": [
      "C:\\Users\\luisp\\Desktop\\Cursos\\python\\Jupiter_Notebooks\n"
     ]
    }
   ],
   "source": [
    "cd .."
   ]
  },
  {
   "cell_type": "code",
   "execution_count": 4,
   "id": "b3d43694-ed7f-4e7e-895f-448b7c42ca3a",
   "metadata": {},
   "outputs": [
    {
     "name": "stdout",
     "output_type": "stream",
     "text": [
      "C:\\Users\\luisp\\Desktop\\Cursos\\python\\Jupiter_Notebooks\\db\n"
     ]
    }
   ],
   "source": [
    "cd db"
   ]
  },
  {
   "cell_type": "code",
   "execution_count": 8,
   "id": "bd700a09-2caa-442c-b780-fdc99fd77762",
   "metadata": {},
   "outputs": [
    {
     "data": {
      "text/html": [
       "<div>\n",
       "<style scoped>\n",
       "    .dataframe tbody tr th:only-of-type {\n",
       "        vertical-align: middle;\n",
       "    }\n",
       "\n",
       "    .dataframe tbody tr th {\n",
       "        vertical-align: top;\n",
       "    }\n",
       "\n",
       "    .dataframe thead th {\n",
       "        text-align: right;\n",
       "    }\n",
       "</style>\n",
       "<table border=\"1\" class=\"dataframe\">\n",
       "  <thead>\n",
       "    <tr style=\"text-align: right;\">\n",
       "      <th></th>\n",
       "      <th>timestamp</th>\n",
       "      <th>cnt</th>\n",
       "      <th>t1</th>\n",
       "      <th>t2</th>\n",
       "      <th>hum</th>\n",
       "      <th>wind_speed</th>\n",
       "      <th>weather_code</th>\n",
       "      <th>is_holiday</th>\n",
       "      <th>is_weekend</th>\n",
       "      <th>season</th>\n",
       "    </tr>\n",
       "  </thead>\n",
       "  <tbody>\n",
       "    <tr>\n",
       "      <th>0</th>\n",
       "      <td>2015-01-04 00:00:00</td>\n",
       "      <td>182</td>\n",
       "      <td>3.0</td>\n",
       "      <td>2.0</td>\n",
       "      <td>93.0</td>\n",
       "      <td>6.0</td>\n",
       "      <td>3.0</td>\n",
       "      <td>0.0</td>\n",
       "      <td>1.0</td>\n",
       "      <td>3.0</td>\n",
       "    </tr>\n",
       "    <tr>\n",
       "      <th>1</th>\n",
       "      <td>2015-01-04 01:00:00</td>\n",
       "      <td>138</td>\n",
       "      <td>3.0</td>\n",
       "      <td>2.5</td>\n",
       "      <td>93.0</td>\n",
       "      <td>5.0</td>\n",
       "      <td>1.0</td>\n",
       "      <td>0.0</td>\n",
       "      <td>1.0</td>\n",
       "      <td>3.0</td>\n",
       "    </tr>\n",
       "    <tr>\n",
       "      <th>2</th>\n",
       "      <td>2015-01-04 02:00:00</td>\n",
       "      <td>134</td>\n",
       "      <td>2.5</td>\n",
       "      <td>2.5</td>\n",
       "      <td>96.5</td>\n",
       "      <td>0.0</td>\n",
       "      <td>1.0</td>\n",
       "      <td>0.0</td>\n",
       "      <td>1.0</td>\n",
       "      <td>3.0</td>\n",
       "    </tr>\n",
       "  </tbody>\n",
       "</table>\n",
       "</div>"
      ],
      "text/plain": [
       "             timestamp  cnt   t1   t2   hum  wind_speed  weather_code  \\\n",
       "0  2015-01-04 00:00:00  182  3.0  2.0  93.0         6.0           3.0   \n",
       "1  2015-01-04 01:00:00  138  3.0  2.5  93.0         5.0           1.0   \n",
       "2  2015-01-04 02:00:00  134  2.5  2.5  96.5         0.0           1.0   \n",
       "\n",
       "   is_holiday  is_weekend  season  \n",
       "0         0.0         1.0     3.0  \n",
       "1         0.0         1.0     3.0  \n",
       "2         0.0         1.0     3.0  "
      ]
     },
     "execution_count": 8,
     "metadata": {},
     "output_type": "execute_result"
    }
   ],
   "source": [
    "df_lmerged = pd.read_csv('london_merged.csv')\n",
    "df_lmerged.head(3)"
   ]
  },
  {
   "cell_type": "code",
   "execution_count": 9,
   "id": "3c69a10b-d992-453c-833f-ce9bbf713bd8",
   "metadata": {},
   "outputs": [
    {
     "data": {
      "text/plain": [
       "timestamp        object\n",
       "cnt               int64\n",
       "t1              float64\n",
       "t2              float64\n",
       "hum             float64\n",
       "wind_speed      float64\n",
       "weather_code    float64\n",
       "is_holiday      float64\n",
       "is_weekend      float64\n",
       "season          float64\n",
       "dtype: object"
      ]
     },
     "execution_count": 9,
     "metadata": {},
     "output_type": "execute_result"
    }
   ],
   "source": [
    "df_lmerged.dtypes # vemos los tipos de las variables."
   ]
  },
  {
   "cell_type": "code",
   "execution_count": 12,
   "id": "fa3f05e9-3e08-4d6f-9c29-e1ccb740e6d7",
   "metadata": {},
   "outputs": [],
   "source": [
    "df_lmerged['timestamp'] = pd.to_datetime(df_lmerged['timestamp']) # convertimos la hora de texto a formato datetime."
   ]
  },
  {
   "cell_type": "code",
   "execution_count": 13,
   "id": "8c2b5fbe-6b13-4141-ac1d-871dcbb2c496",
   "metadata": {},
   "outputs": [
    {
     "data": {
      "text/plain": [
       "0         0\n",
       "1         1\n",
       "2         2\n",
       "3         3\n",
       "4         4\n",
       "         ..\n",
       "17409    19\n",
       "17410    20\n",
       "17411    21\n",
       "17412    22\n",
       "17413    23\n",
       "Name: hour, Length: 17414, dtype: int64"
      ]
     },
     "execution_count": 13,
     "metadata": {},
     "output_type": "execute_result"
    }
   ],
   "source": [
    "df_lmerged['hour'] = df_lmerged['timestamp'].dt.hour\n",
    "df_lmerged['hour']"
   ]
  },
  {
   "cell_type": "code",
   "execution_count": 17,
   "id": "57426594-23a1-4ba5-8352-2a2a119a9c39",
   "metadata": {},
   "outputs": [
    {
     "data": {
      "text/html": [
       "<div>\n",
       "<style scoped>\n",
       "    .dataframe tbody tr th:only-of-type {\n",
       "        vertical-align: middle;\n",
       "    }\n",
       "\n",
       "    .dataframe tbody tr th {\n",
       "        vertical-align: top;\n",
       "    }\n",
       "\n",
       "    .dataframe thead th {\n",
       "        text-align: right;\n",
       "    }\n",
       "</style>\n",
       "<table border=\"1\" class=\"dataframe\">\n",
       "  <thead>\n",
       "    <tr style=\"text-align: right;\">\n",
       "      <th></th>\n",
       "      <th>timestamp</th>\n",
       "      <th>cnt</th>\n",
       "      <th>t1</th>\n",
       "      <th>t2</th>\n",
       "      <th>hum</th>\n",
       "      <th>wind_speed</th>\n",
       "      <th>weather_code</th>\n",
       "      <th>is_holiday</th>\n",
       "      <th>is_weekend</th>\n",
       "      <th>season</th>\n",
       "      <th>hour</th>\n",
       "    </tr>\n",
       "  </thead>\n",
       "  <tbody>\n",
       "    <tr>\n",
       "      <th>4495</th>\n",
       "      <td>2015-07-10 18:00:00</td>\n",
       "      <td>3836</td>\n",
       "      <td>24.5</td>\n",
       "      <td>23.5</td>\n",
       "      <td>26.5</td>\n",
       "      <td>15.0</td>\n",
       "      <td>1.0</td>\n",
       "      <td>0.0</td>\n",
       "      <td>0.0</td>\n",
       "      <td>1.0</td>\n",
       "      <td>18</td>\n",
       "    </tr>\n",
       "    <tr>\n",
       "      <th>7899</th>\n",
       "      <td>2015-11-30 19:00:00</td>\n",
       "      <td>1406</td>\n",
       "      <td>14.0</td>\n",
       "      <td>14.0</td>\n",
       "      <td>79.5</td>\n",
       "      <td>32.0</td>\n",
       "      <td>7.0</td>\n",
       "      <td>0.0</td>\n",
       "      <td>0.0</td>\n",
       "      <td>2.0</td>\n",
       "      <td>19</td>\n",
       "    </tr>\n",
       "    <tr>\n",
       "      <th>13095</th>\n",
       "      <td>2016-07-06 03:00:00</td>\n",
       "      <td>69</td>\n",
       "      <td>14.0</td>\n",
       "      <td>14.0</td>\n",
       "      <td>63.0</td>\n",
       "      <td>6.0</td>\n",
       "      <td>1.0</td>\n",
       "      <td>0.0</td>\n",
       "      <td>0.0</td>\n",
       "      <td>1.0</td>\n",
       "      <td>3</td>\n",
       "    </tr>\n",
       "  </tbody>\n",
       "</table>\n",
       "</div>"
      ],
      "text/plain": [
       "                timestamp   cnt    t1    t2   hum  wind_speed  weather_code  \\\n",
       "4495  2015-07-10 18:00:00  3836  24.5  23.5  26.5        15.0           1.0   \n",
       "7899  2015-11-30 19:00:00  1406  14.0  14.0  79.5        32.0           7.0   \n",
       "13095 2016-07-06 03:00:00    69  14.0  14.0  63.0         6.0           1.0   \n",
       "\n",
       "       is_holiday  is_weekend  season  hour  \n",
       "4495          0.0         0.0     1.0    18  \n",
       "7899          0.0         0.0     2.0    19  \n",
       "13095         0.0         0.0     1.0     3  "
      ]
     },
     "execution_count": 17,
     "metadata": {},
     "output_type": "execute_result"
    }
   ],
   "source": [
    "df_lmerged.sample(3)"
   ]
  },
  {
   "cell_type": "code",
   "execution_count": 35,
   "id": "53050514-d3a6-41e0-92a2-2e956fac9ee0",
   "metadata": {},
   "outputs": [
    {
     "data": {
      "text/html": [
       "<div>\n",
       "<style scoped>\n",
       "    .dataframe tbody tr th:only-of-type {\n",
       "        vertical-align: middle;\n",
       "    }\n",
       "\n",
       "    .dataframe tbody tr th {\n",
       "        vertical-align: top;\n",
       "    }\n",
       "\n",
       "    .dataframe thead th {\n",
       "        text-align: right;\n",
       "    }\n",
       "</style>\n",
       "<table border=\"1\" class=\"dataframe\">\n",
       "  <thead>\n",
       "    <tr style=\"text-align: right;\">\n",
       "      <th></th>\n",
       "      <th>cnt</th>\n",
       "      <th>t1</th>\n",
       "      <th>t2</th>\n",
       "      <th>hum</th>\n",
       "      <th>wind_speed</th>\n",
       "      <th>weather_code</th>\n",
       "      <th>is_holiday</th>\n",
       "      <th>is_weekend</th>\n",
       "      <th>season</th>\n",
       "      <th>hour</th>\n",
       "    </tr>\n",
       "  </thead>\n",
       "  <tbody>\n",
       "    <tr>\n",
       "      <th>0</th>\n",
       "      <td>182</td>\n",
       "      <td>3.0</td>\n",
       "      <td>2.0</td>\n",
       "      <td>93.0</td>\n",
       "      <td>6.0</td>\n",
       "      <td>3.0</td>\n",
       "      <td>0.0</td>\n",
       "      <td>1.0</td>\n",
       "      <td>3.0</td>\n",
       "      <td>0</td>\n",
       "    </tr>\n",
       "    <tr>\n",
       "      <th>1</th>\n",
       "      <td>138</td>\n",
       "      <td>3.0</td>\n",
       "      <td>2.5</td>\n",
       "      <td>93.0</td>\n",
       "      <td>5.0</td>\n",
       "      <td>1.0</td>\n",
       "      <td>0.0</td>\n",
       "      <td>1.0</td>\n",
       "      <td>3.0</td>\n",
       "      <td>1</td>\n",
       "    </tr>\n",
       "    <tr>\n",
       "      <th>2</th>\n",
       "      <td>134</td>\n",
       "      <td>2.5</td>\n",
       "      <td>2.5</td>\n",
       "      <td>96.5</td>\n",
       "      <td>0.0</td>\n",
       "      <td>1.0</td>\n",
       "      <td>0.0</td>\n",
       "      <td>1.0</td>\n",
       "      <td>3.0</td>\n",
       "      <td>2</td>\n",
       "    </tr>\n",
       "    <tr>\n",
       "      <th>3</th>\n",
       "      <td>72</td>\n",
       "      <td>2.0</td>\n",
       "      <td>2.0</td>\n",
       "      <td>100.0</td>\n",
       "      <td>0.0</td>\n",
       "      <td>1.0</td>\n",
       "      <td>0.0</td>\n",
       "      <td>1.0</td>\n",
       "      <td>3.0</td>\n",
       "      <td>3</td>\n",
       "    </tr>\n",
       "    <tr>\n",
       "      <th>4</th>\n",
       "      <td>47</td>\n",
       "      <td>2.0</td>\n",
       "      <td>0.0</td>\n",
       "      <td>93.0</td>\n",
       "      <td>6.5</td>\n",
       "      <td>1.0</td>\n",
       "      <td>0.0</td>\n",
       "      <td>1.0</td>\n",
       "      <td>3.0</td>\n",
       "      <td>4</td>\n",
       "    </tr>\n",
       "  </tbody>\n",
       "</table>\n",
       "</div>"
      ],
      "text/plain": [
       "   cnt   t1   t2    hum  wind_speed  weather_code  is_holiday  is_weekend  \\\n",
       "0  182  3.0  2.0   93.0         6.0           3.0         0.0         1.0   \n",
       "1  138  3.0  2.5   93.0         5.0           1.0         0.0         1.0   \n",
       "2  134  2.5  2.5   96.5         0.0           1.0         0.0         1.0   \n",
       "3   72  2.0  2.0  100.0         0.0           1.0         0.0         1.0   \n",
       "4   47  2.0  0.0   93.0         6.5           1.0         0.0         1.0   \n",
       "\n",
       "   season  hour  \n",
       "0     3.0     0  \n",
       "1     3.0     1  \n",
       "2     3.0     2  \n",
       "3     3.0     3  \n",
       "4     3.0     4  "
      ]
     },
     "execution_count": 35,
     "metadata": {},
     "output_type": "execute_result"
    }
   ],
   "source": [
    "df = df_lmerged.iloc[:,1:] #copio todos los indices y desde la segunda columna.\n",
    "df.head(5)"
   ]
  },
  {
   "cell_type": "code",
   "execution_count": 46,
   "id": "a5d9eb93-ced1-4230-a8d9-39c67b251cb1",
   "metadata": {},
   "outputs": [
    {
     "data": {
      "text/plain": [
       "0         46.00\n",
       "1         35.00\n",
       "2         10.00\n",
       "3         10.00\n",
       "4         52.25\n",
       "          ...  \n",
       "17409    371.00\n",
       "17410    451.00\n",
       "17411    586.00\n",
       "17412    539.00\n",
       "17413    494.00\n",
       "Name: wind_speed, Length: 17414, dtype: float64"
      ]
     },
     "execution_count": 46,
     "metadata": {},
     "output_type": "execute_result"
    }
   ],
   "source": [
    "df['wind_speed']**2 + 10"
   ]
  },
  {
   "cell_type": "code",
   "execution_count": 49,
   "id": "8eff61f8-c5c0-406a-b02d-190a2b3685fa",
   "metadata": {},
   "outputs": [
    {
     "data": {
      "text/plain": [
       "0         9.008221\n",
       "1         9.867648\n",
       "2        10.000000\n",
       "3        10.000000\n",
       "4         9.013013\n",
       "           ...    \n",
       "17409    10.279387\n",
       "17410    10.923470\n",
       "17411     9.114047\n",
       "17412    10.936473\n",
       "17413    10.193503\n",
       "Name: wind_speed, Length: 17414, dtype: float64"
      ]
     },
     "execution_count": 49,
     "metadata": {},
     "output_type": "execute_result"
    }
   ],
   "source": [
    "np.sin(df['wind_speed']**2)+10"
   ]
  },
  {
   "cell_type": "code",
   "execution_count": 50,
   "id": "56fc7868-da27-43a1-a04f-0a221555ccb8",
   "metadata": {},
   "outputs": [
    {
     "data": {
      "text/plain": [
       "0        1.0\n",
       "1        0.5\n",
       "2        0.0\n",
       "3        0.0\n",
       "4        2.0\n",
       "        ... \n",
       "17409    4.0\n",
       "17410    4.0\n",
       "17411    4.0\n",
       "17412    4.0\n",
       "17413    4.0\n",
       "Length: 17414, dtype: float64"
      ]
     },
     "execution_count": 50,
     "metadata": {},
     "output_type": "execute_result"
    }
   ],
   "source": [
    "df['t1']-df['t2']"
   ]
  },
  {
   "cell_type": "code",
   "execution_count": 59,
   "id": "2d78dbd9-102a-4106-a396-3efb31f767dc",
   "metadata": {},
   "outputs": [
    {
     "data": {
      "text/plain": [
       "0        1.0\n",
       "1        NaN\n",
       "2        NaN\n",
       "3        0.0\n",
       "4        NaN\n",
       "        ... \n",
       "17409    4.0\n",
       "17410    NaN\n",
       "17411    NaN\n",
       "17412    4.0\n",
       "17413    NaN\n",
       "Length: 17414, dtype: float64"
      ]
     },
     "execution_count": 59,
     "metadata": {},
     "output_type": "execute_result"
    }
   ],
   "source": [
    "df['t1'].iloc[::3]- df['t2']"
   ]
  },
  {
   "cell_type": "code",
   "execution_count": 65,
   "id": "3623fbec-9470-4070-94cb-c25f35aec5f9",
   "metadata": {},
   "outputs": [
    {
     "data": {
      "text/plain": [
       "0           1.0\n",
       "1         997.5\n",
       "2         997.5\n",
       "3           0.0\n",
       "4        1000.0\n",
       "          ...  \n",
       "17409       4.0\n",
       "17410     999.0\n",
       "17411     998.5\n",
       "17412       4.0\n",
       "17413     999.0\n",
       "Length: 17414, dtype: float64"
      ]
     },
     "execution_count": 65,
     "metadata": {},
     "output_type": "execute_result"
    }
   ],
   "source": [
    "df['t1'].iloc[::3].sub(df['t2'], fill_value=1000)"
   ]
  },
  {
   "cell_type": "code",
   "execution_count": 66,
   "id": "5e218fae-a47e-42a6-baeb-bc7e75a8d089",
   "metadata": {},
   "outputs": [
    {
     "data": {
      "text/plain": [
       "0        1.500000\n",
       "1        1.200000\n",
       "2        1.000000\n",
       "3        1.000000\n",
       "4             inf\n",
       "           ...   \n",
       "17409    5.000000\n",
       "17410    5.000000\n",
       "17411    3.666667\n",
       "17412    3.666667\n",
       "17413    5.000000\n",
       "Length: 17414, dtype: float64"
      ]
     },
     "execution_count": 66,
     "metadata": {},
     "output_type": "execute_result"
    }
   ],
   "source": [
    "df['t1']/df['t2']"
   ]
  },
  {
   "cell_type": "code",
   "execution_count": 67,
   "id": "1c91471f-e918-4702-9ca6-e2af2731f23b",
   "metadata": {},
   "outputs": [
    {
     "data": {
      "text/plain": [
       "3247652.777777778"
      ]
     },
     "execution_count": 67,
     "metadata": {},
     "output_type": "execute_result"
    }
   ],
   "source": [
    "df['t1'].dot(df['t1'])"
   ]
  },
  {
   "cell_type": "code",
   "execution_count": 68,
   "id": "9b9965e1-a67c-402b-b7b4-52dcae4e8807",
   "metadata": {},
   "outputs": [],
   "source": [
    "def fun_1(x):\n",
    "    y=x**2+1\n",
    "    return y"
   ]
  },
  {
   "cell_type": "code",
   "execution_count": 69,
   "id": "be1b8887-c061-476b-816b-c669415dfa9e",
   "metadata": {},
   "outputs": [
    {
     "data": {
      "text/plain": [
       "101"
      ]
     },
     "execution_count": 69,
     "metadata": {},
     "output_type": "execute_result"
    }
   ],
   "source": [
    "fun_1(10)"
   ]
  },
  {
   "cell_type": "code",
   "execution_count": 70,
   "id": "55143181-8f10-43f3-99b3-d4a48414871a",
   "metadata": {},
   "outputs": [
    {
     "data": {
      "text/plain": [
       "(11,)"
      ]
     },
     "execution_count": 70,
     "metadata": {},
     "output_type": "execute_result"
    }
   ],
   "source": [
    "np.arange(-5,6).shape"
   ]
  },
  {
   "cell_type": "code",
   "execution_count": 71,
   "id": "ca6b422a-47b5-4900-8e16-38b50f3f7f66",
   "metadata": {},
   "outputs": [
    {
     "data": {
      "text/plain": [
       "array([26, 17, 10,  5,  2,  1,  2,  5, 10, 17, 26], dtype=int32)"
      ]
     },
     "execution_count": 71,
     "metadata": {},
     "output_type": "execute_result"
    }
   ],
   "source": [
    "fun_1(np.arange(-5,6))"
   ]
  },
  {
   "cell_type": "code",
   "execution_count": 73,
   "id": "436e3b00-df23-4805-a7e0-76e960b1a4aa",
   "metadata": {},
   "outputs": [
    {
     "data": {
      "text/plain": [
       "0          1\n",
       "1          2\n",
       "2          5\n",
       "3         10\n",
       "4         17\n",
       "        ... \n",
       "17409    362\n",
       "17410    401\n",
       "17411    442\n",
       "17412    485\n",
       "17413    530\n",
       "Name: hour, Length: 17414, dtype: int64"
      ]
     },
     "execution_count": 73,
     "metadata": {},
     "output_type": "execute_result"
    }
   ],
   "source": [
    "df['hour'].apply(fun_1)"
   ]
  },
  {
   "cell_type": "code",
   "execution_count": 80,
   "id": "7a99112c-b1b6-4cc1-8732-232792438ff5",
   "metadata": {},
   "outputs": [],
   "source": [
    "def fun_2(x, a=20, b=-100):\n",
    "    y= x**2 +a*x+b\n",
    "    return y"
   ]
  },
  {
   "cell_type": "code",
   "execution_count": 81,
   "id": "95dd7d97-398c-4e6c-8429-405727ff4eb5",
   "metadata": {},
   "outputs": [
    {
     "data": {
      "text/plain": [
       "200"
      ]
     },
     "execution_count": 81,
     "metadata": {},
     "output_type": "execute_result"
    }
   ],
   "source": [
    "fun_2(10)"
   ]
  },
  {
   "cell_type": "code",
   "execution_count": 82,
   "id": "4f0a3c6f-66fd-43a7-8df4-fa5e4073b105",
   "metadata": {},
   "outputs": [
    {
     "data": {
      "text/plain": [
       "0       -100\n",
       "1        -79\n",
       "2        -56\n",
       "3        -31\n",
       "4         -4\n",
       "        ... \n",
       "17409    641\n",
       "17410    700\n",
       "17411    761\n",
       "17412    824\n",
       "17413    889\n",
       "Name: hour, Length: 17414, dtype: int64"
      ]
     },
     "execution_count": 82,
     "metadata": {},
     "output_type": "execute_result"
    }
   ],
   "source": [
    "df['hour'].apply(fun_2, args = (20, -100))"
   ]
  },
  {
   "cell_type": "code",
   "execution_count": 83,
   "id": "2d436dc1-0065-4ebb-a005-bcf637f2ae18",
   "metadata": {},
   "outputs": [
    {
     "data": {
      "text/plain": [
       "0       -100\n",
       "1        -79\n",
       "2        -56\n",
       "3        -31\n",
       "4         -4\n",
       "        ... \n",
       "17409    641\n",
       "17410    700\n",
       "17411    761\n",
       "17412    824\n",
       "17413    889\n",
       "Name: hour, Length: 17414, dtype: int64"
      ]
     },
     "execution_count": 83,
     "metadata": {},
     "output_type": "execute_result"
    }
   ],
   "source": [
    "df['hour'].apply(fun_2, a=20, b= -100)"
   ]
  },
  {
   "cell_type": "code",
   "execution_count": 84,
   "id": "f8c7d12d-c412-4a85-a54f-cb841e577c7f",
   "metadata": {},
   "outputs": [
    {
     "data": {
      "text/plain": [
       "0        276.0\n",
       "1        276.0\n",
       "2        275.5\n",
       "3        275.0\n",
       "4        275.0\n",
       "         ...  \n",
       "17409    278.0\n",
       "17410    278.0\n",
       "17411    278.5\n",
       "17412    278.5\n",
       "17413    278.0\n",
       "Name: t1, Length: 17414, dtype: float64"
      ]
     },
     "execution_count": 84,
     "metadata": {},
     "output_type": "execute_result"
    }
   ],
   "source": [
    "df['t1'].apply(lambda x: x+273)"
   ]
  },
  {
   "cell_type": "code",
   "execution_count": 92,
   "id": "d5cf98c0-dcac-441e-a9d0-39fceb87c412",
   "metadata": {},
   "outputs": [
    {
     "data": {
      "text/plain": [
       "cnt             1143.101642\n",
       "t1                12.468091\n",
       "t2                11.520836\n",
       "hum               72.324954\n",
       "wind_speed        15.913063\n",
       "weather_code       2.722752\n",
       "is_holiday         0.022051\n",
       "is_weekend         0.285403\n",
       "season             1.492075\n",
       "hour              11.513265\n",
       "dtype: float64"
      ]
     },
     "execution_count": 92,
     "metadata": {},
     "output_type": "execute_result"
    }
   ],
   "source": [
    "df.apply(lambda x: x.mean(), axis = 'rows') # filas por defecto = 0."
   ]
  },
  {
   "cell_type": "code",
   "execution_count": 86,
   "id": "399b61ca-b0d5-4dff-a530-907ba59fcda3",
   "metadata": {},
   "outputs": [
    {
     "data": {
      "text/plain": [
       "0         29.30\n",
       "1         24.75\n",
       "2         24.25\n",
       "3         18.40\n",
       "4         15.75\n",
       "          ...  \n",
       "17409    117.30\n",
       "17410     67.60\n",
       "17411     47.45\n",
       "17412     35.90\n",
       "17413     27.10\n",
       "Length: 17414, dtype: float64"
      ]
     },
     "execution_count": 86,
     "metadata": {},
     "output_type": "execute_result"
    }
   ],
   "source": [
    "df.apply(lambda x: x.mean(), axis=1) # axis = 1, columnas."
   ]
  },
  {
   "cell_type": "code",
   "execution_count": 93,
   "id": "19ec0c40-4344-45ca-b54d-e93b2b4e44f1",
   "metadata": {},
   "outputs": [
    {
     "data": {
      "text/plain": [
       "0         60.787517\n",
       "1         49.012045\n",
       "2         48.779692\n",
       "3         36.249751\n",
       "4         30.642427\n",
       "            ...    \n",
       "17409    325.831944\n",
       "17410    168.138964\n",
       "17411    104.504505\n",
       "17412     70.027296\n",
       "17413     45.710320\n",
       "Length: 17414, dtype: float64"
      ]
     },
     "execution_count": 93,
     "metadata": {},
     "output_type": "execute_result"
    }
   ],
   "source": [
    "df.apply(lambda x: x.std(), axis=1) "
   ]
  },
  {
   "cell_type": "code",
   "execution_count": 94,
   "id": "c6e2ede1-c8c2-4559-9aa1-b40fafc4016c",
   "metadata": {},
   "outputs": [
    {
     "data": {
      "text/plain": [
       "0        1.0\n",
       "1        0.5\n",
       "2        0.0\n",
       "3        0.0\n",
       "4        2.0\n",
       "        ... \n",
       "17409    4.0\n",
       "17410    4.0\n",
       "17411    4.0\n",
       "17412    4.0\n",
       "17413    4.0\n",
       "Length: 17414, dtype: float64"
      ]
     },
     "execution_count": 94,
     "metadata": {},
     "output_type": "execute_result"
    }
   ],
   "source": [
    "df.apply(lambda x: x['t1']-x['t2'], axis=1) "
   ]
  },
  {
   "cell_type": "code",
   "execution_count": 101,
   "id": "bc108ed9-d804-4e7c-aa1f-d04a35d507b6",
   "metadata": {},
   "outputs": [
    {
     "data": {
      "text/html": [
       "<div>\n",
       "<style scoped>\n",
       "    .dataframe tbody tr th:only-of-type {\n",
       "        vertical-align: middle;\n",
       "    }\n",
       "\n",
       "    .dataframe tbody tr th {\n",
       "        vertical-align: top;\n",
       "    }\n",
       "\n",
       "    .dataframe thead th {\n",
       "        text-align: right;\n",
       "    }\n",
       "</style>\n",
       "<table border=\"1\" class=\"dataframe\">\n",
       "  <thead>\n",
       "    <tr style=\"text-align: right;\">\n",
       "      <th></th>\n",
       "      <th>cnt</th>\n",
       "      <th>t1</th>\n",
       "      <th>t2</th>\n",
       "      <th>hum</th>\n",
       "      <th>wind_speed</th>\n",
       "      <th>weather_code</th>\n",
       "      <th>is_holiday</th>\n",
       "      <th>is_weekend</th>\n",
       "      <th>season</th>\n",
       "      <th>hour</th>\n",
       "    </tr>\n",
       "  </thead>\n",
       "  <tbody>\n",
       "    <tr>\n",
       "      <th>0</th>\n",
       "      <td>0.182</td>\n",
       "      <td>0.0030</td>\n",
       "      <td>0.0020</td>\n",
       "      <td>0.0930</td>\n",
       "      <td>0.0060</td>\n",
       "      <td>0.003</td>\n",
       "      <td>0.0</td>\n",
       "      <td>0.001</td>\n",
       "      <td>0.003</td>\n",
       "      <td>0.000</td>\n",
       "    </tr>\n",
       "    <tr>\n",
       "      <th>1</th>\n",
       "      <td>0.138</td>\n",
       "      <td>0.0030</td>\n",
       "      <td>0.0025</td>\n",
       "      <td>0.0930</td>\n",
       "      <td>0.0050</td>\n",
       "      <td>0.001</td>\n",
       "      <td>0.0</td>\n",
       "      <td>0.001</td>\n",
       "      <td>0.003</td>\n",
       "      <td>0.001</td>\n",
       "    </tr>\n",
       "    <tr>\n",
       "      <th>2</th>\n",
       "      <td>0.134</td>\n",
       "      <td>0.0025</td>\n",
       "      <td>0.0025</td>\n",
       "      <td>0.0965</td>\n",
       "      <td>0.0000</td>\n",
       "      <td>0.001</td>\n",
       "      <td>0.0</td>\n",
       "      <td>0.001</td>\n",
       "      <td>0.003</td>\n",
       "      <td>0.002</td>\n",
       "    </tr>\n",
       "    <tr>\n",
       "      <th>3</th>\n",
       "      <td>0.072</td>\n",
       "      <td>0.0020</td>\n",
       "      <td>0.0020</td>\n",
       "      <td>0.1000</td>\n",
       "      <td>0.0000</td>\n",
       "      <td>0.001</td>\n",
       "      <td>0.0</td>\n",
       "      <td>0.001</td>\n",
       "      <td>0.003</td>\n",
       "      <td>0.003</td>\n",
       "    </tr>\n",
       "    <tr>\n",
       "      <th>4</th>\n",
       "      <td>0.047</td>\n",
       "      <td>0.0020</td>\n",
       "      <td>0.0000</td>\n",
       "      <td>0.0930</td>\n",
       "      <td>0.0065</td>\n",
       "      <td>0.001</td>\n",
       "      <td>0.0</td>\n",
       "      <td>0.001</td>\n",
       "      <td>0.003</td>\n",
       "      <td>0.004</td>\n",
       "    </tr>\n",
       "    <tr>\n",
       "      <th>...</th>\n",
       "      <td>...</td>\n",
       "      <td>...</td>\n",
       "      <td>...</td>\n",
       "      <td>...</td>\n",
       "      <td>...</td>\n",
       "      <td>...</td>\n",
       "      <td>...</td>\n",
       "      <td>...</td>\n",
       "      <td>...</td>\n",
       "      <td>...</td>\n",
       "    </tr>\n",
       "    <tr>\n",
       "      <th>17409</th>\n",
       "      <td>1.042</td>\n",
       "      <td>0.0050</td>\n",
       "      <td>0.0010</td>\n",
       "      <td>0.0810</td>\n",
       "      <td>0.0190</td>\n",
       "      <td>0.003</td>\n",
       "      <td>0.0</td>\n",
       "      <td>0.000</td>\n",
       "      <td>0.003</td>\n",
       "      <td>0.019</td>\n",
       "    </tr>\n",
       "    <tr>\n",
       "      <th>17410</th>\n",
       "      <td>0.541</td>\n",
       "      <td>0.0050</td>\n",
       "      <td>0.0010</td>\n",
       "      <td>0.0810</td>\n",
       "      <td>0.0210</td>\n",
       "      <td>0.004</td>\n",
       "      <td>0.0</td>\n",
       "      <td>0.000</td>\n",
       "      <td>0.003</td>\n",
       "      <td>0.020</td>\n",
       "    </tr>\n",
       "    <tr>\n",
       "      <th>17411</th>\n",
       "      <td>0.337</td>\n",
       "      <td>0.0055</td>\n",
       "      <td>0.0015</td>\n",
       "      <td>0.0785</td>\n",
       "      <td>0.0240</td>\n",
       "      <td>0.004</td>\n",
       "      <td>0.0</td>\n",
       "      <td>0.000</td>\n",
       "      <td>0.003</td>\n",
       "      <td>0.021</td>\n",
       "    </tr>\n",
       "    <tr>\n",
       "      <th>17412</th>\n",
       "      <td>0.224</td>\n",
       "      <td>0.0055</td>\n",
       "      <td>0.0015</td>\n",
       "      <td>0.0760</td>\n",
       "      <td>0.0230</td>\n",
       "      <td>0.004</td>\n",
       "      <td>0.0</td>\n",
       "      <td>0.000</td>\n",
       "      <td>0.003</td>\n",
       "      <td>0.022</td>\n",
       "    </tr>\n",
       "    <tr>\n",
       "      <th>17413</th>\n",
       "      <td>0.139</td>\n",
       "      <td>0.0050</td>\n",
       "      <td>0.0010</td>\n",
       "      <td>0.0760</td>\n",
       "      <td>0.0220</td>\n",
       "      <td>0.002</td>\n",
       "      <td>0.0</td>\n",
       "      <td>0.000</td>\n",
       "      <td>0.003</td>\n",
       "      <td>0.023</td>\n",
       "    </tr>\n",
       "  </tbody>\n",
       "</table>\n",
       "<p>17414 rows × 10 columns</p>\n",
       "</div>"
      ],
      "text/plain": [
       "         cnt      t1      t2     hum  wind_speed  weather_code  is_holiday  \\\n",
       "0      0.182  0.0030  0.0020  0.0930      0.0060         0.003         0.0   \n",
       "1      0.138  0.0030  0.0025  0.0930      0.0050         0.001         0.0   \n",
       "2      0.134  0.0025  0.0025  0.0965      0.0000         0.001         0.0   \n",
       "3      0.072  0.0020  0.0020  0.1000      0.0000         0.001         0.0   \n",
       "4      0.047  0.0020  0.0000  0.0930      0.0065         0.001         0.0   \n",
       "...      ...     ...     ...     ...         ...           ...         ...   \n",
       "17409  1.042  0.0050  0.0010  0.0810      0.0190         0.003         0.0   \n",
       "17410  0.541  0.0050  0.0010  0.0810      0.0210         0.004         0.0   \n",
       "17411  0.337  0.0055  0.0015  0.0785      0.0240         0.004         0.0   \n",
       "17412  0.224  0.0055  0.0015  0.0760      0.0230         0.004         0.0   \n",
       "17413  0.139  0.0050  0.0010  0.0760      0.0220         0.002         0.0   \n",
       "\n",
       "       is_weekend  season   hour  \n",
       "0           0.001   0.003  0.000  \n",
       "1           0.001   0.003  0.001  \n",
       "2           0.001   0.003  0.002  \n",
       "3           0.001   0.003  0.003  \n",
       "4           0.001   0.003  0.004  \n",
       "...           ...     ...    ...  \n",
       "17409       0.000   0.003  0.019  \n",
       "17410       0.000   0.003  0.020  \n",
       "17411       0.000   0.003  0.021  \n",
       "17412       0.000   0.003  0.022  \n",
       "17413       0.000   0.003  0.023  \n",
       "\n",
       "[17414 rows x 10 columns]"
      ]
     },
     "execution_count": 101,
     "metadata": {},
     "output_type": "execute_result"
    }
   ],
   "source": [
    "df.applymap(lambda x: x/1000) # applymap() aplicar una operacion a todos los valores del dataframe."
   ]
  },
  {
   "cell_type": "code",
   "execution_count": null,
   "id": "99968f8a-91f7-4e2a-b5da-ba4959f39044",
   "metadata": {},
   "outputs": [],
   "source": []
  }
 ],
 "metadata": {
  "kernelspec": {
   "display_name": "Python 3 (ipykernel)",
   "language": "python",
   "name": "python3"
  },
  "language_info": {
   "codemirror_mode": {
    "name": "ipython",
    "version": 3
   },
   "file_extension": ".py",
   "mimetype": "text/x-python",
   "name": "python",
   "nbconvert_exporter": "python",
   "pygments_lexer": "ipython3",
   "version": "3.9.7"
  }
 },
 "nbformat": 4,
 "nbformat_minor": 5
}
