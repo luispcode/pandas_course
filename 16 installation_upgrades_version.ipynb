{
 "cells": [
  {
   "cell_type": "code",
   "execution_count": 3,
   "id": "c80cbda1-48c2-4ef7-8500-93e051b87bdb",
   "metadata": {},
   "outputs": [],
   "source": [
    "import pandas as pd\n",
    "import numpy as np\n",
    "import os\n",
    "import sqlalchemy as sql\n",
    "import pyodbc"
   ]
  },
  {
   "cell_type": "code",
   "execution_count": 10,
   "id": "4909aa17-8bfd-41ed-b7ec-8b436fd41527",
   "metadata": {
    "collapsed": true,
    "jupyter": {
     "outputs_hidden": true
    },
    "tags": []
   },
   "outputs": [
    {
     "name": "stdout",
     "output_type": "stream",
     "text": [
      "Requirement already satisfied: pandas in c:\\programdata\\anaconda3\\lib\\site-packages (1.4.1)\n",
      "Requirement already satisfied: python-dateutil>=2.8.1 in c:\\programdata\\anaconda3\\lib\\site-packages (from pandas) (2.8.2)\n",
      "Requirement already satisfied: pytz>=2020.1 in c:\\programdata\\anaconda3\\lib\\site-packages (from pandas) (2021.3)\n",
      "Requirement already satisfied: numpy>=1.18.5 in c:\\programdata\\anaconda3\\lib\\site-packages (from pandas) (1.20.3)\n",
      "Requirement already satisfied: six>=1.5 in c:\\programdata\\anaconda3\\lib\\site-packages (from python-dateutil>=2.8.1->pandas) (1.16.0)\n",
      "Note: you may need to restart the kernel to use updated packages.\n"
     ]
    }
   ],
   "source": [
    "pip install --root --upgrade pandas "
   ]
  },
  {
   "cell_type": "code",
   "execution_count": 11,
   "id": "58e68058-bcc5-4ff6-9b06-4947d78bdac4",
   "metadata": {
    "collapsed": true,
    "jupyter": {
     "outputs_hidden": true
    },
    "tags": []
   },
   "outputs": [
    {
     "name": "stdout",
     "output_type": "stream",
     "text": [
      "Note: you may need to restart the kernel to use updated packages.\n"
     ]
    },
    {
     "name": "stderr",
     "output_type": "stream",
     "text": [
      "ERROR: Could not find a version that satisfies the requirement python3.10 (from versions: none)\n",
      "ERROR: No matching distribution found for python3.10\n"
     ]
    }
   ],
   "source": [
    "pip install --root --upgrade python3.10"
   ]
  },
  {
   "cell_type": "code",
   "execution_count": null,
   "id": "9dbb4709-fcae-4ea8-a301-e7113d658eed",
   "metadata": {},
   "outputs": [],
   "source": [
    "pip install psycopg2"
   ]
  },
  {
   "cell_type": "code",
   "execution_count": 16,
   "id": "daedfc82-f48d-49d6-97b3-20fb677ee52c",
   "metadata": {
    "collapsed": true,
    "jupyter": {
     "outputs_hidden": true
    },
    "tags": []
   },
   "outputs": [
    {
     "name": "stdout",
     "output_type": "stream",
     "text": [
      "Requirement already satisfied: sqlalchemy in c:\\programdata\\anaconda3\\lib\\site-packages (1.4.22)\n",
      "Requirement already satisfied: greenlet!=0.4.17 in c:\\programdata\\anaconda3\\lib\\site-packages (from sqlalchemy) (1.1.1)\n",
      "Note: you may need to restart the kernel to use updated packages.\n"
     ]
    }
   ],
   "source": [
    "pip install sqlalchemy as "
   ]
  },
  {
   "cell_type": "code",
   "execution_count": 10,
   "id": "73b743d9-5196-4076-ac1c-003ccf6bf2c2",
   "metadata": {
    "collapsed": true,
    "jupyter": {
     "outputs_hidden": true
    },
    "tags": []
   },
   "outputs": [
    {
     "name": "stdout",
     "output_type": "stream",
     "text": [
      "Collecting mysql-python\n",
      "  Using cached MySQL-python-1.2.5.zip (108 kB)\n",
      "Building wheels for collected packages: mysql-python\n",
      "  Building wheel for mysql-python (setup.py): started\n",
      "  Building wheel for mysql-python (setup.py): finished with status 'error'\n",
      "  Running setup.py clean for mysql-python\n",
      "Failed to build mysql-python\n",
      "Installing collected packages: mysql-python\n",
      "    Running setup.py install for mysql-python: started\n",
      "    Running setup.py install for mysql-python: finished with status 'error'\n",
      "Note: you may need to restart the kernel to use updated packages.\n"
     ]
    },
    {
     "name": "stderr",
     "output_type": "stream",
     "text": [
      "  ERROR: Command errored out with exit status 1:\n",
      "   command: 'C:\\ProgramData\\Anaconda3\\python.exe' -u -c 'import io, os, sys, setuptools, tokenize; sys.argv[0] = '\"'\"'C:\\\\Users\\\\luisp\\\\AppData\\\\Local\\\\Temp\\\\pip-install-5x3ew56a\\\\mysql-python_e360b416d37d4168a5c5db0b61c18b56\\\\setup.py'\"'\"'; __file__='\"'\"'C:\\\\Users\\\\luisp\\\\AppData\\\\Local\\\\Temp\\\\pip-install-5x3ew56a\\\\mysql-python_e360b416d37d4168a5c5db0b61c18b56\\\\setup.py'\"'\"';f = getattr(tokenize, '\"'\"'open'\"'\"', open)(__file__) if os.path.exists(__file__) else io.StringIO('\"'\"'from setuptools import setup; setup()'\"'\"');code = f.read().replace('\"'\"'\\r\\n'\"'\"', '\"'\"'\\n'\"'\"');f.close();exec(compile(code, __file__, '\"'\"'exec'\"'\"'))' bdist_wheel -d 'C:\\Users\\luisp\\AppData\\Local\\Temp\\pip-wheel-34v6336e'\n",
      "       cwd: C:\\Users\\luisp\\AppData\\Local\\Temp\\pip-install-5x3ew56a\\mysql-python_e360b416d37d4168a5c5db0b61c18b56\\\n",
      "  Complete output (28 lines):\n",
      "  C:\\ProgramData\\Anaconda3\\lib\\site-packages\\setuptools\\dist.py:717: UserWarning: Usage of dash-separated 'distribution-name' will not be supported in future versions. Please use the underscore name 'distribution_name' instead\n",
      "    warnings.warn(\n",
      "  C:\\ProgramData\\Anaconda3\\lib\\site-packages\\setuptools\\dist.py:717: UserWarning: Usage of dash-separated 'build-requires' will not be supported in future versions. Please use the underscore name 'build_requires' instead\n",
      "    warnings.warn(\n",
      "  running bdist_wheel\n",
      "  running build\n",
      "  running build_py\n",
      "  creating build\n",
      "  creating build\\lib.win-amd64-3.9\n",
      "  copying _mysql_exceptions.py -> build\\lib.win-amd64-3.9\n",
      "  creating build\\lib.win-amd64-3.9\\MySQLdb\n",
      "  copying MySQLdb\\__init__.py -> build\\lib.win-amd64-3.9\\MySQLdb\n",
      "  copying MySQLdb\\converters.py -> build\\lib.win-amd64-3.9\\MySQLdb\n",
      "  copying MySQLdb\\connections.py -> build\\lib.win-amd64-3.9\\MySQLdb\n",
      "  copying MySQLdb\\cursors.py -> build\\lib.win-amd64-3.9\\MySQLdb\n",
      "  copying MySQLdb\\release.py -> build\\lib.win-amd64-3.9\\MySQLdb\n",
      "  copying MySQLdb\\times.py -> build\\lib.win-amd64-3.9\\MySQLdb\n",
      "  creating build\\lib.win-amd64-3.9\\MySQLdb\\constants\n",
      "  copying MySQLdb\\constants\\__init__.py -> build\\lib.win-amd64-3.9\\MySQLdb\\constants\n",
      "  copying MySQLdb\\constants\\CR.py -> build\\lib.win-amd64-3.9\\MySQLdb\\constants\n",
      "  copying MySQLdb\\constants\\FIELD_TYPE.py -> build\\lib.win-amd64-3.9\\MySQLdb\\constants\n",
      "  copying MySQLdb\\constants\\ER.py -> build\\lib.win-amd64-3.9\\MySQLdb\\constants\n",
      "  copying MySQLdb\\constants\\FLAG.py -> build\\lib.win-amd64-3.9\\MySQLdb\\constants\n",
      "  copying MySQLdb\\constants\\REFRESH.py -> build\\lib.win-amd64-3.9\\MySQLdb\\constants\n",
      "  copying MySQLdb\\constants\\CLIENT.py -> build\\lib.win-amd64-3.9\\MySQLdb\\constants\n",
      "  running build_ext\n",
      "  building '_mysql' extension\n",
      "  error: Microsoft Visual C++ 14.0 or greater is required. Get it with \"Microsoft C++ Build Tools\": https://visualstudio.microsoft.com/visual-cpp-build-tools/\n",
      "  ----------------------------------------\n",
      "  ERROR: Failed building wheel for mysql-python\n",
      "    ERROR: Command errored out with exit status 1:\n",
      "     command: 'C:\\ProgramData\\Anaconda3\\python.exe' -u -c 'import io, os, sys, setuptools, tokenize; sys.argv[0] = '\"'\"'C:\\\\Users\\\\luisp\\\\AppData\\\\Local\\\\Temp\\\\pip-install-5x3ew56a\\\\mysql-python_e360b416d37d4168a5c5db0b61c18b56\\\\setup.py'\"'\"'; __file__='\"'\"'C:\\\\Users\\\\luisp\\\\AppData\\\\Local\\\\Temp\\\\pip-install-5x3ew56a\\\\mysql-python_e360b416d37d4168a5c5db0b61c18b56\\\\setup.py'\"'\"';f = getattr(tokenize, '\"'\"'open'\"'\"', open)(__file__) if os.path.exists(__file__) else io.StringIO('\"'\"'from setuptools import setup; setup()'\"'\"');code = f.read().replace('\"'\"'\\r\\n'\"'\"', '\"'\"'\\n'\"'\"');f.close();exec(compile(code, __file__, '\"'\"'exec'\"'\"'))' install --record 'C:\\Users\\luisp\\AppData\\Local\\Temp\\pip-record-dmwu1216\\install-record.txt' --single-version-externally-managed --compile --install-headers 'C:\\ProgramData\\Anaconda3\\Include\\mysql-python'\n",
      "         cwd: C:\\Users\\luisp\\AppData\\Local\\Temp\\pip-install-5x3ew56a\\mysql-python_e360b416d37d4168a5c5db0b61c18b56\\\n",
      "    Complete output (28 lines):\n",
      "    C:\\ProgramData\\Anaconda3\\lib\\site-packages\\setuptools\\dist.py:717: UserWarning: Usage of dash-separated 'distribution-name' will not be supported in future versions. Please use the underscore name 'distribution_name' instead\n",
      "      warnings.warn(\n",
      "    C:\\ProgramData\\Anaconda3\\lib\\site-packages\\setuptools\\dist.py:717: UserWarning: Usage of dash-separated 'build-requires' will not be supported in future versions. Please use the underscore name 'build_requires' instead\n",
      "      warnings.warn(\n",
      "    running install\n",
      "    running build\n",
      "    running build_py\n",
      "    creating build\n",
      "    creating build\\lib.win-amd64-3.9\n",
      "    copying _mysql_exceptions.py -> build\\lib.win-amd64-3.9\n",
      "    creating build\\lib.win-amd64-3.9\\MySQLdb\n",
      "    copying MySQLdb\\__init__.py -> build\\lib.win-amd64-3.9\\MySQLdb\n",
      "    copying MySQLdb\\converters.py -> build\\lib.win-amd64-3.9\\MySQLdb\n",
      "    copying MySQLdb\\connections.py -> build\\lib.win-amd64-3.9\\MySQLdb\n",
      "    copying MySQLdb\\cursors.py -> build\\lib.win-amd64-3.9\\MySQLdb\n",
      "    copying MySQLdb\\release.py -> build\\lib.win-amd64-3.9\\MySQLdb\n",
      "    copying MySQLdb\\times.py -> build\\lib.win-amd64-3.9\\MySQLdb\n",
      "    creating build\\lib.win-amd64-3.9\\MySQLdb\\constants\n",
      "    copying MySQLdb\\constants\\__init__.py -> build\\lib.win-amd64-3.9\\MySQLdb\\constants\n",
      "    copying MySQLdb\\constants\\CR.py -> build\\lib.win-amd64-3.9\\MySQLdb\\constants\n",
      "    copying MySQLdb\\constants\\FIELD_TYPE.py -> build\\lib.win-amd64-3.9\\MySQLdb\\constants\n",
      "    copying MySQLdb\\constants\\ER.py -> build\\lib.win-amd64-3.9\\MySQLdb\\constants\n",
      "    copying MySQLdb\\constants\\FLAG.py -> build\\lib.win-amd64-3.9\\MySQLdb\\constants\n",
      "    copying MySQLdb\\constants\\REFRESH.py -> build\\lib.win-amd64-3.9\\MySQLdb\\constants\n",
      "    copying MySQLdb\\constants\\CLIENT.py -> build\\lib.win-amd64-3.9\\MySQLdb\\constants\n",
      "    running build_ext\n",
      "    building '_mysql' extension\n",
      "    error: Microsoft Visual C++ 14.0 or greater is required. Get it with \"Microsoft C++ Build Tools\": https://visualstudio.microsoft.com/visual-cpp-build-tools/\n",
      "    ----------------------------------------\n",
      "ERROR: Command errored out with exit status 1: 'C:\\ProgramData\\Anaconda3\\python.exe' -u -c 'import io, os, sys, setuptools, tokenize; sys.argv[0] = '\"'\"'C:\\\\Users\\\\luisp\\\\AppData\\\\Local\\\\Temp\\\\pip-install-5x3ew56a\\\\mysql-python_e360b416d37d4168a5c5db0b61c18b56\\\\setup.py'\"'\"'; __file__='\"'\"'C:\\\\Users\\\\luisp\\\\AppData\\\\Local\\\\Temp\\\\pip-install-5x3ew56a\\\\mysql-python_e360b416d37d4168a5c5db0b61c18b56\\\\setup.py'\"'\"';f = getattr(tokenize, '\"'\"'open'\"'\"', open)(__file__) if os.path.exists(__file__) else io.StringIO('\"'\"'from setuptools import setup; setup()'\"'\"');code = f.read().replace('\"'\"'\\r\\n'\"'\"', '\"'\"'\\n'\"'\"');f.close();exec(compile(code, __file__, '\"'\"'exec'\"'\"'))' install --record 'C:\\Users\\luisp\\AppData\\Local\\Temp\\pip-record-dmwu1216\\install-record.txt' --single-version-externally-managed --compile --install-headers 'C:\\ProgramData\\Anaconda3\\Include\\mysql-python' Check the logs for full command output.\n"
     ]
    }
   ],
   "source": [
    "pip install mysql-python"
   ]
  },
  {
   "cell_type": "code",
   "execution_count": 11,
   "id": "e2c0fb5d-401e-46e1-ad8d-d834ecab3fd1",
   "metadata": {
    "collapsed": true,
    "jupyter": {
     "outputs_hidden": true
    },
    "tags": []
   },
   "outputs": [
    {
     "name": "stdout",
     "output_type": "stream",
     "text": [
      "Requirement already satisfied: mysqlclient in c:\\programdata\\anaconda3\\lib\\site-packages (2.1.0)\n",
      "Note: you may need to restart the kernel to use updated packages.\n"
     ]
    }
   ],
   "source": [
    "pip install mysqlclient"
   ]
  },
  {
   "cell_type": "code",
   "execution_count": 12,
   "id": "ae2a3988-f467-49f8-b45e-3f23c10de043",
   "metadata": {
    "collapsed": true,
    "jupyter": {
     "outputs_hidden": true
    },
    "tags": []
   },
   "outputs": [
    {
     "name": "stdout",
     "output_type": "stream",
     "text": [
      "Requirement already satisfied: pyodbc in c:\\programdata\\anaconda3\\lib\\site-packages (4.0.0-unsupported)\n",
      "Note: you may need to restart the kernel to use updated packages.\n"
     ]
    }
   ],
   "source": [
    "pip install pyodbc"
   ]
  },
  {
   "cell_type": "code",
   "execution_count": 4,
   "id": "3bf6a53f-8249-45ed-93b5-0e20d638a357",
   "metadata": {},
   "outputs": [
    {
     "data": {
      "text/plain": [
       "'1.4.1'"
      ]
     },
     "execution_count": 4,
     "metadata": {},
     "output_type": "execute_result"
    }
   ],
   "source": [
    "pd.__version__"
   ]
  },
  {
   "cell_type": "code",
   "execution_count": null,
   "id": "21073745-0ae0-43c0-8dea-5a75018871d5",
   "metadata": {},
   "outputs": [],
   "source": []
  },
  {
   "cell_type": "code",
   "execution_count": null,
   "id": "4d64725e-89aa-4495-b0da-63af3b985150",
   "metadata": {},
   "outputs": [],
   "source": []
  }
 ],
 "metadata": {
  "kernelspec": {
   "display_name": "Python 3 (ipykernel)",
   "language": "python",
   "name": "python3"
  },
  "language_info": {
   "codemirror_mode": {
    "name": "ipython",
    "version": 3
   },
   "file_extension": ".py",
   "mimetype": "text/x-python",
   "name": "python",
   "nbconvert_exporter": "python",
   "pygments_lexer": "ipython3",
   "version": "3.9.7"
  }
 },
 "nbformat": 4,
 "nbformat_minor": 5
}
