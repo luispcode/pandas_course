{
 "cells": [
  {
   "cell_type": "code",
   "execution_count": 1,
   "metadata": {
    "executionInfo": {
     "elapsed": 2,
     "status": "ok",
     "timestamp": 1646953338772,
     "user": {
      "displayName": "Luis Enrrique Pernia Carroz",
      "photoUrl": "https://lh3.googleusercontent.com/a-/AOh14GgOoKnSpkb2XSRqD2f673ceBYaj8O8lp0tj-qjj4g=s64",
      "userId": "09245467713551539461"
     },
     "user_tz": 180
    },
    "id": "ZvVG1BH5EXA7"
   },
   "outputs": [],
   "source": [
    "import numpy as np"
   ]
  },
  {
   "cell_type": "code",
   "execution_count": 2,
   "metadata": {
    "colab": {
     "base_uri": "https://localhost:8080/",
     "height": 35
    },
    "executionInfo": {
     "elapsed": 354,
     "status": "ok",
     "timestamp": 1646952585204,
     "user": {
      "displayName": "Luis Enrrique Pernia Carroz",
      "photoUrl": "https://lh3.googleusercontent.com/a-/AOh14GgOoKnSpkb2XSRqD2f673ceBYaj8O8lp0tj-qjj4g=s64",
      "userId": "09245467713551539461"
     },
     "user_tz": 180
    },
    "id": "AZ5_0_c9Awag",
    "outputId": "22fefdc5-990b-477e-8fc5-cbc8e04be61f"
   },
   "outputs": [
    {
     "data": {
      "text/plain": [
       "'1.3.4'"
      ]
     },
     "execution_count": 2,
     "metadata": {},
     "output_type": "execute_result"
    }
   ],
   "source": [
    "import pandas as pd\n",
    "pd.__version__"
   ]
  },
  {
   "cell_type": "code",
   "execution_count": 2,
   "metadata": {
    "executionInfo": {
     "elapsed": 241,
     "status": "ok",
     "timestamp": 1646952591015,
     "user": {
      "displayName": "Luis Enrrique Pernia Carroz",
      "photoUrl": "https://lh3.googleusercontent.com/a-/AOh14GgOoKnSpkb2XSRqD2f673ceBYaj8O8lp0tj-qjj4g=s64",
      "userId": "09245467713551539461"
     },
     "user_tz": 180
    },
    "id": "ygOQyNP9A9DK"
   },
   "outputs": [],
   "source": [
    "#!pip install --upgrade pandas"
   ]
  },
  {
   "cell_type": "code",
   "execution_count": 78,
   "metadata": {
    "colab": {
     "base_uri": "https://localhost:8080/"
    },
    "executionInfo": {
     "elapsed": 253,
     "status": "ok",
     "timestamp": 1646952650782,
     "user": {
      "displayName": "Luis Enrrique Pernia Carroz",
      "photoUrl": "https://lh3.googleusercontent.com/a-/AOh14GgOoKnSpkb2XSRqD2f673ceBYaj8O8lp0tj-qjj4g=s64",
      "userId": "09245467713551539461"
     },
     "user_tz": 180
    },
    "id": "2kJplMxQBNxk",
    "outputId": "b2e1108a-e775-4351-ca84-947511b9fd5b"
   },
   "outputs": [
    {
     "data": {
      "text/plain": [
       "{'CO': 300, 'MX': 400, 'CH': 200}"
      ]
     },
     "execution_count": 78,
     "metadata": {},
     "output_type": "execute_result"
    }
   ],
   "source": [
    "dict_data = {'CO':300, 'MX': 400, 'CH': 200}\n",
    "dict_data"
   ]
  },
  {
   "cell_type": "code",
   "execution_count": 183,
   "metadata": {
    "colab": {
     "base_uri": "https://localhost:8080/"
    },
    "executionInfo": {
     "elapsed": 251,
     "status": "ok",
     "timestamp": 1646952695903,
     "user": {
      "displayName": "Luis Enrrique Pernia Carroz",
      "photoUrl": "https://lh3.googleusercontent.com/a-/AOh14GgOoKnSpkb2XSRqD2f673ceBYaj8O8lp0tj-qjj4g=s64",
      "userId": "09245467713551539461"
     },
     "user_tz": 180
    },
    "id": "1w9-L6hVBxTT",
    "outputId": "cab43924-46c4-4d55-e7d2-caef0be0de7b"
   },
   "outputs": [
    {
     "data": {
      "text/plain": [
       "CH    [100, 800, 200]\n",
       "CO    [100, 200, 300]\n",
       "MX    [300, 500, 400]\n",
       "dtype: object"
      ]
     },
     "execution_count": 183,
     "metadata": {},
     "output_type": "execute_result"
    }
   ],
   "source": [
    "pd.Series(dict_data)"
   ]
  },
  {
   "cell_type": "code",
   "execution_count": 184,
   "metadata": {
    "colab": {
     "base_uri": "https://localhost:8080/"
    },
    "executionInfo": {
     "elapsed": 247,
     "status": "ok",
     "timestamp": 1646952864862,
     "user": {
      "displayName": "Luis Enrrique Pernia Carroz",
      "photoUrl": "https://lh3.googleusercontent.com/a-/AOh14GgOoKnSpkb2XSRqD2f673ceBYaj8O8lp0tj-qjj4g=s64",
      "userId": "09245467713551539461"
     },
     "user_tz": 180
    },
    "id": "TTuyPwCGB8T6",
    "outputId": "f85d14c2-c904-4547-a1cb-a2e6839cbf9a"
   },
   "outputs": [
    {
     "data": {
      "text/plain": [
       "{'CH': [100, 800, 200], 'CO': [100, 200, 300], 'MX': [300, 500, 400]}"
      ]
     },
     "execution_count": 184,
     "metadata": {},
     "output_type": "execute_result"
    }
   ],
   "source": [
    "dict_data = {'CH':[100,800,200], 'CO':[100,200,300], 'MX':[300,500,400]}\n",
    "dict_data"
   ]
  },
  {
   "cell_type": "code",
   "execution_count": 185,
   "metadata": {
    "colab": {
     "base_uri": "https://localhost:8080/",
     "height": 143
    },
    "executionInfo": {
     "elapsed": 246,
     "status": "ok",
     "timestamp": 1646952901731,
     "user": {
      "displayName": "Luis Enrrique Pernia Carroz",
      "photoUrl": "https://lh3.googleusercontent.com/a-/AOh14GgOoKnSpkb2XSRqD2f673ceBYaj8O8lp0tj-qjj4g=s64",
      "userId": "09245467713551539461"
     },
     "user_tz": 180
    },
    "id": "LlNrE-SjCj3j",
    "outputId": "4da23db1-03e9-4d45-9512-d7f645889b0c"
   },
   "outputs": [
    {
     "data": {
      "text/html": [
       "<div>\n",
       "<style scoped>\n",
       "    .dataframe tbody tr th:only-of-type {\n",
       "        vertical-align: middle;\n",
       "    }\n",
       "\n",
       "    .dataframe tbody tr th {\n",
       "        vertical-align: top;\n",
       "    }\n",
       "\n",
       "    .dataframe thead th {\n",
       "        text-align: right;\n",
       "    }\n",
       "</style>\n",
       "<table border=\"1\" class=\"dataframe\">\n",
       "  <thead>\n",
       "    <tr style=\"text-align: right;\">\n",
       "      <th></th>\n",
       "      <th>CH</th>\n",
       "      <th>CO</th>\n",
       "      <th>MX</th>\n",
       "    </tr>\n",
       "  </thead>\n",
       "  <tbody>\n",
       "    <tr>\n",
       "      <th>0</th>\n",
       "      <td>100</td>\n",
       "      <td>100</td>\n",
       "      <td>300</td>\n",
       "    </tr>\n",
       "    <tr>\n",
       "      <th>1</th>\n",
       "      <td>800</td>\n",
       "      <td>200</td>\n",
       "      <td>500</td>\n",
       "    </tr>\n",
       "    <tr>\n",
       "      <th>2</th>\n",
       "      <td>200</td>\n",
       "      <td>300</td>\n",
       "      <td>400</td>\n",
       "    </tr>\n",
       "  </tbody>\n",
       "</table>\n",
       "</div>"
      ],
      "text/plain": [
       "    CH   CO   MX\n",
       "0  100  100  300\n",
       "1  800  200  500\n",
       "2  200  300  400"
      ]
     },
     "execution_count": 185,
     "metadata": {},
     "output_type": "execute_result"
    }
   ],
   "source": [
    "df = pd.DataFrame(dict_data)\n",
    "df"
   ]
  },
  {
   "cell_type": "code",
   "execution_count": 186,
   "metadata": {
    "colab": {
     "base_uri": "https://localhost:8080/"
    },
    "executionInfo": {
     "elapsed": 3,
     "status": "ok",
     "timestamp": 1646953360054,
     "user": {
      "displayName": "Luis Enrrique Pernia Carroz",
      "photoUrl": "https://lh3.googleusercontent.com/a-/AOh14GgOoKnSpkb2XSRqD2f673ceBYaj8O8lp0tj-qjj4g=s64",
      "userId": "09245467713551539461"
     },
     "user_tz": 180
    },
    "id": "sr5_1HerCrBS",
    "outputId": "6565be5e-bcee-4d2c-8fcd-19d891cdff3a"
   },
   "outputs": [
    {
     "data": {
      "text/plain": [
       "{'edad': [10, 9, 13, 14, 12, 11, 12],\n",
       " 'cm': [115, 110, 130, 155, 125, 120, 125],\n",
       " 'pais': ['co', 'ms', 'co', 'mx', 'mx', 'ch', 'ch'],\n",
       " 'genero': ['M', 'F', 'F', 'M', 'M', 'M', 'F'],\n",
       " 'Q1': [5, 10, 8, nan, 7, 8, 3],\n",
       " 'Q2': [7, 9, 9, 8, 8, 8, 9.0]}"
      ]
     },
     "execution_count": 186,
     "metadata": {},
     "output_type": "execute_result"
    }
   ],
   "source": [
    "dict_data2 = {\n",
    "    'edad' : [10,9,13,14,12,11,12],\n",
    "    'cm' : [115,110,130,155,125,120,125],\n",
    "    'pais' : ['co', 'ms', 'co','mx', 'mx','ch','ch'],\n",
    "    'genero' : ['M', 'F', 'F', 'M', 'M', 'M', 'F'],\n",
    "    'Q1' : [5,10,8,np.nan,7,8,3],\n",
    "    'Q2' : [7,9,9,8,8,8,9.]\n",
    "  }\n",
    "dict_data2"
   ]
  },
  {
   "cell_type": "code",
   "execution_count": 187,
   "metadata": {
    "colab": {
     "base_uri": "https://localhost:8080/",
     "height": 269
    },
    "executionInfo": {
     "elapsed": 253,
     "status": "ok",
     "timestamp": 1646953700528,
     "user": {
      "displayName": "Luis Enrrique Pernia Carroz",
      "photoUrl": "https://lh3.googleusercontent.com/a-/AOh14GgOoKnSpkb2XSRqD2f673ceBYaj8O8lp0tj-qjj4g=s64",
      "userId": "09245467713551539461"
     },
     "user_tz": 180
    },
    "id": "KKCdFpjeER_T",
    "outputId": "1c36e73e-5919-40ce-8895-6cab82f76c76"
   },
   "outputs": [
    {
     "data": {
      "text/html": [
       "<div>\n",
       "<style scoped>\n",
       "    .dataframe tbody tr th:only-of-type {\n",
       "        vertical-align: middle;\n",
       "    }\n",
       "\n",
       "    .dataframe tbody tr th {\n",
       "        vertical-align: top;\n",
       "    }\n",
       "\n",
       "    .dataframe thead th {\n",
       "        text-align: right;\n",
       "    }\n",
       "</style>\n",
       "<table border=\"1\" class=\"dataframe\">\n",
       "  <thead>\n",
       "    <tr style=\"text-align: right;\">\n",
       "      <th></th>\n",
       "      <th>edad</th>\n",
       "      <th>cm</th>\n",
       "      <th>pais</th>\n",
       "      <th>genero</th>\n",
       "      <th>Q1</th>\n",
       "      <th>Q2</th>\n",
       "    </tr>\n",
       "  </thead>\n",
       "  <tbody>\n",
       "    <tr>\n",
       "      <th>ana</th>\n",
       "      <td>10</td>\n",
       "      <td>115</td>\n",
       "      <td>co</td>\n",
       "      <td>M</td>\n",
       "      <td>5.0</td>\n",
       "      <td>7.0</td>\n",
       "    </tr>\n",
       "    <tr>\n",
       "      <th>benito</th>\n",
       "      <td>9</td>\n",
       "      <td>110</td>\n",
       "      <td>ms</td>\n",
       "      <td>F</td>\n",
       "      <td>10.0</td>\n",
       "      <td>9.0</td>\n",
       "    </tr>\n",
       "    <tr>\n",
       "      <th>camilo</th>\n",
       "      <td>13</td>\n",
       "      <td>130</td>\n",
       "      <td>co</td>\n",
       "      <td>F</td>\n",
       "      <td>8.0</td>\n",
       "      <td>9.0</td>\n",
       "    </tr>\n",
       "    <tr>\n",
       "      <th>daniel</th>\n",
       "      <td>14</td>\n",
       "      <td>155</td>\n",
       "      <td>mx</td>\n",
       "      <td>M</td>\n",
       "      <td>NaN</td>\n",
       "      <td>8.0</td>\n",
       "    </tr>\n",
       "    <tr>\n",
       "      <th>erika</th>\n",
       "      <td>12</td>\n",
       "      <td>125</td>\n",
       "      <td>mx</td>\n",
       "      <td>M</td>\n",
       "      <td>7.0</td>\n",
       "      <td>8.0</td>\n",
       "    </tr>\n",
       "    <tr>\n",
       "      <th>fabian</th>\n",
       "      <td>11</td>\n",
       "      <td>120</td>\n",
       "      <td>ch</td>\n",
       "      <td>M</td>\n",
       "      <td>8.0</td>\n",
       "      <td>8.0</td>\n",
       "    </tr>\n",
       "    <tr>\n",
       "      <th>gabriela</th>\n",
       "      <td>12</td>\n",
       "      <td>125</td>\n",
       "      <td>ch</td>\n",
       "      <td>F</td>\n",
       "      <td>3.0</td>\n",
       "      <td>9.0</td>\n",
       "    </tr>\n",
       "  </tbody>\n",
       "</table>\n",
       "</div>"
      ],
      "text/plain": [
       "          edad   cm pais genero    Q1   Q2\n",
       "ana         10  115   co      M   5.0  7.0\n",
       "benito       9  110   ms      F  10.0  9.0\n",
       "camilo      13  130   co      F   8.0  9.0\n",
       "daniel      14  155   mx      M   NaN  8.0\n",
       "erika       12  125   mx      M   7.0  8.0\n",
       "fabian      11  120   ch      M   8.0  8.0\n",
       "gabriela    12  125   ch      F   3.0  9.0"
      ]
     },
     "execution_count": 187,
     "metadata": {},
     "output_type": "execute_result"
    }
   ],
   "source": [
    "df = pd.DataFrame(dict_data2, index=['ana', 'benito', 'camilo', 'daniel', 'erika', 'fabian', 'gabriela'])\n",
    "df"
   ]
  },
  {
   "cell_type": "code",
   "execution_count": 188,
   "metadata": {
    "colab": {
     "base_uri": "https://localhost:8080/"
    },
    "executionInfo": {
     "elapsed": 271,
     "status": "ok",
     "timestamp": 1646953751277,
     "user": {
      "displayName": "Luis Enrrique Pernia Carroz",
      "photoUrl": "https://lh3.googleusercontent.com/a-/AOh14GgOoKnSpkb2XSRqD2f673ceBYaj8O8lp0tj-qjj4g=s64",
      "userId": "09245467713551539461"
     },
     "user_tz": 180
    },
    "id": "jeL0Nrl4EpLz",
    "outputId": "c0b0bbd2-ad43-4f34-eec2-2fcabcb968f1"
   },
   "outputs": [
    {
     "data": {
      "text/plain": [
       "Index(['ana', 'benito', 'camilo', 'daniel', 'erika', 'fabian', 'gabriela'], dtype='object')"
      ]
     },
     "execution_count": 188,
     "metadata": {},
     "output_type": "execute_result"
    }
   ],
   "source": [
    "df.index"
   ]
  },
  {
   "cell_type": "code",
   "execution_count": 189,
   "metadata": {
    "colab": {
     "base_uri": "https://localhost:8080/"
    },
    "executionInfo": {
     "elapsed": 258,
     "status": "ok",
     "timestamp": 1646953763548,
     "user": {
      "displayName": "Luis Enrrique Pernia Carroz",
      "photoUrl": "https://lh3.googleusercontent.com/a-/AOh14GgOoKnSpkb2XSRqD2f673ceBYaj8O8lp0tj-qjj4g=s64",
      "userId": "09245467713551539461"
     },
     "user_tz": 180
    },
    "id": "YRcfCKiaF966",
    "outputId": "a39bf059-f9c1-452b-9bb9-979205f7f796"
   },
   "outputs": [
    {
     "data": {
      "text/plain": [
       "Index(['edad', 'cm', 'pais', 'genero', 'Q1', 'Q2'], dtype='object')"
      ]
     },
     "execution_count": 189,
     "metadata": {},
     "output_type": "execute_result"
    }
   ],
   "source": [
    "df.columns"
   ]
  },
  {
   "cell_type": "code",
   "execution_count": 190,
   "metadata": {
    "colab": {
     "base_uri": "https://localhost:8080/"
    },
    "executionInfo": {
     "elapsed": 247,
     "status": "ok",
     "timestamp": 1646953771316,
     "user": {
      "displayName": "Luis Enrrique Pernia Carroz",
      "photoUrl": "https://lh3.googleusercontent.com/a-/AOh14GgOoKnSpkb2XSRqD2f673ceBYaj8O8lp0tj-qjj4g=s64",
      "userId": "09245467713551539461"
     },
     "user_tz": 180
    },
    "id": "B0Oo4j1TGA7y",
    "outputId": "8968853c-026c-4a18-d65b-879561c7a811"
   },
   "outputs": [
    {
     "data": {
      "text/plain": [
       "array([[10, 115, 'co', 'M', 5.0, 7.0],\n",
       "       [9, 110, 'ms', 'F', 10.0, 9.0],\n",
       "       [13, 130, 'co', 'F', 8.0, 9.0],\n",
       "       [14, 155, 'mx', 'M', nan, 8.0],\n",
       "       [12, 125, 'mx', 'M', 7.0, 8.0],\n",
       "       [11, 120, 'ch', 'M', 8.0, 8.0],\n",
       "       [12, 125, 'ch', 'F', 3.0, 9.0]], dtype=object)"
      ]
     },
     "execution_count": 190,
     "metadata": {},
     "output_type": "execute_result"
    }
   ],
   "source": [
    "df.values"
   ]
  },
  {
   "cell_type": "code",
   "execution_count": 191,
   "metadata": {
    "colab": {
     "base_uri": "https://localhost:8080/"
    },
    "executionInfo": {
     "elapsed": 4,
     "status": "ok",
     "timestamp": 1646954168383,
     "user": {
      "displayName": "Luis Enrrique Pernia Carroz",
      "photoUrl": "https://lh3.googleusercontent.com/a-/AOh14GgOoKnSpkb2XSRqD2f673ceBYaj8O8lp0tj-qjj4g=s64",
      "userId": "09245467713551539461"
     },
     "user_tz": 180
    },
    "id": "ae7fWLFXGC2i",
    "outputId": "80c1dcd4-7132-4a72-e4dd-906fd253e3ea"
   },
   "outputs": [
    {
     "data": {
      "text/plain": [
       "ana         10\n",
       "benito       9\n",
       "camilo      13\n",
       "daniel      14\n",
       "erika       12\n",
       "fabian      11\n",
       "gabriela    12\n",
       "Name: edad, dtype: int64"
      ]
     },
     "execution_count": 191,
     "metadata": {},
     "output_type": "execute_result"
    }
   ],
   "source": [
    "df['edad'] #acceder a valores de una coluymna"
   ]
  },
  {
   "cell_type": "code",
   "execution_count": 192,
   "metadata": {
    "colab": {
     "base_uri": "https://localhost:8080/",
     "height": 269
    },
    "executionInfo": {
     "elapsed": 247,
     "status": "ok",
     "timestamp": 1646954637488,
     "user": {
      "displayName": "Luis Enrrique Pernia Carroz",
      "photoUrl": "https://lh3.googleusercontent.com/a-/AOh14GgOoKnSpkb2XSRqD2f673ceBYaj8O8lp0tj-qjj4g=s64",
      "userId": "09245467713551539461"
     },
     "user_tz": 180
    },
    "id": "-owozHj4Hj0L",
    "outputId": "22257c41-d8d6-4383-b515-4c6428452e06"
   },
   "outputs": [
    {
     "data": {
      "text/html": [
       "<div>\n",
       "<style scoped>\n",
       "    .dataframe tbody tr th:only-of-type {\n",
       "        vertical-align: middle;\n",
       "    }\n",
       "\n",
       "    .dataframe tbody tr th {\n",
       "        vertical-align: top;\n",
       "    }\n",
       "\n",
       "    .dataframe thead th {\n",
       "        text-align: right;\n",
       "    }\n",
       "</style>\n",
       "<table border=\"1\" class=\"dataframe\">\n",
       "  <thead>\n",
       "    <tr style=\"text-align: right;\">\n",
       "      <th></th>\n",
       "      <th>edad</th>\n",
       "      <th>cm</th>\n",
       "      <th>Q1</th>\n",
       "    </tr>\n",
       "  </thead>\n",
       "  <tbody>\n",
       "    <tr>\n",
       "      <th>ana</th>\n",
       "      <td>10</td>\n",
       "      <td>115</td>\n",
       "      <td>5.0</td>\n",
       "    </tr>\n",
       "    <tr>\n",
       "      <th>benito</th>\n",
       "      <td>9</td>\n",
       "      <td>110</td>\n",
       "      <td>10.0</td>\n",
       "    </tr>\n",
       "    <tr>\n",
       "      <th>camilo</th>\n",
       "      <td>13</td>\n",
       "      <td>130</td>\n",
       "      <td>8.0</td>\n",
       "    </tr>\n",
       "    <tr>\n",
       "      <th>daniel</th>\n",
       "      <td>14</td>\n",
       "      <td>155</td>\n",
       "      <td>NaN</td>\n",
       "    </tr>\n",
       "    <tr>\n",
       "      <th>erika</th>\n",
       "      <td>12</td>\n",
       "      <td>125</td>\n",
       "      <td>7.0</td>\n",
       "    </tr>\n",
       "    <tr>\n",
       "      <th>fabian</th>\n",
       "      <td>11</td>\n",
       "      <td>120</td>\n",
       "      <td>8.0</td>\n",
       "    </tr>\n",
       "    <tr>\n",
       "      <th>gabriela</th>\n",
       "      <td>12</td>\n",
       "      <td>125</td>\n",
       "      <td>3.0</td>\n",
       "    </tr>\n",
       "  </tbody>\n",
       "</table>\n",
       "</div>"
      ],
      "text/plain": [
       "          edad   cm    Q1\n",
       "ana         10  115   5.0\n",
       "benito       9  110  10.0\n",
       "camilo      13  130   8.0\n",
       "daniel      14  155   NaN\n",
       "erika       12  125   7.0\n",
       "fabian      11  120   8.0\n",
       "gabriela    12  125   3.0"
      ]
     },
     "execution_count": 192,
     "metadata": {},
     "output_type": "execute_result"
    }
   ],
   "source": [
    "df[['edad','cm','Q1']] #acceder a valores de varias columnas #por defecto trae todos los indices."
   ]
  },
  {
   "cell_type": "code",
   "execution_count": 193,
   "metadata": {},
   "outputs": [
    {
     "data": {
      "text/html": [
       "<div>\n",
       "<style scoped>\n",
       "    .dataframe tbody tr th:only-of-type {\n",
       "        vertical-align: middle;\n",
       "    }\n",
       "\n",
       "    .dataframe tbody tr th {\n",
       "        vertical-align: top;\n",
       "    }\n",
       "\n",
       "    .dataframe thead th {\n",
       "        text-align: right;\n",
       "    }\n",
       "</style>\n",
       "<table border=\"1\" class=\"dataframe\">\n",
       "  <thead>\n",
       "    <tr style=\"text-align: right;\">\n",
       "      <th></th>\n",
       "      <th>edad</th>\n",
       "      <th>cm</th>\n",
       "      <th>Q1</th>\n",
       "    </tr>\n",
       "  </thead>\n",
       "  <tbody>\n",
       "    <tr>\n",
       "      <th>benito</th>\n",
       "      <td>9</td>\n",
       "      <td>110</td>\n",
       "      <td>10.0</td>\n",
       "    </tr>\n",
       "    <tr>\n",
       "      <th>camilo</th>\n",
       "      <td>13</td>\n",
       "      <td>130</td>\n",
       "      <td>8.0</td>\n",
       "    </tr>\n",
       "  </tbody>\n",
       "</table>\n",
       "</div>"
      ],
      "text/plain": [
       "        edad   cm    Q1\n",
       "benito     9  110  10.0\n",
       "camilo    13  130   8.0"
      ]
     },
     "execution_count": 193,
     "metadata": {},
     "output_type": "execute_result"
    }
   ],
   "source": [
    "df[1:3][['edad', 'cm', 'Q1']] #acceder a valores de varias filas  y columnas"
   ]
  },
  {
   "cell_type": "markdown",
   "metadata": {},
   "source": [
    "## Metodos de busqueda por index loc"
   ]
  },
  {
   "cell_type": "code",
   "execution_count": 196,
   "metadata": {},
   "outputs": [
    {
     "data": {
      "text/plain": [
       "edad       14\n",
       "cm        155\n",
       "pais       mx\n",
       "genero      M\n",
       "Q1        NaN\n",
       "Q2        8.0\n",
       "Name: daniel, dtype: object"
      ]
     },
     "execution_count": 196,
     "metadata": {},
     "output_type": "execute_result"
    }
   ],
   "source": [
    "df.loc['daniel'] #un indice, todas las columnas."
   ]
  },
  {
   "cell_type": "code",
   "execution_count": 199,
   "metadata": {},
   "outputs": [
    {
     "data": {
      "text/plain": [
       "nan"
      ]
     },
     "execution_count": 199,
     "metadata": {},
     "output_type": "execute_result"
    }
   ],
   "source": [
    "df.loc['daniel' , 'Q1'] # un indice, una columna."
   ]
  },
  {
   "cell_type": "code",
   "execution_count": 203,
   "metadata": {},
   "outputs": [
    {
     "data": {
      "text/plain": [
       "benito    10.0\n",
       "daniel     NaN\n",
       "Name: Q1, dtype: float64"
      ]
     },
     "execution_count": 203,
     "metadata": {},
     "output_type": "execute_result"
    }
   ],
   "source": [
    "df.loc[['benito', 'daniel'], 'Q1'] # 2 indices, 1 columna."
   ]
  },
  {
   "cell_type": "code",
   "execution_count": null,
   "metadata": {},
   "outputs": [],
   "source": [
    "df.loc['daniel', ['Q1','Q2']]"
   ]
  },
  {
   "cell_type": "code",
   "execution_count": 89,
   "metadata": {
    "colab": {
     "base_uri": "https://localhost:8080/"
    },
    "executionInfo": {
     "elapsed": 268,
     "status": "ok",
     "timestamp": 1646954756012,
     "user": {
      "displayName": "Luis Enrrique Pernia Carroz",
      "photoUrl": "https://lh3.googleusercontent.com/a-/AOh14GgOoKnSpkb2XSRqD2f673ceBYaj8O8lp0tj-qjj4g=s64",
      "userId": "09245467713551539461"
     },
     "user_tz": 180
    },
    "id": "gc_2NM32Hp9x",
    "outputId": "70c5a434-ae28-4a71-dc0f-b8fa685aa038"
   },
   "outputs": [
    {
     "data": {
      "text/plain": [
       "edad     10\n",
       "cm      115\n",
       "Q1      5.0\n",
       "Name: ana, dtype: object"
      ]
     },
     "execution_count": 89,
     "metadata": {},
     "output_type": "execute_result"
    }
   ],
   "source": [
    "df.loc['ana', ['edad', 'cm', 'Q1']] # 1 indice, 3 columnas."
   ]
  },
  {
   "cell_type": "code",
   "execution_count": 90,
   "metadata": {
    "colab": {
     "base_uri": "https://localhost:8080/",
     "height": 112
    },
    "executionInfo": {
     "elapsed": 256,
     "status": "ok",
     "timestamp": 1646954922925,
     "user": {
      "displayName": "Luis Enrrique Pernia Carroz",
      "photoUrl": "https://lh3.googleusercontent.com/a-/AOh14GgOoKnSpkb2XSRqD2f673ceBYaj8O8lp0tj-qjj4g=s64",
      "userId": "09245467713551539461"
     },
     "user_tz": 180
    },
    "id": "9pyLIv-cH8iJ",
    "outputId": "9b8b0c67-4aa1-4695-81cb-f3ed7b382d4e"
   },
   "outputs": [
    {
     "data": {
      "text/html": [
       "<div>\n",
       "<style scoped>\n",
       "    .dataframe tbody tr th:only-of-type {\n",
       "        vertical-align: middle;\n",
       "    }\n",
       "\n",
       "    .dataframe tbody tr th {\n",
       "        vertical-align: top;\n",
       "    }\n",
       "\n",
       "    .dataframe thead th {\n",
       "        text-align: right;\n",
       "    }\n",
       "</style>\n",
       "<table border=\"1\" class=\"dataframe\">\n",
       "  <thead>\n",
       "    <tr style=\"text-align: right;\">\n",
       "      <th></th>\n",
       "      <th>edad</th>\n",
       "      <th>cm</th>\n",
       "      <th>Q1</th>\n",
       "    </tr>\n",
       "  </thead>\n",
       "  <tbody>\n",
       "    <tr>\n",
       "      <th>ana</th>\n",
       "      <td>10</td>\n",
       "      <td>115</td>\n",
       "      <td>5.0</td>\n",
       "    </tr>\n",
       "    <tr>\n",
       "      <th>erika</th>\n",
       "      <td>12</td>\n",
       "      <td>125</td>\n",
       "      <td>7.0</td>\n",
       "    </tr>\n",
       "  </tbody>\n",
       "</table>\n",
       "</div>"
      ],
      "text/plain": [
       "       edad   cm   Q1\n",
       "ana      10  115  5.0\n",
       "erika    12  125  7.0"
      ]
     },
     "execution_count": 90,
     "metadata": {},
     "output_type": "execute_result"
    }
   ],
   "source": [
    "df.loc[['ana','erika'],['edad', 'cm', 'Q1']] # 2 indices, 2 columnas."
   ]
  },
  {
   "cell_type": "markdown",
   "metadata": {},
   "source": [
    "## iloc"
   ]
  },
  {
   "cell_type": "code",
   "execution_count": 211,
   "metadata": {
    "colab": {
     "base_uri": "https://localhost:8080/"
    },
    "executionInfo": {
     "elapsed": 254,
     "status": "ok",
     "timestamp": 1646955135523,
     "user": {
      "displayName": "Luis Enrrique Pernia Carroz",
      "photoUrl": "https://lh3.googleusercontent.com/a-/AOh14GgOoKnSpkb2XSRqD2f673ceBYaj8O8lp0tj-qjj4g=s64",
      "userId": "09245467713551539461"
     },
     "user_tz": 180
    },
    "id": "IPl_V03ULAc2",
    "outputId": "702bbcab-aa1f-40fe-ab02-fa9750b5eabd"
   },
   "outputs": [
    {
     "data": {
      "text/plain": [
       "edad       14\n",
       "cm        155\n",
       "pais       mx\n",
       "genero      M\n",
       "Q1        NaN\n",
       "Q2        8.0\n",
       "Name: daniel, dtype: object"
      ]
     },
     "execution_count": 211,
     "metadata": {},
     "output_type": "execute_result"
    }
   ],
   "source": [
    "df.iloc[3] # un indice, por defecto trae todas las columnas."
   ]
  },
  {
   "cell_type": "code",
   "execution_count": 218,
   "metadata": {},
   "outputs": [
    {
     "data": {
      "text/plain": [
       "nan"
      ]
     },
     "execution_count": 218,
     "metadata": {},
     "output_type": "execute_result"
    }
   ],
   "source": [
    "df.iloc[3,4] # un indice, una columna."
   ]
  },
  {
   "cell_type": "code",
   "execution_count": 220,
   "metadata": {},
   "outputs": [
    {
     "data": {
      "text/plain": [
       "benito    ms\n",
       "camilo    co\n",
       "daniel    mx\n",
       "Name: pais, dtype: object"
      ]
     },
     "execution_count": 220,
     "metadata": {},
     "output_type": "execute_result"
    }
   ],
   "source": [
    "df.iloc[[1,2,3], 2] # varios indices, una columna."
   ]
  },
  {
   "cell_type": "code",
   "execution_count": 93,
   "metadata": {
    "colab": {
     "base_uri": "https://localhost:8080/"
    },
    "executionInfo": {
     "elapsed": 234,
     "status": "ok",
     "timestamp": 1646955206075,
     "user": {
      "displayName": "Luis Enrrique Pernia Carroz",
      "photoUrl": "https://lh3.googleusercontent.com/a-/AOh14GgOoKnSpkb2XSRqD2f673ceBYaj8O8lp0tj-qjj4g=s64",
      "userId": "09245467713551539461"
     },
     "user_tz": 180
    },
    "id": "MRIw22s9LP7g",
    "outputId": "f36dea55-fecf-458f-c26d-a22eee633a63"
   },
   "outputs": [
    {
     "data": {
      "text/plain": [
       "cm        130\n",
       "genero      F\n",
       "Q1        8.0\n",
       "Name: camilo, dtype: object"
      ]
     },
     "execution_count": 93,
     "metadata": {},
     "output_type": "execute_result"
    }
   ],
   "source": [
    "df.iloc[2,[1,3,4]] # un indice, varias columnas."
   ]
  },
  {
   "cell_type": "code",
   "execution_count": 221,
   "metadata": {
    "colab": {
     "base_uri": "https://localhost:8080/",
     "height": 143
    },
    "executionInfo": {
     "elapsed": 242,
     "status": "ok",
     "timestamp": 1646955266018,
     "user": {
      "displayName": "Luis Enrrique Pernia Carroz",
      "photoUrl": "https://lh3.googleusercontent.com/a-/AOh14GgOoKnSpkb2XSRqD2f673ceBYaj8O8lp0tj-qjj4g=s64",
      "userId": "09245467713551539461"
     },
     "user_tz": 180
    },
    "id": "9R7RdAm3LbTY",
    "outputId": "b0807f01-16dc-4957-b6a5-61b0158d2bf1"
   },
   "outputs": [
    {
     "data": {
      "text/html": [
       "<div>\n",
       "<style scoped>\n",
       "    .dataframe tbody tr th:only-of-type {\n",
       "        vertical-align: middle;\n",
       "    }\n",
       "\n",
       "    .dataframe tbody tr th {\n",
       "        vertical-align: top;\n",
       "    }\n",
       "\n",
       "    .dataframe thead th {\n",
       "        text-align: right;\n",
       "    }\n",
       "</style>\n",
       "<table border=\"1\" class=\"dataframe\">\n",
       "  <thead>\n",
       "    <tr style=\"text-align: right;\">\n",
       "      <th></th>\n",
       "      <th>cm</th>\n",
       "      <th>genero</th>\n",
       "      <th>Q2</th>\n",
       "    </tr>\n",
       "  </thead>\n",
       "  <tbody>\n",
       "    <tr>\n",
       "      <th>camilo</th>\n",
       "      <td>130</td>\n",
       "      <td>F</td>\n",
       "      <td>9.0</td>\n",
       "    </tr>\n",
       "    <tr>\n",
       "      <th>erika</th>\n",
       "      <td>125</td>\n",
       "      <td>M</td>\n",
       "      <td>8.0</td>\n",
       "    </tr>\n",
       "    <tr>\n",
       "      <th>fabian</th>\n",
       "      <td>120</td>\n",
       "      <td>M</td>\n",
       "      <td>8.0</td>\n",
       "    </tr>\n",
       "  </tbody>\n",
       "</table>\n",
       "</div>"
      ],
      "text/plain": [
       "         cm genero   Q2\n",
       "camilo  130      F  9.0\n",
       "erika   125      M  8.0\n",
       "fabian  120      M  8.0"
      ]
     },
     "execution_count": 221,
     "metadata": {},
     "output_type": "execute_result"
    }
   ],
   "source": [
    "df.iloc[[2,4,5],[1,3,5]] # varios indices, varias columnas."
   ]
  },
  {
   "cell_type": "code",
   "execution_count": null,
   "metadata": {},
   "outputs": [],
   "source": [
    "df.iloc[:,1] # todos los indices, una columna."
   ]
  },
  {
   "cell_type": "code",
   "execution_count": 95,
   "metadata": {
    "colab": {
     "base_uri": "https://localhost:8080/",
     "height": 269
    },
    "executionInfo": {
     "elapsed": 233,
     "status": "ok",
     "timestamp": 1646956298950,
     "user": {
      "displayName": "Luis Enrrique Pernia Carroz",
      "photoUrl": "https://lh3.googleusercontent.com/a-/AOh14GgOoKnSpkb2XSRqD2f673ceBYaj8O8lp0tj-qjj4g=s64",
      "userId": "09245467713551539461"
     },
     "user_tz": 180
    },
    "id": "Yn-w5CkfLkCQ",
    "outputId": "1c9f0fd8-ec1e-4507-bac9-077c3c1084a7"
   },
   "outputs": [
    {
     "data": {
      "text/html": [
       "<div>\n",
       "<style scoped>\n",
       "    .dataframe tbody tr th:only-of-type {\n",
       "        vertical-align: middle;\n",
       "    }\n",
       "\n",
       "    .dataframe tbody tr th {\n",
       "        vertical-align: top;\n",
       "    }\n",
       "\n",
       "    .dataframe thead th {\n",
       "        text-align: right;\n",
       "    }\n",
       "</style>\n",
       "<table border=\"1\" class=\"dataframe\">\n",
       "  <thead>\n",
       "    <tr style=\"text-align: right;\">\n",
       "      <th></th>\n",
       "      <th>cm</th>\n",
       "      <th>genero</th>\n",
       "    </tr>\n",
       "  </thead>\n",
       "  <tbody>\n",
       "    <tr>\n",
       "      <th>ana</th>\n",
       "      <td>115</td>\n",
       "      <td>M</td>\n",
       "    </tr>\n",
       "    <tr>\n",
       "      <th>benito</th>\n",
       "      <td>110</td>\n",
       "      <td>F</td>\n",
       "    </tr>\n",
       "    <tr>\n",
       "      <th>camilo</th>\n",
       "      <td>130</td>\n",
       "      <td>F</td>\n",
       "    </tr>\n",
       "    <tr>\n",
       "      <th>daniel</th>\n",
       "      <td>155</td>\n",
       "      <td>M</td>\n",
       "    </tr>\n",
       "    <tr>\n",
       "      <th>erika</th>\n",
       "      <td>125</td>\n",
       "      <td>M</td>\n",
       "    </tr>\n",
       "    <tr>\n",
       "      <th>fabian</th>\n",
       "      <td>120</td>\n",
       "      <td>M</td>\n",
       "    </tr>\n",
       "    <tr>\n",
       "      <th>gabriela</th>\n",
       "      <td>125</td>\n",
       "      <td>F</td>\n",
       "    </tr>\n",
       "  </tbody>\n",
       "</table>\n",
       "</div>"
      ],
      "text/plain": [
       "           cm genero\n",
       "ana       115      M\n",
       "benito    110      F\n",
       "camilo    130      F\n",
       "daniel    155      M\n",
       "erika     125      M\n",
       "fabian    120      M\n",
       "gabriela  125      F"
      ]
     },
     "execution_count": 95,
     "metadata": {},
     "output_type": "execute_result"
    }
   ],
   "source": [
    "df.iloc[:,[1,3]] #todos los indices, varias columnas."
   ]
  },
  {
   "cell_type": "code",
   "execution_count": 226,
   "metadata": {},
   "outputs": [
    {
     "data": {
      "text/plain": [
       "edad         9\n",
       "cm         110\n",
       "pais        ms\n",
       "genero       F\n",
       "Q1        10.0\n",
       "Q2         9.0\n",
       "Name: benito, dtype: object"
      ]
     },
     "execution_count": 226,
     "metadata": {},
     "output_type": "execute_result"
    }
   ],
   "source": [
    "df.iloc[1,:]"
   ]
  },
  {
   "cell_type": "code",
   "execution_count": 96,
   "metadata": {
    "colab": {
     "base_uri": "https://localhost:8080/",
     "height": 112
    },
    "executionInfo": {
     "elapsed": 3,
     "status": "ok",
     "timestamp": 1646956336557,
     "user": {
      "displayName": "Luis Enrrique Pernia Carroz",
      "photoUrl": "https://lh3.googleusercontent.com/a-/AOh14GgOoKnSpkb2XSRqD2f673ceBYaj8O8lp0tj-qjj4g=s64",
      "userId": "09245467713551539461"
     },
     "user_tz": 180
    },
    "id": "COr-fOAaPr9t",
    "outputId": "af311ba9-18a8-4574-e5a7-d9fbcfe2571a"
   },
   "outputs": [
    {
     "data": {
      "text/html": [
       "<div>\n",
       "<style scoped>\n",
       "    .dataframe tbody tr th:only-of-type {\n",
       "        vertical-align: middle;\n",
       "    }\n",
       "\n",
       "    .dataframe tbody tr th {\n",
       "        vertical-align: top;\n",
       "    }\n",
       "\n",
       "    .dataframe thead th {\n",
       "        text-align: right;\n",
       "    }\n",
       "</style>\n",
       "<table border=\"1\" class=\"dataframe\">\n",
       "  <thead>\n",
       "    <tr style=\"text-align: right;\">\n",
       "      <th></th>\n",
       "      <th>edad</th>\n",
       "      <th>cm</th>\n",
       "      <th>pais</th>\n",
       "      <th>genero</th>\n",
       "      <th>Q1</th>\n",
       "      <th>Q2</th>\n",
       "    </tr>\n",
       "  </thead>\n",
       "  <tbody>\n",
       "    <tr>\n",
       "      <th>benito</th>\n",
       "      <td>9</td>\n",
       "      <td>110</td>\n",
       "      <td>ms</td>\n",
       "      <td>F</td>\n",
       "      <td>10.0</td>\n",
       "      <td>9.0</td>\n",
       "    </tr>\n",
       "    <tr>\n",
       "      <th>daniel</th>\n",
       "      <td>14</td>\n",
       "      <td>155</td>\n",
       "      <td>mx</td>\n",
       "      <td>M</td>\n",
       "      <td>NaN</td>\n",
       "      <td>8.0</td>\n",
       "    </tr>\n",
       "  </tbody>\n",
       "</table>\n",
       "</div>"
      ],
      "text/plain": [
       "        edad   cm pais genero    Q1   Q2\n",
       "benito     9  110   ms      F  10.0  9.0\n",
       "daniel    14  155   mx      M   NaN  8.0"
      ]
     },
     "execution_count": 96,
     "metadata": {},
     "output_type": "execute_result"
    }
   ],
   "source": [
    "df.iloc[[1,3],:] # varios indices, todas las columnas."
   ]
  },
  {
   "cell_type": "code",
   "execution_count": 97,
   "metadata": {
    "colab": {
     "base_uri": "https://localhost:8080/"
    },
    "executionInfo": {
     "elapsed": 285,
     "status": "ok",
     "timestamp": 1646956597857,
     "user": {
      "displayName": "Luis Enrrique Pernia Carroz",
      "photoUrl": "https://lh3.googleusercontent.com/a-/AOh14GgOoKnSpkb2XSRqD2f673ceBYaj8O8lp0tj-qjj4g=s64",
      "userId": "09245467713551539461"
     },
     "user_tz": 180
    },
    "id": "HAsnfVh9Puz_",
    "outputId": "fab28f53-390d-4607-a543-10ac37596578"
   },
   "outputs": [
    {
     "data": {
      "text/plain": [
       "ana         False\n",
       "benito      False\n",
       "camilo       True\n",
       "daniel       True\n",
       "erika        True\n",
       "fabian      False\n",
       "gabriela     True\n",
       "Name: edad, dtype: bool"
      ]
     },
     "execution_count": 97,
     "metadata": {},
     "output_type": "execute_result"
    }
   ],
   "source": [
    "df['edad'] >=12"
   ]
  },
  {
   "cell_type": "code",
   "execution_count": 98,
   "metadata": {
    "colab": {
     "base_uri": "https://localhost:8080/",
     "height": 175
    },
    "executionInfo": {
     "elapsed": 249,
     "status": "ok",
     "timestamp": 1646956842656,
     "user": {
      "displayName": "Luis Enrrique Pernia Carroz",
      "photoUrl": "https://lh3.googleusercontent.com/a-/AOh14GgOoKnSpkb2XSRqD2f673ceBYaj8O8lp0tj-qjj4g=s64",
      "userId": "09245467713551539461"
     },
     "user_tz": 180
    },
    "id": "0K6dPOI-P5hH",
    "outputId": "02aaba69-70a4-4957-e835-da4009acf164"
   },
   "outputs": [
    {
     "data": {
      "text/html": [
       "<div>\n",
       "<style scoped>\n",
       "    .dataframe tbody tr th:only-of-type {\n",
       "        vertical-align: middle;\n",
       "    }\n",
       "\n",
       "    .dataframe tbody tr th {\n",
       "        vertical-align: top;\n",
       "    }\n",
       "\n",
       "    .dataframe thead th {\n",
       "        text-align: right;\n",
       "    }\n",
       "</style>\n",
       "<table border=\"1\" class=\"dataframe\">\n",
       "  <thead>\n",
       "    <tr style=\"text-align: right;\">\n",
       "      <th></th>\n",
       "      <th>edad</th>\n",
       "      <th>cm</th>\n",
       "      <th>pais</th>\n",
       "      <th>genero</th>\n",
       "      <th>Q1</th>\n",
       "      <th>Q2</th>\n",
       "    </tr>\n",
       "  </thead>\n",
       "  <tbody>\n",
       "    <tr>\n",
       "      <th>camilo</th>\n",
       "      <td>13</td>\n",
       "      <td>130</td>\n",
       "      <td>co</td>\n",
       "      <td>F</td>\n",
       "      <td>8.0</td>\n",
       "      <td>9.0</td>\n",
       "    </tr>\n",
       "    <tr>\n",
       "      <th>daniel</th>\n",
       "      <td>14</td>\n",
       "      <td>155</td>\n",
       "      <td>mx</td>\n",
       "      <td>M</td>\n",
       "      <td>NaN</td>\n",
       "      <td>8.0</td>\n",
       "    </tr>\n",
       "    <tr>\n",
       "      <th>erika</th>\n",
       "      <td>12</td>\n",
       "      <td>125</td>\n",
       "      <td>mx</td>\n",
       "      <td>M</td>\n",
       "      <td>7.0</td>\n",
       "      <td>8.0</td>\n",
       "    </tr>\n",
       "    <tr>\n",
       "      <th>gabriela</th>\n",
       "      <td>12</td>\n",
       "      <td>125</td>\n",
       "      <td>ch</td>\n",
       "      <td>F</td>\n",
       "      <td>3.0</td>\n",
       "      <td>9.0</td>\n",
       "    </tr>\n",
       "  </tbody>\n",
       "</table>\n",
       "</div>"
      ],
      "text/plain": [
       "          edad   cm pais genero   Q1   Q2\n",
       "camilo      13  130   co      F  8.0  9.0\n",
       "daniel      14  155   mx      M  NaN  8.0\n",
       "erika       12  125   mx      M  7.0  8.0\n",
       "gabriela    12  125   ch      F  3.0  9.0"
      ]
     },
     "execution_count": 98,
     "metadata": {},
     "output_type": "execute_result"
    }
   ],
   "source": [
    "df[df['edad'] >=12]"
   ]
  },
  {
   "cell_type": "code",
   "execution_count": 99,
   "metadata": {
    "colab": {
     "base_uri": "https://localhost:8080/",
     "height": 112
    },
    "executionInfo": {
     "elapsed": 4,
     "status": "ok",
     "timestamp": 1646956845951,
     "user": {
      "displayName": "Luis Enrrique Pernia Carroz",
      "photoUrl": "https://lh3.googleusercontent.com/a-/AOh14GgOoKnSpkb2XSRqD2f673ceBYaj8O8lp0tj-qjj4g=s64",
      "userId": "09245467713551539461"
     },
     "user_tz": 180
    },
    "id": "69ukf8VbQ59o",
    "outputId": "60ccf825-b933-4e79-e38e-352c3dc27cf1"
   },
   "outputs": [
    {
     "data": {
      "text/html": [
       "<div>\n",
       "<style scoped>\n",
       "    .dataframe tbody tr th:only-of-type {\n",
       "        vertical-align: middle;\n",
       "    }\n",
       "\n",
       "    .dataframe tbody tr th {\n",
       "        vertical-align: top;\n",
       "    }\n",
       "\n",
       "    .dataframe thead th {\n",
       "        text-align: right;\n",
       "    }\n",
       "</style>\n",
       "<table border=\"1\" class=\"dataframe\">\n",
       "  <thead>\n",
       "    <tr style=\"text-align: right;\">\n",
       "      <th></th>\n",
       "      <th>edad</th>\n",
       "      <th>cm</th>\n",
       "      <th>pais</th>\n",
       "      <th>genero</th>\n",
       "      <th>Q1</th>\n",
       "      <th>Q2</th>\n",
       "    </tr>\n",
       "  </thead>\n",
       "  <tbody>\n",
       "    <tr>\n",
       "      <th>daniel</th>\n",
       "      <td>14</td>\n",
       "      <td>155</td>\n",
       "      <td>mx</td>\n",
       "      <td>M</td>\n",
       "      <td>NaN</td>\n",
       "      <td>8.0</td>\n",
       "    </tr>\n",
       "    <tr>\n",
       "      <th>erika</th>\n",
       "      <td>12</td>\n",
       "      <td>125</td>\n",
       "      <td>mx</td>\n",
       "      <td>M</td>\n",
       "      <td>7.0</td>\n",
       "      <td>8.0</td>\n",
       "    </tr>\n",
       "  </tbody>\n",
       "</table>\n",
       "</div>"
      ],
      "text/plain": [
       "        edad   cm pais genero   Q1   Q2\n",
       "daniel    14  155   mx      M  NaN  8.0\n",
       "erika     12  125   mx      M  7.0  8.0"
      ]
     },
     "execution_count": 99,
     "metadata": {},
     "output_type": "execute_result"
    }
   ],
   "source": [
    "df[(df['edad'] >=12) & (df['pais'] == 'mx')]"
   ]
  },
  {
   "cell_type": "code",
   "execution_count": 100,
   "metadata": {
    "colab": {
     "base_uri": "https://localhost:8080/",
     "height": 112
    },
    "executionInfo": {
     "elapsed": 244,
     "status": "ok",
     "timestamp": 1646957040861,
     "user": {
      "displayName": "Luis Enrrique Pernia Carroz",
      "photoUrl": "https://lh3.googleusercontent.com/a-/AOh14GgOoKnSpkb2XSRqD2f673ceBYaj8O8lp0tj-qjj4g=s64",
      "userId": "09245467713551539461"
     },
     "user_tz": 180
    },
    "id": "dY0G58CJRxc2",
    "outputId": "a5e7d26e-7074-4d5d-b0f6-5d1ec3af432b"
   },
   "outputs": [
    {
     "data": {
      "text/html": [
       "<div>\n",
       "<style scoped>\n",
       "    .dataframe tbody tr th:only-of-type {\n",
       "        vertical-align: middle;\n",
       "    }\n",
       "\n",
       "    .dataframe tbody tr th {\n",
       "        vertical-align: top;\n",
       "    }\n",
       "\n",
       "    .dataframe thead th {\n",
       "        text-align: right;\n",
       "    }\n",
       "</style>\n",
       "<table border=\"1\" class=\"dataframe\">\n",
       "  <thead>\n",
       "    <tr style=\"text-align: right;\">\n",
       "      <th></th>\n",
       "      <th>edad</th>\n",
       "      <th>cm</th>\n",
       "      <th>pais</th>\n",
       "      <th>genero</th>\n",
       "      <th>Q1</th>\n",
       "      <th>Q2</th>\n",
       "    </tr>\n",
       "  </thead>\n",
       "  <tbody>\n",
       "    <tr>\n",
       "      <th>camilo</th>\n",
       "      <td>13</td>\n",
       "      <td>130</td>\n",
       "      <td>co</td>\n",
       "      <td>F</td>\n",
       "      <td>8.0</td>\n",
       "      <td>9.0</td>\n",
       "    </tr>\n",
       "    <tr>\n",
       "      <th>daniel</th>\n",
       "      <td>14</td>\n",
       "      <td>155</td>\n",
       "      <td>mx</td>\n",
       "      <td>M</td>\n",
       "      <td>NaN</td>\n",
       "      <td>8.0</td>\n",
       "    </tr>\n",
       "  </tbody>\n",
       "</table>\n",
       "</div>"
      ],
      "text/plain": [
       "        edad   cm pais genero   Q1   Q2\n",
       "camilo    13  130   co      F  8.0  9.0\n",
       "daniel    14  155   mx      M  NaN  8.0"
      ]
     },
     "execution_count": 100,
     "metadata": {},
     "output_type": "execute_result"
    }
   ],
   "source": [
    "df.query('edad > 12')"
   ]
  },
  {
   "cell_type": "code",
   "execution_count": 101,
   "metadata": {
    "colab": {
     "base_uri": "https://localhost:8080/"
    },
    "executionInfo": {
     "elapsed": 263,
     "status": "ok",
     "timestamp": 1646957095681,
     "user": {
      "displayName": "Luis Enrrique Pernia Carroz",
      "photoUrl": "https://lh3.googleusercontent.com/a-/AOh14GgOoKnSpkb2XSRqD2f673ceBYaj8O8lp0tj-qjj4g=s64",
      "userId": "09245467713551539461"
     },
     "user_tz": 180
    },
    "id": "LDQxo4RRSC0m",
    "outputId": "7e643af4-1520-49f5-e826-00470c995d2f"
   },
   "outputs": [
    {
     "data": {
      "text/plain": [
       "ana          True\n",
       "benito      False\n",
       "camilo       True\n",
       "daniel      False\n",
       "erika        True\n",
       "fabian       True\n",
       "gabriela     True\n",
       "dtype: bool"
      ]
     },
     "execution_count": 101,
     "metadata": {},
     "output_type": "execute_result"
    }
   ],
   "source": [
    "df['Q2'] >= df['Q1']"
   ]
  },
  {
   "cell_type": "code",
   "execution_count": 102,
   "metadata": {
    "colab": {
     "base_uri": "https://localhost:8080/",
     "height": 206
    },
    "executionInfo": {
     "elapsed": 3,
     "status": "ok",
     "timestamp": 1646957101180,
     "user": {
      "displayName": "Luis Enrrique Pernia Carroz",
      "photoUrl": "https://lh3.googleusercontent.com/a-/AOh14GgOoKnSpkb2XSRqD2f673ceBYaj8O8lp0tj-qjj4g=s64",
      "userId": "09245467713551539461"
     },
     "user_tz": 180
    },
    "id": "HOYiffu1SueD",
    "outputId": "1eb295a5-8990-40f5-bd27-d8060748b36a"
   },
   "outputs": [
    {
     "data": {
      "text/html": [
       "<div>\n",
       "<style scoped>\n",
       "    .dataframe tbody tr th:only-of-type {\n",
       "        vertical-align: middle;\n",
       "    }\n",
       "\n",
       "    .dataframe tbody tr th {\n",
       "        vertical-align: top;\n",
       "    }\n",
       "\n",
       "    .dataframe thead th {\n",
       "        text-align: right;\n",
       "    }\n",
       "</style>\n",
       "<table border=\"1\" class=\"dataframe\">\n",
       "  <thead>\n",
       "    <tr style=\"text-align: right;\">\n",
       "      <th></th>\n",
       "      <th>edad</th>\n",
       "      <th>cm</th>\n",
       "      <th>pais</th>\n",
       "      <th>genero</th>\n",
       "      <th>Q1</th>\n",
       "      <th>Q2</th>\n",
       "    </tr>\n",
       "  </thead>\n",
       "  <tbody>\n",
       "    <tr>\n",
       "      <th>ana</th>\n",
       "      <td>10</td>\n",
       "      <td>115</td>\n",
       "      <td>co</td>\n",
       "      <td>M</td>\n",
       "      <td>5.0</td>\n",
       "      <td>7.0</td>\n",
       "    </tr>\n",
       "    <tr>\n",
       "      <th>camilo</th>\n",
       "      <td>13</td>\n",
       "      <td>130</td>\n",
       "      <td>co</td>\n",
       "      <td>F</td>\n",
       "      <td>8.0</td>\n",
       "      <td>9.0</td>\n",
       "    </tr>\n",
       "    <tr>\n",
       "      <th>erika</th>\n",
       "      <td>12</td>\n",
       "      <td>125</td>\n",
       "      <td>mx</td>\n",
       "      <td>M</td>\n",
       "      <td>7.0</td>\n",
       "      <td>8.0</td>\n",
       "    </tr>\n",
       "    <tr>\n",
       "      <th>fabian</th>\n",
       "      <td>11</td>\n",
       "      <td>120</td>\n",
       "      <td>ch</td>\n",
       "      <td>M</td>\n",
       "      <td>8.0</td>\n",
       "      <td>8.0</td>\n",
       "    </tr>\n",
       "    <tr>\n",
       "      <th>gabriela</th>\n",
       "      <td>12</td>\n",
       "      <td>125</td>\n",
       "      <td>ch</td>\n",
       "      <td>F</td>\n",
       "      <td>3.0</td>\n",
       "      <td>9.0</td>\n",
       "    </tr>\n",
       "  </tbody>\n",
       "</table>\n",
       "</div>"
      ],
      "text/plain": [
       "          edad   cm pais genero   Q1   Q2\n",
       "ana         10  115   co      M  5.0  7.0\n",
       "camilo      13  130   co      F  8.0  9.0\n",
       "erika       12  125   mx      M  7.0  8.0\n",
       "fabian      11  120   ch      M  8.0  8.0\n",
       "gabriela    12  125   ch      F  3.0  9.0"
      ]
     },
     "execution_count": 102,
     "metadata": {},
     "output_type": "execute_result"
    }
   ],
   "source": [
    "df[df['Q2'] >= df['Q1']]"
   ]
  },
  {
   "cell_type": "code",
   "execution_count": null,
   "metadata": {
    "id": "33fEsW5tSv1F"
   },
   "outputs": [],
   "source": []
  },
  {
   "cell_type": "code",
   "execution_count": null,
   "metadata": {},
   "outputs": [],
   "source": []
  },
  {
   "cell_type": "code",
   "execution_count": null,
   "metadata": {},
   "outputs": [],
   "source": []
  }
 ],
 "metadata": {
  "colab": {
   "authorship_tag": "ABX9TyOnXAZCJ1x8KME9iSIsIQNW",
   "name": "2 Dataframes.ipynb",
   "provenance": []
  },
  "kernelspec": {
   "display_name": "Python 3 (ipykernel)",
   "language": "python",
   "name": "python3"
  },
  "language_info": {
   "codemirror_mode": {
    "name": "ipython",
    "version": 3
   },
   "file_extension": ".py",
   "mimetype": "text/x-python",
   "name": "python",
   "nbconvert_exporter": "python",
   "pygments_lexer": "ipython3",
   "version": "3.9.7"
  }
 },
 "nbformat": 4,
 "nbformat_minor": 4
}
