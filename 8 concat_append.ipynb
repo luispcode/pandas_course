{
 "cells": [
  {
   "cell_type": "code",
   "execution_count": 11,
   "id": "e610f148-50c5-4017-b8ca-97337e982167",
   "metadata": {},
   "outputs": [
    {
     "data": {
      "text/plain": [
       "'1.4.1'"
      ]
     },
     "execution_count": 11,
     "metadata": {},
     "output_type": "execute_result"
    }
   ],
   "source": [
    "import pandas as pd\n",
    "import numpy as np\n",
    "pd.__version__"
   ]
  },
  {
   "cell_type": "code",
   "execution_count": 13,
   "id": "6e8808e5-ed1d-4917-bac9-16c32c197d64",
   "metadata": {},
   "outputs": [],
   "source": [
    "pd.options.display.float_format= '{}'.format #set float format"
   ]
  },
  {
   "cell_type": "code",
   "execution_count": 14,
   "id": "0b7a45aa-11f5-4203-b53e-8fb7b9ee80c0",
   "metadata": {},
   "outputs": [],
   "source": [
    "np.set_printoptions(precision=2) #set float format in pandas"
   ]
  },
  {
   "cell_type": "code",
   "execution_count": 15,
   "id": "c2d4ae0f-39b3-4ff0-a60f-7eead15cc701",
   "metadata": {},
   "outputs": [
    {
     "data": {
      "text/plain": [
       "array([[1.79, 4.67, 0.91, 4.63, 1.64],\n",
       "       [5.02, 0.16, 5.74, 2.96, 8.01]])"
      ]
     },
     "execution_count": 15,
     "metadata": {},
     "output_type": "execute_result"
    }
   ],
   "source": [
    "x1 = np.random.rand(2,5) * 10 #numeros random positivos\n",
    "x1"
   ]
  },
  {
   "cell_type": "code",
   "execution_count": 16,
   "id": "a5cd2127-04f0-4356-a41c-b9965204a8e5",
   "metadata": {},
   "outputs": [
    {
     "data": {
      "text/plain": [
       "array([[-0.61, -0.12, -0.98, -0.21, -0.05],\n",
       "       [-0.13, -0.34, -0.88, -0.99, -0.35]])"
      ]
     },
     "execution_count": 16,
     "metadata": {},
     "output_type": "execute_result"
    }
   ],
   "source": [
    "x2 = np.random.rand(2,5) * -1 #los pasamos a negativos.\n",
    "x2"
   ]
  },
  {
   "cell_type": "code",
   "execution_count": 17,
   "id": "105e7dfa-c092-45db-917e-6d0ad19893d7",
   "metadata": {},
   "outputs": [
    {
     "data": {
      "text/plain": [
       "array([[ 1.79,  4.67,  0.91,  4.63,  1.64],\n",
       "       [ 5.02,  0.16,  5.74,  2.96,  8.01],\n",
       "       [-0.61, -0.12, -0.98, -0.21, -0.05],\n",
       "       [-0.13, -0.34, -0.88, -0.99, -0.35]])"
      ]
     },
     "execution_count": 17,
     "metadata": {},
     "output_type": "execute_result"
    }
   ],
   "source": [
    "np.concatenate([x1,x2]) #concatenar en numpy a lo largo de las filas, por defecto es filas."
   ]
  },
  {
   "cell_type": "code",
   "execution_count": 18,
   "id": "e60f3cfe-8232-4a4a-985a-66842fac8b03",
   "metadata": {},
   "outputs": [
    {
     "data": {
      "text/plain": [
       "(4, 5)"
      ]
     },
     "execution_count": 18,
     "metadata": {},
     "output_type": "execute_result"
    }
   ],
   "source": [
    "np.concatenate([x1,x2]).shape"
   ]
  },
  {
   "cell_type": "code",
   "execution_count": 19,
   "id": "bd774d76-b6fa-4cdc-8aa6-a12838e96a99",
   "metadata": {},
   "outputs": [
    {
     "data": {
      "text/plain": [
       "array([[ 1.79,  4.67,  0.91,  4.63,  1.64, -0.61, -0.12, -0.98, -0.21,\n",
       "        -0.05],\n",
       "       [ 5.02,  0.16,  5.74,  2.96,  8.01, -0.13, -0.34, -0.88, -0.99,\n",
       "        -0.35]])"
      ]
     },
     "execution_count": 19,
     "metadata": {},
     "output_type": "execute_result"
    }
   ],
   "source": [
    "np.concatenate([x1,x2], axis =1) #concatenar en numpy a lo largo de columnas."
   ]
  },
  {
   "cell_type": "code",
   "execution_count": 23,
   "id": "3a2332ad-5788-43b9-8e29-5f77e7e2e5b3",
   "metadata": {},
   "outputs": [
    {
     "data": {
      "text/plain": [
       "(2, 10)"
      ]
     },
     "execution_count": 23,
     "metadata": {},
     "output_type": "execute_result"
    }
   ],
   "source": [
    "np.concatenate([x1,x2], axis =1).shape"
   ]
  },
  {
   "cell_type": "code",
   "execution_count": null,
   "id": "67814f53-8945-45fd-a37e-ac6dcd644aeb",
   "metadata": {},
   "outputs": [],
   "source": []
  },
  {
   "cell_type": "code",
   "execution_count": 21,
   "id": "24352f72-7c80-4021-b8f5-f92f17988616",
   "metadata": {},
   "outputs": [
    {
     "data": {
      "text/plain": [
       "a   1.7947618975986612\n",
       "b   4.6707458693825785\n",
       "c   0.9144038396122045\n",
       "d    4.629516326587099\n",
       "e   1.6388302784305198\n",
       "dtype: float64"
      ]
     },
     "execution_count": 21,
     "metadata": {},
     "output_type": "execute_result"
    }
   ],
   "source": [
    "s1 = pd.Series(x1[0], index=['a','b', 'c', 'd','e'])\n",
    "s1"
   ]
  },
  {
   "cell_type": "code",
   "execution_count": 11,
   "id": "46667f35-d3ed-4af0-a1dd-8cf75dd18b3a",
   "metadata": {},
   "outputs": [
    {
     "data": {
      "text/plain": [
       "c    -0.1760471404258629\n",
       "d    -0.9332165122376255\n",
       "e   -0.22650834332776582\n",
       "f    -0.3006136528984804\n",
       "g   -0.26514938872117055\n",
       "dtype: float64"
      ]
     },
     "execution_count": 11,
     "metadata": {},
     "output_type": "execute_result"
    }
   ],
   "source": [
    "s2 = pd.Series(x2[0], index= ['c','d', 'e', 'f','g'])\n",
    "s2"
   ]
  },
  {
   "cell_type": "code",
   "execution_count": 12,
   "id": "dbcb59cc-eb40-4c02-a3b2-ffb7ab8e0021",
   "metadata": {},
   "outputs": [
    {
     "data": {
      "text/plain": [
       "a       6.96066604944027\n",
       "b   0.013548372367007122\n",
       "c      6.238815819928412\n",
       "d      3.919051994884141\n",
       "e     2.7958799734259476\n",
       "c    -0.1760471404258629\n",
       "d    -0.9332165122376255\n",
       "e   -0.22650834332776582\n",
       "f    -0.3006136528984804\n",
       "g   -0.26514938872117055\n",
       "dtype: float64"
      ]
     },
     "execution_count": 12,
     "metadata": {},
     "output_type": "execute_result"
    }
   ],
   "source": [
    "pd.concat([s1,s2]) #concatenar en pd a lo largo de las filas, las filas estan por defecto."
   ]
  },
  {
   "cell_type": "code",
   "execution_count": 13,
   "id": "99a98609-c7aa-47fb-b38e-3edb2d480b1c",
   "metadata": {},
   "outputs": [
    {
     "data": {
      "text/html": [
       "<div>\n",
       "<style scoped>\n",
       "    .dataframe tbody tr th:only-of-type {\n",
       "        vertical-align: middle;\n",
       "    }\n",
       "\n",
       "    .dataframe tbody tr th {\n",
       "        vertical-align: top;\n",
       "    }\n",
       "\n",
       "    .dataframe thead th {\n",
       "        text-align: right;\n",
       "    }\n",
       "</style>\n",
       "<table border=\"1\" class=\"dataframe\">\n",
       "  <thead>\n",
       "    <tr style=\"text-align: right;\">\n",
       "      <th></th>\n",
       "      <th>0</th>\n",
       "      <th>1</th>\n",
       "    </tr>\n",
       "  </thead>\n",
       "  <tbody>\n",
       "    <tr>\n",
       "      <th>a</th>\n",
       "      <td>6.96066604944027</td>\n",
       "      <td>NaN</td>\n",
       "    </tr>\n",
       "    <tr>\n",
       "      <th>b</th>\n",
       "      <td>0.013548372367007122</td>\n",
       "      <td>NaN</td>\n",
       "    </tr>\n",
       "    <tr>\n",
       "      <th>c</th>\n",
       "      <td>6.238815819928412</td>\n",
       "      <td>-0.1760471404258629</td>\n",
       "    </tr>\n",
       "    <tr>\n",
       "      <th>d</th>\n",
       "      <td>3.919051994884141</td>\n",
       "      <td>-0.9332165122376255</td>\n",
       "    </tr>\n",
       "    <tr>\n",
       "      <th>e</th>\n",
       "      <td>2.7958799734259476</td>\n",
       "      <td>-0.22650834332776582</td>\n",
       "    </tr>\n",
       "    <tr>\n",
       "      <th>f</th>\n",
       "      <td>NaN</td>\n",
       "      <td>-0.3006136528984804</td>\n",
       "    </tr>\n",
       "    <tr>\n",
       "      <th>g</th>\n",
       "      <td>NaN</td>\n",
       "      <td>-0.26514938872117055</td>\n",
       "    </tr>\n",
       "  </tbody>\n",
       "</table>\n",
       "</div>"
      ],
      "text/plain": [
       "                     0                    1\n",
       "a     6.96066604944027                  NaN\n",
       "b 0.013548372367007122                  NaN\n",
       "c    6.238815819928412  -0.1760471404258629\n",
       "d    3.919051994884141  -0.9332165122376255\n",
       "e   2.7958799734259476 -0.22650834332776582\n",
       "f                  NaN  -0.3006136528984804\n",
       "g                  NaN -0.26514938872117055"
      ]
     },
     "execution_count": 13,
     "metadata": {},
     "output_type": "execute_result"
    }
   ],
   "source": [
    "pd.concat([s1,s2], axis=1) #concatenar en pd a lo largo de las columnas."
   ]
  },
  {
   "cell_type": "code",
   "execution_count": 14,
   "id": "21d60dec-7f5d-459a-b5a4-00c2105dbdb9",
   "metadata": {},
   "outputs": [
    {
     "data": {
      "text/html": [
       "<div>\n",
       "<style scoped>\n",
       "    .dataframe tbody tr th:only-of-type {\n",
       "        vertical-align: middle;\n",
       "    }\n",
       "\n",
       "    .dataframe tbody tr th {\n",
       "        vertical-align: top;\n",
       "    }\n",
       "\n",
       "    .dataframe thead th {\n",
       "        text-align: right;\n",
       "    }\n",
       "</style>\n",
       "<table border=\"1\" class=\"dataframe\">\n",
       "  <thead>\n",
       "    <tr style=\"text-align: right;\">\n",
       "      <th></th>\n",
       "      <th>index</th>\n",
       "      <th>0</th>\n",
       "    </tr>\n",
       "  </thead>\n",
       "  <tbody>\n",
       "    <tr>\n",
       "      <th>0</th>\n",
       "      <td>a</td>\n",
       "      <td>6.96066604944027</td>\n",
       "    </tr>\n",
       "    <tr>\n",
       "      <th>1</th>\n",
       "      <td>b</td>\n",
       "      <td>0.013548372367007122</td>\n",
       "    </tr>\n",
       "    <tr>\n",
       "      <th>2</th>\n",
       "      <td>c</td>\n",
       "      <td>6.238815819928412</td>\n",
       "    </tr>\n",
       "    <tr>\n",
       "      <th>3</th>\n",
       "      <td>d</td>\n",
       "      <td>3.919051994884141</td>\n",
       "    </tr>\n",
       "    <tr>\n",
       "      <th>4</th>\n",
       "      <td>e</td>\n",
       "      <td>2.7958799734259476</td>\n",
       "    </tr>\n",
       "  </tbody>\n",
       "</table>\n",
       "</div>"
      ],
      "text/plain": [
       "  index                    0\n",
       "0     a     6.96066604944027\n",
       "1     b 0.013548372367007122\n",
       "2     c    6.238815819928412\n",
       "3     d    3.919051994884141\n",
       "4     e   2.7958799734259476"
      ]
     },
     "execution_count": 14,
     "metadata": {},
     "output_type": "execute_result"
    }
   ],
   "source": [
    "s1.reset_index() #resetear el indice sin borrarlo."
   ]
  },
  {
   "cell_type": "code",
   "execution_count": 15,
   "id": "fca1145a-4541-4cdc-85c8-cf07a0ebfba1",
   "metadata": {},
   "outputs": [
    {
     "data": {
      "text/plain": [
       "0       6.96066604944027\n",
       "1   0.013548372367007122\n",
       "2      6.238815819928412\n",
       "3      3.919051994884141\n",
       "4     2.7958799734259476\n",
       "dtype: float64"
      ]
     },
     "execution_count": 15,
     "metadata": {},
     "output_type": "execute_result"
    }
   ],
   "source": [
    "s1.reset_index(drop=True) #resetear el indice borrandolo."
   ]
  },
  {
   "cell_type": "code",
   "execution_count": 16,
   "id": "0b00867e-4e71-47eb-9568-5d960eab1d30",
   "metadata": {},
   "outputs": [
    {
     "data": {
      "text/html": [
       "<div>\n",
       "<style scoped>\n",
       "    .dataframe tbody tr th:only-of-type {\n",
       "        vertical-align: middle;\n",
       "    }\n",
       "\n",
       "    .dataframe tbody tr th {\n",
       "        vertical-align: top;\n",
       "    }\n",
       "\n",
       "    .dataframe thead th {\n",
       "        text-align: right;\n",
       "    }\n",
       "</style>\n",
       "<table border=\"1\" class=\"dataframe\">\n",
       "  <thead>\n",
       "    <tr style=\"text-align: right;\">\n",
       "      <th></th>\n",
       "      <th>0</th>\n",
       "      <th>1</th>\n",
       "    </tr>\n",
       "  </thead>\n",
       "  <tbody>\n",
       "    <tr>\n",
       "      <th>0</th>\n",
       "      <td>6.96066604944027</td>\n",
       "      <td>-0.1760471404258629</td>\n",
       "    </tr>\n",
       "    <tr>\n",
       "      <th>1</th>\n",
       "      <td>0.013548372367007122</td>\n",
       "      <td>-0.9332165122376255</td>\n",
       "    </tr>\n",
       "    <tr>\n",
       "      <th>2</th>\n",
       "      <td>6.238815819928412</td>\n",
       "      <td>-0.22650834332776582</td>\n",
       "    </tr>\n",
       "    <tr>\n",
       "      <th>3</th>\n",
       "      <td>3.919051994884141</td>\n",
       "      <td>-0.3006136528984804</td>\n",
       "    </tr>\n",
       "    <tr>\n",
       "      <th>4</th>\n",
       "      <td>2.7958799734259476</td>\n",
       "      <td>-0.26514938872117055</td>\n",
       "    </tr>\n",
       "  </tbody>\n",
       "</table>\n",
       "</div>"
      ],
      "text/plain": [
       "                     0                    1\n",
       "0     6.96066604944027  -0.1760471404258629\n",
       "1 0.013548372367007122  -0.9332165122376255\n",
       "2    6.238815819928412 -0.22650834332776582\n",
       "3    3.919051994884141  -0.3006136528984804\n",
       "4   2.7958799734259476 -0.26514938872117055"
      ]
     },
     "execution_count": 16,
     "metadata": {},
     "output_type": "execute_result"
    }
   ],
   "source": [
    "pd.concat([s1.reset_index(drop=True),s2.reset_index(drop=True)],axis=1) # Concatenar series"
   ]
  },
  {
   "cell_type": "code",
   "execution_count": 17,
   "id": "babecfcc-e984-4853-96ec-9228748a88c0",
   "metadata": {},
   "outputs": [
    {
     "data": {
      "text/html": [
       "<div>\n",
       "<style scoped>\n",
       "    .dataframe tbody tr th:only-of-type {\n",
       "        vertical-align: middle;\n",
       "    }\n",
       "\n",
       "    .dataframe tbody tr th {\n",
       "        vertical-align: top;\n",
       "    }\n",
       "\n",
       "    .dataframe thead th {\n",
       "        text-align: right;\n",
       "    }\n",
       "</style>\n",
       "<table border=\"1\" class=\"dataframe\">\n",
       "  <thead>\n",
       "    <tr style=\"text-align: right;\">\n",
       "      <th></th>\n",
       "      <th>a</th>\n",
       "      <th>b</th>\n",
       "    </tr>\n",
       "  </thead>\n",
       "  <tbody>\n",
       "    <tr>\n",
       "      <th>0</th>\n",
       "      <td>4.032838581746107</td>\n",
       "      <td>3.072781776383311</td>\n",
       "    </tr>\n",
       "    <tr>\n",
       "      <th>1</th>\n",
       "      <td>2.670001002633444</td>\n",
       "      <td>7.883946074329203</td>\n",
       "    </tr>\n",
       "    <tr>\n",
       "      <th>2</th>\n",
       "      <td>6.693695105118534</td>\n",
       "      <td>3.8770759581465084</td>\n",
       "    </tr>\n",
       "  </tbody>\n",
       "</table>\n",
       "</div>"
      ],
      "text/plain": [
       "                  a                  b\n",
       "0 4.032838581746107  3.072781776383311\n",
       "1 2.670001002633444  7.883946074329203\n",
       "2 6.693695105118534 3.8770759581465084"
      ]
     },
     "execution_count": 17,
     "metadata": {},
     "output_type": "execute_result"
    }
   ],
   "source": [
    "df1 = pd.DataFrame(np.random.rand(3,2) * 10, columns=['a', 'b'])\n",
    "df1"
   ]
  },
  {
   "cell_type": "code",
   "execution_count": 18,
   "id": "98e478fc-9501-4dc8-b99a-901ca39242c0",
   "metadata": {},
   "outputs": [
    {
     "data": {
      "text/html": [
       "<div>\n",
       "<style scoped>\n",
       "    .dataframe tbody tr th:only-of-type {\n",
       "        vertical-align: middle;\n",
       "    }\n",
       "\n",
       "    .dataframe tbody tr th {\n",
       "        vertical-align: top;\n",
       "    }\n",
       "\n",
       "    .dataframe thead th {\n",
       "        text-align: right;\n",
       "    }\n",
       "</style>\n",
       "<table border=\"1\" class=\"dataframe\">\n",
       "  <thead>\n",
       "    <tr style=\"text-align: right;\">\n",
       "      <th></th>\n",
       "      <th>a</th>\n",
       "      <th>b</th>\n",
       "    </tr>\n",
       "  </thead>\n",
       "  <tbody>\n",
       "    <tr>\n",
       "      <th>2</th>\n",
       "      <td>-0.06448901522372485</td>\n",
       "      <td>-0.8312900579436413</td>\n",
       "    </tr>\n",
       "    <tr>\n",
       "      <th>3</th>\n",
       "      <td>-0.9526362475818629</td>\n",
       "      <td>-0.4150194650500646</td>\n",
       "    </tr>\n",
       "    <tr>\n",
       "      <th>4</th>\n",
       "      <td>-0.9360595911900632</td>\n",
       "      <td>-0.2627046239963112</td>\n",
       "    </tr>\n",
       "  </tbody>\n",
       "</table>\n",
       "</div>"
      ],
      "text/plain": [
       "                     a                   b\n",
       "2 -0.06448901522372485 -0.8312900579436413\n",
       "3  -0.9526362475818629 -0.4150194650500646\n",
       "4  -0.9360595911900632 -0.2627046239963112"
      ]
     },
     "execution_count": 18,
     "metadata": {},
     "output_type": "execute_result"
    }
   ],
   "source": [
    "df2 = pd.DataFrame(np.random.rand(3,2)*-1, columns= ['a', 'b'], index= [2,3,4])\n",
    "df2"
   ]
  },
  {
   "cell_type": "code",
   "execution_count": 19,
   "id": "829cf9ee-d7e3-4b8d-baa5-0cf62a179df6",
   "metadata": {},
   "outputs": [
    {
     "data": {
      "text/html": [
       "<div>\n",
       "<style scoped>\n",
       "    .dataframe tbody tr th:only-of-type {\n",
       "        vertical-align: middle;\n",
       "    }\n",
       "\n",
       "    .dataframe tbody tr th {\n",
       "        vertical-align: top;\n",
       "    }\n",
       "\n",
       "    .dataframe thead th {\n",
       "        text-align: right;\n",
       "    }\n",
       "</style>\n",
       "<table border=\"1\" class=\"dataframe\">\n",
       "  <thead>\n",
       "    <tr style=\"text-align: right;\">\n",
       "      <th></th>\n",
       "      <th>a</th>\n",
       "      <th>b</th>\n",
       "    </tr>\n",
       "  </thead>\n",
       "  <tbody>\n",
       "    <tr>\n",
       "      <th>0</th>\n",
       "      <td>4.032838581746107</td>\n",
       "      <td>3.072781776383311</td>\n",
       "    </tr>\n",
       "    <tr>\n",
       "      <th>1</th>\n",
       "      <td>2.670001002633444</td>\n",
       "      <td>7.883946074329203</td>\n",
       "    </tr>\n",
       "    <tr>\n",
       "      <th>2</th>\n",
       "      <td>6.693695105118534</td>\n",
       "      <td>3.8770759581465084</td>\n",
       "    </tr>\n",
       "    <tr>\n",
       "      <th>2</th>\n",
       "      <td>-0.06448901522372485</td>\n",
       "      <td>-0.8312900579436413</td>\n",
       "    </tr>\n",
       "    <tr>\n",
       "      <th>3</th>\n",
       "      <td>-0.9526362475818629</td>\n",
       "      <td>-0.4150194650500646</td>\n",
       "    </tr>\n",
       "    <tr>\n",
       "      <th>4</th>\n",
       "      <td>-0.9360595911900632</td>\n",
       "      <td>-0.2627046239963112</td>\n",
       "    </tr>\n",
       "  </tbody>\n",
       "</table>\n",
       "</div>"
      ],
      "text/plain": [
       "                     a                   b\n",
       "0    4.032838581746107   3.072781776383311\n",
       "1    2.670001002633444   7.883946074329203\n",
       "2    6.693695105118534  3.8770759581465084\n",
       "2 -0.06448901522372485 -0.8312900579436413\n",
       "3  -0.9526362475818629 -0.4150194650500646\n",
       "4  -0.9360595911900632 -0.2627046239963112"
      ]
     },
     "execution_count": 19,
     "metadata": {},
     "output_type": "execute_result"
    }
   ],
   "source": [
    "pd.concat([df1, df2]) #concatenar dataframes por indices por defecto."
   ]
  },
  {
   "cell_type": "code",
   "execution_count": 20,
   "id": "619b07d8-fb58-416c-b8c6-49cc376aceab",
   "metadata": {},
   "outputs": [
    {
     "data": {
      "text/html": [
       "<div>\n",
       "<style scoped>\n",
       "    .dataframe tbody tr th:only-of-type {\n",
       "        vertical-align: middle;\n",
       "    }\n",
       "\n",
       "    .dataframe tbody tr th {\n",
       "        vertical-align: top;\n",
       "    }\n",
       "\n",
       "    .dataframe thead th {\n",
       "        text-align: right;\n",
       "    }\n",
       "</style>\n",
       "<table border=\"1\" class=\"dataframe\">\n",
       "  <thead>\n",
       "    <tr style=\"text-align: right;\">\n",
       "      <th></th>\n",
       "      <th>a</th>\n",
       "      <th>b</th>\n",
       "      <th>a</th>\n",
       "      <th>b</th>\n",
       "    </tr>\n",
       "  </thead>\n",
       "  <tbody>\n",
       "    <tr>\n",
       "      <th>0</th>\n",
       "      <td>4.032838581746107</td>\n",
       "      <td>3.072781776383311</td>\n",
       "      <td>NaN</td>\n",
       "      <td>NaN</td>\n",
       "    </tr>\n",
       "    <tr>\n",
       "      <th>1</th>\n",
       "      <td>2.670001002633444</td>\n",
       "      <td>7.883946074329203</td>\n",
       "      <td>NaN</td>\n",
       "      <td>NaN</td>\n",
       "    </tr>\n",
       "    <tr>\n",
       "      <th>2</th>\n",
       "      <td>6.693695105118534</td>\n",
       "      <td>3.8770759581465084</td>\n",
       "      <td>-0.06448901522372485</td>\n",
       "      <td>-0.8312900579436413</td>\n",
       "    </tr>\n",
       "    <tr>\n",
       "      <th>3</th>\n",
       "      <td>NaN</td>\n",
       "      <td>NaN</td>\n",
       "      <td>-0.9526362475818629</td>\n",
       "      <td>-0.4150194650500646</td>\n",
       "    </tr>\n",
       "    <tr>\n",
       "      <th>4</th>\n",
       "      <td>NaN</td>\n",
       "      <td>NaN</td>\n",
       "      <td>-0.9360595911900632</td>\n",
       "      <td>-0.2627046239963112</td>\n",
       "    </tr>\n",
       "  </tbody>\n",
       "</table>\n",
       "</div>"
      ],
      "text/plain": [
       "                  a                  b                    a  \\\n",
       "0 4.032838581746107  3.072781776383311                  NaN   \n",
       "1 2.670001002633444  7.883946074329203                  NaN   \n",
       "2 6.693695105118534 3.8770759581465084 -0.06448901522372485   \n",
       "3               NaN                NaN  -0.9526362475818629   \n",
       "4               NaN                NaN  -0.9360595911900632   \n",
       "\n",
       "                    b  \n",
       "0                 NaN  \n",
       "1                 NaN  \n",
       "2 -0.8312900579436413  \n",
       "3 -0.4150194650500646  \n",
       "4 -0.2627046239963112  "
      ]
     },
     "execution_count": 20,
     "metadata": {},
     "output_type": "execute_result"
    }
   ],
   "source": [
    "pd.concat([df1, df2], axis=1) #concatenar dataframes por columnas axis=1. # los valores nulos son valores donde no hay coincidencias en el otro dataframe"
   ]
  },
  {
   "cell_type": "code",
   "execution_count": 21,
   "id": "2c0f4bf7-eefa-4bf0-8d6d-6c8130c2f75d",
   "metadata": {},
   "outputs": [
    {
     "data": {
      "text/html": [
       "<div>\n",
       "<style scoped>\n",
       "    .dataframe tbody tr th:only-of-type {\n",
       "        vertical-align: middle;\n",
       "    }\n",
       "\n",
       "    .dataframe tbody tr th {\n",
       "        vertical-align: top;\n",
       "    }\n",
       "\n",
       "    .dataframe thead th {\n",
       "        text-align: right;\n",
       "    }\n",
       "</style>\n",
       "<table border=\"1\" class=\"dataframe\">\n",
       "  <thead>\n",
       "    <tr style=\"text-align: right;\">\n",
       "      <th></th>\n",
       "      <th>a</th>\n",
       "      <th>b</th>\n",
       "      <th>a</th>\n",
       "      <th>b</th>\n",
       "    </tr>\n",
       "  </thead>\n",
       "  <tbody>\n",
       "    <tr>\n",
       "      <th>2</th>\n",
       "      <td>6.693695105118534</td>\n",
       "      <td>3.8770759581465084</td>\n",
       "      <td>-0.06448901522372485</td>\n",
       "      <td>-0.8312900579436413</td>\n",
       "    </tr>\n",
       "  </tbody>\n",
       "</table>\n",
       "</div>"
      ],
      "text/plain": [
       "                  a                  b                    a  \\\n",
       "2 6.693695105118534 3.8770759581465084 -0.06448901522372485   \n",
       "\n",
       "                    b  \n",
       "2 -0.8312900579436413  "
      ]
     },
     "execution_count": 21,
     "metadata": {},
     "output_type": "execute_result"
    }
   ],
   "source": [
    "pd.concat([df1,df2], axis= 1, join='inner') #inner join de 2 dataframes, solo las coincidencias de ambos dataframes."
   ]
  },
  {
   "cell_type": "code",
   "execution_count": 22,
   "id": "6429e0ff-f35e-48bd-98dd-3e4cf7e46b06",
   "metadata": {},
   "outputs": [
    {
     "data": {
      "text/html": [
       "<div>\n",
       "<style scoped>\n",
       "    .dataframe tbody tr th:only-of-type {\n",
       "        vertical-align: middle;\n",
       "    }\n",
       "\n",
       "    .dataframe tbody tr th {\n",
       "        vertical-align: top;\n",
       "    }\n",
       "\n",
       "    .dataframe thead th {\n",
       "        text-align: right;\n",
       "    }\n",
       "</style>\n",
       "<table border=\"1\" class=\"dataframe\">\n",
       "  <thead>\n",
       "    <tr style=\"text-align: right;\">\n",
       "      <th></th>\n",
       "      <th>a</th>\n",
       "      <th>b</th>\n",
       "      <th>a</th>\n",
       "      <th>b</th>\n",
       "    </tr>\n",
       "  </thead>\n",
       "  <tbody>\n",
       "    <tr>\n",
       "      <th>0</th>\n",
       "      <td>4.032838581746107</td>\n",
       "      <td>3.072781776383311</td>\n",
       "      <td>NaN</td>\n",
       "      <td>NaN</td>\n",
       "    </tr>\n",
       "    <tr>\n",
       "      <th>1</th>\n",
       "      <td>2.670001002633444</td>\n",
       "      <td>7.883946074329203</td>\n",
       "      <td>NaN</td>\n",
       "      <td>NaN</td>\n",
       "    </tr>\n",
       "    <tr>\n",
       "      <th>2</th>\n",
       "      <td>6.693695105118534</td>\n",
       "      <td>3.8770759581465084</td>\n",
       "      <td>-0.06448901522372485</td>\n",
       "      <td>-0.8312900579436413</td>\n",
       "    </tr>\n",
       "    <tr>\n",
       "      <th>3</th>\n",
       "      <td>NaN</td>\n",
       "      <td>NaN</td>\n",
       "      <td>-0.9526362475818629</td>\n",
       "      <td>-0.4150194650500646</td>\n",
       "    </tr>\n",
       "    <tr>\n",
       "      <th>4</th>\n",
       "      <td>NaN</td>\n",
       "      <td>NaN</td>\n",
       "      <td>-0.9360595911900632</td>\n",
       "      <td>-0.2627046239963112</td>\n",
       "    </tr>\n",
       "  </tbody>\n",
       "</table>\n",
       "</div>"
      ],
      "text/plain": [
       "                  a                  b                    a  \\\n",
       "0 4.032838581746107  3.072781776383311                  NaN   \n",
       "1 2.670001002633444  7.883946074329203                  NaN   \n",
       "2 6.693695105118534 3.8770759581465084 -0.06448901522372485   \n",
       "3               NaN                NaN  -0.9526362475818629   \n",
       "4               NaN                NaN  -0.9360595911900632   \n",
       "\n",
       "                    b  \n",
       "0                 NaN  \n",
       "1                 NaN  \n",
       "2 -0.8312900579436413  \n",
       "3 -0.4150194650500646  \n",
       "4 -0.2627046239963112  "
      ]
     },
     "execution_count": 22,
     "metadata": {},
     "output_type": "execute_result"
    }
   ],
   "source": [
    "pd.concat([df1,df2], axis= 1, join='outer') #outer join de 2 dataframes, por defecto es outer, los indices que coinciden y los que no, "
   ]
  },
  {
   "cell_type": "code",
   "execution_count": 23,
   "id": "16fa6e2f-4670-49c5-bab7-f269ef88b0e4",
   "metadata": {},
   "outputs": [
    {
     "data": {
      "text/html": [
       "<div>\n",
       "<style scoped>\n",
       "    .dataframe tbody tr th:only-of-type {\n",
       "        vertical-align: middle;\n",
       "    }\n",
       "\n",
       "    .dataframe tbody tr th {\n",
       "        vertical-align: top;\n",
       "    }\n",
       "\n",
       "    .dataframe thead th {\n",
       "        text-align: right;\n",
       "    }\n",
       "</style>\n",
       "<table border=\"1\" class=\"dataframe\">\n",
       "  <thead>\n",
       "    <tr style=\"text-align: right;\">\n",
       "      <th></th>\n",
       "      <th>a</th>\n",
       "      <th>b</th>\n",
       "      <th>a</th>\n",
       "      <th>b</th>\n",
       "    </tr>\n",
       "  </thead>\n",
       "  <tbody>\n",
       "    <tr>\n",
       "      <th>0</th>\n",
       "      <td>4.032838581746107</td>\n",
       "      <td>3.072781776383311</td>\n",
       "      <td>-0.06448901522372485</td>\n",
       "      <td>-0.8312900579436413</td>\n",
       "    </tr>\n",
       "    <tr>\n",
       "      <th>1</th>\n",
       "      <td>2.670001002633444</td>\n",
       "      <td>7.883946074329203</td>\n",
       "      <td>-0.9526362475818629</td>\n",
       "      <td>-0.4150194650500646</td>\n",
       "    </tr>\n",
       "    <tr>\n",
       "      <th>2</th>\n",
       "      <td>6.693695105118534</td>\n",
       "      <td>3.8770759581465084</td>\n",
       "      <td>-0.9360595911900632</td>\n",
       "      <td>-0.2627046239963112</td>\n",
       "    </tr>\n",
       "  </tbody>\n",
       "</table>\n",
       "</div>"
      ],
      "text/plain": [
       "                  a                  b                    a  \\\n",
       "0 4.032838581746107  3.072781776383311 -0.06448901522372485   \n",
       "1 2.670001002633444  7.883946074329203  -0.9526362475818629   \n",
       "2 6.693695105118534 3.8770759581465084  -0.9360595911900632   \n",
       "\n",
       "                    b  \n",
       "0 -0.8312900579436413  \n",
       "1 -0.4150194650500646  \n",
       "2 -0.2627046239963112  "
      ]
     },
     "execution_count": 23,
     "metadata": {},
     "output_type": "execute_result"
    }
   ],
   "source": [
    "pd.concat(\n",
    "    [\n",
    "    df1.reset_index(drop=True),\n",
    "    df2.reset_index(drop=True)\n",
    "    ], axis= 1)"
   ]
  },
  {
   "cell_type": "code",
   "execution_count": 24,
   "id": "1e3becc2-3034-4256-b7ba-7f39191bf1e4",
   "metadata": {},
   "outputs": [
    {
     "name": "stderr",
     "output_type": "stream",
     "text": [
      "C:\\Users\\luisp\\AppData\\Local\\Temp/ipykernel_25396/1902554926.py:1: FutureWarning: The frame.append method is deprecated and will be removed from pandas in a future version. Use pandas.concat instead.\n",
      "  df1.append(df2) #se oega la segunda matriz debajo de la primera.\n"
     ]
    },
    {
     "data": {
      "text/html": [
       "<div>\n",
       "<style scoped>\n",
       "    .dataframe tbody tr th:only-of-type {\n",
       "        vertical-align: middle;\n",
       "    }\n",
       "\n",
       "    .dataframe tbody tr th {\n",
       "        vertical-align: top;\n",
       "    }\n",
       "\n",
       "    .dataframe thead th {\n",
       "        text-align: right;\n",
       "    }\n",
       "</style>\n",
       "<table border=\"1\" class=\"dataframe\">\n",
       "  <thead>\n",
       "    <tr style=\"text-align: right;\">\n",
       "      <th></th>\n",
       "      <th>a</th>\n",
       "      <th>b</th>\n",
       "    </tr>\n",
       "  </thead>\n",
       "  <tbody>\n",
       "    <tr>\n",
       "      <th>0</th>\n",
       "      <td>4.032838581746107</td>\n",
       "      <td>3.072781776383311</td>\n",
       "    </tr>\n",
       "    <tr>\n",
       "      <th>1</th>\n",
       "      <td>2.670001002633444</td>\n",
       "      <td>7.883946074329203</td>\n",
       "    </tr>\n",
       "    <tr>\n",
       "      <th>2</th>\n",
       "      <td>6.693695105118534</td>\n",
       "      <td>3.8770759581465084</td>\n",
       "    </tr>\n",
       "    <tr>\n",
       "      <th>2</th>\n",
       "      <td>-0.06448901522372485</td>\n",
       "      <td>-0.8312900579436413</td>\n",
       "    </tr>\n",
       "    <tr>\n",
       "      <th>3</th>\n",
       "      <td>-0.9526362475818629</td>\n",
       "      <td>-0.4150194650500646</td>\n",
       "    </tr>\n",
       "    <tr>\n",
       "      <th>4</th>\n",
       "      <td>-0.9360595911900632</td>\n",
       "      <td>-0.2627046239963112</td>\n",
       "    </tr>\n",
       "  </tbody>\n",
       "</table>\n",
       "</div>"
      ],
      "text/plain": [
       "                     a                   b\n",
       "0    4.032838581746107   3.072781776383311\n",
       "1    2.670001002633444   7.883946074329203\n",
       "2    6.693695105118534  3.8770759581465084\n",
       "2 -0.06448901522372485 -0.8312900579436413\n",
       "3  -0.9526362475818629 -0.4150194650500646\n",
       "4  -0.9360595911900632 -0.2627046239963112"
      ]
     },
     "execution_count": 24,
     "metadata": {},
     "output_type": "execute_result"
    }
   ],
   "source": [
    "df1.append(df2) #se oega la segunda matriz debajo de la primera."
   ]
  },
  {
   "cell_type": "code",
   "execution_count": 25,
   "id": "f5ba3fb9-ebfb-41e9-9d89-bc41febfee61",
   "metadata": {},
   "outputs": [
    {
     "data": {
      "text/html": [
       "<div>\n",
       "<style scoped>\n",
       "    .dataframe tbody tr th:only-of-type {\n",
       "        vertical-align: middle;\n",
       "    }\n",
       "\n",
       "    .dataframe tbody tr th {\n",
       "        vertical-align: top;\n",
       "    }\n",
       "\n",
       "    .dataframe thead th {\n",
       "        text-align: right;\n",
       "    }\n",
       "</style>\n",
       "<table border=\"1\" class=\"dataframe\">\n",
       "  <thead>\n",
       "    <tr style=\"text-align: right;\">\n",
       "      <th></th>\n",
       "      <th>0</th>\n",
       "      <th>1</th>\n",
       "      <th>2</th>\n",
       "    </tr>\n",
       "  </thead>\n",
       "  <tbody>\n",
       "    <tr>\n",
       "      <th>a</th>\n",
       "      <td>4.032838581746107</td>\n",
       "      <td>2.670001002633444</td>\n",
       "      <td>6.693695105118534</td>\n",
       "    </tr>\n",
       "    <tr>\n",
       "      <th>b</th>\n",
       "      <td>3.072781776383311</td>\n",
       "      <td>7.883946074329203</td>\n",
       "      <td>3.8770759581465084</td>\n",
       "    </tr>\n",
       "  </tbody>\n",
       "</table>\n",
       "</div>"
      ],
      "text/plain": [
       "                  0                 1                  2\n",
       "a 4.032838581746107 2.670001002633444  6.693695105118534\n",
       "b 3.072781776383311 7.883946074329203 3.8770759581465084"
      ]
     },
     "execution_count": 25,
     "metadata": {},
     "output_type": "execute_result"
    }
   ],
   "source": [
    "df1.T# transponer un dataframe."
   ]
  },
  {
   "cell_type": "code",
   "execution_count": 26,
   "id": "ff396824-2147-4e66-a936-2ac6ce9b0eeb",
   "metadata": {},
   "outputs": [
    {
     "name": "stderr",
     "output_type": "stream",
     "text": [
      "C:\\Users\\luisp\\AppData\\Local\\Temp/ipykernel_25396/2255709428.py:1: FutureWarning: The frame.append method is deprecated and will be removed from pandas in a future version. Use pandas.concat instead.\n",
      "  df1.T.append(df2.T).T #concetenar data frames a lo largo de columnas.\n"
     ]
    },
    {
     "data": {
      "text/html": [
       "<div>\n",
       "<style scoped>\n",
       "    .dataframe tbody tr th:only-of-type {\n",
       "        vertical-align: middle;\n",
       "    }\n",
       "\n",
       "    .dataframe tbody tr th {\n",
       "        vertical-align: top;\n",
       "    }\n",
       "\n",
       "    .dataframe thead th {\n",
       "        text-align: right;\n",
       "    }\n",
       "</style>\n",
       "<table border=\"1\" class=\"dataframe\">\n",
       "  <thead>\n",
       "    <tr style=\"text-align: right;\">\n",
       "      <th></th>\n",
       "      <th>a</th>\n",
       "      <th>b</th>\n",
       "      <th>a</th>\n",
       "      <th>b</th>\n",
       "    </tr>\n",
       "  </thead>\n",
       "  <tbody>\n",
       "    <tr>\n",
       "      <th>0</th>\n",
       "      <td>4.032838581746107</td>\n",
       "      <td>3.072781776383311</td>\n",
       "      <td>NaN</td>\n",
       "      <td>NaN</td>\n",
       "    </tr>\n",
       "    <tr>\n",
       "      <th>1</th>\n",
       "      <td>2.670001002633444</td>\n",
       "      <td>7.883946074329203</td>\n",
       "      <td>NaN</td>\n",
       "      <td>NaN</td>\n",
       "    </tr>\n",
       "    <tr>\n",
       "      <th>2</th>\n",
       "      <td>6.693695105118534</td>\n",
       "      <td>3.8770759581465084</td>\n",
       "      <td>-0.06448901522372485</td>\n",
       "      <td>-0.8312900579436413</td>\n",
       "    </tr>\n",
       "    <tr>\n",
       "      <th>3</th>\n",
       "      <td>NaN</td>\n",
       "      <td>NaN</td>\n",
       "      <td>-0.9526362475818629</td>\n",
       "      <td>-0.4150194650500646</td>\n",
       "    </tr>\n",
       "    <tr>\n",
       "      <th>4</th>\n",
       "      <td>NaN</td>\n",
       "      <td>NaN</td>\n",
       "      <td>-0.9360595911900632</td>\n",
       "      <td>-0.2627046239963112</td>\n",
       "    </tr>\n",
       "  </tbody>\n",
       "</table>\n",
       "</div>"
      ],
      "text/plain": [
       "                  a                  b                    a  \\\n",
       "0 4.032838581746107  3.072781776383311                  NaN   \n",
       "1 2.670001002633444  7.883946074329203                  NaN   \n",
       "2 6.693695105118534 3.8770759581465084 -0.06448901522372485   \n",
       "3               NaN                NaN  -0.9526362475818629   \n",
       "4               NaN                NaN  -0.9360595911900632   \n",
       "\n",
       "                    b  \n",
       "0                 NaN  \n",
       "1                 NaN  \n",
       "2 -0.8312900579436413  \n",
       "3 -0.4150194650500646  \n",
       "4 -0.2627046239963112  "
      ]
     },
     "execution_count": 26,
     "metadata": {},
     "output_type": "execute_result"
    }
   ],
   "source": [
    "df1.T.append(df2.T).T #concetenar data frames a lo largo de columnas."
   ]
  },
  {
   "cell_type": "code",
   "execution_count": 27,
   "id": "11488f63-9f4e-4fdf-a242-76777030dbed",
   "metadata": {},
   "outputs": [
    {
     "data": {
      "text/html": [
       "<div>\n",
       "<style scoped>\n",
       "    .dataframe tbody tr th:only-of-type {\n",
       "        vertical-align: middle;\n",
       "    }\n",
       "\n",
       "    .dataframe tbody tr th {\n",
       "        vertical-align: top;\n",
       "    }\n",
       "\n",
       "    .dataframe thead th {\n",
       "        text-align: right;\n",
       "    }\n",
       "</style>\n",
       "<table border=\"1\" class=\"dataframe\">\n",
       "  <thead>\n",
       "    <tr style=\"text-align: right;\">\n",
       "      <th></th>\n",
       "      <th>a</th>\n",
       "      <th>b</th>\n",
       "    </tr>\n",
       "  </thead>\n",
       "  <tbody>\n",
       "    <tr>\n",
       "      <th>0</th>\n",
       "      <td>4.032838581746107</td>\n",
       "      <td>3.072781776383311</td>\n",
       "    </tr>\n",
       "    <tr>\n",
       "      <th>1</th>\n",
       "      <td>2.670001002633444</td>\n",
       "      <td>7.883946074329203</td>\n",
       "    </tr>\n",
       "    <tr>\n",
       "      <th>2</th>\n",
       "      <td>6.693695105118534</td>\n",
       "      <td>3.8770759581465084</td>\n",
       "    </tr>\n",
       "  </tbody>\n",
       "</table>\n",
       "</div>"
      ],
      "text/plain": [
       "                  a                  b\n",
       "0 4.032838581746107  3.072781776383311\n",
       "1 2.670001002633444  7.883946074329203\n",
       "2 6.693695105118534 3.8770759581465084"
      ]
     },
     "execution_count": 27,
     "metadata": {},
     "output_type": "execute_result"
    }
   ],
   "source": [
    "df1"
   ]
  },
  {
   "cell_type": "code",
   "execution_count": 28,
   "id": "761a94fa-2ab7-40f1-b6d0-416a17b25f92",
   "metadata": {},
   "outputs": [
    {
     "data": {
      "text/html": [
       "<div>\n",
       "<style scoped>\n",
       "    .dataframe tbody tr th:only-of-type {\n",
       "        vertical-align: middle;\n",
       "    }\n",
       "\n",
       "    .dataframe tbody tr th {\n",
       "        vertical-align: top;\n",
       "    }\n",
       "\n",
       "    .dataframe thead th {\n",
       "        text-align: right;\n",
       "    }\n",
       "</style>\n",
       "<table border=\"1\" class=\"dataframe\">\n",
       "  <thead>\n",
       "    <tr style=\"text-align: right;\">\n",
       "      <th></th>\n",
       "      <th>a</th>\n",
       "      <th>b</th>\n",
       "    </tr>\n",
       "  </thead>\n",
       "  <tbody>\n",
       "    <tr>\n",
       "      <th>2</th>\n",
       "      <td>-0.06448901522372485</td>\n",
       "      <td>-0.8312900579436413</td>\n",
       "    </tr>\n",
       "    <tr>\n",
       "      <th>3</th>\n",
       "      <td>-0.9526362475818629</td>\n",
       "      <td>-0.4150194650500646</td>\n",
       "    </tr>\n",
       "    <tr>\n",
       "      <th>4</th>\n",
       "      <td>-0.9360595911900632</td>\n",
       "      <td>-0.2627046239963112</td>\n",
       "    </tr>\n",
       "  </tbody>\n",
       "</table>\n",
       "</div>"
      ],
      "text/plain": [
       "                     a                   b\n",
       "2 -0.06448901522372485 -0.8312900579436413\n",
       "3  -0.9526362475818629 -0.4150194650500646\n",
       "4  -0.9360595911900632 -0.2627046239963112"
      ]
     },
     "execution_count": 28,
     "metadata": {},
     "output_type": "execute_result"
    }
   ],
   "source": [
    "df2"
   ]
  },
  {
   "cell_type": "code",
   "execution_count": 29,
   "id": "07cb7442-5202-4710-8d21-76b5962108ea",
   "metadata": {},
   "outputs": [
    {
     "data": {
      "text/html": [
       "<div>\n",
       "<style scoped>\n",
       "    .dataframe tbody tr th:only-of-type {\n",
       "        vertical-align: middle;\n",
       "    }\n",
       "\n",
       "    .dataframe tbody tr th {\n",
       "        vertical-align: top;\n",
       "    }\n",
       "\n",
       "    .dataframe thead th {\n",
       "        text-align: right;\n",
       "    }\n",
       "</style>\n",
       "<table border=\"1\" class=\"dataframe\">\n",
       "  <thead>\n",
       "    <tr style=\"text-align: right;\">\n",
       "      <th></th>\n",
       "      <th>a</th>\n",
       "      <th>b</th>\n",
       "    </tr>\n",
       "  </thead>\n",
       "  <tbody>\n",
       "    <tr>\n",
       "      <th>0</th>\n",
       "      <td>4.032838581746107</td>\n",
       "      <td>3.072781776383311</td>\n",
       "    </tr>\n",
       "    <tr>\n",
       "      <th>1</th>\n",
       "      <td>2.670001002633444</td>\n",
       "      <td>7.883946074329203</td>\n",
       "    </tr>\n",
       "    <tr>\n",
       "      <th>2</th>\n",
       "      <td>-0.06448901522372485</td>\n",
       "      <td>-0.8312900579436413</td>\n",
       "    </tr>\n",
       "  </tbody>\n",
       "</table>\n",
       "</div>"
      ],
      "text/plain": [
       "                     a                   b\n",
       "0    4.032838581746107   3.072781776383311\n",
       "1    2.670001002633444   7.883946074329203\n",
       "2 -0.06448901522372485 -0.8312900579436413"
      ]
     },
     "execution_count": 29,
     "metadata": {},
     "output_type": "execute_result"
    }
   ],
   "source": [
    "df1.update(df2) #actualizar datos de un data frame con otro en las filas que coincidan, como un left join.\n",
    "df1"
   ]
  },
  {
   "cell_type": "code",
   "execution_count": 32,
   "id": "6d7e628a-6e63-4b49-8d6a-3a52f27ee0d4",
   "metadata": {},
   "outputs": [],
   "source": [
    "#Otra forma de hacer un append mas directo y más personalizado,\n",
    "#1 la posicion (1) indica que será la segunda fila (empieza a contar desde cero) \n",
    "#2 luego sigue el nombre de la nueva columna\n",
    "#3 luego los valores de la nueva columna\n",
    "df2.insert(1, 'columna_nueva2', [45, 10, 67])"
   ]
  },
  {
   "cell_type": "code",
   "execution_count": 33,
   "id": "6734adae-b932-4d93-9830-4589cb3e24a4",
   "metadata": {},
   "outputs": [
    {
     "data": {
      "text/html": [
       "<div>\n",
       "<style scoped>\n",
       "    .dataframe tbody tr th:only-of-type {\n",
       "        vertical-align: middle;\n",
       "    }\n",
       "\n",
       "    .dataframe tbody tr th {\n",
       "        vertical-align: top;\n",
       "    }\n",
       "\n",
       "    .dataframe thead th {\n",
       "        text-align: right;\n",
       "    }\n",
       "</style>\n",
       "<table border=\"1\" class=\"dataframe\">\n",
       "  <thead>\n",
       "    <tr style=\"text-align: right;\">\n",
       "      <th></th>\n",
       "      <th>a</th>\n",
       "      <th>columna_nueva2</th>\n",
       "      <th>b</th>\n",
       "    </tr>\n",
       "  </thead>\n",
       "  <tbody>\n",
       "    <tr>\n",
       "      <th>2</th>\n",
       "      <td>-0.06448901522372485</td>\n",
       "      <td>45</td>\n",
       "      <td>-0.8312900579436413</td>\n",
       "    </tr>\n",
       "    <tr>\n",
       "      <th>3</th>\n",
       "      <td>-0.9526362475818629</td>\n",
       "      <td>10</td>\n",
       "      <td>-0.4150194650500646</td>\n",
       "    </tr>\n",
       "    <tr>\n",
       "      <th>4</th>\n",
       "      <td>-0.9360595911900632</td>\n",
       "      <td>67</td>\n",
       "      <td>-0.2627046239963112</td>\n",
       "    </tr>\n",
       "  </tbody>\n",
       "</table>\n",
       "</div>"
      ],
      "text/plain": [
       "                     a  columna_nueva2                   b\n",
       "2 -0.06448901522372485              45 -0.8312900579436413\n",
       "3  -0.9526362475818629              10 -0.4150194650500646\n",
       "4  -0.9360595911900632              67 -0.2627046239963112"
      ]
     },
     "execution_count": 33,
     "metadata": {},
     "output_type": "execute_result"
    }
   ],
   "source": [
    "df2"
   ]
  },
  {
   "cell_type": "code",
   "execution_count": null,
   "id": "fbc9d6f9-748c-4b7f-b7c6-5e8cfabbd2c3",
   "metadata": {},
   "outputs": [],
   "source": []
  },
  {
   "cell_type": "code",
   "execution_count": null,
   "id": "704ad495-8894-47a3-8f42-c058e26d1b1f",
   "metadata": {},
   "outputs": [],
   "source": []
  },
  {
   "cell_type": "code",
   "execution_count": null,
   "id": "a3a3b773-3534-4a5c-b2f5-d6bbecfec352",
   "metadata": {},
   "outputs": [],
   "source": []
  }
 ],
 "metadata": {
  "kernelspec": {
   "display_name": "Python 3.10.6 64-bit",
   "language": "python",
   "name": "python3"
  },
  "language_info": {
   "codemirror_mode": {
    "name": "ipython",
    "version": 3
   },
   "file_extension": ".py",
   "mimetype": "text/x-python",
   "name": "python",
   "nbconvert_exporter": "python",
   "pygments_lexer": "ipython3",
   "version": "3.10.6"
  },
  "vscode": {
   "interpreter": {
    "hash": "e1ec09b0d1bbb5cdb2714cd3190b8798aa073293e786692a18afb00e186dc573"
   }
  }
 },
 "nbformat": 4,
 "nbformat_minor": 5
}
