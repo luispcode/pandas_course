{
 "cells": [
  {
   "cell_type": "code",
   "execution_count": 1,
   "metadata": {
    "colab": {
     "base_uri": "https://localhost:8080/"
    },
    "executionInfo": {
     "elapsed": 6,
     "status": "ok",
     "timestamp": 1646943999227,
     "user": {
      "displayName": "Luis Enrrique Pernia Carroz",
      "photoUrl": "https://lh3.googleusercontent.com/a-/AOh14GgOoKnSpkb2XSRqD2f673ceBYaj8O8lp0tj-qjj4g=s64",
      "userId": "09245467713551539461"
     },
     "user_tz": 180
    },
    "id": "2lm-tUVEgnTL",
    "outputId": "974c4f3d-c22c-41a7-8278-3ded61a6a993"
   },
   "outputs": [
    {
     "data": {
      "text/plain": [
       "13"
      ]
     },
     "execution_count": 1,
     "metadata": {},
     "output_type": "execute_result"
    }
   ],
   "source": [
    "10+3"
   ]
  },
  {
   "cell_type": "code",
   "execution_count": 2,
   "metadata": {
    "colab": {
     "base_uri": "https://localhost:8080/"
    },
    "executionInfo": {
     "elapsed": 5,
     "status": "ok",
     "timestamp": 1646943999228,
     "user": {
      "displayName": "Luis Enrrique Pernia Carroz",
      "photoUrl": "https://lh3.googleusercontent.com/a-/AOh14GgOoKnSpkb2XSRqD2f673ceBYaj8O8lp0tj-qjj4g=s64",
      "userId": "09245467713551539461"
     },
     "user_tz": 180
    },
    "id": "nMrEY64hguie",
    "outputId": "dde98e8b-16f0-499c-b97b-5641396107ff"
   },
   "outputs": [
    {
     "data": {
      "text/plain": [
       "6"
      ]
     },
     "execution_count": 2,
     "metadata": {},
     "output_type": "execute_result"
    }
   ],
   "source": [
    "2*3"
   ]
  },
  {
   "cell_type": "code",
   "execution_count": 3,
   "metadata": {
    "colab": {
     "base_uri": "https://localhost:8080/"
    },
    "executionInfo": {
     "elapsed": 404,
     "status": "ok",
     "timestamp": 1646944000596,
     "user": {
      "displayName": "Luis Enrrique Pernia Carroz",
      "photoUrl": "https://lh3.googleusercontent.com/a-/AOh14GgOoKnSpkb2XSRqD2f673ceBYaj8O8lp0tj-qjj4g=s64",
      "userId": "09245467713551539461"
     },
     "user_tz": 180
    },
    "id": "ihjKGbnIgwYl",
    "outputId": "9071acc1-791f-487c-d627-ed6fbcc552a7"
   },
   "outputs": [
    {
     "data": {
      "text/plain": [
       "8"
      ]
     },
     "execution_count": 3,
     "metadata": {},
     "output_type": "execute_result"
    }
   ],
   "source": [
    "2**3"
   ]
  },
  {
   "cell_type": "code",
   "execution_count": 5,
   "metadata": {
    "colab": {
     "base_uri": "https://localhost:8080/"
    },
    "executionInfo": {
     "elapsed": 260,
     "status": "ok",
     "timestamp": 1646944012605,
     "user": {
      "displayName": "Luis Enrrique Pernia Carroz",
      "photoUrl": "https://lh3.googleusercontent.com/a-/AOh14GgOoKnSpkb2XSRqD2f673ceBYaj8O8lp0tj-qjj4g=s64",
      "userId": "09245467713551539461"
     },
     "user_tz": 180
    },
    "id": "aq5JBadNgxUt",
    "outputId": "79c17126-3b1c-42a8-d9ff-b45b1f613d41"
   },
   "outputs": [
    {
     "data": {
      "text/plain": [
       "12"
      ]
     },
     "execution_count": 5,
     "metadata": {},
     "output_type": "execute_result"
    }
   ],
   "source": [
    "x = 12\n",
    "x"
   ]
  },
  {
   "cell_type": "code",
   "execution_count": 6,
   "metadata": {
    "executionInfo": {
     "elapsed": 268,
     "status": "ok",
     "timestamp": 1646944032247,
     "user": {
      "displayName": "Luis Enrrique Pernia Carroz",
      "photoUrl": "https://lh3.googleusercontent.com/a-/AOh14GgOoKnSpkb2XSRqD2f673ceBYaj8O8lp0tj-qjj4g=s64",
      "userId": "09245467713551539461"
     },
     "user_tz": 180
    },
    "id": "_3U5i4IBgzYO"
   },
   "outputs": [],
   "source": [
    "y = 15"
   ]
  },
  {
   "cell_type": "code",
   "execution_count": 7,
   "metadata": {
    "colab": {
     "base_uri": "https://localhost:8080/"
    },
    "executionInfo": {
     "elapsed": 2,
     "status": "ok",
     "timestamp": 1646944035775,
     "user": {
      "displayName": "Luis Enrrique Pernia Carroz",
      "photoUrl": "https://lh3.googleusercontent.com/a-/AOh14GgOoKnSpkb2XSRqD2f673ceBYaj8O8lp0tj-qjj4g=s64",
      "userId": "09245467713551539461"
     },
     "user_tz": 180
    },
    "id": "AI8s9uqNg5J-",
    "outputId": "6ff679d7-8cf6-4238-9bfd-278382c1f18b"
   },
   "outputs": [
    {
     "data": {
      "text/plain": [
       "27"
      ]
     },
     "execution_count": 7,
     "metadata": {},
     "output_type": "execute_result"
    }
   ],
   "source": [
    "x+y"
   ]
  },
  {
   "cell_type": "code",
   "execution_count": 8,
   "metadata": {
    "colab": {
     "base_uri": "https://localhost:8080/",
     "height": 35
    },
    "executionInfo": {
     "elapsed": 249,
     "status": "ok",
     "timestamp": 1646944049396,
     "user": {
      "displayName": "Luis Enrrique Pernia Carroz",
      "photoUrl": "https://lh3.googleusercontent.com/a-/AOh14GgOoKnSpkb2XSRqD2f673ceBYaj8O8lp0tj-qjj4g=s64",
      "userId": "09245467713551539461"
     },
     "user_tz": 180
    },
    "id": "vnVC8ODJg6Am",
    "outputId": "e59ddb6c-bf8c-446a-8653-d3f20b0b61a0"
   },
   "outputs": [
    {
     "data": {
      "application/vnd.google.colaboratory.intrinsic+json": {
       "type": "string"
      },
      "text/plain": [
       "'Hola mundo'"
      ]
     },
     "execution_count": 8,
     "metadata": {},
     "output_type": "execute_result"
    }
   ],
   "source": [
    "'Hola mundo'"
   ]
  },
  {
   "cell_type": "code",
   "execution_count": 11,
   "metadata": {
    "colab": {
     "base_uri": "https://localhost:8080/",
     "height": 35
    },
    "executionInfo": {
     "elapsed": 251,
     "status": "ok",
     "timestamp": 1646944080551,
     "user": {
      "displayName": "Luis Enrrique Pernia Carroz",
      "photoUrl": "https://lh3.googleusercontent.com/a-/AOh14GgOoKnSpkb2XSRqD2f673ceBYaj8O8lp0tj-qjj4g=s64",
      "userId": "09245467713551539461"
     },
     "user_tz": 180
    },
    "id": "ZMljHsGvg9Wu",
    "outputId": "ff05954c-9b8b-4b64-c33e-719d1c2745da"
   },
   "outputs": [
    {
     "data": {
      "application/vnd.google.colaboratory.intrinsic+json": {
       "type": "string"
      },
      "text/plain": [
       "'HolaMundo'"
      ]
     },
     "execution_count": 11,
     "metadata": {},
     "output_type": "execute_result"
    }
   ],
   "source": [
    "x = 'Hola'\n",
    "y = 'Mundo'\n",
    "x + y"
   ]
  },
  {
   "cell_type": "code",
   "execution_count": 12,
   "metadata": {
    "colab": {
     "base_uri": "https://localhost:8080/",
     "height": 35
    },
    "executionInfo": {
     "elapsed": 313,
     "status": "ok",
     "timestamp": 1646944114978,
     "user": {
      "displayName": "Luis Enrrique Pernia Carroz",
      "photoUrl": "https://lh3.googleusercontent.com/a-/AOh14GgOoKnSpkb2XSRqD2f673ceBYaj8O8lp0tj-qjj4g=s64",
      "userId": "09245467713551539461"
     },
     "user_tz": 180
    },
    "id": "BfzrUmigg_gW",
    "outputId": "56a9ecc7-6718-4359-b562-76b405e8fd38"
   },
   "outputs": [
    {
     "data": {
      "application/vnd.google.colaboratory.intrinsic+json": {
       "type": "string"
      },
      "text/plain": [
       "'Hola Mundo'"
      ]
     },
     "execution_count": 12,
     "metadata": {},
     "output_type": "execute_result"
    }
   ],
   "source": [
    "x + ' ' + y"
   ]
  },
  {
   "cell_type": "code",
   "execution_count": 13,
   "metadata": {
    "colab": {
     "base_uri": "https://localhost:8080/"
    },
    "executionInfo": {
     "elapsed": 253,
     "status": "ok",
     "timestamp": 1646944172908,
     "user": {
      "displayName": "Luis Enrrique Pernia Carroz",
      "photoUrl": "https://lh3.googleusercontent.com/a-/AOh14GgOoKnSpkb2XSRqD2f673ceBYaj8O8lp0tj-qjj4g=s64",
      "userId": "09245467713551539461"
     },
     "user_tz": 180
    },
    "id": "igtd-ef0hNV-",
    "outputId": "e9101462-a605-451c-cf95-7bb829b97863"
   },
   "outputs": [
    {
     "data": {
      "text/plain": [
       "[1, 2, 3, 5, 6]"
      ]
     },
     "execution_count": 13,
     "metadata": {},
     "output_type": "execute_result"
    }
   ],
   "source": [
    "[1,2,3,5,6]"
   ]
  },
  {
   "cell_type": "code",
   "execution_count": 14,
   "metadata": {
    "colab": {
     "base_uri": "https://localhost:8080/"
    },
    "executionInfo": {
     "elapsed": 236,
     "status": "ok",
     "timestamp": 1646944192032,
     "user": {
      "displayName": "Luis Enrrique Pernia Carroz",
      "photoUrl": "https://lh3.googleusercontent.com/a-/AOh14GgOoKnSpkb2XSRqD2f673ceBYaj8O8lp0tj-qjj4g=s64",
      "userId": "09245467713551539461"
     },
     "user_tz": 180
    },
    "id": "XmY39momhbgV",
    "outputId": "877ffd19-febd-4688-c0c7-cc63dc13a1c3"
   },
   "outputs": [
    {
     "data": {
      "text/plain": [
       "[1, 2, 3, 5, 6, 2, 3, 5]"
      ]
     },
     "execution_count": 14,
     "metadata": {},
     "output_type": "execute_result"
    }
   ],
   "source": [
    "[1,2,3,5,6] + [2,3,5]"
   ]
  },
  {
   "cell_type": "code",
   "execution_count": 15,
   "metadata": {
    "executionInfo": {
     "elapsed": 234,
     "status": "ok",
     "timestamp": 1646944205515,
     "user": {
      "displayName": "Luis Enrrique Pernia Carroz",
      "photoUrl": "https://lh3.googleusercontent.com/a-/AOh14GgOoKnSpkb2XSRqD2f673ceBYaj8O8lp0tj-qjj4g=s64",
      "userId": "09245467713551539461"
     },
     "user_tz": 180
    },
    "id": "YDsbzQJshgLF"
   },
   "outputs": [],
   "source": [
    "lista = [1,2,3,4,5]"
   ]
  },
  {
   "cell_type": "code",
   "execution_count": 18,
   "metadata": {
    "colab": {
     "base_uri": "https://localhost:8080/"
    },
    "executionInfo": {
     "elapsed": 240,
     "status": "ok",
     "timestamp": 1646944268259,
     "user": {
      "displayName": "Luis Enrrique Pernia Carroz",
      "photoUrl": "https://lh3.googleusercontent.com/a-/AOh14GgOoKnSpkb2XSRqD2f673ceBYaj8O8lp0tj-qjj4g=s64",
      "userId": "09245467713551539461"
     },
     "user_tz": 180
    },
    "id": "KCRaUwgThjeO",
    "outputId": "73329df2-7515-4d63-e049-1518abd5bd16"
   },
   "outputs": [
    {
     "name": "stdout",
     "output_type": "stream",
     "text": [
      "1 3\n"
     ]
    }
   ],
   "source": [
    "print(lista[0],lista[2])"
   ]
  },
  {
   "cell_type": "code",
   "execution_count": 21,
   "metadata": {
    "colab": {
     "base_uri": "https://localhost:8080/"
    },
    "executionInfo": {
     "elapsed": 251,
     "status": "ok",
     "timestamp": 1646944343093,
     "user": {
      "displayName": "Luis Enrrique Pernia Carroz",
      "photoUrl": "https://lh3.googleusercontent.com/a-/AOh14GgOoKnSpkb2XSRqD2f673ceBYaj8O8lp0tj-qjj4g=s64",
      "userId": "09245467713551539461"
     },
     "user_tz": 180
    },
    "id": "DVqXS069hk51",
    "outputId": "96cebefd-af77-4757-b74a-9e8b0cf181ea"
   },
   "outputs": [
    {
     "data": {
      "text/plain": [
       "[1, 2, 3, 5, 6, 10]"
      ]
     },
     "execution_count": 21,
     "metadata": {},
     "output_type": "execute_result"
    }
   ],
   "source": [
    "[1,2,3,5,6] + [10]"
   ]
  },
  {
   "cell_type": "code",
   "execution_count": 22,
   "metadata": {
    "executionInfo": {
     "elapsed": 1,
     "status": "ok",
     "timestamp": 1646944359888,
     "user": {
      "displayName": "Luis Enrrique Pernia Carroz",
      "photoUrl": "https://lh3.googleusercontent.com/a-/AOh14GgOoKnSpkb2XSRqD2f673ceBYaj8O8lp0tj-qjj4g=s64",
      "userId": "09245467713551539461"
     },
     "user_tz": 180
    },
    "id": "E_7fwhe3h8lz"
   },
   "outputs": [],
   "source": [
    "import numpy as np"
   ]
  },
  {
   "cell_type": "code",
   "execution_count": 24,
   "metadata": {
    "colab": {
     "base_uri": "https://localhost:8080/"
    },
    "executionInfo": {
     "elapsed": 340,
     "status": "ok",
     "timestamp": 1646944393129,
     "user": {
      "displayName": "Luis Enrrique Pernia Carroz",
      "photoUrl": "https://lh3.googleusercontent.com/a-/AOh14GgOoKnSpkb2XSRqD2f673ceBYaj8O8lp0tj-qjj4g=s64",
      "userId": "09245467713551539461"
     },
     "user_tz": 180
    },
    "id": "2hOwJlx_iJH0",
    "outputId": "22423f08-a763-4c26-e7fe-abc3e3e0005b"
   },
   "outputs": [
    {
     "data": {
      "text/plain": [
       "array([11, 12, 13, 14, 15])"
      ]
     },
     "execution_count": 24,
     "metadata": {},
     "output_type": "execute_result"
    }
   ],
   "source": [
    "np.array([1,2,3,4,5])+10"
   ]
  },
  {
   "cell_type": "code",
   "execution_count": 25,
   "metadata": {
    "colab": {
     "base_uri": "https://localhost:8080/"
    },
    "executionInfo": {
     "elapsed": 2,
     "status": "ok",
     "timestamp": 1646944424570,
     "user": {
      "displayName": "Luis Enrrique Pernia Carroz",
      "photoUrl": "https://lh3.googleusercontent.com/a-/AOh14GgOoKnSpkb2XSRqD2f673ceBYaj8O8lp0tj-qjj4g=s64",
      "userId": "09245467713551539461"
     },
     "user_tz": 180
    },
    "id": "aESGMjRoiPa9",
    "outputId": "13fc5c10-0b2c-4a09-c4bf-2723550a61ac"
   },
   "outputs": [
    {
     "data": {
      "text/plain": [
       "(5,)"
      ]
     },
     "execution_count": 25,
     "metadata": {},
     "output_type": "execute_result"
    }
   ],
   "source": [
    "np.array([1,2,3,4,5]).shape"
   ]
  },
  {
   "cell_type": "code",
   "execution_count": 28,
   "metadata": {
    "colab": {
     "base_uri": "https://localhost:8080/"
    },
    "executionInfo": {
     "elapsed": 303,
     "status": "ok",
     "timestamp": 1646944552552,
     "user": {
      "displayName": "Luis Enrrique Pernia Carroz",
      "photoUrl": "https://lh3.googleusercontent.com/a-/AOh14GgOoKnSpkb2XSRqD2f673ceBYaj8O8lp0tj-qjj4g=s64",
      "userId": "09245467713551539461"
     },
     "user_tz": 180
    },
    "id": "BKEm5MhiiY21",
    "outputId": "70240235-39a4-4642-a74d-cc42f53d39a9"
   },
   "outputs": [
    {
     "data": {
      "text/plain": [
       "array([[1, 2, 3, 4],\n",
       "       [6, 7, 8, 9]])"
      ]
     },
     "execution_count": 28,
     "metadata": {},
     "output_type": "execute_result"
    }
   ],
   "source": [
    "np.array([[1,2,3,4],[6,7,8,9]])"
   ]
  },
  {
   "cell_type": "code",
   "execution_count": 29,
   "metadata": {
    "colab": {
     "base_uri": "https://localhost:8080/"
    },
    "executionInfo": {
     "elapsed": 1,
     "status": "ok",
     "timestamp": 1646944553492,
     "user": {
      "displayName": "Luis Enrrique Pernia Carroz",
      "photoUrl": "https://lh3.googleusercontent.com/a-/AOh14GgOoKnSpkb2XSRqD2f673ceBYaj8O8lp0tj-qjj4g=s64",
      "userId": "09245467713551539461"
     },
     "user_tz": 180
    },
    "id": "wUUlZT6RirHt",
    "outputId": "fd40d129-5e66-4982-e77d-11714c8cc2b4"
   },
   "outputs": [
    {
     "data": {
      "text/plain": [
       "(2, 4)"
      ]
     },
     "execution_count": 29,
     "metadata": {},
     "output_type": "execute_result"
    }
   ],
   "source": [
    "np.array([[1,2,3,4],[6,7,8,9]]).shape"
   ]
  },
  {
   "cell_type": "code",
   "execution_count": 30,
   "metadata": {
    "colab": {
     "base_uri": "https://localhost:8080/"
    },
    "executionInfo": {
     "elapsed": 259,
     "status": "ok",
     "timestamp": 1646944635083,
     "user": {
      "displayName": "Luis Enrrique Pernia Carroz",
      "photoUrl": "https://lh3.googleusercontent.com/a-/AOh14GgOoKnSpkb2XSRqD2f673ceBYaj8O8lp0tj-qjj4g=s64",
      "userId": "09245467713551539461"
     },
     "user_tz": 180
    },
    "id": "cEbl-N_Oi4et",
    "outputId": "896f3866-d6df-4a1e-b060-3dc1780586ab"
   },
   "outputs": [
    {
     "data": {
      "text/plain": [
       "array([1, 2, 3, 4])"
      ]
     },
     "execution_count": 30,
     "metadata": {},
     "output_type": "execute_result"
    }
   ],
   "source": [
    "np.array([[1,2,3,4],[6,7,8,9]])[0]"
   ]
  },
  {
   "cell_type": "code",
   "execution_count": 31,
   "metadata": {
    "colab": {
     "base_uri": "https://localhost:8080/"
    },
    "executionInfo": {
     "elapsed": 271,
     "status": "ok",
     "timestamp": 1646944645713,
     "user": {
      "displayName": "Luis Enrrique Pernia Carroz",
      "photoUrl": "https://lh3.googleusercontent.com/a-/AOh14GgOoKnSpkb2XSRqD2f673ceBYaj8O8lp0tj-qjj4g=s64",
      "userId": "09245467713551539461"
     },
     "user_tz": 180
    },
    "id": "gyo1VTlyjMVl",
    "outputId": "f8522e93-8bca-4922-bd73-94dda0c8b9c7"
   },
   "outputs": [
    {
     "data": {
      "text/plain": [
       "3"
      ]
     },
     "execution_count": 31,
     "metadata": {},
     "output_type": "execute_result"
    }
   ],
   "source": [
    "np.array([[1,2,3,4],[6,7,8,9]])[0][2]"
   ]
  },
  {
   "cell_type": "code",
   "execution_count": 32,
   "metadata": {
    "executionInfo": {
     "elapsed": 1,
     "status": "ok",
     "timestamp": 1646946057009,
     "user": {
      "displayName": "Luis Enrrique Pernia Carroz",
      "photoUrl": "https://lh3.googleusercontent.com/a-/AOh14GgOoKnSpkb2XSRqD2f673ceBYaj8O8lp0tj-qjj4g=s64",
      "userId": "09245467713551539461"
     },
     "user_tz": 180
    },
    "id": "5Eyy0DgujO7N"
   },
   "outputs": [],
   "source": [
    "import pandas as pd"
   ]
  },
  {
   "cell_type": "code",
   "execution_count": 33,
   "metadata": {
    "colab": {
     "base_uri": "https://localhost:8080/"
    },
    "executionInfo": {
     "elapsed": 219,
     "status": "ok",
     "timestamp": 1646946101321,
     "user": {
      "displayName": "Luis Enrrique Pernia Carroz",
      "photoUrl": "https://lh3.googleusercontent.com/a-/AOh14GgOoKnSpkb2XSRqD2f673ceBYaj8O8lp0tj-qjj4g=s64",
      "userId": "09245467713551539461"
     },
     "user_tz": 180
    },
    "id": "JvCvsmwPoneb",
    "outputId": "3dc2eff5-7321-4a5d-c221-d839e60e4432"
   },
   "outputs": [
    {
     "data": {
      "text/plain": [
       "0    10\n",
       "1     9\n",
       "2     8\n",
       "3     7\n",
       "4     6\n",
       "dtype: int64"
      ]
     },
     "execution_count": 33,
     "metadata": {},
     "output_type": "execute_result"
    }
   ],
   "source": [
    "pd.Series([10,9,8,7,6])"
   ]
  },
  {
   "cell_type": "code",
   "execution_count": 34,
   "metadata": {
    "executionInfo": {
     "elapsed": 329,
     "status": "ok",
     "timestamp": 1646946146904,
     "user": {
      "displayName": "Luis Enrrique Pernia Carroz",
      "photoUrl": "https://lh3.googleusercontent.com/a-/AOh14GgOoKnSpkb2XSRqD2f673ceBYaj8O8lp0tj-qjj4g=s64",
      "userId": "09245467713551539461"
     },
     "user_tz": 180
    },
    "id": "aWzLmZtzoyUD"
   },
   "outputs": [],
   "source": [
    "sr = pd.Series([10,9,8,7,6])"
   ]
  },
  {
   "cell_type": "code",
   "execution_count": 35,
   "metadata": {
    "colab": {
     "base_uri": "https://localhost:8080/"
    },
    "executionInfo": {
     "elapsed": 229,
     "status": "ok",
     "timestamp": 1646946189072,
     "user": {
      "displayName": "Luis Enrrique Pernia Carroz",
      "photoUrl": "https://lh3.googleusercontent.com/a-/AOh14GgOoKnSpkb2XSRqD2f673ceBYaj8O8lp0tj-qjj4g=s64",
      "userId": "09245467713551539461"
     },
     "user_tz": 180
    },
    "id": "E4G79xEYo9a7",
    "outputId": "f14c380d-df9f-4d43-e0f7-4fd0cd7a24a2"
   },
   "outputs": [
    {
     "data": {
      "text/plain": [
       "RangeIndex(start=0, stop=5, step=1)"
      ]
     },
     "execution_count": 35,
     "metadata": {},
     "output_type": "execute_result"
    }
   ],
   "source": [
    "sr.index"
   ]
  },
  {
   "cell_type": "code",
   "execution_count": 36,
   "metadata": {
    "colab": {
     "base_uri": "https://localhost:8080/"
    },
    "executionInfo": {
     "elapsed": 236,
     "status": "ok",
     "timestamp": 1646946206801,
     "user": {
      "displayName": "Luis Enrrique Pernia Carroz",
      "photoUrl": "https://lh3.googleusercontent.com/a-/AOh14GgOoKnSpkb2XSRqD2f673ceBYaj8O8lp0tj-qjj4g=s64",
      "userId": "09245467713551539461"
     },
     "user_tz": 180
    },
    "id": "9pSo2qispHvz",
    "outputId": "b969f9bc-174c-40c2-88d6-46c0306c57c5"
   },
   "outputs": [
    {
     "data": {
      "text/plain": [
       "(5,)"
      ]
     },
     "execution_count": 36,
     "metadata": {},
     "output_type": "execute_result"
    }
   ],
   "source": [
    "sr.shape"
   ]
  },
  {
   "cell_type": "code",
   "execution_count": 37,
   "metadata": {
    "colab": {
     "base_uri": "https://localhost:8080/"
    },
    "executionInfo": {
     "elapsed": 241,
     "status": "ok",
     "timestamp": 1646946223854,
     "user": {
      "displayName": "Luis Enrrique Pernia Carroz",
      "photoUrl": "https://lh3.googleusercontent.com/a-/AOh14GgOoKnSpkb2XSRqD2f673ceBYaj8O8lp0tj-qjj4g=s64",
      "userId": "09245467713551539461"
     },
     "user_tz": 180
    },
    "id": "XPKSgCz6pMCr",
    "outputId": "b79aa772-349e-454b-facd-655b5bc2db6d"
   },
   "outputs": [
    {
     "data": {
      "text/plain": [
       "7"
      ]
     },
     "execution_count": 37,
     "metadata": {},
     "output_type": "execute_result"
    }
   ],
   "source": [
    "sr[3]"
   ]
  },
  {
   "cell_type": "code",
   "execution_count": 38,
   "metadata": {
    "colab": {
     "base_uri": "https://localhost:8080/"
    },
    "executionInfo": {
     "elapsed": 262,
     "status": "ok",
     "timestamp": 1646946263172,
     "user": {
      "displayName": "Luis Enrrique Pernia Carroz",
      "photoUrl": "https://lh3.googleusercontent.com/a-/AOh14GgOoKnSpkb2XSRqD2f673ceBYaj8O8lp0tj-qjj4g=s64",
      "userId": "09245467713551539461"
     },
     "user_tz": 180
    },
    "id": "OGeETyslpQOD",
    "outputId": "ef6f4db5-b0e7-4f7f-b4bd-d973e711bf96"
   },
   "outputs": [
    {
     "data": {
      "text/plain": [
       "0    10\n",
       "4     6\n",
       "2     8\n",
       "dtype: int64"
      ]
     },
     "execution_count": 38,
     "metadata": {},
     "output_type": "execute_result"
    }
   ],
   "source": [
    "sr[[0,4,2]]"
   ]
  },
  {
   "cell_type": "code",
   "execution_count": 40,
   "metadata": {
    "colab": {
     "base_uri": "https://localhost:8080/"
    },
    "executionInfo": {
     "elapsed": 2,
     "status": "ok",
     "timestamp": 1646946530414,
     "user": {
      "displayName": "Luis Enrrique Pernia Carroz",
      "photoUrl": "https://lh3.googleusercontent.com/a-/AOh14GgOoKnSpkb2XSRqD2f673ceBYaj8O8lp0tj-qjj4g=s64",
      "userId": "09245467713551539461"
     },
     "user_tz": 180
    },
    "id": "otjowOzgpZ1r",
    "outputId": "4068aeee-44f3-492d-b206-471f42970230"
   },
   "outputs": [
    {
     "data": {
      "text/plain": [
       "a    10\n",
       "b     9\n",
       "c     8\n",
       "d     7\n",
       "e     6\n",
       "dtype: int64"
      ]
     },
     "execution_count": 40,
     "metadata": {},
     "output_type": "execute_result"
    }
   ],
   "source": [
    "sr = pd.Series([10,9,8,7,6], index = ['a','b','c','d','e'])\n",
    "sr"
   ]
  },
  {
   "cell_type": "code",
   "execution_count": 41,
   "metadata": {
    "colab": {
     "base_uri": "https://localhost:8080/"
    },
    "executionInfo": {
     "elapsed": 2,
     "status": "ok",
     "timestamp": 1646946568875,
     "user": {
      "displayName": "Luis Enrrique Pernia Carroz",
      "photoUrl": "https://lh3.googleusercontent.com/a-/AOh14GgOoKnSpkb2XSRqD2f673ceBYaj8O8lp0tj-qjj4g=s64",
      "userId": "09245467713551539461"
     },
     "user_tz": 180
    },
    "id": "mjYK6uKwqZ3Q",
    "outputId": "754ceddb-d4fe-4da6-97a5-170b8c1682aa"
   },
   "outputs": [
    {
     "data": {
      "text/plain": [
       "8"
      ]
     },
     "execution_count": 41,
     "metadata": {},
     "output_type": "execute_result"
    }
   ],
   "source": [
    "sr['c']"
   ]
  },
  {
   "cell_type": "code",
   "execution_count": 43,
   "metadata": {
    "colab": {
     "base_uri": "https://localhost:8080/"
    },
    "executionInfo": {
     "elapsed": 261,
     "status": "ok",
     "timestamp": 1646946601004,
     "user": {
      "displayName": "Luis Enrrique Pernia Carroz",
      "photoUrl": "https://lh3.googleusercontent.com/a-/AOh14GgOoKnSpkb2XSRqD2f673ceBYaj8O8lp0tj-qjj4g=s64",
      "userId": "09245467713551539461"
     },
     "user_tz": 180
    },
    "id": "WlJTrveMqke6",
    "outputId": "93bdb868-444c-4631-ae80-624f890a61e3"
   },
   "outputs": [
    {
     "data": {
      "text/plain": [
       "c    8\n",
       "d    7\n",
       "e    6\n",
       "dtype: int64"
      ]
     },
     "execution_count": 43,
     "metadata": {},
     "output_type": "execute_result"
    }
   ],
   "source": [
    "sr[['c','d','e']]"
   ]
  },
  {
   "cell_type": "code",
   "execution_count": 45,
   "metadata": {
    "colab": {
     "base_uri": "https://localhost:8080/"
    },
    "executionInfo": {
     "elapsed": 2,
     "status": "ok",
     "timestamp": 1646946643459,
     "user": {
      "displayName": "Luis Enrrique Pernia Carroz",
      "photoUrl": "https://lh3.googleusercontent.com/a-/AOh14GgOoKnSpkb2XSRqD2f673ceBYaj8O8lp0tj-qjj4g=s64",
      "userId": "09245467713551539461"
     },
     "user_tz": 180
    },
    "id": "8ZkF8uttqqQS",
    "outputId": "97ccdacb-2f2f-4f72-819c-87ba3e3f689e"
   },
   "outputs": [
    {
     "data": {
      "text/plain": [
       "b    9\n",
       "c    8\n",
       "d    7\n",
       "e    6\n",
       "dtype: int64"
      ]
     },
     "execution_count": 45,
     "metadata": {},
     "output_type": "execute_result"
    }
   ],
   "source": [
    "sr['b':'e']"
   ]
  },
  {
   "cell_type": "code",
   "execution_count": 49,
   "metadata": {
    "colab": {
     "base_uri": "https://localhost:8080/"
    },
    "executionInfo": {
     "elapsed": 248,
     "status": "ok",
     "timestamp": 1646946781905,
     "user": {
      "displayName": "Luis Enrrique Pernia Carroz",
      "photoUrl": "https://lh3.googleusercontent.com/a-/AOh14GgOoKnSpkb2XSRqD2f673ceBYaj8O8lp0tj-qjj4g=s64",
      "userId": "09245467713551539461"
     },
     "user_tz": 180
    },
    "id": "onQJvRjgqzzD",
    "outputId": "cab97145-66ff-440a-db3e-071a945a1d3a"
   },
   "outputs": [
    {
     "data": {
      "text/plain": [
       "{'AR': 300, 'CO': 100, 'MX': 200}"
      ]
     },
     "execution_count": 49,
     "metadata": {},
     "output_type": "execute_result"
    }
   ],
   "source": [
    "dict_data = {'CO':100, 'MX':200, 'AR':300}\n",
    "dict_data"
   ]
  },
  {
   "cell_type": "code",
   "execution_count": 54,
   "metadata": {
    "colab": {
     "base_uri": "https://localhost:8080/"
    },
    "executionInfo": {
     "elapsed": 239,
     "status": "ok",
     "timestamp": 1646946852330,
     "user": {
      "displayName": "Luis Enrrique Pernia Carroz",
      "photoUrl": "https://lh3.googleusercontent.com/a-/AOh14GgOoKnSpkb2XSRqD2f673ceBYaj8O8lp0tj-qjj4g=s64",
      "userId": "09245467713551539461"
     },
     "user_tz": 180
    },
    "id": "Qb0xAhZPrQja",
    "outputId": "9b30a220-94a7-4bca-d8cc-0dab4a53b103"
   },
   "outputs": [
    {
     "data": {
      "text/plain": [
       "dict_keys(['CO', 'MX', 'AR'])"
      ]
     },
     "execution_count": 54,
     "metadata": {},
     "output_type": "execute_result"
    }
   ],
   "source": [
    "dict_data.keys()"
   ]
  },
  {
   "cell_type": "code",
   "execution_count": 55,
   "metadata": {
    "colab": {
     "base_uri": "https://localhost:8080/"
    },
    "executionInfo": {
     "elapsed": 260,
     "status": "ok",
     "timestamp": 1646946886419,
     "user": {
      "displayName": "Luis Enrrique Pernia Carroz",
      "photoUrl": "https://lh3.googleusercontent.com/a-/AOh14GgOoKnSpkb2XSRqD2f673ceBYaj8O8lp0tj-qjj4g=s64",
      "userId": "09245467713551539461"
     },
     "user_tz": 180
    },
    "id": "wisxCD4lruQm",
    "outputId": "820dd2b3-be16-4b4e-e530-89575534f3c2"
   },
   "outputs": [
    {
     "data": {
      "text/plain": [
       "200"
      ]
     },
     "execution_count": 55,
     "metadata": {},
     "output_type": "execute_result"
    }
   ],
   "source": [
    "dict_data['MX']"
   ]
  },
  {
   "cell_type": "code",
   "execution_count": 51,
   "metadata": {
    "colab": {
     "base_uri": "https://localhost:8080/"
    },
    "executionInfo": {
     "elapsed": 228,
     "status": "ok",
     "timestamp": 1646946811766,
     "user": {
      "displayName": "Luis Enrrique Pernia Carroz",
      "photoUrl": "https://lh3.googleusercontent.com/a-/AOh14GgOoKnSpkb2XSRqD2f673ceBYaj8O8lp0tj-qjj4g=s64",
      "userId": "09245467713551539461"
     },
     "user_tz": 180
    },
    "id": "6-7LOV22rcth",
    "outputId": "8bc456cb-e211-4a2e-b21f-d115506f3460"
   },
   "outputs": [
    {
     "data": {
      "text/plain": [
       "dict_values([100, 200, 300])"
      ]
     },
     "execution_count": 51,
     "metadata": {},
     "output_type": "execute_result"
    }
   ],
   "source": [
    "dict_data.values()"
   ]
  },
  {
   "cell_type": "code",
   "execution_count": 52,
   "metadata": {
    "colab": {
     "base_uri": "https://localhost:8080/"
    },
    "executionInfo": {
     "elapsed": 224,
     "status": "ok",
     "timestamp": 1646946822298,
     "user": {
      "displayName": "Luis Enrrique Pernia Carroz",
      "photoUrl": "https://lh3.googleusercontent.com/a-/AOh14GgOoKnSpkb2XSRqD2f673ceBYaj8O8lp0tj-qjj4g=s64",
      "userId": "09245467713551539461"
     },
     "user_tz": 180
    },
    "id": "ruUG4B-9rfw6",
    "outputId": "2675e328-0461-49ab-806c-21c154afc260"
   },
   "outputs": [
    {
     "data": {
      "text/plain": [
       "dict_items([('CO', 100), ('MX', 200), ('AR', 300)])"
      ]
     },
     "execution_count": 52,
     "metadata": {},
     "output_type": "execute_result"
    }
   ],
   "source": [
    "dict_data.items()"
   ]
  },
  {
   "cell_type": "code",
   "execution_count": 57,
   "metadata": {
    "colab": {
     "base_uri": "https://localhost:8080/"
    },
    "executionInfo": {
     "elapsed": 235,
     "status": "ok",
     "timestamp": 1646947027867,
     "user": {
      "displayName": "Luis Enrrique Pernia Carroz",
      "photoUrl": "https://lh3.googleusercontent.com/a-/AOh14GgOoKnSpkb2XSRqD2f673ceBYaj8O8lp0tj-qjj4g=s64",
      "userId": "09245467713551539461"
     },
     "user_tz": 180
    },
    "id": "EaEyUwc0riRx",
    "outputId": "6c378bfb-ce0b-4419-aa75-7aa700dfc41f"
   },
   "outputs": [
    {
     "data": {
      "text/plain": [
       "CO    100\n",
       "MX    200\n",
       "AR    300\n",
       "dtype: int64"
      ]
     },
     "execution_count": 57,
     "metadata": {},
     "output_type": "execute_result"
    }
   ],
   "source": [
    "pd.Series(dict_data) #crear numpy Series a partir de un diccionario"
   ]
  },
  {
   "cell_type": "code",
   "execution_count": 61,
   "metadata": {
    "colab": {
     "base_uri": "https://localhost:8080/"
    },
    "executionInfo": {
     "elapsed": 1,
     "status": "ok",
     "timestamp": 1646947380141,
     "user": {
      "displayName": "Luis Enrrique Pernia Carroz",
      "photoUrl": "https://lh3.googleusercontent.com/a-/AOh14GgOoKnSpkb2XSRqD2f673ceBYaj8O8lp0tj-qjj4g=s64",
      "userId": "09245467713551539461"
     },
     "user_tz": 180
    },
    "id": "siOTz5C9rkJT",
    "outputId": "c4132064-1272-4b48-cf3f-6b43fc39b3da"
   },
   "outputs": [
    {
     "data": {
      "text/plain": [
       "CO    100.0\n",
       "MX    200.0\n",
       "PE      NaN\n",
       "dtype: float64"
      ]
     },
     "execution_count": 61,
     "metadata": {},
     "output_type": "execute_result"
    }
   ],
   "source": [
    "sr = pd.Series(dict_data, index=['CO','MX','PE'])\n",
    "sr"
   ]
  },
  {
   "cell_type": "code",
   "execution_count": 62,
   "metadata": {
    "colab": {
     "base_uri": "https://localhost:8080/"
    },
    "executionInfo": {
     "elapsed": 3,
     "status": "ok",
     "timestamp": 1646947381823,
     "user": {
      "displayName": "Luis Enrrique Pernia Carroz",
      "photoUrl": "https://lh3.googleusercontent.com/a-/AOh14GgOoKnSpkb2XSRqD2f673ceBYaj8O8lp0tj-qjj4g=s64",
      "userId": "09245467713551539461"
     },
     "user_tz": 180
    },
    "id": "aK4Kd24Os81o",
    "outputId": "98b58066-698c-4d42-e27a-7fb2d2e40ea3"
   },
   "outputs": [
    {
     "data": {
      "text/plain": [
       "CO    False\n",
       "MX    False\n",
       "PE     True\n",
       "dtype: bool"
      ]
     },
     "execution_count": 62,
     "metadata": {},
     "output_type": "execute_result"
    }
   ],
   "source": [
    "sr.isnull()"
   ]
  },
  {
   "cell_type": "code",
   "execution_count": 63,
   "metadata": {
    "colab": {
     "base_uri": "https://localhost:8080/"
    },
    "executionInfo": {
     "elapsed": 249,
     "status": "ok",
     "timestamp": 1646947397920,
     "user": {
      "displayName": "Luis Enrrique Pernia Carroz",
      "photoUrl": "https://lh3.googleusercontent.com/a-/AOh14GgOoKnSpkb2XSRqD2f673ceBYaj8O8lp0tj-qjj4g=s64",
      "userId": "09245467713551539461"
     },
     "user_tz": 180
    },
    "id": "k6PawZddtiWy",
    "outputId": "1f7b1188-9532-4fe5-9c1e-cef5c701b868"
   },
   "outputs": [
    {
     "data": {
      "text/plain": [
       "CO     True\n",
       "MX     True\n",
       "PE    False\n",
       "dtype: bool"
      ]
     },
     "execution_count": 63,
     "metadata": {},
     "output_type": "execute_result"
    }
   ],
   "source": [
    "sr.notnull()"
   ]
  },
  {
   "cell_type": "code",
   "execution_count": null,
   "metadata": {
    "id": "M4UMNEXXtu3h"
   },
   "outputs": [],
   "source": []
  }
 ],
 "metadata": {
  "colab": {
   "authorship_tag": "ABX9TyNRcoRsDhurCpizJm6RQPOV",
   "collapsed_sections": [],
   "name": "primeros_pasos.ipynb",
   "provenance": []
  },
  "kernelspec": {
   "display_name": "Python 3 (ipykernel)",
   "language": "python",
   "name": "python3"
  },
  "language_info": {
   "codemirror_mode": {
    "name": "ipython",
    "version": 3
   },
   "file_extension": ".py",
   "mimetype": "text/x-python",
   "name": "python",
   "nbconvert_exporter": "python",
   "pygments_lexer": "ipython3",
   "version": "3.9.7"
  }
 },
 "nbformat": 4,
 "nbformat_minor": 4
}
