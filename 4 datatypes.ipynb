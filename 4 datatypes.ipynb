{
 "cells": [
  {
   "cell_type": "code",
   "execution_count": 1,
   "metadata": {},
   "outputs": [
    {
     "name": "stdout",
     "output_type": "stream",
     "text": [
      "Requirement already satisfied: pandas in c:\\programdata\\anaconda3\\lib\\site-packages (1.4.1)\n",
      "Requirement already satisfied: python-dateutil>=2.8.1 in c:\\programdata\\anaconda3\\lib\\site-packages (from pandas) (2.8.2)\n",
      "Requirement already satisfied: pytz>=2020.1 in c:\\programdata\\anaconda3\\lib\\site-packages (from pandas) (2021.3)\n",
      "Requirement already satisfied: numpy>=1.18.5 in c:\\programdata\\anaconda3\\lib\\site-packages (from pandas) (1.20.3)\n",
      "Requirement already satisfied: six>=1.5 in c:\\programdata\\anaconda3\\lib\\site-packages (from python-dateutil>=2.8.1->pandas) (1.16.0)\n",
      "Note: you may need to restart the kernel to use updated packages.\n"
     ]
    }
   ],
   "source": [
    "pip install --upgrade pandas"
   ]
  },
  {
   "cell_type": "code",
   "execution_count": 2,
   "metadata": {
    "executionInfo": {
     "elapsed": 987,
     "status": "ok",
     "timestamp": 1647042986854,
     "user": {
      "displayName": "Luis Enrrique Pernia Carroz",
      "photoUrl": "https://lh3.googleusercontent.com/a-/AOh14GgOoKnSpkb2XSRqD2f673ceBYaj8O8lp0tj-qjj4g=s64",
      "userId": "09245467713551539461"
     },
     "user_tz": 180
    },
    "id": "_vXzOJM6mlDc"
   },
   "outputs": [],
   "source": [
    "import pandas as pd\n",
    "import numpy as np"
   ]
  },
  {
   "cell_type": "code",
   "execution_count": 3,
   "metadata": {
    "colab": {
     "base_uri": "https://localhost:8080/"
    },
    "executionInfo": {
     "elapsed": 19984,
     "status": "ok",
     "timestamp": 1647043020540,
     "user": {
      "displayName": "Luis Enrrique Pernia Carroz",
      "photoUrl": "https://lh3.googleusercontent.com/a-/AOh14GgOoKnSpkb2XSRqD2f673ceBYaj8O8lp0tj-qjj4g=s64",
      "userId": "09245467713551539461"
     },
     "user_tz": 180
    },
    "id": "85sh1f-0lNY_",
    "outputId": "00d09c64-deb5-4fc9-eb6c-8834342cf6a2"
   },
   "outputs": [],
   "source": [
    "#from google.colab import drive\n",
    "#drive.mount('/content/drive/')"
   ]
  },
  {
   "cell_type": "code",
   "execution_count": 4,
   "metadata": {
    "executionInfo": {
     "elapsed": 200,
     "status": "ok",
     "timestamp": 1647043030945,
     "user": {
      "displayName": "Luis Enrrique Pernia Carroz",
      "photoUrl": "https://lh3.googleusercontent.com/a-/AOh14GgOoKnSpkb2XSRqD2f673ceBYaj8O8lp0tj-qjj4g=s64",
      "userId": "09245467713551539461"
     },
     "user_tz": 180
    },
    "id": "Cv1Y8w7AjuAl"
   },
   "outputs": [],
   "source": [
    "directorio = 'C:/Users/luisp/Desktop/Cursos/python/Jupiter_Notebooks/db/{}'.format('')"
   ]
  },
  {
   "cell_type": "code",
   "execution_count": 5,
   "metadata": {
    "colab": {
     "base_uri": "https://localhost:8080/"
    },
    "executionInfo": {
     "elapsed": 294,
     "status": "ok",
     "timestamp": 1647043032439,
     "user": {
      "displayName": "Luis Enrrique Pernia Carroz",
      "photoUrl": "https://lh3.googleusercontent.com/a-/AOh14GgOoKnSpkb2XSRqD2f673ceBYaj8O8lp0tj-qjj4g=s64",
      "userId": "09245467713551539461"
     },
     "user_tz": 180
    },
    "id": "BLXfhgjejlKT",
    "outputId": "d1bcdc9e-7921-41be-c139-c9a44d7b20cb"
   },
   "outputs": [
    {
     "name": "stdout",
     "output_type": "stream",
     "text": [
      "C:\\Users\\luisp\\Desktop\\Cursos\\python\\Jupiter_Notebooks\\db\n"
     ]
    }
   ],
   "source": [
    "cd C:/Users/luisp/Desktop/Cursos/python/Jupiter_Notebooks/db/"
   ]
  },
  {
   "cell_type": "code",
   "execution_count": 6,
   "metadata": {
    "colab": {
     "base_uri": "https://localhost:8080/"
    },
    "executionInfo": {
     "elapsed": 361,
     "status": "ok",
     "timestamp": 1646979013546,
     "user": {
      "displayName": "Luis Enrrique Pernia Carroz",
      "photoUrl": "https://lh3.googleusercontent.com/a-/AOh14GgOoKnSpkb2XSRqD2f673ceBYaj8O8lp0tj-qjj4g=s64",
      "userId": "09245467713551539461"
     },
     "user_tz": 180
    },
    "id": "2QncOkQDj2qq",
    "outputId": "a6d02179-9541-4d2b-bdf7-13634e65e785"
   },
   "outputs": [],
   "source": [
    "#mv -v 'Copy of Meteorite_Landings.csv' 'Meteorite_landings.csv'"
   ]
  },
  {
   "cell_type": "code",
   "execution_count": 7,
   "metadata": {
    "colab": {
     "base_uri": "https://localhost:8080/"
    },
    "executionInfo": {
     "elapsed": 251,
     "status": "ok",
     "timestamp": 1647043034643,
     "user": {
      "displayName": "Luis Enrrique Pernia Carroz",
      "photoUrl": "https://lh3.googleusercontent.com/a-/AOh14GgOoKnSpkb2XSRqD2f673ceBYaj8O8lp0tj-qjj4g=s64",
      "userId": "09245467713551539461"
     },
     "user_tz": 180
    },
    "id": "B9byknzcj5hS",
    "outputId": "8d61a954-a212-414d-96b7-291234878755"
   },
   "outputs": [
    {
     "name": "stdout",
     "output_type": "stream",
     "text": [
      " Volume in drive C is Windows\n",
      " Volume Serial Number is 04E0-B438\n",
      "\n",
      " Directory of C:\\Users\\luisp\\Desktop\\Cursos\\python\\Jupiter_Notebooks\\db\n",
      "\n",
      "03/16/2022  16:49    <DIR>          .\n",
      "03/16/2022  16:49    <DIR>          ..\n",
      "03/16/2022  16:48           164,768 API_AG.LND.AGRI.K2_DS2_en_csv_v2_716226.csv\n",
      "03/16/2022  16:48           145,140 API_AG.LND.FRST.K2_DS2_en_csv_v2_716262.csv\n",
      "03/16/2022  16:48           193,864 API_EG.USE.ELEC.KH.PC_DS2_en_csv_v2_715482.csv\n",
      "03/16/2022  16:49           177,911 API_EN.ATM.CO2E.KT_DS2_en_csv_v2_713263.csv\n",
      "03/16/2022  16:49           175,665 API_SP.POP.TOTL_DS2_en_csv_v2_713131.csv\n",
      "03/15/2022  10:27           224,614 covid_19_data.csv\n",
      "03/15/2022  17:46        22,680,393 GlobalLandTemperaturesByCountry.csv\n",
      "03/12/2022  09:23         1,034,821 london_merged.csv\n",
      "03/10/2022  22:10         4,769,811 Meteorite_landings.csv\n",
      "03/12/2022  17:00            29,719 poblacion.csv\n",
      "03/10/2022  17:17               163 test.csv\n",
      "03/10/2022  21:41            84,959 test.hdf\n",
      "03/10/2022  21:11               388 test.json\n",
      "03/10/2022  21:39             4,639 test.parquet\n",
      "03/10/2022  21:37             1,179 test.pkl\n",
      "03/10/2022  21:11             5,176 text.xlsx\n",
      "              16 File(s)     29,693,210 bytes\n",
      "               2 Dir(s)  169,692,057,600 bytes free\n"
     ]
    }
   ],
   "source": [
    "ls "
   ]
  },
  {
   "cell_type": "code",
   "execution_count": 8,
   "metadata": {
    "executionInfo": {
     "elapsed": 593,
     "status": "ok",
     "timestamp": 1647043037851,
     "user": {
      "displayName": "Luis Enrrique Pernia Carroz",
      "photoUrl": "https://lh3.googleusercontent.com/a-/AOh14GgOoKnSpkb2XSRqD2f673ceBYaj8O8lp0tj-qjj4g=s64",
      "userId": "09245467713551539461"
     },
     "user_tz": 180
    },
    "id": "-PlRQh3hkU9C"
   },
   "outputs": [],
   "source": [
    "df_meteorites = pd.read_csv('Meteorite_landings.csv')"
   ]
  },
  {
   "cell_type": "code",
   "execution_count": 9,
   "metadata": {
    "colab": {
     "base_uri": "https://localhost:8080/",
     "height": 206
    },
    "executionInfo": {
     "elapsed": 220,
     "status": "ok",
     "timestamp": 1647043040811,
     "user": {
      "displayName": "Luis Enrrique Pernia Carroz",
      "photoUrl": "https://lh3.googleusercontent.com/a-/AOh14GgOoKnSpkb2XSRqD2f673ceBYaj8O8lp0tj-qjj4g=s64",
      "userId": "09245467713551539461"
     },
     "user_tz": 180
    },
    "id": "N032_R8GkkOq",
    "outputId": "dd7f9428-2507-4c61-d705-43dd8f04085d"
   },
   "outputs": [
    {
     "data": {
      "text/html": [
       "<div>\n",
       "<style scoped>\n",
       "    .dataframe tbody tr th:only-of-type {\n",
       "        vertical-align: middle;\n",
       "    }\n",
       "\n",
       "    .dataframe tbody tr th {\n",
       "        vertical-align: top;\n",
       "    }\n",
       "\n",
       "    .dataframe thead th {\n",
       "        text-align: right;\n",
       "    }\n",
       "</style>\n",
       "<table border=\"1\" class=\"dataframe\">\n",
       "  <thead>\n",
       "    <tr style=\"text-align: right;\">\n",
       "      <th></th>\n",
       "      <th>name</th>\n",
       "      <th>id</th>\n",
       "      <th>nametype</th>\n",
       "      <th>recclass</th>\n",
       "      <th>mass (g)</th>\n",
       "      <th>fall</th>\n",
       "      <th>year</th>\n",
       "      <th>reclat</th>\n",
       "      <th>reclong</th>\n",
       "      <th>GeoLocation</th>\n",
       "    </tr>\n",
       "  </thead>\n",
       "  <tbody>\n",
       "    <tr>\n",
       "      <th>0</th>\n",
       "      <td>Aachen</td>\n",
       "      <td>1</td>\n",
       "      <td>Valid</td>\n",
       "      <td>L5</td>\n",
       "      <td>21.0</td>\n",
       "      <td>Fell</td>\n",
       "      <td>01/01/1880 12:00:00 AM</td>\n",
       "      <td>50.77500</td>\n",
       "      <td>6.08333</td>\n",
       "      <td>(50.775, 6.08333)</td>\n",
       "    </tr>\n",
       "    <tr>\n",
       "      <th>1</th>\n",
       "      <td>Aarhus</td>\n",
       "      <td>2</td>\n",
       "      <td>Valid</td>\n",
       "      <td>H6</td>\n",
       "      <td>720.0</td>\n",
       "      <td>Fell</td>\n",
       "      <td>01/01/1951 12:00:00 AM</td>\n",
       "      <td>56.18333</td>\n",
       "      <td>10.23333</td>\n",
       "      <td>(56.18333, 10.23333)</td>\n",
       "    </tr>\n",
       "    <tr>\n",
       "      <th>2</th>\n",
       "      <td>Abee</td>\n",
       "      <td>6</td>\n",
       "      <td>Valid</td>\n",
       "      <td>EH4</td>\n",
       "      <td>107000.0</td>\n",
       "      <td>Fell</td>\n",
       "      <td>01/01/1952 12:00:00 AM</td>\n",
       "      <td>54.21667</td>\n",
       "      <td>-113.00000</td>\n",
       "      <td>(54.21667, -113.0)</td>\n",
       "    </tr>\n",
       "    <tr>\n",
       "      <th>3</th>\n",
       "      <td>Acapulco</td>\n",
       "      <td>10</td>\n",
       "      <td>Valid</td>\n",
       "      <td>Acapulcoite</td>\n",
       "      <td>1914.0</td>\n",
       "      <td>Fell</td>\n",
       "      <td>01/01/1976 12:00:00 AM</td>\n",
       "      <td>16.88333</td>\n",
       "      <td>-99.90000</td>\n",
       "      <td>(16.88333, -99.9)</td>\n",
       "    </tr>\n",
       "    <tr>\n",
       "      <th>4</th>\n",
       "      <td>Achiras</td>\n",
       "      <td>370</td>\n",
       "      <td>Valid</td>\n",
       "      <td>L6</td>\n",
       "      <td>780.0</td>\n",
       "      <td>Fell</td>\n",
       "      <td>01/01/1902 12:00:00 AM</td>\n",
       "      <td>-33.16667</td>\n",
       "      <td>-64.95000</td>\n",
       "      <td>(-33.16667, -64.95)</td>\n",
       "    </tr>\n",
       "  </tbody>\n",
       "</table>\n",
       "</div>"
      ],
      "text/plain": [
       "       name   id nametype     recclass  mass (g)  fall  \\\n",
       "0    Aachen    1    Valid           L5      21.0  Fell   \n",
       "1    Aarhus    2    Valid           H6     720.0  Fell   \n",
       "2      Abee    6    Valid          EH4  107000.0  Fell   \n",
       "3  Acapulco   10    Valid  Acapulcoite    1914.0  Fell   \n",
       "4   Achiras  370    Valid           L6     780.0  Fell   \n",
       "\n",
       "                     year    reclat    reclong           GeoLocation  \n",
       "0  01/01/1880 12:00:00 AM  50.77500    6.08333     (50.775, 6.08333)  \n",
       "1  01/01/1951 12:00:00 AM  56.18333   10.23333  (56.18333, 10.23333)  \n",
       "2  01/01/1952 12:00:00 AM  54.21667 -113.00000    (54.21667, -113.0)  \n",
       "3  01/01/1976 12:00:00 AM  16.88333  -99.90000     (16.88333, -99.9)  \n",
       "4  01/01/1902 12:00:00 AM -33.16667  -64.95000   (-33.16667, -64.95)  "
      ]
     },
     "execution_count": 9,
     "metadata": {},
     "output_type": "execute_result"
    }
   ],
   "source": [
    "df_meteorites.head(5)"
   ]
  },
  {
   "cell_type": "code",
   "execution_count": 10,
   "metadata": {
    "colab": {
     "base_uri": "https://localhost:8080/",
     "height": 206
    },
    "executionInfo": {
     "elapsed": 223,
     "status": "ok",
     "timestamp": 1647043042997,
     "user": {
      "displayName": "Luis Enrrique Pernia Carroz",
      "photoUrl": "https://lh3.googleusercontent.com/a-/AOh14GgOoKnSpkb2XSRqD2f673ceBYaj8O8lp0tj-qjj4g=s64",
      "userId": "09245467713551539461"
     },
     "user_tz": 180
    },
    "id": "s4C29JphlC-6",
    "outputId": "97543d86-4be2-497e-ce27-95d6c5e811a2"
   },
   "outputs": [
    {
     "data": {
      "text/html": [
       "<div>\n",
       "<style scoped>\n",
       "    .dataframe tbody tr th:only-of-type {\n",
       "        vertical-align: middle;\n",
       "    }\n",
       "\n",
       "    .dataframe tbody tr th {\n",
       "        vertical-align: top;\n",
       "    }\n",
       "\n",
       "    .dataframe thead th {\n",
       "        text-align: right;\n",
       "    }\n",
       "</style>\n",
       "<table border=\"1\" class=\"dataframe\">\n",
       "  <thead>\n",
       "    <tr style=\"text-align: right;\">\n",
       "      <th></th>\n",
       "      <th>name</th>\n",
       "      <th>id</th>\n",
       "      <th>nametype</th>\n",
       "      <th>recclass</th>\n",
       "      <th>mass (g)</th>\n",
       "      <th>fall</th>\n",
       "      <th>year</th>\n",
       "      <th>reclat</th>\n",
       "      <th>reclong</th>\n",
       "      <th>GeoLocation</th>\n",
       "    </tr>\n",
       "  </thead>\n",
       "  <tbody>\n",
       "    <tr>\n",
       "      <th>45711</th>\n",
       "      <td>Zillah 002</td>\n",
       "      <td>31356</td>\n",
       "      <td>Valid</td>\n",
       "      <td>Eucrite</td>\n",
       "      <td>172.0</td>\n",
       "      <td>Found</td>\n",
       "      <td>01/01/1990 12:00:00 AM</td>\n",
       "      <td>29.03700</td>\n",
       "      <td>17.01850</td>\n",
       "      <td>(29.037, 17.0185)</td>\n",
       "    </tr>\n",
       "    <tr>\n",
       "      <th>45712</th>\n",
       "      <td>Zinder</td>\n",
       "      <td>30409</td>\n",
       "      <td>Valid</td>\n",
       "      <td>Pallasite, ungrouped</td>\n",
       "      <td>46.0</td>\n",
       "      <td>Found</td>\n",
       "      <td>01/01/1999 12:00:00 AM</td>\n",
       "      <td>13.78333</td>\n",
       "      <td>8.96667</td>\n",
       "      <td>(13.78333, 8.96667)</td>\n",
       "    </tr>\n",
       "    <tr>\n",
       "      <th>45713</th>\n",
       "      <td>Zlin</td>\n",
       "      <td>30410</td>\n",
       "      <td>Valid</td>\n",
       "      <td>H4</td>\n",
       "      <td>3.3</td>\n",
       "      <td>Found</td>\n",
       "      <td>01/01/1939 12:00:00 AM</td>\n",
       "      <td>49.25000</td>\n",
       "      <td>17.66667</td>\n",
       "      <td>(49.25, 17.66667)</td>\n",
       "    </tr>\n",
       "    <tr>\n",
       "      <th>45714</th>\n",
       "      <td>Zubkovsky</td>\n",
       "      <td>31357</td>\n",
       "      <td>Valid</td>\n",
       "      <td>L6</td>\n",
       "      <td>2167.0</td>\n",
       "      <td>Found</td>\n",
       "      <td>01/01/2003 12:00:00 AM</td>\n",
       "      <td>49.78917</td>\n",
       "      <td>41.50460</td>\n",
       "      <td>(49.78917, 41.5046)</td>\n",
       "    </tr>\n",
       "    <tr>\n",
       "      <th>45715</th>\n",
       "      <td>Zulu Queen</td>\n",
       "      <td>30414</td>\n",
       "      <td>Valid</td>\n",
       "      <td>L3.7</td>\n",
       "      <td>200.0</td>\n",
       "      <td>Found</td>\n",
       "      <td>01/01/1976 12:00:00 AM</td>\n",
       "      <td>33.98333</td>\n",
       "      <td>-115.68333</td>\n",
       "      <td>(33.98333, -115.68333)</td>\n",
       "    </tr>\n",
       "  </tbody>\n",
       "</table>\n",
       "</div>"
      ],
      "text/plain": [
       "             name     id nametype              recclass  mass (g)   fall  \\\n",
       "45711  Zillah 002  31356    Valid               Eucrite     172.0  Found   \n",
       "45712      Zinder  30409    Valid  Pallasite, ungrouped      46.0  Found   \n",
       "45713        Zlin  30410    Valid                    H4       3.3  Found   \n",
       "45714   Zubkovsky  31357    Valid                    L6    2167.0  Found   \n",
       "45715  Zulu Queen  30414    Valid                  L3.7     200.0  Found   \n",
       "\n",
       "                         year    reclat    reclong             GeoLocation  \n",
       "45711  01/01/1990 12:00:00 AM  29.03700   17.01850       (29.037, 17.0185)  \n",
       "45712  01/01/1999 12:00:00 AM  13.78333    8.96667     (13.78333, 8.96667)  \n",
       "45713  01/01/1939 12:00:00 AM  49.25000   17.66667       (49.25, 17.66667)  \n",
       "45714  01/01/2003 12:00:00 AM  49.78917   41.50460     (49.78917, 41.5046)  \n",
       "45715  01/01/1976 12:00:00 AM  33.98333 -115.68333  (33.98333, -115.68333)  "
      ]
     },
     "execution_count": 10,
     "metadata": {},
     "output_type": "execute_result"
    }
   ],
   "source": [
    "df_meteorites.tail(5)"
   ]
  },
  {
   "cell_type": "code",
   "execution_count": 11,
   "metadata": {
    "colab": {
     "base_uri": "https://localhost:8080/",
     "height": 206
    },
    "executionInfo": {
     "elapsed": 197,
     "status": "ok",
     "timestamp": 1647043044750,
     "user": {
      "displayName": "Luis Enrrique Pernia Carroz",
      "photoUrl": "https://lh3.googleusercontent.com/a-/AOh14GgOoKnSpkb2XSRqD2f673ceBYaj8O8lp0tj-qjj4g=s64",
      "userId": "09245467713551539461"
     },
     "user_tz": 180
    },
    "id": "jF822meolEcx",
    "outputId": "4738a6ca-cfca-4e8f-d0cd-8f375dd39626"
   },
   "outputs": [
    {
     "data": {
      "text/html": [
       "<div>\n",
       "<style scoped>\n",
       "    .dataframe tbody tr th:only-of-type {\n",
       "        vertical-align: middle;\n",
       "    }\n",
       "\n",
       "    .dataframe tbody tr th {\n",
       "        vertical-align: top;\n",
       "    }\n",
       "\n",
       "    .dataframe thead th {\n",
       "        text-align: right;\n",
       "    }\n",
       "</style>\n",
       "<table border=\"1\" class=\"dataframe\">\n",
       "  <thead>\n",
       "    <tr style=\"text-align: right;\">\n",
       "      <th></th>\n",
       "      <th>name</th>\n",
       "      <th>id</th>\n",
       "      <th>nametype</th>\n",
       "      <th>recclass</th>\n",
       "      <th>mass (g)</th>\n",
       "      <th>fall</th>\n",
       "      <th>year</th>\n",
       "      <th>reclat</th>\n",
       "      <th>reclong</th>\n",
       "      <th>GeoLocation</th>\n",
       "    </tr>\n",
       "  </thead>\n",
       "  <tbody>\n",
       "    <tr>\n",
       "      <th>25620</th>\n",
       "      <td>Miller Range 090541</td>\n",
       "      <td>55019</td>\n",
       "      <td>Valid</td>\n",
       "      <td>L6</td>\n",
       "      <td>1.00</td>\n",
       "      <td>Found</td>\n",
       "      <td>01/01/2009 12:00:00 AM</td>\n",
       "      <td>0.00000</td>\n",
       "      <td>0.00000</td>\n",
       "      <td>(0.0, 0.0)</td>\n",
       "    </tr>\n",
       "    <tr>\n",
       "      <th>5054</th>\n",
       "      <td>Batyushkovo</td>\n",
       "      <td>51586</td>\n",
       "      <td>Valid</td>\n",
       "      <td>L5</td>\n",
       "      <td>4620.00</td>\n",
       "      <td>Found</td>\n",
       "      <td>01/01/2007 12:00:00 AM</td>\n",
       "      <td>55.54867</td>\n",
       "      <td>35.29950</td>\n",
       "      <td>(55.54867, 35.2995)</td>\n",
       "    </tr>\n",
       "    <tr>\n",
       "      <th>36928</th>\n",
       "      <td>Sayh al Uhaymir 023</td>\n",
       "      <td>23215</td>\n",
       "      <td>Valid</td>\n",
       "      <td>H6</td>\n",
       "      <td>136.00</td>\n",
       "      <td>Found</td>\n",
       "      <td>01/01/1999 12:00:00 AM</td>\n",
       "      <td>21.09033</td>\n",
       "      <td>57.24733</td>\n",
       "      <td>(21.09033, 57.24733)</td>\n",
       "    </tr>\n",
       "    <tr>\n",
       "      <th>45289</th>\n",
       "      <td>Yamato 983629</td>\n",
       "      <td>40251</td>\n",
       "      <td>Valid</td>\n",
       "      <td>H/L6</td>\n",
       "      <td>4.46</td>\n",
       "      <td>Found</td>\n",
       "      <td>01/01/1998 12:00:00 AM</td>\n",
       "      <td>0.00000</td>\n",
       "      <td>0.00000</td>\n",
       "      <td>(0.0, 0.0)</td>\n",
       "    </tr>\n",
       "    <tr>\n",
       "      <th>19651</th>\n",
       "      <td>Larkman Nunatak 06817</td>\n",
       "      <td>49689</td>\n",
       "      <td>Valid</td>\n",
       "      <td>H5</td>\n",
       "      <td>73.00</td>\n",
       "      <td>Found</td>\n",
       "      <td>01/01/2006 12:00:00 AM</td>\n",
       "      <td>0.00000</td>\n",
       "      <td>0.00000</td>\n",
       "      <td>(0.0, 0.0)</td>\n",
       "    </tr>\n",
       "  </tbody>\n",
       "</table>\n",
       "</div>"
      ],
      "text/plain": [
       "                        name     id nametype recclass  mass (g)   fall  \\\n",
       "25620    Miller Range 090541  55019    Valid       L6      1.00  Found   \n",
       "5054             Batyushkovo  51586    Valid       L5   4620.00  Found   \n",
       "36928    Sayh al Uhaymir 023  23215    Valid       H6    136.00  Found   \n",
       "45289          Yamato 983629  40251    Valid     H/L6      4.46  Found   \n",
       "19651  Larkman Nunatak 06817  49689    Valid       H5     73.00  Found   \n",
       "\n",
       "                         year    reclat   reclong           GeoLocation  \n",
       "25620  01/01/2009 12:00:00 AM   0.00000   0.00000            (0.0, 0.0)  \n",
       "5054   01/01/2007 12:00:00 AM  55.54867  35.29950   (55.54867, 35.2995)  \n",
       "36928  01/01/1999 12:00:00 AM  21.09033  57.24733  (21.09033, 57.24733)  \n",
       "45289  01/01/1998 12:00:00 AM   0.00000   0.00000            (0.0, 0.0)  \n",
       "19651  01/01/2006 12:00:00 AM   0.00000   0.00000            (0.0, 0.0)  "
      ]
     },
     "execution_count": 11,
     "metadata": {},
     "output_type": "execute_result"
    }
   ],
   "source": [
    "df_meteorites.sample(5)"
   ]
  },
  {
   "cell_type": "code",
   "execution_count": 12,
   "metadata": {
    "colab": {
     "base_uri": "https://localhost:8080/"
    },
    "executionInfo": {
     "elapsed": 221,
     "status": "ok",
     "timestamp": 1647043046401,
     "user": {
      "displayName": "Luis Enrrique Pernia Carroz",
      "photoUrl": "https://lh3.googleusercontent.com/a-/AOh14GgOoKnSpkb2XSRqD2f673ceBYaj8O8lp0tj-qjj4g=s64",
      "userId": "09245467713551539461"
     },
     "user_tz": 180
    },
    "id": "0zz5HamQaYJ7",
    "outputId": "119deb44-f61e-49f2-b6b8-bde159e1232f"
   },
   "outputs": [
    {
     "data": {
      "text/plain": [
       "(45716, 10)"
      ]
     },
     "execution_count": 12,
     "metadata": {},
     "output_type": "execute_result"
    }
   ],
   "source": [
    "df_meteorites.shape"
   ]
  },
  {
   "cell_type": "code",
   "execution_count": 13,
   "metadata": {
    "colab": {
     "base_uri": "https://localhost:8080/"
    },
    "executionInfo": {
     "elapsed": 221,
     "status": "ok",
     "timestamp": 1647043048153,
     "user": {
      "displayName": "Luis Enrrique Pernia Carroz",
      "photoUrl": "https://lh3.googleusercontent.com/a-/AOh14GgOoKnSpkb2XSRqD2f673ceBYaj8O8lp0tj-qjj4g=s64",
      "userId": "09245467713551539461"
     },
     "user_tz": 180
    },
    "id": "QS0-JzAwbUyr",
    "outputId": "bc5667ff-11bf-4a64-faba-a6b46b185b20"
   },
   "outputs": [
    {
     "data": {
      "text/plain": [
       "457160"
      ]
     },
     "execution_count": 13,
     "metadata": {},
     "output_type": "execute_result"
    }
   ],
   "source": [
    "df_meteorites.size #filas por columnas"
   ]
  },
  {
   "cell_type": "code",
   "execution_count": 14,
   "metadata": {
    "colab": {
     "base_uri": "https://localhost:8080/",
     "height": 300
    },
    "executionInfo": {
     "elapsed": 218,
     "status": "ok",
     "timestamp": 1647043089545,
     "user": {
      "displayName": "Luis Enrrique Pernia Carroz",
      "photoUrl": "https://lh3.googleusercontent.com/a-/AOh14GgOoKnSpkb2XSRqD2f673ceBYaj8O8lp0tj-qjj4g=s64",
      "userId": "09245467713551539461"
     },
     "user_tz": 180
    },
    "id": "9-bO1brXhhJD",
    "outputId": "47cf2eb6-850f-4711-924f-c9b8706924d7"
   },
   "outputs": [
    {
     "data": {
      "text/html": [
       "<div>\n",
       "<style scoped>\n",
       "    .dataframe tbody tr th:only-of-type {\n",
       "        vertical-align: middle;\n",
       "    }\n",
       "\n",
       "    .dataframe tbody tr th {\n",
       "        vertical-align: top;\n",
       "    }\n",
       "\n",
       "    .dataframe thead th {\n",
       "        text-align: right;\n",
       "    }\n",
       "</style>\n",
       "<table border=\"1\" class=\"dataframe\">\n",
       "  <thead>\n",
       "    <tr style=\"text-align: right;\">\n",
       "      <th></th>\n",
       "      <th>id</th>\n",
       "      <th>mass (g)</th>\n",
       "      <th>reclat</th>\n",
       "      <th>reclong</th>\n",
       "    </tr>\n",
       "  </thead>\n",
       "  <tbody>\n",
       "    <tr>\n",
       "      <th>count</th>\n",
       "      <td>45716.000000</td>\n",
       "      <td>4.558500e+04</td>\n",
       "      <td>38401.000000</td>\n",
       "      <td>38401.000000</td>\n",
       "    </tr>\n",
       "    <tr>\n",
       "      <th>mean</th>\n",
       "      <td>26889.735104</td>\n",
       "      <td>1.327808e+04</td>\n",
       "      <td>-39.122580</td>\n",
       "      <td>61.074319</td>\n",
       "    </tr>\n",
       "    <tr>\n",
       "      <th>std</th>\n",
       "      <td>16860.683030</td>\n",
       "      <td>5.749889e+05</td>\n",
       "      <td>46.378511</td>\n",
       "      <td>80.647298</td>\n",
       "    </tr>\n",
       "    <tr>\n",
       "      <th>min</th>\n",
       "      <td>1.000000</td>\n",
       "      <td>0.000000e+00</td>\n",
       "      <td>-87.366670</td>\n",
       "      <td>-165.433330</td>\n",
       "    </tr>\n",
       "    <tr>\n",
       "      <th>25%</th>\n",
       "      <td>12688.750000</td>\n",
       "      <td>7.200000e+00</td>\n",
       "      <td>-76.714240</td>\n",
       "      <td>0.000000</td>\n",
       "    </tr>\n",
       "    <tr>\n",
       "      <th>50%</th>\n",
       "      <td>24261.500000</td>\n",
       "      <td>3.260000e+01</td>\n",
       "      <td>-71.500000</td>\n",
       "      <td>35.666670</td>\n",
       "    </tr>\n",
       "    <tr>\n",
       "      <th>75%</th>\n",
       "      <td>40656.750000</td>\n",
       "      <td>2.026000e+02</td>\n",
       "      <td>0.000000</td>\n",
       "      <td>157.166670</td>\n",
       "    </tr>\n",
       "    <tr>\n",
       "      <th>max</th>\n",
       "      <td>57458.000000</td>\n",
       "      <td>6.000000e+07</td>\n",
       "      <td>81.166670</td>\n",
       "      <td>354.473330</td>\n",
       "    </tr>\n",
       "  </tbody>\n",
       "</table>\n",
       "</div>"
      ],
      "text/plain": [
       "                 id      mass (g)        reclat       reclong\n",
       "count  45716.000000  4.558500e+04  38401.000000  38401.000000\n",
       "mean   26889.735104  1.327808e+04    -39.122580     61.074319\n",
       "std    16860.683030  5.749889e+05     46.378511     80.647298\n",
       "min        1.000000  0.000000e+00    -87.366670   -165.433330\n",
       "25%    12688.750000  7.200000e+00    -76.714240      0.000000\n",
       "50%    24261.500000  3.260000e+01    -71.500000     35.666670\n",
       "75%    40656.750000  2.026000e+02      0.000000    157.166670\n",
       "max    57458.000000  6.000000e+07     81.166670    354.473330"
      ]
     },
     "execution_count": 14,
     "metadata": {},
     "output_type": "execute_result"
    }
   ],
   "source": [
    "df_meteorites.describe()"
   ]
  },
  {
   "cell_type": "code",
   "execution_count": null,
   "metadata": {},
   "outputs": [],
   "source": [
    "df_meteorites.corr()"
   ]
  },
  {
   "cell_type": "code",
   "execution_count": 15,
   "metadata": {
    "executionInfo": {
     "elapsed": 216,
     "status": "ok",
     "timestamp": 1647043084635,
     "user": {
      "displayName": "Luis Enrrique Pernia Carroz",
      "photoUrl": "https://lh3.googleusercontent.com/a-/AOh14GgOoKnSpkb2XSRqD2f673ceBYaj8O8lp0tj-qjj4g=s64",
      "userId": "09245467713551539461"
     },
     "user_tz": 180
    },
    "id": "KXwtyabVhmJS"
   },
   "outputs": [],
   "source": [
    "pd.options.display.float_format = '{:,.1f}'.format #colocar formato de decimales"
   ]
  },
  {
   "cell_type": "code",
   "execution_count": 16,
   "metadata": {
    "colab": {
     "base_uri": "https://localhost:8080/",
     "height": 394
    },
    "executionInfo": {
     "elapsed": 232,
     "status": "ok",
     "timestamp": 1647043086837,
     "user": {
      "displayName": "Luis Enrrique Pernia Carroz",
      "photoUrl": "https://lh3.googleusercontent.com/a-/AOh14GgOoKnSpkb2XSRqD2f673ceBYaj8O8lp0tj-qjj4g=s64",
      "userId": "09245467713551539461"
     },
     "user_tz": 180
    },
    "id": "auh1p-DGh6X8",
    "outputId": "bd7080b0-d26b-486f-abad-96ad01701bed"
   },
   "outputs": [
    {
     "data": {
      "text/html": [
       "<div>\n",
       "<style scoped>\n",
       "    .dataframe tbody tr th:only-of-type {\n",
       "        vertical-align: middle;\n",
       "    }\n",
       "\n",
       "    .dataframe tbody tr th {\n",
       "        vertical-align: top;\n",
       "    }\n",
       "\n",
       "    .dataframe thead th {\n",
       "        text-align: right;\n",
       "    }\n",
       "</style>\n",
       "<table border=\"1\" class=\"dataframe\">\n",
       "  <thead>\n",
       "    <tr style=\"text-align: right;\">\n",
       "      <th></th>\n",
       "      <th>name</th>\n",
       "      <th>id</th>\n",
       "      <th>nametype</th>\n",
       "      <th>recclass</th>\n",
       "      <th>mass (g)</th>\n",
       "      <th>fall</th>\n",
       "      <th>year</th>\n",
       "      <th>reclat</th>\n",
       "      <th>reclong</th>\n",
       "      <th>GeoLocation</th>\n",
       "    </tr>\n",
       "  </thead>\n",
       "  <tbody>\n",
       "    <tr>\n",
       "      <th>count</th>\n",
       "      <td>45716</td>\n",
       "      <td>45,716.0</td>\n",
       "      <td>45716</td>\n",
       "      <td>45716</td>\n",
       "      <td>45,585.0</td>\n",
       "      <td>45716</td>\n",
       "      <td>45425</td>\n",
       "      <td>38,401.0</td>\n",
       "      <td>38,401.0</td>\n",
       "      <td>38401</td>\n",
       "    </tr>\n",
       "    <tr>\n",
       "      <th>unique</th>\n",
       "      <td>45716</td>\n",
       "      <td>NaN</td>\n",
       "      <td>2</td>\n",
       "      <td>466</td>\n",
       "      <td>NaN</td>\n",
       "      <td>2</td>\n",
       "      <td>266</td>\n",
       "      <td>NaN</td>\n",
       "      <td>NaN</td>\n",
       "      <td>17100</td>\n",
       "    </tr>\n",
       "    <tr>\n",
       "      <th>top</th>\n",
       "      <td>Aachen</td>\n",
       "      <td>NaN</td>\n",
       "      <td>Valid</td>\n",
       "      <td>L6</td>\n",
       "      <td>NaN</td>\n",
       "      <td>Found</td>\n",
       "      <td>01/01/2003 12:00:00 AM</td>\n",
       "      <td>NaN</td>\n",
       "      <td>NaN</td>\n",
       "      <td>(0.0, 0.0)</td>\n",
       "    </tr>\n",
       "    <tr>\n",
       "      <th>freq</th>\n",
       "      <td>1</td>\n",
       "      <td>NaN</td>\n",
       "      <td>45641</td>\n",
       "      <td>8285</td>\n",
       "      <td>NaN</td>\n",
       "      <td>44609</td>\n",
       "      <td>3323</td>\n",
       "      <td>NaN</td>\n",
       "      <td>NaN</td>\n",
       "      <td>6214</td>\n",
       "    </tr>\n",
       "    <tr>\n",
       "      <th>mean</th>\n",
       "      <td>NaN</td>\n",
       "      <td>26,889.7</td>\n",
       "      <td>NaN</td>\n",
       "      <td>NaN</td>\n",
       "      <td>13,278.1</td>\n",
       "      <td>NaN</td>\n",
       "      <td>NaN</td>\n",
       "      <td>-39.1</td>\n",
       "      <td>61.1</td>\n",
       "      <td>NaN</td>\n",
       "    </tr>\n",
       "    <tr>\n",
       "      <th>std</th>\n",
       "      <td>NaN</td>\n",
       "      <td>16,860.7</td>\n",
       "      <td>NaN</td>\n",
       "      <td>NaN</td>\n",
       "      <td>574,988.9</td>\n",
       "      <td>NaN</td>\n",
       "      <td>NaN</td>\n",
       "      <td>46.4</td>\n",
       "      <td>80.6</td>\n",
       "      <td>NaN</td>\n",
       "    </tr>\n",
       "    <tr>\n",
       "      <th>min</th>\n",
       "      <td>NaN</td>\n",
       "      <td>1.0</td>\n",
       "      <td>NaN</td>\n",
       "      <td>NaN</td>\n",
       "      <td>0.0</td>\n",
       "      <td>NaN</td>\n",
       "      <td>NaN</td>\n",
       "      <td>-87.4</td>\n",
       "      <td>-165.4</td>\n",
       "      <td>NaN</td>\n",
       "    </tr>\n",
       "    <tr>\n",
       "      <th>25%</th>\n",
       "      <td>NaN</td>\n",
       "      <td>12,688.8</td>\n",
       "      <td>NaN</td>\n",
       "      <td>NaN</td>\n",
       "      <td>7.2</td>\n",
       "      <td>NaN</td>\n",
       "      <td>NaN</td>\n",
       "      <td>-76.7</td>\n",
       "      <td>0.0</td>\n",
       "      <td>NaN</td>\n",
       "    </tr>\n",
       "    <tr>\n",
       "      <th>50%</th>\n",
       "      <td>NaN</td>\n",
       "      <td>24,261.5</td>\n",
       "      <td>NaN</td>\n",
       "      <td>NaN</td>\n",
       "      <td>32.6</td>\n",
       "      <td>NaN</td>\n",
       "      <td>NaN</td>\n",
       "      <td>-71.5</td>\n",
       "      <td>35.7</td>\n",
       "      <td>NaN</td>\n",
       "    </tr>\n",
       "    <tr>\n",
       "      <th>75%</th>\n",
       "      <td>NaN</td>\n",
       "      <td>40,656.8</td>\n",
       "      <td>NaN</td>\n",
       "      <td>NaN</td>\n",
       "      <td>202.6</td>\n",
       "      <td>NaN</td>\n",
       "      <td>NaN</td>\n",
       "      <td>0.0</td>\n",
       "      <td>157.2</td>\n",
       "      <td>NaN</td>\n",
       "    </tr>\n",
       "    <tr>\n",
       "      <th>max</th>\n",
       "      <td>NaN</td>\n",
       "      <td>57,458.0</td>\n",
       "      <td>NaN</td>\n",
       "      <td>NaN</td>\n",
       "      <td>60,000,000.0</td>\n",
       "      <td>NaN</td>\n",
       "      <td>NaN</td>\n",
       "      <td>81.2</td>\n",
       "      <td>354.5</td>\n",
       "      <td>NaN</td>\n",
       "    </tr>\n",
       "  </tbody>\n",
       "</table>\n",
       "</div>"
      ],
      "text/plain": [
       "          name       id nametype recclass     mass (g)   fall  \\\n",
       "count    45716 45,716.0    45716    45716     45,585.0  45716   \n",
       "unique   45716      NaN        2      466          NaN      2   \n",
       "top     Aachen      NaN    Valid       L6          NaN  Found   \n",
       "freq         1      NaN    45641     8285          NaN  44609   \n",
       "mean       NaN 26,889.7      NaN      NaN     13,278.1    NaN   \n",
       "std        NaN 16,860.7      NaN      NaN    574,988.9    NaN   \n",
       "min        NaN      1.0      NaN      NaN          0.0    NaN   \n",
       "25%        NaN 12,688.8      NaN      NaN          7.2    NaN   \n",
       "50%        NaN 24,261.5      NaN      NaN         32.6    NaN   \n",
       "75%        NaN 40,656.8      NaN      NaN        202.6    NaN   \n",
       "max        NaN 57,458.0      NaN      NaN 60,000,000.0    NaN   \n",
       "\n",
       "                          year   reclat  reclong GeoLocation  \n",
       "count                    45425 38,401.0 38,401.0       38401  \n",
       "unique                     266      NaN      NaN       17100  \n",
       "top     01/01/2003 12:00:00 AM      NaN      NaN  (0.0, 0.0)  \n",
       "freq                      3323      NaN      NaN        6214  \n",
       "mean                       NaN    -39.1     61.1         NaN  \n",
       "std                        NaN     46.4     80.6         NaN  \n",
       "min                        NaN    -87.4   -165.4         NaN  \n",
       "25%                        NaN    -76.7      0.0         NaN  \n",
       "50%                        NaN    -71.5     35.7         NaN  \n",
       "75%                        NaN      0.0    157.2         NaN  \n",
       "max                        NaN     81.2    354.5         NaN  "
      ]
     },
     "execution_count": 16,
     "metadata": {},
     "output_type": "execute_result"
    }
   ],
   "source": [
    "df_meteorites.describe(include='all') #incluir mas informacion"
   ]
  },
  {
   "cell_type": "code",
   "execution_count": 17,
   "metadata": {
    "colab": {
     "base_uri": "https://localhost:8080/"
    },
    "executionInfo": {
     "elapsed": 209,
     "status": "ok",
     "timestamp": 1647043093358,
     "user": {
      "displayName": "Luis Enrrique Pernia Carroz",
      "photoUrl": "https://lh3.googleusercontent.com/a-/AOh14GgOoKnSpkb2XSRqD2f673ceBYaj8O8lp0tj-qjj4g=s64",
      "userId": "09245467713551539461"
     },
     "user_tz": 180
    },
    "id": "E9CsoieYjQLh",
    "outputId": "74ca4771-d809-4f34-b9f0-08f1486ce968"
   },
   "outputs": [
    {
     "name": "stdout",
     "output_type": "stream",
     "text": [
      "<class 'pandas.core.frame.DataFrame'>\n",
      "RangeIndex: 45716 entries, 0 to 45715\n",
      "Data columns (total 10 columns):\n",
      " #   Column       Non-Null Count  Dtype  \n",
      "---  ------       --------------  -----  \n",
      " 0   name         45716 non-null  object \n",
      " 1   id           45716 non-null  int64  \n",
      " 2   nametype     45716 non-null  object \n",
      " 3   recclass     45716 non-null  object \n",
      " 4   mass (g)     45585 non-null  float64\n",
      " 5   fall         45716 non-null  object \n",
      " 6   year         45425 non-null  object \n",
      " 7   reclat       38401 non-null  float64\n",
      " 8   reclong      38401 non-null  float64\n",
      " 9   GeoLocation  38401 non-null  object \n",
      "dtypes: float64(3), int64(1), object(6)\n",
      "memory usage: 3.5+ MB\n"
     ]
    }
   ],
   "source": [
    "df_meteorites.info() #ver categorias, object = texto"
   ]
  },
  {
   "cell_type": "code",
   "execution_count": 2,
   "metadata": {},
   "outputs": [
    {
     "data": {
      "text/plain": [
       "['__abs__',\n",
       " '__add__',\n",
       " '__and__',\n",
       " '__bool__',\n",
       " '__ceil__',\n",
       " '__class__',\n",
       " '__delattr__',\n",
       " '__dir__',\n",
       " '__divmod__',\n",
       " '__doc__',\n",
       " '__eq__',\n",
       " '__float__',\n",
       " '__floor__',\n",
       " '__floordiv__',\n",
       " '__format__',\n",
       " '__ge__',\n",
       " '__getattribute__',\n",
       " '__getnewargs__',\n",
       " '__gt__',\n",
       " '__hash__',\n",
       " '__index__',\n",
       " '__init__',\n",
       " '__init_subclass__',\n",
       " '__int__',\n",
       " '__invert__',\n",
       " '__le__',\n",
       " '__lshift__',\n",
       " '__lt__',\n",
       " '__mod__',\n",
       " '__mul__',\n",
       " '__ne__',\n",
       " '__neg__',\n",
       " '__new__',\n",
       " '__or__',\n",
       " '__pos__',\n",
       " '__pow__',\n",
       " '__radd__',\n",
       " '__rand__',\n",
       " '__rdivmod__',\n",
       " '__reduce__',\n",
       " '__reduce_ex__',\n",
       " '__repr__',\n",
       " '__rfloordiv__',\n",
       " '__rlshift__',\n",
       " '__rmod__',\n",
       " '__rmul__',\n",
       " '__ror__',\n",
       " '__round__',\n",
       " '__rpow__',\n",
       " '__rrshift__',\n",
       " '__rshift__',\n",
       " '__rsub__',\n",
       " '__rtruediv__',\n",
       " '__rxor__',\n",
       " '__setattr__',\n",
       " '__sizeof__',\n",
       " '__str__',\n",
       " '__sub__',\n",
       " '__subclasshook__',\n",
       " '__truediv__',\n",
       " '__trunc__',\n",
       " '__xor__',\n",
       " 'as_integer_ratio',\n",
       " 'bit_count',\n",
       " 'bit_length',\n",
       " 'conjugate',\n",
       " 'denominator',\n",
       " 'from_bytes',\n",
       " 'imag',\n",
       " 'numerator',\n",
       " 'real',\n",
       " 'to_bytes']"
      ]
     },
     "execution_count": 2,
     "metadata": {},
     "output_type": "execute_result"
    }
   ],
   "source": [
    "dir(1) #ver metodos de un tipo de dato"
   ]
  },
  {
   "cell_type": "code",
   "execution_count": 3,
   "metadata": {},
   "outputs": [
    {
     "data": {
      "text/plain": [
       "int"
      ]
     },
     "execution_count": 3,
     "metadata": {},
     "output_type": "execute_result"
    }
   ],
   "source": [
    "type(1)#ver tipo."
   ]
  },
  {
   "cell_type": "code",
   "execution_count": 18,
   "metadata": {
    "colab": {
     "base_uri": "https://localhost:8080/"
    },
    "executionInfo": {
     "elapsed": 198,
     "status": "ok",
     "timestamp": 1647043102056,
     "user": {
      "displayName": "Luis Enrrique Pernia Carroz",
      "photoUrl": "https://lh3.googleusercontent.com/a-/AOh14GgOoKnSpkb2XSRqD2f673ceBYaj8O8lp0tj-qjj4g=s64",
      "userId": "09245467713551539461"
     },
     "user_tz": 180
    },
    "id": "0VQ3msD2kTFD",
    "outputId": "b2d04d1e-993a-4771-84ed-256fafe1ceef"
   },
   "outputs": [
    {
     "data": {
      "text/plain": [
       "name            object\n",
       "id               int64\n",
       "nametype        object\n",
       "recclass        object\n",
       "mass (g)       float64\n",
       "fall            object\n",
       "year            object\n",
       "reclat         float64\n",
       "reclong        float64\n",
       "GeoLocation     object\n",
       "dtype: object"
      ]
     },
     "execution_count": 18,
     "metadata": {},
     "output_type": "execute_result"
    }
   ],
   "source": [
    "df_meteorites.dtypes"
   ]
  },
  {
   "cell_type": "code",
   "execution_count": 19,
   "metadata": {
    "colab": {
     "base_uri": "https://localhost:8080/"
    },
    "executionInfo": {
     "elapsed": 199,
     "status": "ok",
     "timestamp": 1647043104356,
     "user": {
      "displayName": "Luis Enrrique Pernia Carroz",
      "photoUrl": "https://lh3.googleusercontent.com/a-/AOh14GgOoKnSpkb2XSRqD2f673ceBYaj8O8lp0tj-qjj4g=s64",
      "userId": "09245467713551539461"
     },
     "user_tz": 180
    },
    "id": "QV5loZ06kzOs",
    "outputId": "674ac22e-6336-450d-f1b3-c58f632dfe8d"
   },
   "outputs": [
    {
     "data": {
      "text/plain": [
       "name            string\n",
       "id               Int64\n",
       "nametype        string\n",
       "recclass        string\n",
       "mass (g)       Float64\n",
       "fall            string\n",
       "year            string\n",
       "reclat         Float64\n",
       "reclong        Float64\n",
       "GeoLocation     string\n",
       "dtype: object"
      ]
     },
     "execution_count": 19,
     "metadata": {},
     "output_type": "execute_result"
    }
   ],
   "source": [
    "df_meteorites.convert_dtypes().dtypes #convertir encontrando el formato mas adecuado para las variables"
   ]
  },
  {
   "cell_type": "code",
   "execution_count": 20,
   "metadata": {
    "colab": {
     "base_uri": "https://localhost:8080/"
    },
    "executionInfo": {
     "elapsed": 2,
     "status": "ok",
     "timestamp": 1647043106392,
     "user": {
      "displayName": "Luis Enrrique Pernia Carroz",
      "photoUrl": "https://lh3.googleusercontent.com/a-/AOh14GgOoKnSpkb2XSRqD2f673ceBYaj8O8lp0tj-qjj4g=s64",
      "userId": "09245467713551539461"
     },
     "user_tz": 180
    },
    "id": "A-4J1o7hmMsK",
    "outputId": "2be2e125-5342-413f-ee49-0fa241f33bde"
   },
   "outputs": [
    {
     "data": {
      "text/plain": [
       "name           45716\n",
       "id             45716\n",
       "nametype           2\n",
       "recclass         466\n",
       "mass (g)       12576\n",
       "fall               2\n",
       "year             266\n",
       "reclat         12738\n",
       "reclong        14640\n",
       "GeoLocation    17100\n",
       "dtype: int64"
      ]
     },
     "execution_count": 20,
     "metadata": {},
     "output_type": "execute_result"
    }
   ],
   "source": [
    "df_meteorites.nunique() #ver valores unicos de las columnas del dataframe"
   ]
  },
  {
   "cell_type": "code",
   "execution_count": 21,
   "metadata": {
    "colab": {
     "base_uri": "https://localhost:8080/",
     "height": 423
    },
    "executionInfo": {
     "elapsed": 204,
     "status": "ok",
     "timestamp": 1647043109630,
     "user": {
      "displayName": "Luis Enrrique Pernia Carroz",
      "photoUrl": "https://lh3.googleusercontent.com/a-/AOh14GgOoKnSpkb2XSRqD2f673ceBYaj8O8lp0tj-qjj4g=s64",
      "userId": "09245467713551539461"
     },
     "user_tz": 180
    },
    "id": "lt4OW8_9nrD0",
    "outputId": "9d7f8541-e70c-41ee-deb0-93e8f9966298"
   },
   "outputs": [
    {
     "data": {
      "text/html": [
       "<div>\n",
       "<style scoped>\n",
       "    .dataframe tbody tr th:only-of-type {\n",
       "        vertical-align: middle;\n",
       "    }\n",
       "\n",
       "    .dataframe tbody tr th {\n",
       "        vertical-align: top;\n",
       "    }\n",
       "\n",
       "    .dataframe thead th {\n",
       "        text-align: right;\n",
       "    }\n",
       "</style>\n",
       "<table border=\"1\" class=\"dataframe\">\n",
       "  <thead>\n",
       "    <tr style=\"text-align: right;\">\n",
       "      <th></th>\n",
       "      <th>fall</th>\n",
       "      <th>nametype</th>\n",
       "    </tr>\n",
       "  </thead>\n",
       "  <tbody>\n",
       "    <tr>\n",
       "      <th>0</th>\n",
       "      <td>Fell</td>\n",
       "      <td>Valid</td>\n",
       "    </tr>\n",
       "    <tr>\n",
       "      <th>1</th>\n",
       "      <td>Fell</td>\n",
       "      <td>Valid</td>\n",
       "    </tr>\n",
       "    <tr>\n",
       "      <th>2</th>\n",
       "      <td>Fell</td>\n",
       "      <td>Valid</td>\n",
       "    </tr>\n",
       "    <tr>\n",
       "      <th>3</th>\n",
       "      <td>Fell</td>\n",
       "      <td>Valid</td>\n",
       "    </tr>\n",
       "    <tr>\n",
       "      <th>4</th>\n",
       "      <td>Fell</td>\n",
       "      <td>Valid</td>\n",
       "    </tr>\n",
       "    <tr>\n",
       "      <th>...</th>\n",
       "      <td>...</td>\n",
       "      <td>...</td>\n",
       "    </tr>\n",
       "    <tr>\n",
       "      <th>45711</th>\n",
       "      <td>Found</td>\n",
       "      <td>Valid</td>\n",
       "    </tr>\n",
       "    <tr>\n",
       "      <th>45712</th>\n",
       "      <td>Found</td>\n",
       "      <td>Valid</td>\n",
       "    </tr>\n",
       "    <tr>\n",
       "      <th>45713</th>\n",
       "      <td>Found</td>\n",
       "      <td>Valid</td>\n",
       "    </tr>\n",
       "    <tr>\n",
       "      <th>45714</th>\n",
       "      <td>Found</td>\n",
       "      <td>Valid</td>\n",
       "    </tr>\n",
       "    <tr>\n",
       "      <th>45715</th>\n",
       "      <td>Found</td>\n",
       "      <td>Valid</td>\n",
       "    </tr>\n",
       "  </tbody>\n",
       "</table>\n",
       "<p>45716 rows × 2 columns</p>\n",
       "</div>"
      ],
      "text/plain": [
       "        fall nametype\n",
       "0       Fell    Valid\n",
       "1       Fell    Valid\n",
       "2       Fell    Valid\n",
       "3       Fell    Valid\n",
       "4       Fell    Valid\n",
       "...      ...      ...\n",
       "45711  Found    Valid\n",
       "45712  Found    Valid\n",
       "45713  Found    Valid\n",
       "45714  Found    Valid\n",
       "45715  Found    Valid\n",
       "\n",
       "[45716 rows x 2 columns]"
      ]
     },
     "execution_count": 21,
     "metadata": {},
     "output_type": "execute_result"
    }
   ],
   "source": [
    "df_meteorites[['fall','nametype']]"
   ]
  },
  {
   "cell_type": "code",
   "execution_count": 22,
   "metadata": {
    "executionInfo": {
     "elapsed": 2,
     "status": "ok",
     "timestamp": 1647043112522,
     "user": {
      "displayName": "Luis Enrrique Pernia Carroz",
      "photoUrl": "https://lh3.googleusercontent.com/a-/AOh14GgOoKnSpkb2XSRqD2f673ceBYaj8O8lp0tj-qjj4g=s64",
      "userId": "09245467713551539461"
     },
     "user_tz": 180
    },
    "id": "Gkwh08ign1Ai"
   },
   "outputs": [],
   "source": [
    "df_meteorites[['fall','nametype']] = df_meteorites[['fall','nametype']].astype('category')"
   ]
  },
  {
   "cell_type": "code",
   "execution_count": 23,
   "metadata": {
    "colab": {
     "base_uri": "https://localhost:8080/"
    },
    "executionInfo": {
     "elapsed": 216,
     "status": "ok",
     "timestamp": 1647043115196,
     "user": {
      "displayName": "Luis Enrrique Pernia Carroz",
      "photoUrl": "https://lh3.googleusercontent.com/a-/AOh14GgOoKnSpkb2XSRqD2f673ceBYaj8O8lp0tj-qjj4g=s64",
      "userId": "09245467713551539461"
     },
     "user_tz": 180
    },
    "id": "VzNU3RzXqCkJ",
    "outputId": "ba0dbd9b-fa36-47a9-f853-7c004b871b87"
   },
   "outputs": [
    {
     "data": {
      "text/plain": [
       "name             object\n",
       "id                int64\n",
       "nametype       category\n",
       "recclass         object\n",
       "mass (g)        float64\n",
       "fall           category\n",
       "year             object\n",
       "reclat          float64\n",
       "reclong         float64\n",
       "GeoLocation      object\n",
       "dtype: object"
      ]
     },
     "execution_count": 23,
     "metadata": {},
     "output_type": "execute_result"
    }
   ],
   "source": [
    "df_meteorites.dtypes #ver la nueva categoria 'category'"
   ]
  },
  {
   "cell_type": "code",
   "execution_count": 24,
   "metadata": {
    "colab": {
     "base_uri": "https://localhost:8080/"
    },
    "executionInfo": {
     "elapsed": 220,
     "status": "ok",
     "timestamp": 1647043121359,
     "user": {
      "displayName": "Luis Enrrique Pernia Carroz",
      "photoUrl": "https://lh3.googleusercontent.com/a-/AOh14GgOoKnSpkb2XSRqD2f673ceBYaj8O8lp0tj-qjj4g=s64",
      "userId": "09245467713551539461"
     },
     "user_tz": 180
    },
    "id": "vElRhhtqqT9b",
    "outputId": "b73cb673-de46-46ba-f54d-3942fcd170b0"
   },
   "outputs": [
    {
     "data": {
      "text/plain": [
       "['Fell', 'Found']\n",
       "Categories (2, object): ['Fell', 'Found']"
      ]
     },
     "execution_count": 24,
     "metadata": {},
     "output_type": "execute_result"
    }
   ],
   "source": [
    "df_meteorites['fall'].unique() #encontrar valores unicos en una columna"
   ]
  },
  {
   "cell_type": "code",
   "execution_count": 25,
   "metadata": {
    "colab": {
     "base_uri": "https://localhost:8080/"
    },
    "executionInfo": {
     "elapsed": 318,
     "status": "ok",
     "timestamp": 1647043123919,
     "user": {
      "displayName": "Luis Enrrique Pernia Carroz",
      "photoUrl": "https://lh3.googleusercontent.com/a-/AOh14GgOoKnSpkb2XSRqD2f673ceBYaj8O8lp0tj-qjj4g=s64",
      "userId": "09245467713551539461"
     },
     "user_tz": 180
    },
    "id": "V_echd-uqbvK",
    "outputId": "d1bafe4d-fdd0-476c-e29c-60dbb13d5294"
   },
   "outputs": [
    {
     "data": {
      "text/plain": [
       "Found    44609\n",
       "Fell      1107\n",
       "Name: fall, dtype: int64"
      ]
     },
     "execution_count": 25,
     "metadata": {},
     "output_type": "execute_result"
    }
   ],
   "source": [
    "df_meteorites['fall'].value_counts() #encontrar valores unicos con su frecuencia"
   ]
  },
  {
   "cell_type": "code",
   "execution_count": 26,
   "metadata": {
    "colab": {
     "base_uri": "https://localhost:8080/",
     "height": 423
    },
    "executionInfo": {
     "elapsed": 364,
     "status": "ok",
     "timestamp": 1646997710283,
     "user": {
      "displayName": "Luis Enrrique Pernia Carroz",
      "photoUrl": "https://lh3.googleusercontent.com/a-/AOh14GgOoKnSpkb2XSRqD2f673ceBYaj8O8lp0tj-qjj4g=s64",
      "userId": "09245467713551539461"
     },
     "user_tz": 180
    },
    "id": "M3HzGiQustBL",
    "outputId": "f7355702-5d20-48cf-8ffa-dd9dabcd6312"
   },
   "outputs": [
    {
     "data": {
      "text/html": [
       "<div>\n",
       "<style scoped>\n",
       "    .dataframe tbody tr th:only-of-type {\n",
       "        vertical-align: middle;\n",
       "    }\n",
       "\n",
       "    .dataframe tbody tr th {\n",
       "        vertical-align: top;\n",
       "    }\n",
       "\n",
       "    .dataframe thead th {\n",
       "        text-align: right;\n",
       "    }\n",
       "</style>\n",
       "<table border=\"1\" class=\"dataframe\">\n",
       "  <thead>\n",
       "    <tr style=\"text-align: right;\">\n",
       "      <th></th>\n",
       "      <th>Fell</th>\n",
       "      <th>Found</th>\n",
       "    </tr>\n",
       "  </thead>\n",
       "  <tbody>\n",
       "    <tr>\n",
       "      <th>0</th>\n",
       "      <td>1</td>\n",
       "      <td>0</td>\n",
       "    </tr>\n",
       "    <tr>\n",
       "      <th>1</th>\n",
       "      <td>1</td>\n",
       "      <td>0</td>\n",
       "    </tr>\n",
       "    <tr>\n",
       "      <th>2</th>\n",
       "      <td>1</td>\n",
       "      <td>0</td>\n",
       "    </tr>\n",
       "    <tr>\n",
       "      <th>3</th>\n",
       "      <td>1</td>\n",
       "      <td>0</td>\n",
       "    </tr>\n",
       "    <tr>\n",
       "      <th>4</th>\n",
       "      <td>1</td>\n",
       "      <td>0</td>\n",
       "    </tr>\n",
       "    <tr>\n",
       "      <th>...</th>\n",
       "      <td>...</td>\n",
       "      <td>...</td>\n",
       "    </tr>\n",
       "    <tr>\n",
       "      <th>45711</th>\n",
       "      <td>0</td>\n",
       "      <td>1</td>\n",
       "    </tr>\n",
       "    <tr>\n",
       "      <th>45712</th>\n",
       "      <td>0</td>\n",
       "      <td>1</td>\n",
       "    </tr>\n",
       "    <tr>\n",
       "      <th>45713</th>\n",
       "      <td>0</td>\n",
       "      <td>1</td>\n",
       "    </tr>\n",
       "    <tr>\n",
       "      <th>45714</th>\n",
       "      <td>0</td>\n",
       "      <td>1</td>\n",
       "    </tr>\n",
       "    <tr>\n",
       "      <th>45715</th>\n",
       "      <td>0</td>\n",
       "      <td>1</td>\n",
       "    </tr>\n",
       "  </tbody>\n",
       "</table>\n",
       "<p>45716 rows × 2 columns</p>\n",
       "</div>"
      ],
      "text/plain": [
       "       Fell  Found\n",
       "0         1      0\n",
       "1         1      0\n",
       "2         1      0\n",
       "3         1      0\n",
       "4         1      0\n",
       "...     ...    ...\n",
       "45711     0      1\n",
       "45712     0      1\n",
       "45713     0      1\n",
       "45714     0      1\n",
       "45715     0      1\n",
       "\n",
       "[45716 rows x 2 columns]"
      ]
     },
     "execution_count": 26,
     "metadata": {},
     "output_type": "execute_result"
    }
   ],
   "source": [
    "pd.get_dummies(df_meteorites['fall'])"
   ]
  },
  {
   "cell_type": "code",
   "execution_count": 27,
   "metadata": {
    "colab": {
     "base_uri": "https://localhost:8080/",
     "height": 423
    },
    "executionInfo": {
     "elapsed": 210,
     "status": "ok",
     "timestamp": 1647043148084,
     "user": {
      "displayName": "Luis Enrrique Pernia Carroz",
      "photoUrl": "https://lh3.googleusercontent.com/a-/AOh14GgOoKnSpkb2XSRqD2f673ceBYaj8O8lp0tj-qjj4g=s64",
      "userId": "09245467713551539461"
     },
     "user_tz": 180
    },
    "id": "spqty02PtqD6",
    "outputId": "80a22acd-9d64-4fa6-ff26-4e8af112b4a4"
   },
   "outputs": [
    {
     "data": {
      "text/html": [
       "<div>\n",
       "<style scoped>\n",
       "    .dataframe tbody tr th:only-of-type {\n",
       "        vertical-align: middle;\n",
       "    }\n",
       "\n",
       "    .dataframe tbody tr th {\n",
       "        vertical-align: top;\n",
       "    }\n",
       "\n",
       "    .dataframe thead th {\n",
       "        text-align: right;\n",
       "    }\n",
       "</style>\n",
       "<table border=\"1\" class=\"dataframe\">\n",
       "  <thead>\n",
       "    <tr style=\"text-align: right;\">\n",
       "      <th></th>\n",
       "      <th>name</th>\n",
       "      <th>id</th>\n",
       "      <th>nametype</th>\n",
       "      <th>recclass</th>\n",
       "      <th>mass (g)</th>\n",
       "      <th>fall</th>\n",
       "      <th>year</th>\n",
       "      <th>reclat</th>\n",
       "      <th>reclong</th>\n",
       "      <th>GeoLocation</th>\n",
       "      <th>ones</th>\n",
       "    </tr>\n",
       "  </thead>\n",
       "  <tbody>\n",
       "    <tr>\n",
       "      <th>0</th>\n",
       "      <td>Aachen</td>\n",
       "      <td>1</td>\n",
       "      <td>Valid</td>\n",
       "      <td>L5</td>\n",
       "      <td>21.0</td>\n",
       "      <td>Fell</td>\n",
       "      <td>01/01/1880 12:00:00 AM</td>\n",
       "      <td>50.8</td>\n",
       "      <td>6.1</td>\n",
       "      <td>(50.775, 6.08333)</td>\n",
       "      <td>1</td>\n",
       "    </tr>\n",
       "    <tr>\n",
       "      <th>1</th>\n",
       "      <td>Aarhus</td>\n",
       "      <td>2</td>\n",
       "      <td>Valid</td>\n",
       "      <td>H6</td>\n",
       "      <td>720.0</td>\n",
       "      <td>Fell</td>\n",
       "      <td>01/01/1951 12:00:00 AM</td>\n",
       "      <td>56.2</td>\n",
       "      <td>10.2</td>\n",
       "      <td>(56.18333, 10.23333)</td>\n",
       "      <td>1</td>\n",
       "    </tr>\n",
       "    <tr>\n",
       "      <th>2</th>\n",
       "      <td>Abee</td>\n",
       "      <td>6</td>\n",
       "      <td>Valid</td>\n",
       "      <td>EH4</td>\n",
       "      <td>107,000.0</td>\n",
       "      <td>Fell</td>\n",
       "      <td>01/01/1952 12:00:00 AM</td>\n",
       "      <td>54.2</td>\n",
       "      <td>-113.0</td>\n",
       "      <td>(54.21667, -113.0)</td>\n",
       "      <td>1</td>\n",
       "    </tr>\n",
       "    <tr>\n",
       "      <th>3</th>\n",
       "      <td>Acapulco</td>\n",
       "      <td>10</td>\n",
       "      <td>Valid</td>\n",
       "      <td>Acapulcoite</td>\n",
       "      <td>1,914.0</td>\n",
       "      <td>Fell</td>\n",
       "      <td>01/01/1976 12:00:00 AM</td>\n",
       "      <td>16.9</td>\n",
       "      <td>-99.9</td>\n",
       "      <td>(16.88333, -99.9)</td>\n",
       "      <td>1</td>\n",
       "    </tr>\n",
       "    <tr>\n",
       "      <th>4</th>\n",
       "      <td>Achiras</td>\n",
       "      <td>370</td>\n",
       "      <td>Valid</td>\n",
       "      <td>L6</td>\n",
       "      <td>780.0</td>\n",
       "      <td>Fell</td>\n",
       "      <td>01/01/1902 12:00:00 AM</td>\n",
       "      <td>-33.2</td>\n",
       "      <td>-65.0</td>\n",
       "      <td>(-33.16667, -64.95)</td>\n",
       "      <td>1</td>\n",
       "    </tr>\n",
       "    <tr>\n",
       "      <th>...</th>\n",
       "      <td>...</td>\n",
       "      <td>...</td>\n",
       "      <td>...</td>\n",
       "      <td>...</td>\n",
       "      <td>...</td>\n",
       "      <td>...</td>\n",
       "      <td>...</td>\n",
       "      <td>...</td>\n",
       "      <td>...</td>\n",
       "      <td>...</td>\n",
       "      <td>...</td>\n",
       "    </tr>\n",
       "    <tr>\n",
       "      <th>45711</th>\n",
       "      <td>Zillah 002</td>\n",
       "      <td>31356</td>\n",
       "      <td>Valid</td>\n",
       "      <td>Eucrite</td>\n",
       "      <td>172.0</td>\n",
       "      <td>Found</td>\n",
       "      <td>01/01/1990 12:00:00 AM</td>\n",
       "      <td>29.0</td>\n",
       "      <td>17.0</td>\n",
       "      <td>(29.037, 17.0185)</td>\n",
       "      <td>1</td>\n",
       "    </tr>\n",
       "    <tr>\n",
       "      <th>45712</th>\n",
       "      <td>Zinder</td>\n",
       "      <td>30409</td>\n",
       "      <td>Valid</td>\n",
       "      <td>Pallasite, ungrouped</td>\n",
       "      <td>46.0</td>\n",
       "      <td>Found</td>\n",
       "      <td>01/01/1999 12:00:00 AM</td>\n",
       "      <td>13.8</td>\n",
       "      <td>9.0</td>\n",
       "      <td>(13.78333, 8.96667)</td>\n",
       "      <td>1</td>\n",
       "    </tr>\n",
       "    <tr>\n",
       "      <th>45713</th>\n",
       "      <td>Zlin</td>\n",
       "      <td>30410</td>\n",
       "      <td>Valid</td>\n",
       "      <td>H4</td>\n",
       "      <td>3.3</td>\n",
       "      <td>Found</td>\n",
       "      <td>01/01/1939 12:00:00 AM</td>\n",
       "      <td>49.2</td>\n",
       "      <td>17.7</td>\n",
       "      <td>(49.25, 17.66667)</td>\n",
       "      <td>1</td>\n",
       "    </tr>\n",
       "    <tr>\n",
       "      <th>45714</th>\n",
       "      <td>Zubkovsky</td>\n",
       "      <td>31357</td>\n",
       "      <td>Valid</td>\n",
       "      <td>L6</td>\n",
       "      <td>2,167.0</td>\n",
       "      <td>Found</td>\n",
       "      <td>01/01/2003 12:00:00 AM</td>\n",
       "      <td>49.8</td>\n",
       "      <td>41.5</td>\n",
       "      <td>(49.78917, 41.5046)</td>\n",
       "      <td>1</td>\n",
       "    </tr>\n",
       "    <tr>\n",
       "      <th>45715</th>\n",
       "      <td>Zulu Queen</td>\n",
       "      <td>30414</td>\n",
       "      <td>Valid</td>\n",
       "      <td>L3.7</td>\n",
       "      <td>200.0</td>\n",
       "      <td>Found</td>\n",
       "      <td>01/01/1976 12:00:00 AM</td>\n",
       "      <td>34.0</td>\n",
       "      <td>-115.7</td>\n",
       "      <td>(33.98333, -115.68333)</td>\n",
       "      <td>1</td>\n",
       "    </tr>\n",
       "  </tbody>\n",
       "</table>\n",
       "<p>45716 rows × 11 columns</p>\n",
       "</div>"
      ],
      "text/plain": [
       "             name     id nametype              recclass  mass (g)   fall  \\\n",
       "0          Aachen      1    Valid                    L5      21.0   Fell   \n",
       "1          Aarhus      2    Valid                    H6     720.0   Fell   \n",
       "2            Abee      6    Valid                   EH4 107,000.0   Fell   \n",
       "3        Acapulco     10    Valid           Acapulcoite   1,914.0   Fell   \n",
       "4         Achiras    370    Valid                    L6     780.0   Fell   \n",
       "...           ...    ...      ...                   ...       ...    ...   \n",
       "45711  Zillah 002  31356    Valid               Eucrite     172.0  Found   \n",
       "45712      Zinder  30409    Valid  Pallasite, ungrouped      46.0  Found   \n",
       "45713        Zlin  30410    Valid                    H4       3.3  Found   \n",
       "45714   Zubkovsky  31357    Valid                    L6   2,167.0  Found   \n",
       "45715  Zulu Queen  30414    Valid                  L3.7     200.0  Found   \n",
       "\n",
       "                         year  reclat  reclong             GeoLocation  ones  \n",
       "0      01/01/1880 12:00:00 AM    50.8      6.1       (50.775, 6.08333)     1  \n",
       "1      01/01/1951 12:00:00 AM    56.2     10.2    (56.18333, 10.23333)     1  \n",
       "2      01/01/1952 12:00:00 AM    54.2   -113.0      (54.21667, -113.0)     1  \n",
       "3      01/01/1976 12:00:00 AM    16.9    -99.9       (16.88333, -99.9)     1  \n",
       "4      01/01/1902 12:00:00 AM   -33.2    -65.0     (-33.16667, -64.95)     1  \n",
       "...                       ...     ...      ...                     ...   ...  \n",
       "45711  01/01/1990 12:00:00 AM    29.0     17.0       (29.037, 17.0185)     1  \n",
       "45712  01/01/1999 12:00:00 AM    13.8      9.0     (13.78333, 8.96667)     1  \n",
       "45713  01/01/1939 12:00:00 AM    49.2     17.7       (49.25, 17.66667)     1  \n",
       "45714  01/01/2003 12:00:00 AM    49.8     41.5     (49.78917, 41.5046)     1  \n",
       "45715  01/01/1976 12:00:00 AM    34.0   -115.7  (33.98333, -115.68333)     1  \n",
       "\n",
       "[45716 rows x 11 columns]"
      ]
     },
     "execution_count": 27,
     "metadata": {},
     "output_type": "execute_result"
    }
   ],
   "source": [
    "df_meteorites['ones'] = 1 \n",
    "df_meteorites"
   ]
  },
  {
   "cell_type": "code",
   "execution_count": 28,
   "metadata": {
    "executionInfo": {
     "elapsed": 208,
     "status": "ok",
     "timestamp": 1647043151457,
     "user": {
      "displayName": "Luis Enrrique Pernia Carroz",
      "photoUrl": "https://lh3.googleusercontent.com/a-/AOh14GgOoKnSpkb2XSRqD2f673ceBYaj8O8lp0tj-qjj4g=s64",
      "userId": "09245467713551539461"
     },
     "user_tz": 180
    },
    "id": "rxhyFJI3uMMj"
   },
   "outputs": [],
   "source": [
    "df_meteorites[['fell', 'found']] = pd.get_dummies(df_meteorites['fall']) #asignar las 2 nuevas varaiables dummies de fall como columnas fell y found"
   ]
  },
  {
   "cell_type": "code",
   "execution_count": 29,
   "metadata": {
    "colab": {
     "base_uri": "https://localhost:8080/",
     "height": 467
    },
    "executionInfo": {
     "elapsed": 210,
     "status": "ok",
     "timestamp": 1647043153129,
     "user": {
      "displayName": "Luis Enrrique Pernia Carroz",
      "photoUrl": "https://lh3.googleusercontent.com/a-/AOh14GgOoKnSpkb2XSRqD2f673ceBYaj8O8lp0tj-qjj4g=s64",
      "userId": "09245467713551539461"
     },
     "user_tz": 180
    },
    "id": "3MynnI26vJfL",
    "outputId": "ff9d8439-5f9a-4e8f-e629-448a0172af20"
   },
   "outputs": [
    {
     "data": {
      "text/html": [
       "<div>\n",
       "<style scoped>\n",
       "    .dataframe tbody tr th:only-of-type {\n",
       "        vertical-align: middle;\n",
       "    }\n",
       "\n",
       "    .dataframe tbody tr th {\n",
       "        vertical-align: top;\n",
       "    }\n",
       "\n",
       "    .dataframe thead th {\n",
       "        text-align: right;\n",
       "    }\n",
       "</style>\n",
       "<table border=\"1\" class=\"dataframe\">\n",
       "  <thead>\n",
       "    <tr style=\"text-align: right;\">\n",
       "      <th></th>\n",
       "      <th>name</th>\n",
       "      <th>id</th>\n",
       "      <th>nametype</th>\n",
       "      <th>recclass</th>\n",
       "      <th>mass (g)</th>\n",
       "      <th>fall</th>\n",
       "      <th>year</th>\n",
       "      <th>reclat</th>\n",
       "      <th>reclong</th>\n",
       "      <th>GeoLocation</th>\n",
       "      <th>ones</th>\n",
       "      <th>fell</th>\n",
       "      <th>found</th>\n",
       "    </tr>\n",
       "  </thead>\n",
       "  <tbody>\n",
       "    <tr>\n",
       "      <th>0</th>\n",
       "      <td>Aachen</td>\n",
       "      <td>1</td>\n",
       "      <td>Valid</td>\n",
       "      <td>L5</td>\n",
       "      <td>21.0</td>\n",
       "      <td>Fell</td>\n",
       "      <td>01/01/1880 12:00:00 AM</td>\n",
       "      <td>50.8</td>\n",
       "      <td>6.1</td>\n",
       "      <td>(50.775, 6.08333)</td>\n",
       "      <td>1</td>\n",
       "      <td>1</td>\n",
       "      <td>0</td>\n",
       "    </tr>\n",
       "    <tr>\n",
       "      <th>1</th>\n",
       "      <td>Aarhus</td>\n",
       "      <td>2</td>\n",
       "      <td>Valid</td>\n",
       "      <td>H6</td>\n",
       "      <td>720.0</td>\n",
       "      <td>Fell</td>\n",
       "      <td>01/01/1951 12:00:00 AM</td>\n",
       "      <td>56.2</td>\n",
       "      <td>10.2</td>\n",
       "      <td>(56.18333, 10.23333)</td>\n",
       "      <td>1</td>\n",
       "      <td>1</td>\n",
       "      <td>0</td>\n",
       "    </tr>\n",
       "    <tr>\n",
       "      <th>2</th>\n",
       "      <td>Abee</td>\n",
       "      <td>6</td>\n",
       "      <td>Valid</td>\n",
       "      <td>EH4</td>\n",
       "      <td>107,000.0</td>\n",
       "      <td>Fell</td>\n",
       "      <td>01/01/1952 12:00:00 AM</td>\n",
       "      <td>54.2</td>\n",
       "      <td>-113.0</td>\n",
       "      <td>(54.21667, -113.0)</td>\n",
       "      <td>1</td>\n",
       "      <td>1</td>\n",
       "      <td>0</td>\n",
       "    </tr>\n",
       "    <tr>\n",
       "      <th>3</th>\n",
       "      <td>Acapulco</td>\n",
       "      <td>10</td>\n",
       "      <td>Valid</td>\n",
       "      <td>Acapulcoite</td>\n",
       "      <td>1,914.0</td>\n",
       "      <td>Fell</td>\n",
       "      <td>01/01/1976 12:00:00 AM</td>\n",
       "      <td>16.9</td>\n",
       "      <td>-99.9</td>\n",
       "      <td>(16.88333, -99.9)</td>\n",
       "      <td>1</td>\n",
       "      <td>1</td>\n",
       "      <td>0</td>\n",
       "    </tr>\n",
       "    <tr>\n",
       "      <th>4</th>\n",
       "      <td>Achiras</td>\n",
       "      <td>370</td>\n",
       "      <td>Valid</td>\n",
       "      <td>L6</td>\n",
       "      <td>780.0</td>\n",
       "      <td>Fell</td>\n",
       "      <td>01/01/1902 12:00:00 AM</td>\n",
       "      <td>-33.2</td>\n",
       "      <td>-65.0</td>\n",
       "      <td>(-33.16667, -64.95)</td>\n",
       "      <td>1</td>\n",
       "      <td>1</td>\n",
       "      <td>0</td>\n",
       "    </tr>\n",
       "    <tr>\n",
       "      <th>...</th>\n",
       "      <td>...</td>\n",
       "      <td>...</td>\n",
       "      <td>...</td>\n",
       "      <td>...</td>\n",
       "      <td>...</td>\n",
       "      <td>...</td>\n",
       "      <td>...</td>\n",
       "      <td>...</td>\n",
       "      <td>...</td>\n",
       "      <td>...</td>\n",
       "      <td>...</td>\n",
       "      <td>...</td>\n",
       "      <td>...</td>\n",
       "    </tr>\n",
       "    <tr>\n",
       "      <th>45711</th>\n",
       "      <td>Zillah 002</td>\n",
       "      <td>31356</td>\n",
       "      <td>Valid</td>\n",
       "      <td>Eucrite</td>\n",
       "      <td>172.0</td>\n",
       "      <td>Found</td>\n",
       "      <td>01/01/1990 12:00:00 AM</td>\n",
       "      <td>29.0</td>\n",
       "      <td>17.0</td>\n",
       "      <td>(29.037, 17.0185)</td>\n",
       "      <td>1</td>\n",
       "      <td>0</td>\n",
       "      <td>1</td>\n",
       "    </tr>\n",
       "    <tr>\n",
       "      <th>45712</th>\n",
       "      <td>Zinder</td>\n",
       "      <td>30409</td>\n",
       "      <td>Valid</td>\n",
       "      <td>Pallasite, ungrouped</td>\n",
       "      <td>46.0</td>\n",
       "      <td>Found</td>\n",
       "      <td>01/01/1999 12:00:00 AM</td>\n",
       "      <td>13.8</td>\n",
       "      <td>9.0</td>\n",
       "      <td>(13.78333, 8.96667)</td>\n",
       "      <td>1</td>\n",
       "      <td>0</td>\n",
       "      <td>1</td>\n",
       "    </tr>\n",
       "    <tr>\n",
       "      <th>45713</th>\n",
       "      <td>Zlin</td>\n",
       "      <td>30410</td>\n",
       "      <td>Valid</td>\n",
       "      <td>H4</td>\n",
       "      <td>3.3</td>\n",
       "      <td>Found</td>\n",
       "      <td>01/01/1939 12:00:00 AM</td>\n",
       "      <td>49.2</td>\n",
       "      <td>17.7</td>\n",
       "      <td>(49.25, 17.66667)</td>\n",
       "      <td>1</td>\n",
       "      <td>0</td>\n",
       "      <td>1</td>\n",
       "    </tr>\n",
       "    <tr>\n",
       "      <th>45714</th>\n",
       "      <td>Zubkovsky</td>\n",
       "      <td>31357</td>\n",
       "      <td>Valid</td>\n",
       "      <td>L6</td>\n",
       "      <td>2,167.0</td>\n",
       "      <td>Found</td>\n",
       "      <td>01/01/2003 12:00:00 AM</td>\n",
       "      <td>49.8</td>\n",
       "      <td>41.5</td>\n",
       "      <td>(49.78917, 41.5046)</td>\n",
       "      <td>1</td>\n",
       "      <td>0</td>\n",
       "      <td>1</td>\n",
       "    </tr>\n",
       "    <tr>\n",
       "      <th>45715</th>\n",
       "      <td>Zulu Queen</td>\n",
       "      <td>30414</td>\n",
       "      <td>Valid</td>\n",
       "      <td>L3.7</td>\n",
       "      <td>200.0</td>\n",
       "      <td>Found</td>\n",
       "      <td>01/01/1976 12:00:00 AM</td>\n",
       "      <td>34.0</td>\n",
       "      <td>-115.7</td>\n",
       "      <td>(33.98333, -115.68333)</td>\n",
       "      <td>1</td>\n",
       "      <td>0</td>\n",
       "      <td>1</td>\n",
       "    </tr>\n",
       "  </tbody>\n",
       "</table>\n",
       "<p>45716 rows × 13 columns</p>\n",
       "</div>"
      ],
      "text/plain": [
       "             name     id nametype              recclass  mass (g)   fall  \\\n",
       "0          Aachen      1    Valid                    L5      21.0   Fell   \n",
       "1          Aarhus      2    Valid                    H6     720.0   Fell   \n",
       "2            Abee      6    Valid                   EH4 107,000.0   Fell   \n",
       "3        Acapulco     10    Valid           Acapulcoite   1,914.0   Fell   \n",
       "4         Achiras    370    Valid                    L6     780.0   Fell   \n",
       "...           ...    ...      ...                   ...       ...    ...   \n",
       "45711  Zillah 002  31356    Valid               Eucrite     172.0  Found   \n",
       "45712      Zinder  30409    Valid  Pallasite, ungrouped      46.0  Found   \n",
       "45713        Zlin  30410    Valid                    H4       3.3  Found   \n",
       "45714   Zubkovsky  31357    Valid                    L6   2,167.0  Found   \n",
       "45715  Zulu Queen  30414    Valid                  L3.7     200.0  Found   \n",
       "\n",
       "                         year  reclat  reclong             GeoLocation  ones  \\\n",
       "0      01/01/1880 12:00:00 AM    50.8      6.1       (50.775, 6.08333)     1   \n",
       "1      01/01/1951 12:00:00 AM    56.2     10.2    (56.18333, 10.23333)     1   \n",
       "2      01/01/1952 12:00:00 AM    54.2   -113.0      (54.21667, -113.0)     1   \n",
       "3      01/01/1976 12:00:00 AM    16.9    -99.9       (16.88333, -99.9)     1   \n",
       "4      01/01/1902 12:00:00 AM   -33.2    -65.0     (-33.16667, -64.95)     1   \n",
       "...                       ...     ...      ...                     ...   ...   \n",
       "45711  01/01/1990 12:00:00 AM    29.0     17.0       (29.037, 17.0185)     1   \n",
       "45712  01/01/1999 12:00:00 AM    13.8      9.0     (13.78333, 8.96667)     1   \n",
       "45713  01/01/1939 12:00:00 AM    49.2     17.7       (49.25, 17.66667)     1   \n",
       "45714  01/01/2003 12:00:00 AM    49.8     41.5     (49.78917, 41.5046)     1   \n",
       "45715  01/01/1976 12:00:00 AM    34.0   -115.7  (33.98333, -115.68333)     1   \n",
       "\n",
       "       fell  found  \n",
       "0         1      0  \n",
       "1         1      0  \n",
       "2         1      0  \n",
       "3         1      0  \n",
       "4         1      0  \n",
       "...     ...    ...  \n",
       "45711     0      1  \n",
       "45712     0      1  \n",
       "45713     0      1  \n",
       "45714     0      1  \n",
       "45715     0      1  \n",
       "\n",
       "[45716 rows x 13 columns]"
      ]
     },
     "execution_count": 29,
     "metadata": {},
     "output_type": "execute_result"
    }
   ],
   "source": [
    "df_meteorites"
   ]
  },
  {
   "cell_type": "code",
   "execution_count": 30,
   "metadata": {
    "colab": {
     "base_uri": "https://localhost:8080/"
    },
    "executionInfo": {
     "elapsed": 2,
     "status": "ok",
     "timestamp": 1647043155506,
     "user": {
      "displayName": "Luis Enrrique Pernia Carroz",
      "photoUrl": "https://lh3.googleusercontent.com/a-/AOh14GgOoKnSpkb2XSRqD2f673ceBYaj8O8lp0tj-qjj4g=s64",
      "userId": "09245467713551539461"
     },
     "user_tz": 180
    },
    "id": "Wbcs0FPYvLFL",
    "outputId": "632bd928-94e0-4e2f-de26-f82cc108d598"
   },
   "outputs": [
    {
     "data": {
      "text/plain": [
       "0        01/01/1880 12:00:00 AM\n",
       "1        01/01/1951 12:00:00 AM\n",
       "2        01/01/1952 12:00:00 AM\n",
       "3        01/01/1976 12:00:00 AM\n",
       "4        01/01/1902 12:00:00 AM\n",
       "                  ...          \n",
       "45711    01/01/1990 12:00:00 AM\n",
       "45712    01/01/1999 12:00:00 AM\n",
       "45713    01/01/1939 12:00:00 AM\n",
       "45714    01/01/2003 12:00:00 AM\n",
       "45715    01/01/1976 12:00:00 AM\n",
       "Name: year, Length: 45716, dtype: object"
      ]
     },
     "execution_count": 30,
     "metadata": {},
     "output_type": "execute_result"
    }
   ],
   "source": [
    "df_meteorites['year']"
   ]
  },
  {
   "cell_type": "code",
   "execution_count": 31,
   "metadata": {
    "colab": {
     "base_uri": "https://localhost:8080/"
    },
    "executionInfo": {
     "elapsed": 212,
     "status": "ok",
     "timestamp": 1647043157957,
     "user": {
      "displayName": "Luis Enrrique Pernia Carroz",
      "photoUrl": "https://lh3.googleusercontent.com/a-/AOh14GgOoKnSpkb2XSRqD2f673ceBYaj8O8lp0tj-qjj4g=s64",
      "userId": "09245467713551539461"
     },
     "user_tz": 180
    },
    "id": "PfndEA7dvcXq",
    "outputId": "a5ddf972-5f4e-4364-8a48-77a5aacf2688"
   },
   "outputs": [
    {
     "data": {
      "text/plain": [
       "0       1880-01-01 12:00:00\n",
       "1       1951-01-01 12:00:00\n",
       "2       1952-01-01 12:00:00\n",
       "3       1976-01-01 12:00:00\n",
       "4       1902-01-01 12:00:00\n",
       "                ...        \n",
       "45711   1990-01-01 12:00:00\n",
       "45712   1999-01-01 12:00:00\n",
       "45713   1939-01-01 12:00:00\n",
       "45714   2003-01-01 12:00:00\n",
       "45715   1976-01-01 12:00:00\n",
       "Name: year, Length: 45716, dtype: datetime64[ns]"
      ]
     },
     "execution_count": 31,
     "metadata": {},
     "output_type": "execute_result"
    }
   ],
   "source": [
    "pd.to_datetime(\n",
    "    df_meteorites['year'],\n",
    "    errors = 'coerce',\n",
    "    format = '%m/%d/%Y %H:%M:%S %p'\n",
    ")"
   ]
  },
  {
   "cell_type": "code",
   "execution_count": 32,
   "metadata": {
    "executionInfo": {
     "elapsed": 209,
     "status": "ok",
     "timestamp": 1647043160539,
     "user": {
      "displayName": "Luis Enrrique Pernia Carroz",
      "photoUrl": "https://lh3.googleusercontent.com/a-/AOh14GgOoKnSpkb2XSRqD2f673ceBYaj8O8lp0tj-qjj4g=s64",
      "userId": "09245467713551539461"
     },
     "user_tz": 180
    },
    "id": "vm-D7E9xwYhL"
   },
   "outputs": [],
   "source": [
    "df_meteorites['year'] = pd.to_datetime(\n",
    "df_meteorites['year'],\n",
    "errors = 'coerce',\n",
    "format = '%m/%d/%Y %H:%M:%S %p'\n",
    ")"
   ]
  },
  {
   "cell_type": "code",
   "execution_count": 33,
   "metadata": {
    "colab": {
     "base_uri": "https://localhost:8080/"
    },
    "executionInfo": {
     "elapsed": 234,
     "status": "ok",
     "timestamp": 1647043165550,
     "user": {
      "displayName": "Luis Enrrique Pernia Carroz",
      "photoUrl": "https://lh3.googleusercontent.com/a-/AOh14GgOoKnSpkb2XSRqD2f673ceBYaj8O8lp0tj-qjj4g=s64",
      "userId": "09245467713551539461"
     },
     "user_tz": 180
    },
    "id": "Ir6Hyh4Lw9jc",
    "outputId": "eb9ac3c6-4efa-41ba-92e9-64ceca71a194"
   },
   "outputs": [
    {
     "data": {
      "text/plain": [
       "name                   string\n",
       "id                      Int64\n",
       "nametype             category\n",
       "recclass               string\n",
       "mass (g)              Float64\n",
       "fall                 category\n",
       "year           datetime64[ns]\n",
       "reclat                Float64\n",
       "reclong               Float64\n",
       "GeoLocation            string\n",
       "ones                    Int64\n",
       "fell                    UInt8\n",
       "found                   UInt8\n",
       "dtype: object"
      ]
     },
     "execution_count": 33,
     "metadata": {},
     "output_type": "execute_result"
    }
   ],
   "source": [
    "df_meteorites.convert_dtypes().dtypes"
   ]
  },
  {
   "cell_type": "code",
   "execution_count": 34,
   "metadata": {
    "executionInfo": {
     "elapsed": 212,
     "status": "ok",
     "timestamp": 1647043168497,
     "user": {
      "displayName": "Luis Enrrique Pernia Carroz",
      "photoUrl": "https://lh3.googleusercontent.com/a-/AOh14GgOoKnSpkb2XSRqD2f673ceBYaj8O8lp0tj-qjj4g=s64",
      "userId": "09245467713551539461"
     },
     "user_tz": 180
    },
    "id": "w_dnLuUvw_7T"
   },
   "outputs": [],
   "source": [
    "df_meteorites.rename(columns={'mass (g)':'mass'}, inplace=True) #.rename para cambiar el nombre de alguna columna\n",
    "#inplace, los cambios toman lugar sin ser asignados al data frame"
   ]
  },
  {
   "cell_type": "code",
   "execution_count": 35,
   "metadata": {
    "colab": {
     "base_uri": "https://localhost:8080/",
     "height": 423
    },
    "executionInfo": {
     "elapsed": 208,
     "status": "ok",
     "timestamp": 1647043170024,
     "user": {
      "displayName": "Luis Enrrique Pernia Carroz",
      "photoUrl": "https://lh3.googleusercontent.com/a-/AOh14GgOoKnSpkb2XSRqD2f673ceBYaj8O8lp0tj-qjj4g=s64",
      "userId": "09245467713551539461"
     },
     "user_tz": 180
    },
    "id": "NhEFfCr4x5O5",
    "outputId": "c90c3acd-91e1-470d-bbda-168b2234abd3"
   },
   "outputs": [
    {
     "data": {
      "text/html": [
       "<div>\n",
       "<style scoped>\n",
       "    .dataframe tbody tr th:only-of-type {\n",
       "        vertical-align: middle;\n",
       "    }\n",
       "\n",
       "    .dataframe tbody tr th {\n",
       "        vertical-align: top;\n",
       "    }\n",
       "\n",
       "    .dataframe thead th {\n",
       "        text-align: right;\n",
       "    }\n",
       "</style>\n",
       "<table border=\"1\" class=\"dataframe\">\n",
       "  <thead>\n",
       "    <tr style=\"text-align: right;\">\n",
       "      <th></th>\n",
       "      <th>name</th>\n",
       "      <th>id</th>\n",
       "      <th>nametype</th>\n",
       "      <th>recclass</th>\n",
       "      <th>mass</th>\n",
       "      <th>fall</th>\n",
       "      <th>year</th>\n",
       "      <th>reclat</th>\n",
       "      <th>reclong</th>\n",
       "      <th>GeoLocation</th>\n",
       "      <th>ones</th>\n",
       "      <th>fell</th>\n",
       "      <th>found</th>\n",
       "    </tr>\n",
       "  </thead>\n",
       "  <tbody>\n",
       "    <tr>\n",
       "      <th>0</th>\n",
       "      <td>Aachen</td>\n",
       "      <td>1</td>\n",
       "      <td>Valid</td>\n",
       "      <td>L5</td>\n",
       "      <td>21.0</td>\n",
       "      <td>Fell</td>\n",
       "      <td>1880-01-01 12:00:00</td>\n",
       "      <td>50.8</td>\n",
       "      <td>6.1</td>\n",
       "      <td>(50.775, 6.08333)</td>\n",
       "      <td>1</td>\n",
       "      <td>1</td>\n",
       "      <td>0</td>\n",
       "    </tr>\n",
       "    <tr>\n",
       "      <th>1</th>\n",
       "      <td>Aarhus</td>\n",
       "      <td>2</td>\n",
       "      <td>Valid</td>\n",
       "      <td>H6</td>\n",
       "      <td>720.0</td>\n",
       "      <td>Fell</td>\n",
       "      <td>1951-01-01 12:00:00</td>\n",
       "      <td>56.2</td>\n",
       "      <td>10.2</td>\n",
       "      <td>(56.18333, 10.23333)</td>\n",
       "      <td>1</td>\n",
       "      <td>1</td>\n",
       "      <td>0</td>\n",
       "    </tr>\n",
       "    <tr>\n",
       "      <th>2</th>\n",
       "      <td>Abee</td>\n",
       "      <td>6</td>\n",
       "      <td>Valid</td>\n",
       "      <td>EH4</td>\n",
       "      <td>107,000.0</td>\n",
       "      <td>Fell</td>\n",
       "      <td>1952-01-01 12:00:00</td>\n",
       "      <td>54.2</td>\n",
       "      <td>-113.0</td>\n",
       "      <td>(54.21667, -113.0)</td>\n",
       "      <td>1</td>\n",
       "      <td>1</td>\n",
       "      <td>0</td>\n",
       "    </tr>\n",
       "    <tr>\n",
       "      <th>3</th>\n",
       "      <td>Acapulco</td>\n",
       "      <td>10</td>\n",
       "      <td>Valid</td>\n",
       "      <td>Acapulcoite</td>\n",
       "      <td>1,914.0</td>\n",
       "      <td>Fell</td>\n",
       "      <td>1976-01-01 12:00:00</td>\n",
       "      <td>16.9</td>\n",
       "      <td>-99.9</td>\n",
       "      <td>(16.88333, -99.9)</td>\n",
       "      <td>1</td>\n",
       "      <td>1</td>\n",
       "      <td>0</td>\n",
       "    </tr>\n",
       "    <tr>\n",
       "      <th>4</th>\n",
       "      <td>Achiras</td>\n",
       "      <td>370</td>\n",
       "      <td>Valid</td>\n",
       "      <td>L6</td>\n",
       "      <td>780.0</td>\n",
       "      <td>Fell</td>\n",
       "      <td>1902-01-01 12:00:00</td>\n",
       "      <td>-33.2</td>\n",
       "      <td>-65.0</td>\n",
       "      <td>(-33.16667, -64.95)</td>\n",
       "      <td>1</td>\n",
       "      <td>1</td>\n",
       "      <td>0</td>\n",
       "    </tr>\n",
       "    <tr>\n",
       "      <th>...</th>\n",
       "      <td>...</td>\n",
       "      <td>...</td>\n",
       "      <td>...</td>\n",
       "      <td>...</td>\n",
       "      <td>...</td>\n",
       "      <td>...</td>\n",
       "      <td>...</td>\n",
       "      <td>...</td>\n",
       "      <td>...</td>\n",
       "      <td>...</td>\n",
       "      <td>...</td>\n",
       "      <td>...</td>\n",
       "      <td>...</td>\n",
       "    </tr>\n",
       "    <tr>\n",
       "      <th>45711</th>\n",
       "      <td>Zillah 002</td>\n",
       "      <td>31356</td>\n",
       "      <td>Valid</td>\n",
       "      <td>Eucrite</td>\n",
       "      <td>172.0</td>\n",
       "      <td>Found</td>\n",
       "      <td>1990-01-01 12:00:00</td>\n",
       "      <td>29.0</td>\n",
       "      <td>17.0</td>\n",
       "      <td>(29.037, 17.0185)</td>\n",
       "      <td>1</td>\n",
       "      <td>0</td>\n",
       "      <td>1</td>\n",
       "    </tr>\n",
       "    <tr>\n",
       "      <th>45712</th>\n",
       "      <td>Zinder</td>\n",
       "      <td>30409</td>\n",
       "      <td>Valid</td>\n",
       "      <td>Pallasite, ungrouped</td>\n",
       "      <td>46.0</td>\n",
       "      <td>Found</td>\n",
       "      <td>1999-01-01 12:00:00</td>\n",
       "      <td>13.8</td>\n",
       "      <td>9.0</td>\n",
       "      <td>(13.78333, 8.96667)</td>\n",
       "      <td>1</td>\n",
       "      <td>0</td>\n",
       "      <td>1</td>\n",
       "    </tr>\n",
       "    <tr>\n",
       "      <th>45713</th>\n",
       "      <td>Zlin</td>\n",
       "      <td>30410</td>\n",
       "      <td>Valid</td>\n",
       "      <td>H4</td>\n",
       "      <td>3.3</td>\n",
       "      <td>Found</td>\n",
       "      <td>1939-01-01 12:00:00</td>\n",
       "      <td>49.2</td>\n",
       "      <td>17.7</td>\n",
       "      <td>(49.25, 17.66667)</td>\n",
       "      <td>1</td>\n",
       "      <td>0</td>\n",
       "      <td>1</td>\n",
       "    </tr>\n",
       "    <tr>\n",
       "      <th>45714</th>\n",
       "      <td>Zubkovsky</td>\n",
       "      <td>31357</td>\n",
       "      <td>Valid</td>\n",
       "      <td>L6</td>\n",
       "      <td>2,167.0</td>\n",
       "      <td>Found</td>\n",
       "      <td>2003-01-01 12:00:00</td>\n",
       "      <td>49.8</td>\n",
       "      <td>41.5</td>\n",
       "      <td>(49.78917, 41.5046)</td>\n",
       "      <td>1</td>\n",
       "      <td>0</td>\n",
       "      <td>1</td>\n",
       "    </tr>\n",
       "    <tr>\n",
       "      <th>45715</th>\n",
       "      <td>Zulu Queen</td>\n",
       "      <td>30414</td>\n",
       "      <td>Valid</td>\n",
       "      <td>L3.7</td>\n",
       "      <td>200.0</td>\n",
       "      <td>Found</td>\n",
       "      <td>1976-01-01 12:00:00</td>\n",
       "      <td>34.0</td>\n",
       "      <td>-115.7</td>\n",
       "      <td>(33.98333, -115.68333)</td>\n",
       "      <td>1</td>\n",
       "      <td>0</td>\n",
       "      <td>1</td>\n",
       "    </tr>\n",
       "  </tbody>\n",
       "</table>\n",
       "<p>45716 rows × 13 columns</p>\n",
       "</div>"
      ],
      "text/plain": [
       "             name     id nametype              recclass      mass   fall  \\\n",
       "0          Aachen      1    Valid                    L5      21.0   Fell   \n",
       "1          Aarhus      2    Valid                    H6     720.0   Fell   \n",
       "2            Abee      6    Valid                   EH4 107,000.0   Fell   \n",
       "3        Acapulco     10    Valid           Acapulcoite   1,914.0   Fell   \n",
       "4         Achiras    370    Valid                    L6     780.0   Fell   \n",
       "...           ...    ...      ...                   ...       ...    ...   \n",
       "45711  Zillah 002  31356    Valid               Eucrite     172.0  Found   \n",
       "45712      Zinder  30409    Valid  Pallasite, ungrouped      46.0  Found   \n",
       "45713        Zlin  30410    Valid                    H4       3.3  Found   \n",
       "45714   Zubkovsky  31357    Valid                    L6   2,167.0  Found   \n",
       "45715  Zulu Queen  30414    Valid                  L3.7     200.0  Found   \n",
       "\n",
       "                     year  reclat  reclong             GeoLocation  ones  \\\n",
       "0     1880-01-01 12:00:00    50.8      6.1       (50.775, 6.08333)     1   \n",
       "1     1951-01-01 12:00:00    56.2     10.2    (56.18333, 10.23333)     1   \n",
       "2     1952-01-01 12:00:00    54.2   -113.0      (54.21667, -113.0)     1   \n",
       "3     1976-01-01 12:00:00    16.9    -99.9       (16.88333, -99.9)     1   \n",
       "4     1902-01-01 12:00:00   -33.2    -65.0     (-33.16667, -64.95)     1   \n",
       "...                   ...     ...      ...                     ...   ...   \n",
       "45711 1990-01-01 12:00:00    29.0     17.0       (29.037, 17.0185)     1   \n",
       "45712 1999-01-01 12:00:00    13.8      9.0     (13.78333, 8.96667)     1   \n",
       "45713 1939-01-01 12:00:00    49.2     17.7       (49.25, 17.66667)     1   \n",
       "45714 2003-01-01 12:00:00    49.8     41.5     (49.78917, 41.5046)     1   \n",
       "45715 1976-01-01 12:00:00    34.0   -115.7  (33.98333, -115.68333)     1   \n",
       "\n",
       "       fell  found  \n",
       "0         1      0  \n",
       "1         1      0  \n",
       "2         1      0  \n",
       "3         1      0  \n",
       "4         1      0  \n",
       "...     ...    ...  \n",
       "45711     0      1  \n",
       "45712     0      1  \n",
       "45713     0      1  \n",
       "45714     0      1  \n",
       "45715     0      1  \n",
       "\n",
       "[45716 rows x 13 columns]"
      ]
     },
     "execution_count": 35,
     "metadata": {},
     "output_type": "execute_result"
    }
   ],
   "source": [
    "df_meteorites"
   ]
  },
  {
   "cell_type": "code",
   "execution_count": 36,
   "metadata": {
    "colab": {
     "base_uri": "https://localhost:8080/"
    },
    "executionInfo": {
     "elapsed": 230,
     "status": "ok",
     "timestamp": 1647043175809,
     "user": {
      "displayName": "Luis Enrrique Pernia Carroz",
      "photoUrl": "https://lh3.googleusercontent.com/a-/AOh14GgOoKnSpkb2XSRqD2f673ceBYaj8O8lp0tj-qjj4g=s64",
      "userId": "09245467713551539461"
     },
     "user_tz": 180
    },
    "id": "6Zw8QYiAx76C",
    "outputId": "f3cfdce9-71ff-4ce7-bf81-452bb92b971d"
   },
   "outputs": [
    {
     "data": {
      "text/plain": [
       "['name',\n",
       " 'id',\n",
       " 'nametype',\n",
       " 'recclass',\n",
       " 'mass',\n",
       " 'fall',\n",
       " 'year',\n",
       " 'reclat',\n",
       " 'reclong',\n",
       " 'GeoLocation',\n",
       " 'ones',\n",
       " 'fell',\n",
       " 'found']"
      ]
     },
     "execution_count": 36,
     "metadata": {},
     "output_type": "execute_result"
    }
   ],
   "source": [
    "list(df_meteorites) #obtener rapidamente los nombres de columnas"
   ]
  },
  {
   "cell_type": "code",
   "execution_count": 37,
   "metadata": {
    "colab": {
     "base_uri": "https://localhost:8080/"
    },
    "executionInfo": {
     "elapsed": 219,
     "status": "ok",
     "timestamp": 1647043177758,
     "user": {
      "displayName": "Luis Enrrique Pernia Carroz",
      "photoUrl": "https://lh3.googleusercontent.com/a-/AOh14GgOoKnSpkb2XSRqD2f673ceBYaj8O8lp0tj-qjj4g=s64",
      "userId": "09245467713551539461"
     },
     "user_tz": 180
    },
    "id": "t0bHprCVyEaL",
    "outputId": "aba4aa95-36c0-420f-9cd6-c78c05334736"
   },
   "outputs": [
    {
     "data": {
      "text/plain": [
       "Index(['name', 'id', 'nametype', 'recclass', 'mass', 'fall', 'year', 'reclat',\n",
       "       'reclong', 'GeoLocation', 'ones', 'fell', 'found'],\n",
       "      dtype='object')"
      ]
     },
     "execution_count": 37,
     "metadata": {},
     "output_type": "execute_result"
    }
   ],
   "source": [
    "df_meteorites.columns"
   ]
  },
  {
   "cell_type": "code",
   "execution_count": 38,
   "metadata": {
    "colab": {
     "base_uri": "https://localhost:8080/",
     "height": 423
    },
    "executionInfo": {
     "elapsed": 234,
     "status": "ok",
     "timestamp": 1647043179578,
     "user": {
      "displayName": "Luis Enrrique Pernia Carroz",
      "photoUrl": "https://lh3.googleusercontent.com/a-/AOh14GgOoKnSpkb2XSRqD2f673ceBYaj8O8lp0tj-qjj4g=s64",
      "userId": "09245467713551539461"
     },
     "user_tz": 180
    },
    "id": "_xpYPLDh3M46",
    "outputId": "16b7e781-cca7-4d9a-c489-c403a3aff9f9"
   },
   "outputs": [
    {
     "data": {
      "text/html": [
       "<div>\n",
       "<style scoped>\n",
       "    .dataframe tbody tr th:only-of-type {\n",
       "        vertical-align: middle;\n",
       "    }\n",
       "\n",
       "    .dataframe tbody tr th {\n",
       "        vertical-align: top;\n",
       "    }\n",
       "\n",
       "    .dataframe thead th {\n",
       "        text-align: right;\n",
       "    }\n",
       "</style>\n",
       "<table border=\"1\" class=\"dataframe\">\n",
       "  <thead>\n",
       "    <tr style=\"text-align: right;\">\n",
       "      <th></th>\n",
       "      <th>name</th>\n",
       "      <th>id</th>\n",
       "      <th>nametype</th>\n",
       "      <th>recclass</th>\n",
       "      <th>mass</th>\n",
       "      <th>fall</th>\n",
       "      <th>year</th>\n",
       "      <th>reclat</th>\n",
       "      <th>reclong</th>\n",
       "      <th>GeoLocation</th>\n",
       "      <th>ones</th>\n",
       "      <th>fell</th>\n",
       "      <th>found</th>\n",
       "    </tr>\n",
       "  </thead>\n",
       "  <tbody>\n",
       "    <tr>\n",
       "      <th>0</th>\n",
       "      <td>Aachen</td>\n",
       "      <td>1</td>\n",
       "      <td>Valid</td>\n",
       "      <td>L5</td>\n",
       "      <td>21.0</td>\n",
       "      <td>Fell</td>\n",
       "      <td>1880-01-01 12:00:00</td>\n",
       "      <td>50.8</td>\n",
       "      <td>6.1</td>\n",
       "      <td>(50.775, 6.08333)</td>\n",
       "      <td>1</td>\n",
       "      <td>1</td>\n",
       "      <td>0</td>\n",
       "    </tr>\n",
       "    <tr>\n",
       "      <th>1</th>\n",
       "      <td>Aarhus</td>\n",
       "      <td>2</td>\n",
       "      <td>Valid</td>\n",
       "      <td>H6</td>\n",
       "      <td>720.0</td>\n",
       "      <td>Fell</td>\n",
       "      <td>1951-01-01 12:00:00</td>\n",
       "      <td>56.2</td>\n",
       "      <td>10.2</td>\n",
       "      <td>(56.18333, 10.23333)</td>\n",
       "      <td>1</td>\n",
       "      <td>1</td>\n",
       "      <td>0</td>\n",
       "    </tr>\n",
       "  </tbody>\n",
       "</table>\n",
       "</div>"
      ],
      "text/plain": [
       "     name  id nametype recclass  mass  fall                year  reclat  \\\n",
       "0  Aachen   1    Valid       L5  21.0  Fell 1880-01-01 12:00:00    50.8   \n",
       "1  Aarhus   2    Valid       H6 720.0  Fell 1951-01-01 12:00:00    56.2   \n",
       "\n",
       "   reclong           GeoLocation  ones  fell  found  \n",
       "0      6.1     (50.775, 6.08333)     1     1      0  \n",
       "1     10.2  (56.18333, 10.23333)     1     1      0  "
      ]
     },
     "execution_count": 38,
     "metadata": {},
     "output_type": "execute_result"
    }
   ],
   "source": [
    "df_meteorites.head(2)"
   ]
  },
  {
   "cell_type": "code",
   "execution_count": 39,
   "metadata": {},
   "outputs": [
    {
     "data": {
      "text/plain": [
       "<bound method DataFrame.drop of              name     id nametype              recclass      mass   fall  \\\n",
       "0          Aachen      1    Valid                    L5      21.0   Fell   \n",
       "1          Aarhus      2    Valid                    H6     720.0   Fell   \n",
       "2            Abee      6    Valid                   EH4 107,000.0   Fell   \n",
       "3        Acapulco     10    Valid           Acapulcoite   1,914.0   Fell   \n",
       "4         Achiras    370    Valid                    L6     780.0   Fell   \n",
       "...           ...    ...      ...                   ...       ...    ...   \n",
       "45711  Zillah 002  31356    Valid               Eucrite     172.0  Found   \n",
       "45712      Zinder  30409    Valid  Pallasite, ungrouped      46.0  Found   \n",
       "45713        Zlin  30410    Valid                    H4       3.3  Found   \n",
       "45714   Zubkovsky  31357    Valid                    L6   2,167.0  Found   \n",
       "45715  Zulu Queen  30414    Valid                  L3.7     200.0  Found   \n",
       "\n",
       "                     year  reclat  reclong             GeoLocation  ones  \\\n",
       "0     1880-01-01 12:00:00    50.8      6.1       (50.775, 6.08333)     1   \n",
       "1     1951-01-01 12:00:00    56.2     10.2    (56.18333, 10.23333)     1   \n",
       "2     1952-01-01 12:00:00    54.2   -113.0      (54.21667, -113.0)     1   \n",
       "3     1976-01-01 12:00:00    16.9    -99.9       (16.88333, -99.9)     1   \n",
       "4     1902-01-01 12:00:00   -33.2    -65.0     (-33.16667, -64.95)     1   \n",
       "...                   ...     ...      ...                     ...   ...   \n",
       "45711 1990-01-01 12:00:00    29.0     17.0       (29.037, 17.0185)     1   \n",
       "45712 1999-01-01 12:00:00    13.8      9.0     (13.78333, 8.96667)     1   \n",
       "45713 1939-01-01 12:00:00    49.2     17.7       (49.25, 17.66667)     1   \n",
       "45714 2003-01-01 12:00:00    49.8     41.5     (49.78917, 41.5046)     1   \n",
       "45715 1976-01-01 12:00:00    34.0   -115.7  (33.98333, -115.68333)     1   \n",
       "\n",
       "       fell  found  \n",
       "0         1      0  \n",
       "1         1      0  \n",
       "2         1      0  \n",
       "3         1      0  \n",
       "4         1      0  \n",
       "...     ...    ...  \n",
       "45711     0      1  \n",
       "45712     0      1  \n",
       "45713     0      1  \n",
       "45714     0      1  \n",
       "45715     0      1  \n",
       "\n",
       "[45716 rows x 13 columns]>"
      ]
     },
     "execution_count": 39,
     "metadata": {},
     "output_type": "execute_result"
    }
   ],
   "source": [
    "df_meteorites.drop"
   ]
  },
  {
   "cell_type": "code",
   "execution_count": 40,
   "metadata": {
    "executionInfo": {
     "elapsed": 210,
     "status": "ok",
     "timestamp": 1647043374247,
     "user": {
      "displayName": "Luis Enrrique Pernia Carroz",
      "photoUrl": "https://lh3.googleusercontent.com/a-/AOh14GgOoKnSpkb2XSRqD2f673ceBYaj8O8lp0tj-qjj4g=s64",
      "userId": "09245467713551539461"
     },
     "user_tz": 180
    },
    "id": "-AL4YH_7aSMA"
   },
   "outputs": [],
   "source": [
    "df_meteorites.drop(['ones'], axis =1, inplace = True)# borrar una columna #axis 0 = 'index' axis 1 = 'columns' implace para ejecutar los cambios"
   ]
  },
  {
   "cell_type": "code",
   "execution_count": 41,
   "metadata": {
    "colab": {
     "base_uri": "https://localhost:8080/",
     "height": 363
    },
    "executionInfo": {
     "elapsed": 353,
     "status": "ok",
     "timestamp": 1647043611522,
     "user": {
      "displayName": "Luis Enrrique Pernia Carroz",
      "photoUrl": "https://lh3.googleusercontent.com/a-/AOh14GgOoKnSpkb2XSRqD2f673ceBYaj8O8lp0tj-qjj4g=s64",
      "userId": "09245467713551539461"
     },
     "user_tz": 180
    },
    "id": "Z6jcct52bxn_",
    "outputId": "d0639829-3179-402d-9fc5-ff4958a341ff"
   },
   "outputs": [
    {
     "data": {
      "text/html": [
       "<div>\n",
       "<style scoped>\n",
       "    .dataframe tbody tr th:only-of-type {\n",
       "        vertical-align: middle;\n",
       "    }\n",
       "\n",
       "    .dataframe tbody tr th {\n",
       "        vertical-align: top;\n",
       "    }\n",
       "\n",
       "    .dataframe thead th {\n",
       "        text-align: right;\n",
       "    }\n",
       "</style>\n",
       "<table border=\"1\" class=\"dataframe\">\n",
       "  <thead>\n",
       "    <tr style=\"text-align: right;\">\n",
       "      <th></th>\n",
       "      <th>name</th>\n",
       "      <th>id</th>\n",
       "      <th>nametype</th>\n",
       "      <th>recclass</th>\n",
       "      <th>mass</th>\n",
       "      <th>fall</th>\n",
       "      <th>year</th>\n",
       "      <th>reclat</th>\n",
       "      <th>reclong</th>\n",
       "      <th>GeoLocation</th>\n",
       "      <th>fell</th>\n",
       "      <th>found</th>\n",
       "    </tr>\n",
       "  </thead>\n",
       "  <tbody>\n",
       "    <tr>\n",
       "      <th>1</th>\n",
       "      <td>Aarhus</td>\n",
       "      <td>2</td>\n",
       "      <td>Valid</td>\n",
       "      <td>H6</td>\n",
       "      <td>720.0</td>\n",
       "      <td>Fell</td>\n",
       "      <td>1951-01-01 12:00:00</td>\n",
       "      <td>56.2</td>\n",
       "      <td>10.2</td>\n",
       "      <td>(56.18333, 10.23333)</td>\n",
       "      <td>1</td>\n",
       "      <td>0</td>\n",
       "    </tr>\n",
       "    <tr>\n",
       "      <th>3</th>\n",
       "      <td>Acapulco</td>\n",
       "      <td>10</td>\n",
       "      <td>Valid</td>\n",
       "      <td>Acapulcoite</td>\n",
       "      <td>1,914.0</td>\n",
       "      <td>Fell</td>\n",
       "      <td>1976-01-01 12:00:00</td>\n",
       "      <td>16.9</td>\n",
       "      <td>-99.9</td>\n",
       "      <td>(16.88333, -99.9)</td>\n",
       "      <td>1</td>\n",
       "      <td>0</td>\n",
       "    </tr>\n",
       "    <tr>\n",
       "      <th>5</th>\n",
       "      <td>Adhi Kot</td>\n",
       "      <td>379</td>\n",
       "      <td>Valid</td>\n",
       "      <td>EH4</td>\n",
       "      <td>4,239.0</td>\n",
       "      <td>Fell</td>\n",
       "      <td>1919-01-01 12:00:00</td>\n",
       "      <td>32.1</td>\n",
       "      <td>71.8</td>\n",
       "      <td>(32.1, 71.8)</td>\n",
       "      <td>1</td>\n",
       "      <td>0</td>\n",
       "    </tr>\n",
       "    <tr>\n",
       "      <th>7</th>\n",
       "      <td>Agen</td>\n",
       "      <td>392</td>\n",
       "      <td>Valid</td>\n",
       "      <td>H5</td>\n",
       "      <td>30,000.0</td>\n",
       "      <td>Fell</td>\n",
       "      <td>1814-01-01 12:00:00</td>\n",
       "      <td>44.2</td>\n",
       "      <td>0.6</td>\n",
       "      <td>(44.21667, 0.61667)</td>\n",
       "      <td>1</td>\n",
       "      <td>0</td>\n",
       "    </tr>\n",
       "    <tr>\n",
       "      <th>8</th>\n",
       "      <td>Aguada</td>\n",
       "      <td>398</td>\n",
       "      <td>Valid</td>\n",
       "      <td>L6</td>\n",
       "      <td>1,620.0</td>\n",
       "      <td>Fell</td>\n",
       "      <td>1930-01-01 12:00:00</td>\n",
       "      <td>-31.6</td>\n",
       "      <td>-65.2</td>\n",
       "      <td>(-31.6, -65.23333)</td>\n",
       "      <td>1</td>\n",
       "      <td>0</td>\n",
       "    </tr>\n",
       "    <tr>\n",
       "      <th>9</th>\n",
       "      <td>Aguila Blanca</td>\n",
       "      <td>417</td>\n",
       "      <td>Valid</td>\n",
       "      <td>L</td>\n",
       "      <td>1,440.0</td>\n",
       "      <td>Fell</td>\n",
       "      <td>1920-01-01 12:00:00</td>\n",
       "      <td>-30.9</td>\n",
       "      <td>-64.5</td>\n",
       "      <td>(-30.86667, -64.55)</td>\n",
       "      <td>1</td>\n",
       "      <td>0</td>\n",
       "    </tr>\n",
       "    <tr>\n",
       "      <th>10</th>\n",
       "      <td>Aioun el Atrouss</td>\n",
       "      <td>423</td>\n",
       "      <td>Valid</td>\n",
       "      <td>Diogenite-pm</td>\n",
       "      <td>1,000.0</td>\n",
       "      <td>Fell</td>\n",
       "      <td>1974-01-01 12:00:00</td>\n",
       "      <td>16.4</td>\n",
       "      <td>-9.6</td>\n",
       "      <td>(16.39806, -9.57028)</td>\n",
       "      <td>1</td>\n",
       "      <td>0</td>\n",
       "    </tr>\n",
       "    <tr>\n",
       "      <th>11</th>\n",
       "      <td>Aïr</td>\n",
       "      <td>424</td>\n",
       "      <td>Valid</td>\n",
       "      <td>L6</td>\n",
       "      <td>24,000.0</td>\n",
       "      <td>Fell</td>\n",
       "      <td>1925-01-01 12:00:00</td>\n",
       "      <td>19.1</td>\n",
       "      <td>8.4</td>\n",
       "      <td>(19.08333, 8.38333)</td>\n",
       "      <td>1</td>\n",
       "      <td>0</td>\n",
       "    </tr>\n",
       "    <tr>\n",
       "      <th>12</th>\n",
       "      <td>Aire-sur-la-Lys</td>\n",
       "      <td>425</td>\n",
       "      <td>Valid</td>\n",
       "      <td>Unknown</td>\n",
       "      <td>NaN</td>\n",
       "      <td>Fell</td>\n",
       "      <td>1769-01-01 12:00:00</td>\n",
       "      <td>50.7</td>\n",
       "      <td>2.3</td>\n",
       "      <td>(50.66667, 2.33333)</td>\n",
       "      <td>1</td>\n",
       "      <td>0</td>\n",
       "    </tr>\n",
       "    <tr>\n",
       "      <th>13</th>\n",
       "      <td>Akaba</td>\n",
       "      <td>426</td>\n",
       "      <td>Valid</td>\n",
       "      <td>L6</td>\n",
       "      <td>779.0</td>\n",
       "      <td>Fell</td>\n",
       "      <td>1949-01-01 12:00:00</td>\n",
       "      <td>29.5</td>\n",
       "      <td>35.0</td>\n",
       "      <td>(29.51667, 35.05)</td>\n",
       "      <td>1</td>\n",
       "      <td>0</td>\n",
       "    </tr>\n",
       "  </tbody>\n",
       "</table>\n",
       "</div>"
      ],
      "text/plain": [
       "                name   id nametype      recclass     mass  fall  \\\n",
       "1             Aarhus    2    Valid            H6    720.0  Fell   \n",
       "3           Acapulco   10    Valid   Acapulcoite  1,914.0  Fell   \n",
       "5           Adhi Kot  379    Valid           EH4  4,239.0  Fell   \n",
       "7               Agen  392    Valid            H5 30,000.0  Fell   \n",
       "8             Aguada  398    Valid            L6  1,620.0  Fell   \n",
       "9      Aguila Blanca  417    Valid             L  1,440.0  Fell   \n",
       "10  Aioun el Atrouss  423    Valid  Diogenite-pm  1,000.0  Fell   \n",
       "11               Aïr  424    Valid            L6 24,000.0  Fell   \n",
       "12   Aire-sur-la-Lys  425    Valid       Unknown      NaN  Fell   \n",
       "13             Akaba  426    Valid            L6    779.0  Fell   \n",
       "\n",
       "                  year  reclat  reclong           GeoLocation  fell  found  \n",
       "1  1951-01-01 12:00:00    56.2     10.2  (56.18333, 10.23333)     1      0  \n",
       "3  1976-01-01 12:00:00    16.9    -99.9     (16.88333, -99.9)     1      0  \n",
       "5  1919-01-01 12:00:00    32.1     71.8          (32.1, 71.8)     1      0  \n",
       "7  1814-01-01 12:00:00    44.2      0.6   (44.21667, 0.61667)     1      0  \n",
       "8  1930-01-01 12:00:00   -31.6    -65.2    (-31.6, -65.23333)     1      0  \n",
       "9  1920-01-01 12:00:00   -30.9    -64.5   (-30.86667, -64.55)     1      0  \n",
       "10 1974-01-01 12:00:00    16.4     -9.6  (16.39806, -9.57028)     1      0  \n",
       "11 1925-01-01 12:00:00    19.1      8.4   (19.08333, 8.38333)     1      0  \n",
       "12 1769-01-01 12:00:00    50.7      2.3   (50.66667, 2.33333)     1      0  \n",
       "13 1949-01-01 12:00:00    29.5     35.0     (29.51667, 35.05)     1      0  "
      ]
     },
     "execution_count": 41,
     "metadata": {},
     "output_type": "execute_result"
    }
   ],
   "source": [
    "df_meteorites.drop([0,2,4,6]).head(10) #borrando filas"
   ]
  },
  {
   "cell_type": "code",
   "execution_count": 42,
   "metadata": {
    "colab": {
     "base_uri": "https://localhost:8080/",
     "height": 423
    },
    "executionInfo": {
     "elapsed": 209,
     "status": "ok",
     "timestamp": 1647048905241,
     "user": {
      "displayName": "Luis Enrrique Pernia Carroz",
      "photoUrl": "https://lh3.googleusercontent.com/a-/AOh14GgOoKnSpkb2XSRqD2f673ceBYaj8O8lp0tj-qjj4g=s64",
      "userId": "09245467713551539461"
     },
     "user_tz": 180
    },
    "id": "kIOSwMwccGgv",
    "outputId": "43e1d8fa-659c-40fd-c158-01375d3cc225"
   },
   "outputs": [
    {
     "data": {
      "text/html": [
       "<div>\n",
       "<style scoped>\n",
       "    .dataframe tbody tr th:only-of-type {\n",
       "        vertical-align: middle;\n",
       "    }\n",
       "\n",
       "    .dataframe tbody tr th {\n",
       "        vertical-align: top;\n",
       "    }\n",
       "\n",
       "    .dataframe thead th {\n",
       "        text-align: right;\n",
       "    }\n",
       "</style>\n",
       "<table border=\"1\" class=\"dataframe\">\n",
       "  <thead>\n",
       "    <tr style=\"text-align: right;\">\n",
       "      <th></th>\n",
       "      <th>name</th>\n",
       "      <th>id</th>\n",
       "      <th>mass</th>\n",
       "      <th>fall</th>\n",
       "      <th>year</th>\n",
       "      <th>reclat</th>\n",
       "      <th>reclong</th>\n",
       "      <th>GeoLocation</th>\n",
       "      <th>fell</th>\n",
       "      <th>found</th>\n",
       "    </tr>\n",
       "  </thead>\n",
       "  <tbody>\n",
       "    <tr>\n",
       "      <th>1</th>\n",
       "      <td>Aarhus</td>\n",
       "      <td>2</td>\n",
       "      <td>720.0</td>\n",
       "      <td>Fell</td>\n",
       "      <td>1951-01-01 12:00:00</td>\n",
       "      <td>56.2</td>\n",
       "      <td>10.2</td>\n",
       "      <td>(56.18333, 10.23333)</td>\n",
       "      <td>1</td>\n",
       "      <td>0</td>\n",
       "    </tr>\n",
       "    <tr>\n",
       "      <th>3</th>\n",
       "      <td>Acapulco</td>\n",
       "      <td>10</td>\n",
       "      <td>1,914.0</td>\n",
       "      <td>Fell</td>\n",
       "      <td>1976-01-01 12:00:00</td>\n",
       "      <td>16.9</td>\n",
       "      <td>-99.9</td>\n",
       "      <td>(16.88333, -99.9)</td>\n",
       "      <td>1</td>\n",
       "      <td>0</td>\n",
       "    </tr>\n",
       "    <tr>\n",
       "      <th>5</th>\n",
       "      <td>Adhi Kot</td>\n",
       "      <td>379</td>\n",
       "      <td>4,239.0</td>\n",
       "      <td>Fell</td>\n",
       "      <td>1919-01-01 12:00:00</td>\n",
       "      <td>32.1</td>\n",
       "      <td>71.8</td>\n",
       "      <td>(32.1, 71.8)</td>\n",
       "      <td>1</td>\n",
       "      <td>0</td>\n",
       "    </tr>\n",
       "    <tr>\n",
       "      <th>7</th>\n",
       "      <td>Agen</td>\n",
       "      <td>392</td>\n",
       "      <td>30,000.0</td>\n",
       "      <td>Fell</td>\n",
       "      <td>1814-01-01 12:00:00</td>\n",
       "      <td>44.2</td>\n",
       "      <td>0.6</td>\n",
       "      <td>(44.21667, 0.61667)</td>\n",
       "      <td>1</td>\n",
       "      <td>0</td>\n",
       "    </tr>\n",
       "    <tr>\n",
       "      <th>8</th>\n",
       "      <td>Aguada</td>\n",
       "      <td>398</td>\n",
       "      <td>1,620.0</td>\n",
       "      <td>Fell</td>\n",
       "      <td>1930-01-01 12:00:00</td>\n",
       "      <td>-31.6</td>\n",
       "      <td>-65.2</td>\n",
       "      <td>(-31.6, -65.23333)</td>\n",
       "      <td>1</td>\n",
       "      <td>0</td>\n",
       "    </tr>\n",
       "    <tr>\n",
       "      <th>...</th>\n",
       "      <td>...</td>\n",
       "      <td>...</td>\n",
       "      <td>...</td>\n",
       "      <td>...</td>\n",
       "      <td>...</td>\n",
       "      <td>...</td>\n",
       "      <td>...</td>\n",
       "      <td>...</td>\n",
       "      <td>...</td>\n",
       "      <td>...</td>\n",
       "    </tr>\n",
       "    <tr>\n",
       "      <th>45711</th>\n",
       "      <td>Zillah 002</td>\n",
       "      <td>31356</td>\n",
       "      <td>172.0</td>\n",
       "      <td>Found</td>\n",
       "      <td>1990-01-01 12:00:00</td>\n",
       "      <td>29.0</td>\n",
       "      <td>17.0</td>\n",
       "      <td>(29.037, 17.0185)</td>\n",
       "      <td>0</td>\n",
       "      <td>1</td>\n",
       "    </tr>\n",
       "    <tr>\n",
       "      <th>45712</th>\n",
       "      <td>Zinder</td>\n",
       "      <td>30409</td>\n",
       "      <td>46.0</td>\n",
       "      <td>Found</td>\n",
       "      <td>1999-01-01 12:00:00</td>\n",
       "      <td>13.8</td>\n",
       "      <td>9.0</td>\n",
       "      <td>(13.78333, 8.96667)</td>\n",
       "      <td>0</td>\n",
       "      <td>1</td>\n",
       "    </tr>\n",
       "    <tr>\n",
       "      <th>45713</th>\n",
       "      <td>Zlin</td>\n",
       "      <td>30410</td>\n",
       "      <td>3.3</td>\n",
       "      <td>Found</td>\n",
       "      <td>1939-01-01 12:00:00</td>\n",
       "      <td>49.2</td>\n",
       "      <td>17.7</td>\n",
       "      <td>(49.25, 17.66667)</td>\n",
       "      <td>0</td>\n",
       "      <td>1</td>\n",
       "    </tr>\n",
       "    <tr>\n",
       "      <th>45714</th>\n",
       "      <td>Zubkovsky</td>\n",
       "      <td>31357</td>\n",
       "      <td>2,167.0</td>\n",
       "      <td>Found</td>\n",
       "      <td>2003-01-01 12:00:00</td>\n",
       "      <td>49.8</td>\n",
       "      <td>41.5</td>\n",
       "      <td>(49.78917, 41.5046)</td>\n",
       "      <td>0</td>\n",
       "      <td>1</td>\n",
       "    </tr>\n",
       "    <tr>\n",
       "      <th>45715</th>\n",
       "      <td>Zulu Queen</td>\n",
       "      <td>30414</td>\n",
       "      <td>200.0</td>\n",
       "      <td>Found</td>\n",
       "      <td>1976-01-01 12:00:00</td>\n",
       "      <td>34.0</td>\n",
       "      <td>-115.7</td>\n",
       "      <td>(33.98333, -115.68333)</td>\n",
       "      <td>0</td>\n",
       "      <td>1</td>\n",
       "    </tr>\n",
       "  </tbody>\n",
       "</table>\n",
       "<p>45712 rows × 10 columns</p>\n",
       "</div>"
      ],
      "text/plain": [
       "             name     id     mass   fall                year  reclat  reclong  \\\n",
       "1          Aarhus      2    720.0   Fell 1951-01-01 12:00:00    56.2     10.2   \n",
       "3        Acapulco     10  1,914.0   Fell 1976-01-01 12:00:00    16.9    -99.9   \n",
       "5        Adhi Kot    379  4,239.0   Fell 1919-01-01 12:00:00    32.1     71.8   \n",
       "7            Agen    392 30,000.0   Fell 1814-01-01 12:00:00    44.2      0.6   \n",
       "8          Aguada    398  1,620.0   Fell 1930-01-01 12:00:00   -31.6    -65.2   \n",
       "...           ...    ...      ...    ...                 ...     ...      ...   \n",
       "45711  Zillah 002  31356    172.0  Found 1990-01-01 12:00:00    29.0     17.0   \n",
       "45712      Zinder  30409     46.0  Found 1999-01-01 12:00:00    13.8      9.0   \n",
       "45713        Zlin  30410      3.3  Found 1939-01-01 12:00:00    49.2     17.7   \n",
       "45714   Zubkovsky  31357  2,167.0  Found 2003-01-01 12:00:00    49.8     41.5   \n",
       "45715  Zulu Queen  30414    200.0  Found 1976-01-01 12:00:00    34.0   -115.7   \n",
       "\n",
       "                  GeoLocation  fell  found  \n",
       "1        (56.18333, 10.23333)     1      0  \n",
       "3           (16.88333, -99.9)     1      0  \n",
       "5                (32.1, 71.8)     1      0  \n",
       "7         (44.21667, 0.61667)     1      0  \n",
       "8          (-31.6, -65.23333)     1      0  \n",
       "...                       ...   ...    ...  \n",
       "45711       (29.037, 17.0185)     0      1  \n",
       "45712     (13.78333, 8.96667)     0      1  \n",
       "45713       (49.25, 17.66667)     0      1  \n",
       "45714     (49.78917, 41.5046)     0      1  \n",
       "45715  (33.98333, -115.68333)     0      1  \n",
       "\n",
       "[45712 rows x 10 columns]"
      ]
     },
     "execution_count": 42,
     "metadata": {},
     "output_type": "execute_result"
    }
   ],
   "source": [
    "df_meteorites.drop(index = [0,2,4,6], columns = ['nametype', 'recclass']) #borrando filas & columnas"
   ]
  },
  {
   "cell_type": "code",
   "execution_count": 43,
   "metadata": {
    "colab": {
     "base_uri": "https://localhost:8080/",
     "height": 423
    },
    "executionInfo": {
     "elapsed": 206,
     "status": "ok",
     "timestamp": 1647048997102,
     "user": {
      "displayName": "Luis Enrrique Pernia Carroz",
      "photoUrl": "https://lh3.googleusercontent.com/a-/AOh14GgOoKnSpkb2XSRqD2f673ceBYaj8O8lp0tj-qjj4g=s64",
      "userId": "09245467713551539461"
     },
     "user_tz": 180
    },
    "id": "trNJrbDyfil0",
    "outputId": "d7654f65-2b1e-428b-f4ed-0cf3ba62c691"
   },
   "outputs": [
    {
     "data": {
      "text/html": [
       "<div>\n",
       "<style scoped>\n",
       "    .dataframe tbody tr th:only-of-type {\n",
       "        vertical-align: middle;\n",
       "    }\n",
       "\n",
       "    .dataframe tbody tr th {\n",
       "        vertical-align: top;\n",
       "    }\n",
       "\n",
       "    .dataframe thead th {\n",
       "        text-align: right;\n",
       "    }\n",
       "</style>\n",
       "<table border=\"1\" class=\"dataframe\">\n",
       "  <thead>\n",
       "    <tr style=\"text-align: right;\">\n",
       "      <th></th>\n",
       "      <th>name</th>\n",
       "      <th>id</th>\n",
       "      <th>nametype</th>\n",
       "      <th>recclass</th>\n",
       "      <th>mass</th>\n",
       "      <th>fall</th>\n",
       "      <th>year</th>\n",
       "      <th>reclat</th>\n",
       "      <th>reclong</th>\n",
       "      <th>GeoLocation</th>\n",
       "      <th>fell</th>\n",
       "      <th>found</th>\n",
       "    </tr>\n",
       "  </thead>\n",
       "  <tbody>\n",
       "    <tr>\n",
       "      <th>0</th>\n",
       "      <td>Aachen</td>\n",
       "      <td>1</td>\n",
       "      <td>Valid</td>\n",
       "      <td>L5</td>\n",
       "      <td>21.0</td>\n",
       "      <td>Fell</td>\n",
       "      <td>1880-01-01 12:00:00</td>\n",
       "      <td>50.8</td>\n",
       "      <td>6.1</td>\n",
       "      <td>(50.775, 6.08333)</td>\n",
       "      <td>1</td>\n",
       "      <td>0</td>\n",
       "    </tr>\n",
       "    <tr>\n",
       "      <th>1</th>\n",
       "      <td>Aarhus</td>\n",
       "      <td>2</td>\n",
       "      <td>Valid</td>\n",
       "      <td>H6</td>\n",
       "      <td>720.0</td>\n",
       "      <td>Fell</td>\n",
       "      <td>1951-01-01 12:00:00</td>\n",
       "      <td>56.2</td>\n",
       "      <td>10.2</td>\n",
       "      <td>(56.18333, 10.23333)</td>\n",
       "      <td>1</td>\n",
       "      <td>0</td>\n",
       "    </tr>\n",
       "    <tr>\n",
       "      <th>2</th>\n",
       "      <td>Abee</td>\n",
       "      <td>6</td>\n",
       "      <td>Valid</td>\n",
       "      <td>EH4</td>\n",
       "      <td>107,000.0</td>\n",
       "      <td>Fell</td>\n",
       "      <td>1952-01-01 12:00:00</td>\n",
       "      <td>54.2</td>\n",
       "      <td>-113.0</td>\n",
       "      <td>(54.21667, -113.0)</td>\n",
       "      <td>1</td>\n",
       "      <td>0</td>\n",
       "    </tr>\n",
       "    <tr>\n",
       "      <th>3</th>\n",
       "      <td>Acapulco</td>\n",
       "      <td>10</td>\n",
       "      <td>Valid</td>\n",
       "      <td>Acapulcoite</td>\n",
       "      <td>1,914.0</td>\n",
       "      <td>Fell</td>\n",
       "      <td>1976-01-01 12:00:00</td>\n",
       "      <td>16.9</td>\n",
       "      <td>-99.9</td>\n",
       "      <td>(16.88333, -99.9)</td>\n",
       "      <td>1</td>\n",
       "      <td>0</td>\n",
       "    </tr>\n",
       "    <tr>\n",
       "      <th>4</th>\n",
       "      <td>Achiras</td>\n",
       "      <td>370</td>\n",
       "      <td>Valid</td>\n",
       "      <td>L6</td>\n",
       "      <td>780.0</td>\n",
       "      <td>Fell</td>\n",
       "      <td>1902-01-01 12:00:00</td>\n",
       "      <td>-33.2</td>\n",
       "      <td>-65.0</td>\n",
       "      <td>(-33.16667, -64.95)</td>\n",
       "      <td>1</td>\n",
       "      <td>0</td>\n",
       "    </tr>\n",
       "    <tr>\n",
       "      <th>...</th>\n",
       "      <td>...</td>\n",
       "      <td>...</td>\n",
       "      <td>...</td>\n",
       "      <td>...</td>\n",
       "      <td>...</td>\n",
       "      <td>...</td>\n",
       "      <td>...</td>\n",
       "      <td>...</td>\n",
       "      <td>...</td>\n",
       "      <td>...</td>\n",
       "      <td>...</td>\n",
       "      <td>...</td>\n",
       "    </tr>\n",
       "    <tr>\n",
       "      <th>45711</th>\n",
       "      <td>Zillah 002</td>\n",
       "      <td>31356</td>\n",
       "      <td>Valid</td>\n",
       "      <td>Eucrite</td>\n",
       "      <td>172.0</td>\n",
       "      <td>Found</td>\n",
       "      <td>1990-01-01 12:00:00</td>\n",
       "      <td>29.0</td>\n",
       "      <td>17.0</td>\n",
       "      <td>(29.037, 17.0185)</td>\n",
       "      <td>0</td>\n",
       "      <td>1</td>\n",
       "    </tr>\n",
       "    <tr>\n",
       "      <th>45712</th>\n",
       "      <td>Zinder</td>\n",
       "      <td>30409</td>\n",
       "      <td>Valid</td>\n",
       "      <td>Pallasite, ungrouped</td>\n",
       "      <td>46.0</td>\n",
       "      <td>Found</td>\n",
       "      <td>1999-01-01 12:00:00</td>\n",
       "      <td>13.8</td>\n",
       "      <td>9.0</td>\n",
       "      <td>(13.78333, 8.96667)</td>\n",
       "      <td>0</td>\n",
       "      <td>1</td>\n",
       "    </tr>\n",
       "    <tr>\n",
       "      <th>45713</th>\n",
       "      <td>Zlin</td>\n",
       "      <td>30410</td>\n",
       "      <td>Valid</td>\n",
       "      <td>H4</td>\n",
       "      <td>3.3</td>\n",
       "      <td>Found</td>\n",
       "      <td>1939-01-01 12:00:00</td>\n",
       "      <td>49.2</td>\n",
       "      <td>17.7</td>\n",
       "      <td>(49.25, 17.66667)</td>\n",
       "      <td>0</td>\n",
       "      <td>1</td>\n",
       "    </tr>\n",
       "    <tr>\n",
       "      <th>45714</th>\n",
       "      <td>Zubkovsky</td>\n",
       "      <td>31357</td>\n",
       "      <td>Valid</td>\n",
       "      <td>L6</td>\n",
       "      <td>2,167.0</td>\n",
       "      <td>Found</td>\n",
       "      <td>2003-01-01 12:00:00</td>\n",
       "      <td>49.8</td>\n",
       "      <td>41.5</td>\n",
       "      <td>(49.78917, 41.5046)</td>\n",
       "      <td>0</td>\n",
       "      <td>1</td>\n",
       "    </tr>\n",
       "    <tr>\n",
       "      <th>45715</th>\n",
       "      <td>Zulu Queen</td>\n",
       "      <td>30414</td>\n",
       "      <td>Valid</td>\n",
       "      <td>L3.7</td>\n",
       "      <td>200.0</td>\n",
       "      <td>Found</td>\n",
       "      <td>1976-01-01 12:00:00</td>\n",
       "      <td>34.0</td>\n",
       "      <td>-115.7</td>\n",
       "      <td>(33.98333, -115.68333)</td>\n",
       "      <td>0</td>\n",
       "      <td>1</td>\n",
       "    </tr>\n",
       "  </tbody>\n",
       "</table>\n",
       "<p>45716 rows × 12 columns</p>\n",
       "</div>"
      ],
      "text/plain": [
       "             name     id nametype              recclass      mass   fall  \\\n",
       "0          Aachen      1    Valid                    L5      21.0   Fell   \n",
       "1          Aarhus      2    Valid                    H6     720.0   Fell   \n",
       "2            Abee      6    Valid                   EH4 107,000.0   Fell   \n",
       "3        Acapulco     10    Valid           Acapulcoite   1,914.0   Fell   \n",
       "4         Achiras    370    Valid                    L6     780.0   Fell   \n",
       "...           ...    ...      ...                   ...       ...    ...   \n",
       "45711  Zillah 002  31356    Valid               Eucrite     172.0  Found   \n",
       "45712      Zinder  30409    Valid  Pallasite, ungrouped      46.0  Found   \n",
       "45713        Zlin  30410    Valid                    H4       3.3  Found   \n",
       "45714   Zubkovsky  31357    Valid                    L6   2,167.0  Found   \n",
       "45715  Zulu Queen  30414    Valid                  L3.7     200.0  Found   \n",
       "\n",
       "                     year  reclat  reclong             GeoLocation  fell  \\\n",
       "0     1880-01-01 12:00:00    50.8      6.1       (50.775, 6.08333)     1   \n",
       "1     1951-01-01 12:00:00    56.2     10.2    (56.18333, 10.23333)     1   \n",
       "2     1952-01-01 12:00:00    54.2   -113.0      (54.21667, -113.0)     1   \n",
       "3     1976-01-01 12:00:00    16.9    -99.9       (16.88333, -99.9)     1   \n",
       "4     1902-01-01 12:00:00   -33.2    -65.0     (-33.16667, -64.95)     1   \n",
       "...                   ...     ...      ...                     ...   ...   \n",
       "45711 1990-01-01 12:00:00    29.0     17.0       (29.037, 17.0185)     0   \n",
       "45712 1999-01-01 12:00:00    13.8      9.0     (13.78333, 8.96667)     0   \n",
       "45713 1939-01-01 12:00:00    49.2     17.7       (49.25, 17.66667)     0   \n",
       "45714 2003-01-01 12:00:00    49.8     41.5     (49.78917, 41.5046)     0   \n",
       "45715 1976-01-01 12:00:00    34.0   -115.7  (33.98333, -115.68333)     0   \n",
       "\n",
       "       found  \n",
       "0          0  \n",
       "1          0  \n",
       "2          0  \n",
       "3          0  \n",
       "4          0  \n",
       "...      ...  \n",
       "45711      1  \n",
       "45712      1  \n",
       "45713      1  \n",
       "45714      1  \n",
       "45715      1  \n",
       "\n",
       "[45716 rows x 12 columns]"
      ]
     },
     "execution_count": 43,
     "metadata": {},
     "output_type": "execute_result"
    }
   ],
   "source": [
    "df = df_meteorites.copy(deep= True)\n",
    "df"
   ]
  },
  {
   "cell_type": "code",
   "execution_count": 44,
   "metadata": {
    "executionInfo": {
     "elapsed": 208,
     "status": "ok",
     "timestamp": 1647049301417,
     "user": {
      "displayName": "Luis Enrrique Pernia Carroz",
      "photoUrl": "https://lh3.googleusercontent.com/a-/AOh14GgOoKnSpkb2XSRqD2f673ceBYaj8O8lp0tj-qjj4g=s64",
      "userId": "09245467713551539461"
     },
     "user_tz": 180
    },
    "id": "7ThVpwWdxFN-"
   },
   "outputs": [],
   "source": [
    "df.drop(['id'], axis=1, inplace=True)"
   ]
  },
  {
   "cell_type": "code",
   "execution_count": 45,
   "metadata": {
    "colab": {
     "base_uri": "https://localhost:8080/",
     "height": 166
    },
    "executionInfo": {
     "elapsed": 207,
     "status": "error",
     "timestamp": 1647050180924,
     "user": {
      "displayName": "Luis Enrrique Pernia Carroz",
      "photoUrl": "https://lh3.googleusercontent.com/a-/AOh14GgOoKnSpkb2XSRqD2f673ceBYaj8O8lp0tj-qjj4g=s64",
      "userId": "09245467713551539461"
     },
     "user_tz": 180
    },
    "id": "JZ0sRTCExW9e",
    "outputId": "03292ebd-6c02-478a-d21a-58d85533f96e"
   },
   "outputs": [
    {
     "data": {
      "text/html": [
       "<div>\n",
       "<style scoped>\n",
       "    .dataframe tbody tr th:only-of-type {\n",
       "        vertical-align: middle;\n",
       "    }\n",
       "\n",
       "    .dataframe tbody tr th {\n",
       "        vertical-align: top;\n",
       "    }\n",
       "\n",
       "    .dataframe thead th {\n",
       "        text-align: right;\n",
       "    }\n",
       "</style>\n",
       "<table border=\"1\" class=\"dataframe\">\n",
       "  <thead>\n",
       "    <tr style=\"text-align: right;\">\n",
       "      <th></th>\n",
       "      <th>name</th>\n",
       "      <th>nametype</th>\n",
       "      <th>recclass</th>\n",
       "      <th>mass</th>\n",
       "      <th>fall</th>\n",
       "      <th>year</th>\n",
       "      <th>reclat</th>\n",
       "      <th>reclong</th>\n",
       "      <th>GeoLocation</th>\n",
       "      <th>fell</th>\n",
       "      <th>found</th>\n",
       "    </tr>\n",
       "  </thead>\n",
       "  <tbody>\n",
       "    <tr>\n",
       "      <th>0</th>\n",
       "      <td>Aachen</td>\n",
       "      <td>Valid</td>\n",
       "      <td>L5</td>\n",
       "      <td>21.0</td>\n",
       "      <td>Fell</td>\n",
       "      <td>1880-01-01 12:00:00</td>\n",
       "      <td>50.8</td>\n",
       "      <td>6.1</td>\n",
       "      <td>(50.775, 6.08333)</td>\n",
       "      <td>1</td>\n",
       "      <td>0</td>\n",
       "    </tr>\n",
       "    <tr>\n",
       "      <th>1</th>\n",
       "      <td>Aarhus</td>\n",
       "      <td>Valid</td>\n",
       "      <td>H6</td>\n",
       "      <td>720.0</td>\n",
       "      <td>Fell</td>\n",
       "      <td>1951-01-01 12:00:00</td>\n",
       "      <td>56.2</td>\n",
       "      <td>10.2</td>\n",
       "      <td>(56.18333, 10.23333)</td>\n",
       "      <td>1</td>\n",
       "      <td>0</td>\n",
       "    </tr>\n",
       "    <tr>\n",
       "      <th>2</th>\n",
       "      <td>Abee</td>\n",
       "      <td>Valid</td>\n",
       "      <td>EH4</td>\n",
       "      <td>107,000.0</td>\n",
       "      <td>Fell</td>\n",
       "      <td>1952-01-01 12:00:00</td>\n",
       "      <td>54.2</td>\n",
       "      <td>-113.0</td>\n",
       "      <td>(54.21667, -113.0)</td>\n",
       "      <td>1</td>\n",
       "      <td>0</td>\n",
       "    </tr>\n",
       "    <tr>\n",
       "      <th>3</th>\n",
       "      <td>Acapulco</td>\n",
       "      <td>Valid</td>\n",
       "      <td>Acapulcoite</td>\n",
       "      <td>1,914.0</td>\n",
       "      <td>Fell</td>\n",
       "      <td>1976-01-01 12:00:00</td>\n",
       "      <td>16.9</td>\n",
       "      <td>-99.9</td>\n",
       "      <td>(16.88333, -99.9)</td>\n",
       "      <td>1</td>\n",
       "      <td>0</td>\n",
       "    </tr>\n",
       "    <tr>\n",
       "      <th>4</th>\n",
       "      <td>Achiras</td>\n",
       "      <td>Valid</td>\n",
       "      <td>L6</td>\n",
       "      <td>780.0</td>\n",
       "      <td>Fell</td>\n",
       "      <td>1902-01-01 12:00:00</td>\n",
       "      <td>-33.2</td>\n",
       "      <td>-65.0</td>\n",
       "      <td>(-33.16667, -64.95)</td>\n",
       "      <td>1</td>\n",
       "      <td>0</td>\n",
       "    </tr>\n",
       "  </tbody>\n",
       "</table>\n",
       "</div>"
      ],
      "text/plain": [
       "       name nametype     recclass      mass  fall                year  reclat  \\\n",
       "0    Aachen    Valid           L5      21.0  Fell 1880-01-01 12:00:00    50.8   \n",
       "1    Aarhus    Valid           H6     720.0  Fell 1951-01-01 12:00:00    56.2   \n",
       "2      Abee    Valid          EH4 107,000.0  Fell 1952-01-01 12:00:00    54.2   \n",
       "3  Acapulco    Valid  Acapulcoite   1,914.0  Fell 1976-01-01 12:00:00    16.9   \n",
       "4   Achiras    Valid           L6     780.0  Fell 1902-01-01 12:00:00   -33.2   \n",
       "\n",
       "   reclong           GeoLocation  fell  found  \n",
       "0      6.1     (50.775, 6.08333)     1      0  \n",
       "1     10.2  (56.18333, 10.23333)     1      0  \n",
       "2   -113.0    (54.21667, -113.0)     1      0  \n",
       "3    -99.9     (16.88333, -99.9)     1      0  \n",
       "4    -65.0   (-33.16667, -64.95)     1      0  "
      ]
     },
     "execution_count": 45,
     "metadata": {},
     "output_type": "execute_result"
    }
   ],
   "source": [
    "df.head()"
   ]
  },
  {
   "cell_type": "code",
   "execution_count": 48,
   "metadata": {
    "colab": {
     "base_uri": "https://localhost:8080/",
     "height": 35
    },
    "executionInfo": {
     "elapsed": 401,
     "status": "ok",
     "timestamp": 1647050173903,
     "user": {
      "displayName": "Luis Enrrique Pernia Carroz",
      "photoUrl": "https://lh3.googleusercontent.com/a-/AOh14GgOoKnSpkb2XSRqD2f673ceBYaj8O8lp0tj-qjj4g=s64",
      "userId": "09245467713551539461"
     },
     "user_tz": 180
    },
    "id": "Rls8Yb-uyjl3",
    "outputId": "5a88fa1c-eaa0-4146-86c6-65d468fb4673"
   },
   "outputs": [
    {
     "data": {
      "text/plain": [
       "0                                         23,770,121,483.0\n",
       "1                                802,251,755,631,448,832.0\n",
       "2                                                      0.0\n",
       "3                                                      0.0\n",
       "4                                                      NaN\n",
       "                               ...                        \n",
       "45711                  7,893,039,298,327,624,225,390,592.0\n",
       "45712                                     16,451,773,181.0\n",
       "45713            792,834,347,823,029,623,763,169,705,984.0\n",
       "45714   27,472,906,687,309,392,156,934,324,884,889,445,...\n",
       "45715                                                  0.0\n",
       "Length: 45716, dtype: float64"
      ]
     },
     "execution_count": 48,
     "metadata": {},
     "output_type": "execute_result"
    }
   ],
   "source": [
    "df['reclat'].pow(df['reclong']) #producto punto o elevar."
   ]
  },
  {
   "cell_type": "code",
   "execution_count": null,
   "metadata": {},
   "outputs": [],
   "source": []
  }
 ],
 "metadata": {
  "colab": {
   "authorship_tag": "ABX9TyNNnZ0PeWkhDCrCcdPMVqwY",
   "collapsed_sections": [],
   "name": "4 datatypes.ipynb",
   "provenance": []
  },
  "kernelspec": {
   "display_name": "Python 3 (ipykernel)",
   "language": "python",
   "name": "python3"
  },
  "language_info": {
   "codemirror_mode": {
    "name": "ipython",
    "version": 3
   },
   "file_extension": ".py",
   "mimetype": "text/x-python",
   "name": "python",
   "nbconvert_exporter": "python",
   "pygments_lexer": "ipython3",
   "version": "3.10.1"
  }
 },
 "nbformat": 4,
 "nbformat_minor": 4
}
