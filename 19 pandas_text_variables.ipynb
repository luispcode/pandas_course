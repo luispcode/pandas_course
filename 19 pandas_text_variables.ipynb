{
 "cells": [
  {
   "cell_type": "code",
   "execution_count": 1,
   "id": "aa333527-a46a-482e-b018-1b1bbd8c609c",
   "metadata": {},
   "outputs": [],
   "source": [
    "import pandas as pd"
   ]
  },
  {
   "cell_type": "markdown",
   "id": "ec091680-10ff-4fda-baf0-2c7df9fb20c1",
   "metadata": {},
   "source": [
    "Pandas cuenta con una gran funcionalidad a la hora de interactuar con texto, es super versatil si estas interesado en crear modelos de análisis de lenguaje natural.\n",
    "\n",
    "Comencemos cargando nuestra librería y creando un diccionario con nombres de personas."
   ]
  },
  {
   "cell_type": "code",
   "execution_count": 2,
   "id": "58fb824d-b743-41a8-953b-13f537396156",
   "metadata": {},
   "outputs": [],
   "source": [
    "data = {'names':['Sara Moreno 34',\n",
    "                 'jUAn GOMez 23',\n",
    "                 'CArlos mArtinez 89',\n",
    "                 'Alfredo VelaZques 3',\n",
    "                 'luis Mora 56',\n",
    "                 '@freddier #platzi 10',pd.NA]}"
   ]
  },
  {
   "cell_type": "markdown",
   "id": "0453c2fb-efac-4b8f-9405-1abcaa7ac725",
   "metadata": {},
   "source": [
    "#### Usemos los datos del diccionario para crear nuestro DataFrame. Nuestro DataFrame contiene una columna tipo texto, con variedades de caracteres especiales, números, mayúsculas e inclusive variables nulas."
   ]
  },
  {
   "cell_type": "markdown",
   "id": "1555d64b",
   "metadata": {},
   "source": []
  },
  {
   "cell_type": "code",
   "execution_count": 6,
   "id": "e66ddd96-fb4c-4a87-ac44-8f85c3334622",
   "metadata": {},
   "outputs": [
    {
     "data": {
      "text/html": [
       "<div>\n",
       "<style scoped>\n",
       "    .dataframe tbody tr th:only-of-type {\n",
       "        vertical-align: middle;\n",
       "    }\n",
       "\n",
       "    .dataframe tbody tr th {\n",
       "        vertical-align: top;\n",
       "    }\n",
       "\n",
       "    .dataframe thead th {\n",
       "        text-align: right;\n",
       "    }\n",
       "</style>\n",
       "<table border=\"1\" class=\"dataframe\">\n",
       "  <thead>\n",
       "    <tr style=\"text-align: right;\">\n",
       "      <th></th>\n",
       "      <th>names</th>\n",
       "    </tr>\n",
       "  </thead>\n",
       "  <tbody>\n",
       "    <tr>\n",
       "      <th>0</th>\n",
       "      <td>Sara Moreno 34</td>\n",
       "    </tr>\n",
       "    <tr>\n",
       "      <th>1</th>\n",
       "      <td>jUAn GOMez 23</td>\n",
       "    </tr>\n",
       "    <tr>\n",
       "      <th>2</th>\n",
       "      <td>CArlos mArtinez 89</td>\n",
       "    </tr>\n",
       "    <tr>\n",
       "      <th>3</th>\n",
       "      <td>Alfredo VelaZques 3</td>\n",
       "    </tr>\n",
       "    <tr>\n",
       "      <th>4</th>\n",
       "      <td>luis Mora 56</td>\n",
       "    </tr>\n",
       "    <tr>\n",
       "      <th>5</th>\n",
       "      <td>@freddier #platzi 10</td>\n",
       "    </tr>\n",
       "    <tr>\n",
       "      <th>6</th>\n",
       "      <td>&lt;NA&gt;</td>\n",
       "    </tr>\n",
       "  </tbody>\n",
       "</table>\n",
       "</div>"
      ],
      "text/plain": [
       "                  names\n",
       "0        Sara Moreno 34\n",
       "1         jUAn GOMez 23\n",
       "2    CArlos mArtinez 89\n",
       "3   Alfredo VelaZques 3\n",
       "4          luis Mora 56\n",
       "5  @freddier #platzi 10\n",
       "6                  <NA>"
      ]
     },
     "execution_count": 6,
     "metadata": {},
     "output_type": "execute_result"
    }
   ],
   "source": [
    "df = pd.DataFrame(data)\n",
    "df\n"
   ]
  },
  {
   "cell_type": "markdown",
   "id": "3f3094ea-4d45-4add-ba64-8f3423e0218a",
   "metadata": {},
   "source": [
    "## Para usar las funciones asociadas a texto usamos str en nuestro DataFrame, por ejemplo, si se quiere colocar el texto en minúscula, basta con escribir:"
   ]
  },
  {
   "cell_type": "code",
   "execution_count": 18,
   "id": "d7512028-8681-4eed-be76-ff8ade083527",
   "metadata": {},
   "outputs": [
    {
     "name": "stdout",
     "output_type": "stream",
     "text": [
      "0          sara moreno 34\n",
      "1           juan gomez 23\n",
      "2      carlos martinez 89\n",
      "3     alfredo velazques 3\n",
      "4            luis mora 56\n",
      "5    @freddier #platzi 10\n",
      "6                    <NA>\n",
      "Name: names, dtype: object \n",
      "\n",
      " 0          SARA MORENO 34\n",
      "1           JUAN GOMEZ 23\n",
      "2      CARLOS MARTINEZ 89\n",
      "3     ALFREDO VELAZQUES 3\n",
      "4            LUIS MORA 56\n",
      "5    @FREDDIER #PLATZI 10\n",
      "6                    <NA>\n",
      "Name: names, dtype: object \n",
      "\n",
      " 0          Sara moreno 34\n",
      "1           Juan gomez 23\n",
      "2      Carlos martinez 89\n",
      "3     Alfredo velazques 3\n",
      "4            Luis mora 56\n",
      "5    @freddier #platzi 10\n",
      "6                    <NA>\n",
      "Name: names, dtype: object\n"
     ]
    }
   ],
   "source": [
    "print(\n",
    "    df['names'].str.lower(),'\\n''\\n', # para mayusculas minusculas\n",
    "    df['names'].str.upper(),'\\n''\\n', # metodos para mayusculas\n",
    "    df['names'].str.capitalize() #y primera mayuscula.\n",
    ")"
   ]
  },
  {
   "cell_type": "markdown",
   "id": "93565ce3-0183-412b-b068-f227f88ee9eb",
   "metadata": {},
   "source": [
    "## Para contar la longitud de nuestro texto usamos:"
   ]
  },
  {
   "cell_type": "code",
   "execution_count": 21,
   "id": "f87d1939-aaee-4bcb-b00f-1c5e1915b0ba",
   "metadata": {},
   "outputs": [
    {
     "data": {
      "text/plain": [
       "0      14\n",
       "1      13\n",
       "2      18\n",
       "3      19\n",
       "4      12\n",
       "5      20\n",
       "6    <NA>\n",
       "Name: names, dtype: object"
      ]
     },
     "execution_count": 21,
     "metadata": {},
     "output_type": "execute_result"
    }
   ],
   "source": [
    "df['names'].str.len()"
   ]
  },
  {
   "cell_type": "markdown",
   "id": "9aa34711-9cad-4cc4-bc7a-091136fb66c1",
   "metadata": {},
   "source": [
    "## Para dividir el texto por espacios usamos split y definimos el carácter por\n",
    "el que queremos dividir, en este caso, un espacio vacío ' ' o '#':"
   ]
  },
  {
   "cell_type": "code",
   "execution_count": 24,
   "id": "6884bc3a-99e7-415f-b2cf-461e03c76398",
   "metadata": {},
   "outputs": [
    {
     "name": "stdout",
     "output_type": "stream",
     "text": [
      "0          [Sara, Moreno, 34]\n",
      "1           [jUAn, GOMez, 23]\n",
      "2      [CArlos, mArtinez, 89]\n",
      "3     [Alfredo, VelaZques, 3]\n",
      "4            [luis, Mora, 56]\n",
      "5    [@freddier, #platzi, 10]\n",
      "6                        <NA>\n",
      "Name: names, dtype: object \n",
      "\n",
      " 0           [Sara Moreno 34]\n",
      "1            [jUAn GOMez 23]\n",
      "2       [CArlos mArtinez 89]\n",
      "3      [Alfredo VelaZques 3]\n",
      "4             [luis Mora 56]\n",
      "5    [@freddier , platzi 10]\n",
      "6                       <NA>\n",
      "Name: names, dtype: object\n"
     ]
    }
   ],
   "source": [
    "print(\n",
    "    df['names'].str.split(' '),'\\n''\\n',\n",
    "    df['names'].str.split('#') \n",
    "     )"
   ]
  },
  {
   "cell_type": "markdown",
   "id": "44021a7b-2b2e-4f3c-945d-eff24ad6da3b",
   "metadata": {},
   "source": [
    "## Para seleccionar los primeros o últimos 5 caracteres usamos:"
   ]
  },
  {
   "cell_type": "code",
   "execution_count": 27,
   "id": "e942c63e-7045-45f5-b11b-990d64c6b338",
   "metadata": {},
   "outputs": [
    {
     "name": "stdout",
     "output_type": "stream",
     "text": [
      "0    Sara \n",
      "1    jUAn \n",
      "2    CArlo\n",
      "3    Alfre\n",
      "4    luis \n",
      "5    @fred\n",
      "6     <NA>\n",
      "Name: names, dtype: object \n",
      "\n",
      " 0    no 34\n",
      "1    ez 23\n",
      "2    ez 89\n",
      "3    ues 3\n",
      "4    ra 56\n",
      "5    zi 10\n",
      "6     <NA>\n",
      "Name: names, dtype: object\n"
     ]
    }
   ],
   "source": [
    "print(\n",
    "    df['names'].str[:5],'\\n''\\n',\n",
    "    df['names'].str[-5:]\n",
    "    \n",
    ")"
   ]
  },
  {
   "cell_type": "code",
   "execution_count": 40,
   "id": "750ad64e-1df6-4664-b9a9-07e3dc190c7a",
   "metadata": {},
   "outputs": [
    {
     "data": {
      "text/plain": [
       "0          43 oneroM araS\n",
       "1           32 zeMOG nAUj\n",
       "2      98 zenitrAm solrAC\n",
       "3     3 seuqZaleV oderflA\n",
       "4            65 aroM siul\n",
       "5    01 iztalp# reidderf@\n",
       "6                    <NA>\n",
       "Name: names, dtype: object"
      ]
     },
     "execution_count": 40,
     "metadata": {},
     "output_type": "execute_result"
    }
   ],
   "source": [
    "df['names'].str[::-1] #al reves."
   ]
  },
  {
   "cell_type": "code",
   "execution_count": 41,
   "id": "3e37b18b-5073-4cf8-a3b2-840c0eba1f8b",
   "metadata": {},
   "outputs": [
    {
     "data": {
      "text/plain": [
       "0          Sara Moreno 34\n",
       "1           jUAn GOMez 23\n",
       "2      CArlos mArtinez 89\n",
       "3     Antonio VelaZques 3\n",
       "4            luis Mora 56\n",
       "5    @freddier #platzi 10\n",
       "6                    <NA>\n",
       "Name: names, dtype: object"
      ]
     },
     "execution_count": 41,
     "metadata": {},
     "output_type": "execute_result"
    }
   ],
   "source": [
    "df['names'].str.replace('Alfredo','Antonio') #string a remplazar, reemplazo"
   ]
  },
  {
   "cell_type": "markdown",
   "id": "e09ab72c-5bd3-4de9-8de4-41ec8dc3cb3a",
   "metadata": {},
   "source": [
    "## También podemos buscar una secuencia de texto en específico, en este caso,\n",
    "'ara':"
   ]
  },
  {
   "cell_type": "code",
   "execution_count": 43,
   "id": "6bf43502-ca4c-48e0-b0da-1f47f295e1ac",
   "metadata": {},
   "outputs": [
    {
     "data": {
      "text/plain": [
       "0    [ara]\n",
       "1       []\n",
       "2       []\n",
       "3       []\n",
       "4       []\n",
       "5       []\n",
       "6     <NA>\n",
       "Name: names, dtype: object"
      ]
     },
     "execution_count": 43,
     "metadata": {},
     "output_type": "execute_result"
    }
   ],
   "source": [
    "df['names'].str.findall('ara')"
   ]
  },
  {
   "cell_type": "markdown",
   "id": "26365510-9b93-4321-a7e4-fb8cb5f5a5c8",
   "metadata": {},
   "source": [
    "## También podemos crear un filtro basándonos en una secuencia de texto en\n",
    "específico, en este caso, las filas que tengan 'or':"
   ]
  },
  {
   "cell_type": "code",
   "execution_count": 44,
   "id": "31cd6f43-34f6-43a2-905e-948073829b77",
   "metadata": {},
   "outputs": [
    {
     "data": {
      "text/plain": [
       "0     True\n",
       "1    False\n",
       "2    False\n",
       "3    False\n",
       "4     True\n",
       "5    False\n",
       "6     <NA>\n",
       "Name: names, dtype: object"
      ]
     },
     "execution_count": 44,
     "metadata": {},
     "output_type": "execute_result"
    }
   ],
   "source": [
    "df['names'].str.contains('or')"
   ]
  },
  {
   "cell_type": "markdown",
   "id": "83712322-50cb-427e-b368-249a9617184d",
   "metadata": {},
   "source": [
    "## Así mismo, podemos contar el número de ocurrencias de un caracter en específico,\n",
    "por ejemplo, cuántas veces aparece la letra 'a':"
   ]
  },
  {
   "cell_type": "code",
   "execution_count": 46,
   "id": "17308589-0ae5-4be8-9895-c9cb70e83a53",
   "metadata": {},
   "outputs": [
    {
     "data": {
      "text/plain": [
       "0       2\n",
       "1       1\n",
       "2       2\n",
       "3       2\n",
       "4       1\n",
       "5       1\n",
       "6    <NA>\n",
       "Name: names, dtype: object"
      ]
     },
     "execution_count": 46,
     "metadata": {},
     "output_type": "execute_result"
    }
   ],
   "source": [
    "df['names'].str.lower().str.count('a')"
   ]
  },
  {
   "cell_type": "markdown",
   "id": "01b9cba7-4db2-4e3d-aef0-6c63316ad178",
   "metadata": {
    "tags": []
   },
   "source": [
    "## Existen comandos más avanzados usando Regex, por ejemplo, si quiero extraer los\n",
    "## caracteres numéricos:"
   ]
  },
  {
   "cell_type": "code",
   "execution_count": 48,
   "id": "b8ad93c6-da9b-4e29-b1b6-a1dc20ee8301",
   "metadata": {},
   "outputs": [
    {
     "data": {
      "text/plain": [
       "0      34\n",
       "1      23\n",
       "2      89\n",
       "3       3\n",
       "4      56\n",
       "5      10\n",
       "6    <NA>\n",
       "Name: names, dtype: object"
      ]
     },
     "execution_count": 48,
     "metadata": {},
     "output_type": "execute_result"
    }
   ],
   "source": [
    "df['names'].str.extract('([0-9]+)', expand=False)"
   ]
  },
  {
   "cell_type": "markdown",
   "id": "c4ac9db9-8c4b-47f8-8295-a58c1abe6964",
   "metadata": {},
   "source": [
    "## O, por ejemplo, si quiero extraer las menciones '@xxxx' del texto:"
   ]
  },
  {
   "cell_type": "code",
   "execution_count": 49,
   "id": "dd8dae8d-4d4b-49d9-9c44-9289b16092b9",
   "metadata": {},
   "outputs": [
    {
     "name": "stderr",
     "output_type": "stream",
     "text": [
      "C:\\Users\\luisp\\AppData\\Local\\Temp/ipykernel_36008/381694273.py:1: FutureWarning: The default value of regex will change from True to False in a future version.\n",
      "  df['names'].str.replace('@[^\\s]+','')\n"
     ]
    },
    {
     "data": {
      "text/plain": [
       "0         Sara Moreno 34\n",
       "1          jUAn GOMez 23\n",
       "2     CArlos mArtinez 89\n",
       "3    Alfredo VelaZques 3\n",
       "4           luis Mora 56\n",
       "5             #platzi 10\n",
       "6                   <NA>\n",
       "Name: names, dtype: object"
      ]
     },
     "execution_count": 49,
     "metadata": {},
     "output_type": "execute_result"
    }
   ],
   "source": [
    "df['names'].str.replace('@[^\\s]+','')"
   ]
  },
  {
   "cell_type": "code",
   "execution_count": 57,
   "id": "699b5f53-14b1-4a97-8f07-aa28408a5dac",
   "metadata": {},
   "outputs": [
    {
     "data": {
      "text/plain": [
       "0     True\n",
       "1    False\n",
       "2    False\n",
       "3    False\n",
       "4    False\n",
       "5    False\n",
       "6     <NA>\n",
       "Name: names, dtype: object"
      ]
     },
     "execution_count": 57,
     "metadata": {},
     "output_type": "execute_result"
    }
   ],
   "source": [
    "df['names'].str.contains('Sara')"
   ]
  },
  {
   "cell_type": "markdown",
   "id": "6ca3bb7c-1566-47d3-9eff-d6d1905b1b1a",
   "metadata": {},
   "source": [
    " Devuelva la columna1 y columna2 con las filas que concidan con el texto buscado en la columna ( Puede ser cualquiera en el DataFrame\n",
    "df [ ['columna1', 'columna2'] ][ df.columna.str.contains( 'busqueda' ) ]\n",
    " Concidencia en la columna1 y columna2, tambien puede usar el operados '|' para buscar en una columna u otra\n",
    "df [ df.columna1.str.contains( 'Texto1' ) & df.columna_diferente.str.contains('Texto a buscar en nueva columna') ]\n",
    "\n",
    " Si se quiere buscar una concidencia exacta\n",
    "df[ df.column == texto ]\n",
    "\n",
    " Buscar mas de una cadena\n",
    "df[ df.column.str.contains('cadena1' | 'cadena 2') ]\n",
    "\n",
    " Ignorar mayusculas y expersiones regulares\n",
    "df[ df.column.str.contains( 'texto a buscar', case=False, Regex=True) ]"
   ]
  },
  {
   "cell_type": "code",
   "execution_count": null,
   "id": "d19c5b8a-7d4a-4f72-bd61-91e7e2ae2d13",
   "metadata": {},
   "outputs": [],
   "source": []
  }
 ],
 "metadata": {
  "kernelspec": {
   "display_name": "Python 3.10.6 64-bit",
   "language": "python",
   "name": "python3"
  },
  "language_info": {
   "codemirror_mode": {
    "name": "ipython",
    "version": 3
   },
   "file_extension": ".py",
   "mimetype": "text/x-python",
   "name": "python",
   "nbconvert_exporter": "python",
   "pygments_lexer": "ipython3",
   "version": "3.10.6"
  },
  "vscode": {
   "interpreter": {
    "hash": "e1ec09b0d1bbb5cdb2714cd3190b8798aa073293e786692a18afb00e186dc573"
   }
  }
 },
 "nbformat": 4,
 "nbformat_minor": 5
}
