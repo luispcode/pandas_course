{
 "cells": [
  {
   "cell_type": "code",
   "execution_count": 1,
   "id": "9ad18e2d-8bc2-4b1d-b7b8-f85fa4c17f90",
   "metadata": {},
   "outputs": [],
   "source": [
    "import pandas as pd\n",
    "import numpy as np"
   ]
  },
  {
   "cell_type": "code",
   "execution_count": 9,
   "id": "dfad7eec-3570-455b-a6cc-dfbef3c0b5f8",
   "metadata": {},
   "outputs": [
    {
     "name": "stdout",
     "output_type": "stream",
     "text": [
      " Volume in drive C is Windows\n",
      " Volume Serial Number is 04E0-B438\n",
      "\n",
      " Directory of C:\\Users\\luisp\\Desktop\\Cursos\\python\\Jupiter_Notebooks\\db\n",
      "\n",
      "03/12/2022  17:00    <DIR>          .\n",
      "03/12/2022  17:00    <DIR>          ..\n",
      "03/12/2022  09:23         1,034,821 london_merged.csv\n",
      "03/10/2022  22:10         4,769,811 Meteorite_landings.csv\n",
      "03/12/2022  17:00            29,719 poblacion.csv\n",
      "03/10/2022  17:17               163 test.csv\n",
      "03/10/2022  21:41            84,959 test.hdf\n",
      "03/10/2022  21:11               388 test.json\n",
      "03/10/2022  21:39             4,639 test.parquet\n",
      "03/10/2022  21:37             1,179 test.pkl\n",
      "03/10/2022  21:11             5,176 text.xlsx\n",
      "               9 File(s)      5,930,855 bytes\n",
      "               2 Dir(s)  161,979,985,920 bytes free\n"
     ]
    }
   ],
   "source": [
    "ls"
   ]
  },
  {
   "cell_type": "code",
   "execution_count": 12,
   "id": "bfaddc42-b331-4f99-9f78-ee1539aeefbd",
   "metadata": {},
   "outputs": [],
   "source": [
    "pd.options.display.float_format = '{:,.1f}'.format #colocar formato de decimales"
   ]
  },
  {
   "cell_type": "code",
   "execution_count": 13,
   "id": "11c17012-0a5c-46c5-9007-23374cf0cfda",
   "metadata": {},
   "outputs": [
    {
     "data": {
      "text/html": [
       "<div>\n",
       "<style scoped>\n",
       "    .dataframe tbody tr th:only-of-type {\n",
       "        vertical-align: middle;\n",
       "    }\n",
       "\n",
       "    .dataframe tbody tr th {\n",
       "        vertical-align: top;\n",
       "    }\n",
       "\n",
       "    .dataframe thead th {\n",
       "        text-align: right;\n",
       "    }\n",
       "</style>\n",
       "<table border=\"1\" class=\"dataframe\">\n",
       "  <thead>\n",
       "    <tr style=\"text-align: right;\">\n",
       "      <th></th>\n",
       "      <th>Country</th>\n",
       "      <th>year</th>\n",
       "      <th>pop</th>\n",
       "    </tr>\n",
       "  </thead>\n",
       "  <tbody>\n",
       "    <tr>\n",
       "      <th>0</th>\n",
       "      <td>Afghanistan</td>\n",
       "      <td>2015</td>\n",
       "      <td>34,413,603.0</td>\n",
       "    </tr>\n",
       "    <tr>\n",
       "      <th>1</th>\n",
       "      <td>Albania</td>\n",
       "      <td>2015</td>\n",
       "      <td>2,880,703.0</td>\n",
       "    </tr>\n",
       "    <tr>\n",
       "      <th>2</th>\n",
       "      <td>Algeria</td>\n",
       "      <td>2015</td>\n",
       "      <td>39,728,025.0</td>\n",
       "    </tr>\n",
       "    <tr>\n",
       "      <th>3</th>\n",
       "      <td>American Samoa</td>\n",
       "      <td>2015</td>\n",
       "      <td>55,812.0</td>\n",
       "    </tr>\n",
       "    <tr>\n",
       "      <th>4</th>\n",
       "      <td>Andorra</td>\n",
       "      <td>2015</td>\n",
       "      <td>78,011.0</td>\n",
       "    </tr>\n",
       "    <tr>\n",
       "      <th>...</th>\n",
       "      <td>...</td>\n",
       "      <td>...</td>\n",
       "      <td>...</td>\n",
       "    </tr>\n",
       "    <tr>\n",
       "      <th>1035</th>\n",
       "      <td>Pre-demographic dividend</td>\n",
       "      <td>2018</td>\n",
       "      <td>919,485,393.0</td>\n",
       "    </tr>\n",
       "    <tr>\n",
       "      <th>1036</th>\n",
       "      <td>Small states</td>\n",
       "      <td>2018</td>\n",
       "      <td>40,575,321.0</td>\n",
       "    </tr>\n",
       "    <tr>\n",
       "      <th>1037</th>\n",
       "      <td>South Asia</td>\n",
       "      <td>2018</td>\n",
       "      <td>1,814,388,744.0</td>\n",
       "    </tr>\n",
       "    <tr>\n",
       "      <th>1038</th>\n",
       "      <td>South Asia (IDA &amp; IBRD)</td>\n",
       "      <td>2018</td>\n",
       "      <td>1,814,388,744.0</td>\n",
       "    </tr>\n",
       "    <tr>\n",
       "      <th>1039</th>\n",
       "      <td>Sub-Saharan Africa</td>\n",
       "      <td>2018</td>\n",
       "      <td>1,078,306,520.0</td>\n",
       "    </tr>\n",
       "  </tbody>\n",
       "</table>\n",
       "<p>1040 rows × 3 columns</p>\n",
       "</div>"
      ],
      "text/plain": [
       "                       Country  year             pop\n",
       "0                  Afghanistan  2015    34,413,603.0\n",
       "1                      Albania  2015     2,880,703.0\n",
       "2                      Algeria  2015    39,728,025.0\n",
       "3               American Samoa  2015        55,812.0\n",
       "4                      Andorra  2015        78,011.0\n",
       "...                        ...   ...             ...\n",
       "1035  Pre-demographic dividend  2018   919,485,393.0\n",
       "1036              Small states  2018    40,575,321.0\n",
       "1037                South Asia  2018 1,814,388,744.0\n",
       "1038   South Asia (IDA & IBRD)  2018 1,814,388,744.0\n",
       "1039        Sub-Saharan Africa  2018 1,078,306,520.0\n",
       "\n",
       "[1040 rows x 3 columns]"
      ]
     },
     "execution_count": 13,
     "metadata": {},
     "output_type": "execute_result"
    }
   ],
   "source": [
    "df_pob =pd.read_csv('poblacion.csv')\n",
    "df_pob"
   ]
  },
  {
   "cell_type": "code",
   "execution_count": 17,
   "id": "9cc42917-050c-4637-a3bc-62d170aac8f9",
   "metadata": {},
   "outputs": [],
   "source": [
    "df_pob['year'] = pd.Categorical(df_pob['year'].apply(str))"
   ]
  },
  {
   "cell_type": "code",
   "execution_count": 18,
   "id": "555205cf-83e0-4e8c-a227-62bf0125e971",
   "metadata": {},
   "outputs": [
    {
     "data": {
      "text/plain": [
       "Country      object\n",
       "year       category\n",
       "pop         float64\n",
       "dtype: object"
      ]
     },
     "execution_count": 18,
     "metadata": {},
     "output_type": "execute_result"
    }
   ],
   "source": [
    "df_pob.dtypes"
   ]
  },
  {
   "cell_type": "code",
   "execution_count": 71,
   "id": "b9c083db-10a7-464e-b1d3-365e2031719c",
   "metadata": {},
   "outputs": [
    {
     "data": {
      "text/html": [
       "<div>\n",
       "<style scoped>\n",
       "    .dataframe tbody tr th:only-of-type {\n",
       "        vertical-align: middle;\n",
       "    }\n",
       "\n",
       "    .dataframe tbody tr th {\n",
       "        vertical-align: top;\n",
       "    }\n",
       "\n",
       "    .dataframe thead th {\n",
       "        text-align: right;\n",
       "    }\n",
       "</style>\n",
       "<table border=\"1\" class=\"dataframe\">\n",
       "  <thead>\n",
       "    <tr style=\"text-align: right;\">\n",
       "      <th></th>\n",
       "      <th>Country</th>\n",
       "      <th>year</th>\n",
       "      <th>pop</th>\n",
       "    </tr>\n",
       "  </thead>\n",
       "  <tbody>\n",
       "    <tr>\n",
       "      <th>9</th>\n",
       "      <td>Aruba</td>\n",
       "      <td>2015</td>\n",
       "      <td>104,341.0</td>\n",
       "    </tr>\n",
       "    <tr>\n",
       "      <th>42</th>\n",
       "      <td>Colombia</td>\n",
       "      <td>2015</td>\n",
       "      <td>47,520,667.0</td>\n",
       "    </tr>\n",
       "    <tr>\n",
       "      <th>269</th>\n",
       "      <td>Aruba</td>\n",
       "      <td>2016</td>\n",
       "      <td>104,872.0</td>\n",
       "    </tr>\n",
       "    <tr>\n",
       "      <th>302</th>\n",
       "      <td>Colombia</td>\n",
       "      <td>2016</td>\n",
       "      <td>48,171,392.0</td>\n",
       "    </tr>\n",
       "    <tr>\n",
       "      <th>529</th>\n",
       "      <td>Aruba</td>\n",
       "      <td>2017</td>\n",
       "      <td>105,366.0</td>\n",
       "    </tr>\n",
       "    <tr>\n",
       "      <th>562</th>\n",
       "      <td>Colombia</td>\n",
       "      <td>2017</td>\n",
       "      <td>48,901,066.0</td>\n",
       "    </tr>\n",
       "    <tr>\n",
       "      <th>789</th>\n",
       "      <td>Aruba</td>\n",
       "      <td>2018</td>\n",
       "      <td>105,845.0</td>\n",
       "    </tr>\n",
       "    <tr>\n",
       "      <th>822</th>\n",
       "      <td>Colombia</td>\n",
       "      <td>2018</td>\n",
       "      <td>49,648,685.0</td>\n",
       "    </tr>\n",
       "  </tbody>\n",
       "</table>\n",
       "</div>"
      ],
      "text/plain": [
       "      Country  year          pop\n",
       "9       Aruba  2015    104,341.0\n",
       "42   Colombia  2015 47,520,667.0\n",
       "269     Aruba  2016    104,872.0\n",
       "302  Colombia  2016 48,171,392.0\n",
       "529     Aruba  2017    105,366.0\n",
       "562  Colombia  2017 48,901,066.0\n",
       "789     Aruba  2018    105,845.0\n",
       "822  Colombia  2018 49,648,685.0"
      ]
     },
     "execution_count": 71,
     "metadata": {},
     "output_type": "execute_result"
    }
   ],
   "source": [
    "filtro2 = df_pob[(df_pob['Country'] == 'Aruba') | (df_pob['Country'] == 'Colombia')] #otra manera de filtrar\n",
    "filtro2"
   ]
  },
  {
   "cell_type": "code",
   "execution_count": 99,
   "id": "c3c303f7-4011-465b-9e83-82c61190c49a",
   "metadata": {},
   "outputs": [
    {
     "data": {
      "text/plain": [
       "0       False\n",
       "1       False\n",
       "2       False\n",
       "3       False\n",
       "4       False\n",
       "        ...  \n",
       "1035    False\n",
       "1036    False\n",
       "1037    False\n",
       "1038    False\n",
       "1039    False\n",
       "Name: Country, Length: 1040, dtype: bool"
      ]
     },
     "execution_count": 99,
     "metadata": {},
     "output_type": "execute_result"
    }
   ],
   "source": [
    "idx_filtro = df_pob['Country'].isin(['Aruba', 'Colombia']) #metodo isin crea un vector de variable booleanas que permite filtrar.\n",
    "idx_filtro"
   ]
  },
  {
   "cell_type": "code",
   "execution_count": 106,
   "id": "bc23294b-8f5b-4595-a77d-9c67fcb4dd5e",
   "metadata": {},
   "outputs": [
    {
     "data": {
      "text/html": [
       "<div>\n",
       "<style scoped>\n",
       "    .dataframe tbody tr th:only-of-type {\n",
       "        vertical-align: middle;\n",
       "    }\n",
       "\n",
       "    .dataframe tbody tr th {\n",
       "        vertical-align: top;\n",
       "    }\n",
       "\n",
       "    .dataframe thead th {\n",
       "        text-align: right;\n",
       "    }\n",
       "</style>\n",
       "<table border=\"1\" class=\"dataframe\">\n",
       "  <thead>\n",
       "    <tr style=\"text-align: right;\">\n",
       "      <th></th>\n",
       "      <th>Country</th>\n",
       "      <th>year</th>\n",
       "      <th>pop</th>\n",
       "    </tr>\n",
       "  </thead>\n",
       "  <tbody>\n",
       "    <tr>\n",
       "      <th>9</th>\n",
       "      <td>Aruba</td>\n",
       "      <td>2015</td>\n",
       "      <td>104,341.0</td>\n",
       "    </tr>\n",
       "    <tr>\n",
       "      <th>42</th>\n",
       "      <td>Colombia</td>\n",
       "      <td>2015</td>\n",
       "      <td>47,520,667.0</td>\n",
       "    </tr>\n",
       "    <tr>\n",
       "      <th>269</th>\n",
       "      <td>Aruba</td>\n",
       "      <td>2016</td>\n",
       "      <td>104,872.0</td>\n",
       "    </tr>\n",
       "    <tr>\n",
       "      <th>302</th>\n",
       "      <td>Colombia</td>\n",
       "      <td>2016</td>\n",
       "      <td>48,171,392.0</td>\n",
       "    </tr>\n",
       "    <tr>\n",
       "      <th>529</th>\n",
       "      <td>Aruba</td>\n",
       "      <td>2017</td>\n",
       "      <td>105,366.0</td>\n",
       "    </tr>\n",
       "    <tr>\n",
       "      <th>562</th>\n",
       "      <td>Colombia</td>\n",
       "      <td>2017</td>\n",
       "      <td>48,901,066.0</td>\n",
       "    </tr>\n",
       "    <tr>\n",
       "      <th>789</th>\n",
       "      <td>Aruba</td>\n",
       "      <td>2018</td>\n",
       "      <td>105,845.0</td>\n",
       "    </tr>\n",
       "    <tr>\n",
       "      <th>822</th>\n",
       "      <td>Colombia</td>\n",
       "      <td>2018</td>\n",
       "      <td>49,648,685.0</td>\n",
       "    </tr>\n",
       "  </tbody>\n",
       "</table>\n",
       "</div>"
      ],
      "text/plain": [
       "      Country  year          pop\n",
       "9       Aruba  2015    104,341.0\n",
       "42   Colombia  2015 47,520,667.0\n",
       "269     Aruba  2016    104,872.0\n",
       "302  Colombia  2016 48,171,392.0\n",
       "529     Aruba  2017    105,366.0\n",
       "562  Colombia  2017 48,901,066.0\n",
       "789     Aruba  2018    105,845.0\n",
       "822  Colombia  2018 49,648,685.0"
      ]
     },
     "execution_count": 106,
     "metadata": {},
     "output_type": "execute_result"
    }
   ],
   "source": [
    "df_sample = df_pob[idx_filtro]\n",
    "df_sample"
   ]
  },
  {
   "cell_type": "code",
   "execution_count": 77,
   "id": "cf592639-b800-47e0-a2a2-ae0e2acc0e7c",
   "metadata": {},
   "outputs": [
    {
     "data": {
      "text/plain": [
       "Int64Index([9, 42, 269, 302, 529, 562, 789, 822], dtype='int64')"
      ]
     },
     "execution_count": 77,
     "metadata": {},
     "output_type": "execute_result"
    }
   ],
   "source": [
    "#df_sample.index"
   ]
  },
  {
   "cell_type": "code",
   "execution_count": 98,
   "id": "a738e720-3776-418d-a2fe-746f83ce172e",
   "metadata": {},
   "outputs": [
    {
     "data": {
      "text/html": [
       "<div>\n",
       "<style scoped>\n",
       "    .dataframe tbody tr th:only-of-type {\n",
       "        vertical-align: middle;\n",
       "    }\n",
       "\n",
       "    .dataframe tbody tr th {\n",
       "        vertical-align: top;\n",
       "    }\n",
       "\n",
       "    .dataframe thead th {\n",
       "        text-align: right;\n",
       "    }\n",
       "</style>\n",
       "<table border=\"1\" class=\"dataframe\">\n",
       "  <thead>\n",
       "    <tr style=\"text-align: right;\">\n",
       "      <th></th>\n",
       "      <th>Country</th>\n",
       "      <th>year</th>\n",
       "      <th>pop</th>\n",
       "    </tr>\n",
       "  </thead>\n",
       "  <tbody>\n",
       "    <tr>\n",
       "      <th>(2015, Aruba)</th>\n",
       "      <td>Aruba</td>\n",
       "      <td>2015</td>\n",
       "      <td>104,341.0</td>\n",
       "    </tr>\n",
       "    <tr>\n",
       "      <th>(2015, Colombia)</th>\n",
       "      <td>Colombia</td>\n",
       "      <td>2015</td>\n",
       "      <td>47,520,667.0</td>\n",
       "    </tr>\n",
       "    <tr>\n",
       "      <th>(2016, Aruba)</th>\n",
       "      <td>Aruba</td>\n",
       "      <td>2016</td>\n",
       "      <td>104,872.0</td>\n",
       "    </tr>\n",
       "    <tr>\n",
       "      <th>(2016, Colombia)</th>\n",
       "      <td>Colombia</td>\n",
       "      <td>2016</td>\n",
       "      <td>48,171,392.0</td>\n",
       "    </tr>\n",
       "    <tr>\n",
       "      <th>(2017, Aruba)</th>\n",
       "      <td>Aruba</td>\n",
       "      <td>2017</td>\n",
       "      <td>105,366.0</td>\n",
       "    </tr>\n",
       "  </tbody>\n",
       "</table>\n",
       "</div>"
      ],
      "text/plain": [
       "                   Country  year          pop\n",
       "(2015, Aruba)        Aruba  2015    104,341.0\n",
       "(2015, Colombia)  Colombia  2015 47,520,667.0\n",
       "(2016, Aruba)        Aruba  2016    104,872.0\n",
       "(2016, Colombia)  Colombia  2016 48,171,392.0\n",
       "(2017, Aruba)        Aruba  2017    105,366.0"
      ]
     },
     "execution_count": 98,
     "metadata": {},
     "output_type": "execute_result"
    }
   ],
   "source": [
    "#df_sample.index = df_sample[['year','Country']] #otra manera de asignar index concatenando columnas.\n",
    "df_sample.head()"
   ]
  },
  {
   "cell_type": "code",
   "execution_count": 96,
   "id": "37fc898e-15c7-436b-9092-b93f3e30f44b",
   "metadata": {},
   "outputs": [
    {
     "data": {
      "text/html": [
       "<div>\n",
       "<style scoped>\n",
       "    .dataframe tbody tr th:only-of-type {\n",
       "        vertical-align: middle;\n",
       "    }\n",
       "\n",
       "    .dataframe tbody tr th {\n",
       "        vertical-align: top;\n",
       "    }\n",
       "\n",
       "    .dataframe thead th {\n",
       "        text-align: right;\n",
       "    }\n",
       "</style>\n",
       "<table border=\"1\" class=\"dataframe\">\n",
       "  <thead>\n",
       "    <tr style=\"text-align: right;\">\n",
       "      <th></th>\n",
       "      <th>(2015, Aruba)</th>\n",
       "      <th>(2015, Colombia)</th>\n",
       "      <th>(2016, Aruba)</th>\n",
       "      <th>(2016, Colombia)</th>\n",
       "      <th>(2017, Aruba)</th>\n",
       "      <th>(2017, Colombia)</th>\n",
       "      <th>(2018, Aruba)</th>\n",
       "      <th>(2018, Colombia)</th>\n",
       "    </tr>\n",
       "  </thead>\n",
       "  <tbody>\n",
       "    <tr>\n",
       "      <th>Country</th>\n",
       "      <td>Aruba</td>\n",
       "      <td>Colombia</td>\n",
       "      <td>Aruba</td>\n",
       "      <td>Colombia</td>\n",
       "      <td>Aruba</td>\n",
       "      <td>Colombia</td>\n",
       "      <td>Aruba</td>\n",
       "      <td>Colombia</td>\n",
       "    </tr>\n",
       "    <tr>\n",
       "      <th>year</th>\n",
       "      <td>2015</td>\n",
       "      <td>2015</td>\n",
       "      <td>2016</td>\n",
       "      <td>2016</td>\n",
       "      <td>2017</td>\n",
       "      <td>2017</td>\n",
       "      <td>2018</td>\n",
       "      <td>2018</td>\n",
       "    </tr>\n",
       "    <tr>\n",
       "      <th>pop</th>\n",
       "      <td>104,341.0</td>\n",
       "      <td>47,520,667.0</td>\n",
       "      <td>104,872.0</td>\n",
       "      <td>48,171,392.0</td>\n",
       "      <td>105,366.0</td>\n",
       "      <td>48,901,066.0</td>\n",
       "      <td>105,845.0</td>\n",
       "      <td>49,648,685.0</td>\n",
       "    </tr>\n",
       "  </tbody>\n",
       "</table>\n",
       "</div>"
      ],
      "text/plain": [
       "        (2015, Aruba) (2015, Colombia) (2016, Aruba) (2016, Colombia)  \\\n",
       "Country         Aruba         Colombia         Aruba         Colombia   \n",
       "year             2015             2015          2016             2016   \n",
       "pop         104,341.0     47,520,667.0     104,872.0     48,171,392.0   \n",
       "\n",
       "        (2017, Aruba) (2017, Colombia) (2018, Aruba) (2018, Colombia)  \n",
       "Country         Aruba         Colombia         Aruba         Colombia  \n",
       "year             2017             2017          2018             2018  \n",
       "pop         105,366.0     48,901,066.0     105,845.0     49,648,685.0  "
      ]
     },
     "execution_count": 96,
     "metadata": {},
     "output_type": "execute_result"
    }
   ],
   "source": [
    "#df_sample.transpose()"
   ]
  },
  {
   "cell_type": "code",
   "execution_count": 107,
   "id": "908d4301-3622-4c9e-a4fa-048c9d5e129a",
   "metadata": {},
   "outputs": [
    {
     "data": {
      "text/html": [
       "<div>\n",
       "<style scoped>\n",
       "    .dataframe tbody tr th:only-of-type {\n",
       "        vertical-align: middle;\n",
       "    }\n",
       "\n",
       "    .dataframe tbody tr th {\n",
       "        vertical-align: top;\n",
       "    }\n",
       "\n",
       "    .dataframe thead th {\n",
       "        text-align: right;\n",
       "    }\n",
       "</style>\n",
       "<table border=\"1\" class=\"dataframe\">\n",
       "  <thead>\n",
       "    <tr style=\"text-align: right;\">\n",
       "      <th></th>\n",
       "      <th></th>\n",
       "      <th>pop</th>\n",
       "    </tr>\n",
       "    <tr>\n",
       "      <th>Country</th>\n",
       "      <th>year</th>\n",
       "      <th></th>\n",
       "    </tr>\n",
       "  </thead>\n",
       "  <tbody>\n",
       "    <tr>\n",
       "      <th rowspan=\"4\" valign=\"top\">Aruba</th>\n",
       "      <th>2015</th>\n",
       "      <td>104,341.0</td>\n",
       "    </tr>\n",
       "    <tr>\n",
       "      <th>2016</th>\n",
       "      <td>104,872.0</td>\n",
       "    </tr>\n",
       "    <tr>\n",
       "      <th>2017</th>\n",
       "      <td>105,366.0</td>\n",
       "    </tr>\n",
       "    <tr>\n",
       "      <th>2018</th>\n",
       "      <td>105,845.0</td>\n",
       "    </tr>\n",
       "    <tr>\n",
       "      <th rowspan=\"4\" valign=\"top\">Colombia</th>\n",
       "      <th>2015</th>\n",
       "      <td>47,520,667.0</td>\n",
       "    </tr>\n",
       "    <tr>\n",
       "      <th>2016</th>\n",
       "      <td>48,171,392.0</td>\n",
       "    </tr>\n",
       "    <tr>\n",
       "      <th>2017</th>\n",
       "      <td>48,901,066.0</td>\n",
       "    </tr>\n",
       "    <tr>\n",
       "      <th>2018</th>\n",
       "      <td>49,648,685.0</td>\n",
       "    </tr>\n",
       "  </tbody>\n",
       "</table>\n",
       "</div>"
      ],
      "text/plain": [
       "                       pop\n",
       "Country  year             \n",
       "Aruba    2015    104,341.0\n",
       "         2016    104,872.0\n",
       "         2017    105,366.0\n",
       "         2018    105,845.0\n",
       "Colombia 2015 47,520,667.0\n",
       "         2016 48,171,392.0\n",
       "         2017 48,901,066.0\n",
       "         2018 49,648,685.0"
      ]
     },
     "execution_count": 107,
     "metadata": {},
     "output_type": "execute_result"
    }
   ],
   "source": [
    "df_sample.set_index(['Country', 'year']).sort_index() # set one or more indexes, and sort index."
   ]
  },
  {
   "cell_type": "code",
   "execution_count": 108,
   "id": "505d071c-a883-451f-8fa6-bb8f45ac4260",
   "metadata": {},
   "outputs": [
    {
     "data": {
      "text/html": [
       "<div>\n",
       "<style scoped>\n",
       "    .dataframe tbody tr th:only-of-type {\n",
       "        vertical-align: middle;\n",
       "    }\n",
       "\n",
       "    .dataframe tbody tr th {\n",
       "        vertical-align: top;\n",
       "    }\n",
       "\n",
       "    .dataframe thead th {\n",
       "        text-align: right;\n",
       "    }\n",
       "</style>\n",
       "<table border=\"1\" class=\"dataframe\">\n",
       "  <thead>\n",
       "    <tr style=\"text-align: right;\">\n",
       "      <th></th>\n",
       "      <th></th>\n",
       "      <th>pop</th>\n",
       "    </tr>\n",
       "    <tr>\n",
       "      <th>Country</th>\n",
       "      <th>year</th>\n",
       "      <th></th>\n",
       "    </tr>\n",
       "  </thead>\n",
       "  <tbody>\n",
       "    <tr>\n",
       "      <th rowspan=\"4\" valign=\"top\">Aruba</th>\n",
       "      <th>2015</th>\n",
       "      <td>104,341.0</td>\n",
       "    </tr>\n",
       "    <tr>\n",
       "      <th>2016</th>\n",
       "      <td>104,872.0</td>\n",
       "    </tr>\n",
       "    <tr>\n",
       "      <th>2017</th>\n",
       "      <td>105,366.0</td>\n",
       "    </tr>\n",
       "    <tr>\n",
       "      <th>2018</th>\n",
       "      <td>105,845.0</td>\n",
       "    </tr>\n",
       "    <tr>\n",
       "      <th rowspan=\"4\" valign=\"top\">Colombia</th>\n",
       "      <th>2015</th>\n",
       "      <td>47,520,667.0</td>\n",
       "    </tr>\n",
       "    <tr>\n",
       "      <th>2016</th>\n",
       "      <td>48,171,392.0</td>\n",
       "    </tr>\n",
       "    <tr>\n",
       "      <th>2017</th>\n",
       "      <td>48,901,066.0</td>\n",
       "    </tr>\n",
       "    <tr>\n",
       "      <th>2018</th>\n",
       "      <td>49,648,685.0</td>\n",
       "    </tr>\n",
       "  </tbody>\n",
       "</table>\n",
       "</div>"
      ],
      "text/plain": [
       "                       pop\n",
       "Country  year             \n",
       "Aruba    2015    104,341.0\n",
       "         2016    104,872.0\n",
       "         2017    105,366.0\n",
       "         2018    105,845.0\n",
       "Colombia 2015 47,520,667.0\n",
       "         2016 48,171,392.0\n",
       "         2017 48,901,066.0\n",
       "         2018 49,648,685.0"
      ]
     },
     "execution_count": 108,
     "metadata": {},
     "output_type": "execute_result"
    }
   ],
   "source": [
    "df_sample = df_sample.set_index(['Country', 'year']).sort_index()\n",
    "df_sample"
   ]
  },
  {
   "cell_type": "code",
   "execution_count": 122,
   "id": "ef96165a-bf61-4bce-bcc9-e73bf6e577bd",
   "metadata": {},
   "outputs": [
    {
     "data": {
      "text/html": [
       "<div>\n",
       "<style scoped>\n",
       "    .dataframe tbody tr th:only-of-type {\n",
       "        vertical-align: middle;\n",
       "    }\n",
       "\n",
       "    .dataframe tbody tr th {\n",
       "        vertical-align: top;\n",
       "    }\n",
       "\n",
       "    .dataframe thead th {\n",
       "        text-align: right;\n",
       "    }\n",
       "</style>\n",
       "<table border=\"1\" class=\"dataframe\">\n",
       "  <thead>\n",
       "    <tr style=\"text-align: right;\">\n",
       "      <th></th>\n",
       "      <th>pop</th>\n",
       "    </tr>\n",
       "    <tr>\n",
       "      <th>year</th>\n",
       "      <th></th>\n",
       "    </tr>\n",
       "  </thead>\n",
       "  <tbody>\n",
       "    <tr>\n",
       "      <th>2015</th>\n",
       "      <td>47,520,667.0</td>\n",
       "    </tr>\n",
       "    <tr>\n",
       "      <th>2016</th>\n",
       "      <td>48,171,392.0</td>\n",
       "    </tr>\n",
       "    <tr>\n",
       "      <th>2017</th>\n",
       "      <td>48,901,066.0</td>\n",
       "    </tr>\n",
       "    <tr>\n",
       "      <th>2018</th>\n",
       "      <td>49,648,685.0</td>\n",
       "    </tr>\n",
       "  </tbody>\n",
       "</table>\n",
       "</div>"
      ],
      "text/plain": [
       "              pop\n",
       "year             \n",
       "2015 47,520,667.0\n",
       "2016 48,171,392.0\n",
       "2017 48,901,066.0\n",
       "2018 49,648,685.0"
      ]
     },
     "execution_count": 122,
     "metadata": {},
     "output_type": "execute_result"
    }
   ],
   "source": [
    "df_sample.loc['Colombia', :]"
   ]
  },
  {
   "cell_type": "code",
   "execution_count": 126,
   "id": "0ed2f790-485e-45b6-ae79-701aa217b9e2",
   "metadata": {},
   "outputs": [
    {
     "data": {
      "text/plain": [
       "pop   48,171,392.0\n",
       "Name: 2016, dtype: float64"
      ]
     },
     "execution_count": 126,
     "metadata": {},
     "output_type": "execute_result"
    }
   ],
   "source": [
    "df_sample.loc['Colombia',:].loc['2016',:] #acceder a indices especificos."
   ]
  },
  {
   "cell_type": "code",
   "execution_count": 130,
   "id": "342f03df-f139-4d08-ad17-7ffa012d7c09",
   "metadata": {},
   "outputs": [
    {
     "data": {
      "text/plain": [
       "pop   105,845.0\n",
       "Name: (Aruba, 2018), dtype: float64"
      ]
     },
     "execution_count": 130,
     "metadata": {},
     "output_type": "execute_result"
    }
   ],
   "source": [
    "df_sample.xs(('Aruba', '2018')) # acceder a indices especificos."
   ]
  },
  {
   "cell_type": "code",
   "execution_count": 131,
   "id": "8d6c6852-7748-4ab1-ae4d-47aa99c5e868",
   "metadata": {},
   "outputs": [
    {
     "data": {
      "text/html": [
       "<div>\n",
       "<style scoped>\n",
       "    .dataframe tbody tr th:only-of-type {\n",
       "        vertical-align: middle;\n",
       "    }\n",
       "\n",
       "    .dataframe tbody tr th {\n",
       "        vertical-align: top;\n",
       "    }\n",
       "\n",
       "    .dataframe thead th {\n",
       "        text-align: right;\n",
       "    }\n",
       "</style>\n",
       "<table border=\"1\" class=\"dataframe\">\n",
       "  <thead>\n",
       "    <tr style=\"text-align: right;\">\n",
       "      <th></th>\n",
       "      <th>pop</th>\n",
       "    </tr>\n",
       "    <tr>\n",
       "      <th>Country</th>\n",
       "      <th></th>\n",
       "    </tr>\n",
       "  </thead>\n",
       "  <tbody>\n",
       "    <tr>\n",
       "      <th>Aruba</th>\n",
       "      <td>105,845.0</td>\n",
       "    </tr>\n",
       "    <tr>\n",
       "      <th>Colombia</th>\n",
       "      <td>49,648,685.0</td>\n",
       "    </tr>\n",
       "  </tbody>\n",
       "</table>\n",
       "</div>"
      ],
      "text/plain": [
       "                  pop\n",
       "Country              \n",
       "Aruba       105,845.0\n",
       "Colombia 49,648,685.0"
      ]
     },
     "execution_count": 131,
     "metadata": {},
     "output_type": "execute_result"
    }
   ],
   "source": [
    "df_sample.xs('2018', level='year')"
   ]
  },
  {
   "cell_type": "code",
   "execution_count": 134,
   "id": "4fd2ca3f-2ce9-4819-9d80-9aa235c8d62c",
   "metadata": {},
   "outputs": [
    {
     "data": {
      "text/html": [
       "<div>\n",
       "<style scoped>\n",
       "    .dataframe tbody tr th:only-of-type {\n",
       "        vertical-align: middle;\n",
       "    }\n",
       "\n",
       "    .dataframe tbody tr th {\n",
       "        vertical-align: top;\n",
       "    }\n",
       "\n",
       "    .dataframe thead th {\n",
       "        text-align: right;\n",
       "    }\n",
       "</style>\n",
       "<table border=\"1\" class=\"dataframe\">\n",
       "  <thead>\n",
       "    <tr style=\"text-align: right;\">\n",
       "      <th></th>\n",
       "      <th></th>\n",
       "      <th>pop</th>\n",
       "    </tr>\n",
       "    <tr>\n",
       "      <th>Country</th>\n",
       "      <th>year</th>\n",
       "      <th></th>\n",
       "    </tr>\n",
       "  </thead>\n",
       "  <tbody>\n",
       "    <tr>\n",
       "      <th rowspan=\"4\" valign=\"top\">Afghanistan</th>\n",
       "      <th>2015</th>\n",
       "      <td>34,413,603.0</td>\n",
       "    </tr>\n",
       "    <tr>\n",
       "      <th>2016</th>\n",
       "      <td>35,383,128.0</td>\n",
       "    </tr>\n",
       "    <tr>\n",
       "      <th>2017</th>\n",
       "      <td>36,296,400.0</td>\n",
       "    </tr>\n",
       "    <tr>\n",
       "      <th>2018</th>\n",
       "      <td>37,172,386.0</td>\n",
       "    </tr>\n",
       "    <tr>\n",
       "      <th>Albania</th>\n",
       "      <th>2015</th>\n",
       "      <td>2,880,703.0</td>\n",
       "    </tr>\n",
       "    <tr>\n",
       "      <th>...</th>\n",
       "      <th>...</th>\n",
       "      <td>...</td>\n",
       "    </tr>\n",
       "    <tr>\n",
       "      <th>Zambia</th>\n",
       "      <th>2018</th>\n",
       "      <td>17,351,822.0</td>\n",
       "    </tr>\n",
       "    <tr>\n",
       "      <th rowspan=\"4\" valign=\"top\">Zimbabwe</th>\n",
       "      <th>2015</th>\n",
       "      <td>13,814,629.0</td>\n",
       "    </tr>\n",
       "    <tr>\n",
       "      <th>2016</th>\n",
       "      <td>14,030,390.0</td>\n",
       "    </tr>\n",
       "    <tr>\n",
       "      <th>2017</th>\n",
       "      <td>14,236,745.0</td>\n",
       "    </tr>\n",
       "    <tr>\n",
       "      <th>2018</th>\n",
       "      <td>14,439,018.0</td>\n",
       "    </tr>\n",
       "  </tbody>\n",
       "</table>\n",
       "<p>1040 rows × 1 columns</p>\n",
       "</div>"
      ],
      "text/plain": [
       "                          pop\n",
       "Country     year             \n",
       "Afghanistan 2015 34,413,603.0\n",
       "            2016 35,383,128.0\n",
       "            2017 36,296,400.0\n",
       "            2018 37,172,386.0\n",
       "Albania     2015  2,880,703.0\n",
       "...                       ...\n",
       "Zambia      2018 17,351,822.0\n",
       "Zimbabwe    2015 13,814,629.0\n",
       "            2016 14,030,390.0\n",
       "            2017 14,236,745.0\n",
       "            2018 14,439,018.0\n",
       "\n",
       "[1040 rows x 1 columns]"
      ]
     },
     "execution_count": 134,
     "metadata": {},
     "output_type": "execute_result"
    }
   ],
   "source": [
    "df_countries = df_pob.set_index(['Country', 'year']).sort_index(ascending = [True, True]) #trabajar con multiples indices.\n",
    "df_countries"
   ]
  },
  {
   "cell_type": "code",
   "execution_count": 135,
   "id": "4748d9fd-b63a-4e81-9bf2-46e58a514397",
   "metadata": {},
   "outputs": [
    {
     "data": {
      "text/html": [
       "<div>\n",
       "<style scoped>\n",
       "    .dataframe tbody tr th:only-of-type {\n",
       "        vertical-align: middle;\n",
       "    }\n",
       "\n",
       "    .dataframe tbody tr th {\n",
       "        vertical-align: top;\n",
       "    }\n",
       "\n",
       "    .dataframe thead th {\n",
       "        text-align: right;\n",
       "    }\n",
       "</style>\n",
       "<table border=\"1\" class=\"dataframe\">\n",
       "  <thead>\n",
       "    <tr style=\"text-align: right;\">\n",
       "      <th></th>\n",
       "      <th></th>\n",
       "      <th>pop</th>\n",
       "    </tr>\n",
       "    <tr>\n",
       "      <th>Country</th>\n",
       "      <th>year</th>\n",
       "      <th></th>\n",
       "    </tr>\n",
       "  </thead>\n",
       "  <tbody>\n",
       "    <tr>\n",
       "      <th rowspan=\"3\" valign=\"top\">Aruba</th>\n",
       "      <th>2015</th>\n",
       "      <td>104,341.0</td>\n",
       "    </tr>\n",
       "    <tr>\n",
       "      <th>2016</th>\n",
       "      <td>104,872.0</td>\n",
       "    </tr>\n",
       "    <tr>\n",
       "      <th>2017</th>\n",
       "      <td>105,366.0</td>\n",
       "    </tr>\n",
       "    <tr>\n",
       "      <th rowspan=\"3\" valign=\"top\">Australia</th>\n",
       "      <th>2015</th>\n",
       "      <td>23,815,995.0</td>\n",
       "    </tr>\n",
       "    <tr>\n",
       "      <th>2016</th>\n",
       "      <td>24,190,907.0</td>\n",
       "    </tr>\n",
       "    <tr>\n",
       "      <th>2017</th>\n",
       "      <td>24,601,860.0</td>\n",
       "    </tr>\n",
       "    <tr>\n",
       "      <th rowspan=\"3\" valign=\"top\">Austria</th>\n",
       "      <th>2015</th>\n",
       "      <td>8,642,699.0</td>\n",
       "    </tr>\n",
       "    <tr>\n",
       "      <th>2016</th>\n",
       "      <td>8,736,668.0</td>\n",
       "    </tr>\n",
       "    <tr>\n",
       "      <th>2017</th>\n",
       "      <td>8,797,566.0</td>\n",
       "    </tr>\n",
       "  </tbody>\n",
       "</table>\n",
       "</div>"
      ],
      "text/plain": [
       "                        pop\n",
       "Country   year             \n",
       "Aruba     2015    104,341.0\n",
       "          2016    104,872.0\n",
       "          2017    105,366.0\n",
       "Australia 2015 23,815,995.0\n",
       "          2016 24,190,907.0\n",
       "          2017 24,601,860.0\n",
       "Austria   2015  8,642,699.0\n",
       "          2016  8,736,668.0\n",
       "          2017  8,797,566.0"
      ]
     },
     "execution_count": 135,
     "metadata": {},
     "output_type": "execute_result"
    }
   ],
   "source": [
    "ids = pd.IndexSlice\n",
    "df_countries.loc[ids['Aruba':'Austria','2015':'2017'], :].sort_index()"
   ]
  },
  {
   "cell_type": "code",
   "execution_count": 137,
   "id": "afb6954c-89db-480d-9b78-71e74a610260",
   "metadata": {},
   "outputs": [
    {
     "data": {
      "text/plain": [
       "Index(['Afghanistan', 'Afghanistan', 'Afghanistan', 'Afghanistan', 'Albania',\n",
       "       'Albania', 'Albania', 'Albania', 'Algeria', 'Algeria',\n",
       "       ...\n",
       "       'Yemen, Rep.', 'Yemen, Rep.', 'Zambia', 'Zambia', 'Zambia', 'Zambia',\n",
       "       'Zimbabwe', 'Zimbabwe', 'Zimbabwe', 'Zimbabwe'],\n",
       "      dtype='object', name='Country', length=1040)"
      ]
     },
     "execution_count": 137,
     "metadata": {},
     "output_type": "execute_result"
    }
   ],
   "source": [
    "df_countries.index.get_level_values(0) #seleccionar indices por niveles, countries."
   ]
  },
  {
   "cell_type": "code",
   "execution_count": 138,
   "id": "b1851e83-6d58-4440-a9c6-f22b89a8cf1f",
   "metadata": {},
   "outputs": [
    {
     "data": {
      "text/plain": [
       "CategoricalIndex(['2015', '2016', '2017', '2018', '2015', '2016', '2017',\n",
       "                  '2018', '2015', '2016',\n",
       "                  ...\n",
       "                  '2017', '2018', '2015', '2016', '2017', '2018', '2015',\n",
       "                  '2016', '2017', '2018'],\n",
       "                 categories=['2015', '2016', '2017', '2018'], ordered=False, dtype='category', name='year', length=1040)"
      ]
     },
     "execution_count": 138,
     "metadata": {},
     "output_type": "execute_result"
    }
   ],
   "source": [
    "df_countries.index.get_level_values(1) #seleccionar indices por niveles, year"
   ]
  },
  {
   "cell_type": "code",
   "execution_count": 141,
   "id": "033f7604-3a9f-4418-b7d6-c480636dc721",
   "metadata": {},
   "outputs": [
    {
     "data": {
      "text/plain": [
       "49648685.0"
      ]
     },
     "execution_count": 141,
     "metadata": {},
     "output_type": "execute_result"
    }
   ],
   "source": [
    "df_countries['pop']['Colombia']['2018'] #cadenas de instrucciones a un datafrmae con multiples indices."
   ]
  },
  {
   "cell_type": "code",
   "execution_count": 142,
   "id": "999def66-0826-4b0e-ba34-fb9df8223887",
   "metadata": {},
   "outputs": [
    {
     "name": "stderr",
     "output_type": "stream",
     "text": [
      "C:\\Users\\luisp\\AppData\\Local\\Temp/ipykernel_4692/2999234035.py:1: FutureWarning: Using the level keyword in DataFrame and Series aggregations is deprecated and will be removed in a future version. Use groupby instead. df.sum(level=1) should use df.groupby(level=1).sum().\n",
      "  df_countries.sum(level='year')\n"
     ]
    },
    {
     "data": {
      "text/html": [
       "<div>\n",
       "<style scoped>\n",
       "    .dataframe tbody tr th:only-of-type {\n",
       "        vertical-align: middle;\n",
       "    }\n",
       "\n",
       "    .dataframe tbody tr th {\n",
       "        vertical-align: top;\n",
       "    }\n",
       "\n",
       "    .dataframe thead th {\n",
       "        text-align: right;\n",
       "    }\n",
       "</style>\n",
       "<table border=\"1\" class=\"dataframe\">\n",
       "  <thead>\n",
       "    <tr style=\"text-align: right;\">\n",
       "      <th></th>\n",
       "      <th>pop</th>\n",
       "    </tr>\n",
       "    <tr>\n",
       "      <th>year</th>\n",
       "      <th></th>\n",
       "    </tr>\n",
       "  </thead>\n",
       "  <tbody>\n",
       "    <tr>\n",
       "      <th>2015</th>\n",
       "      <td>65,679,147,019.0</td>\n",
       "    </tr>\n",
       "    <tr>\n",
       "      <th>2016</th>\n",
       "      <td>66,487,930,677.0</td>\n",
       "    </tr>\n",
       "    <tr>\n",
       "      <th>2017</th>\n",
       "      <td>67,294,176,701.0</td>\n",
       "    </tr>\n",
       "    <tr>\n",
       "      <th>2018</th>\n",
       "      <td>68,087,886,692.0</td>\n",
       "    </tr>\n",
       "  </tbody>\n",
       "</table>\n",
       "</div>"
      ],
      "text/plain": [
       "                  pop\n",
       "year                 \n",
       "2015 65,679,147,019.0\n",
       "2016 66,487,930,677.0\n",
       "2017 67,294,176,701.0\n",
       "2018 68,087,886,692.0"
      ]
     },
     "execution_count": 142,
     "metadata": {},
     "output_type": "execute_result"
    }
   ],
   "source": [
    "df_countries.sum(level='year')"
   ]
  },
  {
   "cell_type": "code",
   "execution_count": 143,
   "id": "12b262e8-9a8f-4f56-9768-d4ef087e8462",
   "metadata": {},
   "outputs": [
    {
     "data": {
      "text/html": [
       "<div>\n",
       "<style scoped>\n",
       "    .dataframe tbody tr th:only-of-type {\n",
       "        vertical-align: middle;\n",
       "    }\n",
       "\n",
       "    .dataframe tbody tr th {\n",
       "        vertical-align: top;\n",
       "    }\n",
       "\n",
       "    .dataframe thead tr th {\n",
       "        text-align: left;\n",
       "    }\n",
       "\n",
       "    .dataframe thead tr:last-of-type th {\n",
       "        text-align: right;\n",
       "    }\n",
       "</style>\n",
       "<table border=\"1\" class=\"dataframe\">\n",
       "  <thead>\n",
       "    <tr>\n",
       "      <th></th>\n",
       "      <th colspan=\"4\" halign=\"left\">pop</th>\n",
       "    </tr>\n",
       "    <tr>\n",
       "      <th>year</th>\n",
       "      <th>2015</th>\n",
       "      <th>2016</th>\n",
       "      <th>2017</th>\n",
       "      <th>2018</th>\n",
       "    </tr>\n",
       "    <tr>\n",
       "      <th>Country</th>\n",
       "      <th></th>\n",
       "      <th></th>\n",
       "      <th></th>\n",
       "      <th></th>\n",
       "    </tr>\n",
       "  </thead>\n",
       "  <tbody>\n",
       "    <tr>\n",
       "      <th>Aruba</th>\n",
       "      <td>104,341.0</td>\n",
       "      <td>104,872.0</td>\n",
       "      <td>105,366.0</td>\n",
       "      <td>105,845.0</td>\n",
       "    </tr>\n",
       "    <tr>\n",
       "      <th>Colombia</th>\n",
       "      <td>47,520,667.0</td>\n",
       "      <td>48,171,392.0</td>\n",
       "      <td>48,901,066.0</td>\n",
       "      <td>49,648,685.0</td>\n",
       "    </tr>\n",
       "  </tbody>\n",
       "</table>\n",
       "</div>"
      ],
      "text/plain": [
       "                  pop                                       \n",
       "year             2015         2016         2017         2018\n",
       "Country                                                     \n",
       "Aruba       104,341.0    104,872.0    105,366.0    105,845.0\n",
       "Colombia 47,520,667.0 48,171,392.0 48,901,066.0 49,648,685.0"
      ]
     },
     "execution_count": 143,
     "metadata": {},
     "output_type": "execute_result"
    }
   ],
   "source": [
    "df_sample.unstack('year')"
   ]
  },
  {
   "cell_type": "code",
   "execution_count": 144,
   "id": "30811e12-52c2-4c8a-8e93-e6a7980e88da",
   "metadata": {},
   "outputs": [
    {
     "data": {
      "text/html": [
       "<div>\n",
       "<style scoped>\n",
       "    .dataframe tbody tr th:only-of-type {\n",
       "        vertical-align: middle;\n",
       "    }\n",
       "\n",
       "    .dataframe tbody tr th {\n",
       "        vertical-align: top;\n",
       "    }\n",
       "\n",
       "    .dataframe thead tr th {\n",
       "        text-align: left;\n",
       "    }\n",
       "\n",
       "    .dataframe thead tr:last-of-type th {\n",
       "        text-align: right;\n",
       "    }\n",
       "</style>\n",
       "<table border=\"1\" class=\"dataframe\">\n",
       "  <thead>\n",
       "    <tr>\n",
       "      <th></th>\n",
       "      <th colspan=\"2\" halign=\"left\">pop</th>\n",
       "    </tr>\n",
       "    <tr>\n",
       "      <th>Country</th>\n",
       "      <th>Aruba</th>\n",
       "      <th>Colombia</th>\n",
       "    </tr>\n",
       "    <tr>\n",
       "      <th>year</th>\n",
       "      <th></th>\n",
       "      <th></th>\n",
       "    </tr>\n",
       "  </thead>\n",
       "  <tbody>\n",
       "    <tr>\n",
       "      <th>2015</th>\n",
       "      <td>104,341.0</td>\n",
       "      <td>47,520,667.0</td>\n",
       "    </tr>\n",
       "    <tr>\n",
       "      <th>2016</th>\n",
       "      <td>104,872.0</td>\n",
       "      <td>48,171,392.0</td>\n",
       "    </tr>\n",
       "    <tr>\n",
       "      <th>2017</th>\n",
       "      <td>105,366.0</td>\n",
       "      <td>48,901,066.0</td>\n",
       "    </tr>\n",
       "    <tr>\n",
       "      <th>2018</th>\n",
       "      <td>105,845.0</td>\n",
       "      <td>49,648,685.0</td>\n",
       "    </tr>\n",
       "  </tbody>\n",
       "</table>\n",
       "</div>"
      ],
      "text/plain": [
       "              pop             \n",
       "Country     Aruba     Colombia\n",
       "year                          \n",
       "2015    104,341.0 47,520,667.0\n",
       "2016    104,872.0 48,171,392.0\n",
       "2017    105,366.0 48,901,066.0\n",
       "2018    105,845.0 49,648,685.0"
      ]
     },
     "execution_count": 144,
     "metadata": {},
     "output_type": "execute_result"
    }
   ],
   "source": [
    "df_sample.unstack('Country')"
   ]
  },
  {
   "cell_type": "code",
   "execution_count": null,
   "id": "85fe18e6-0abd-486e-b8e4-de3ce3eba0f7",
   "metadata": {},
   "outputs": [],
   "source": []
  }
 ],
 "metadata": {
  "kernelspec": {
   "display_name": "Python 3 (ipykernel)",
   "language": "python",
   "name": "python3"
  },
  "language_info": {
   "codemirror_mode": {
    "name": "ipython",
    "version": 3
   },
   "file_extension": ".py",
   "mimetype": "text/x-python",
   "name": "python",
   "nbconvert_exporter": "python",
   "pygments_lexer": "ipython3",
   "version": "3.9.7"
  }
 },
 "nbformat": 4,
 "nbformat_minor": 5
}
